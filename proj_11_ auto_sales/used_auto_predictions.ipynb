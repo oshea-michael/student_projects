{
 "cells": [
  {
   "cell_type": "markdown",
   "metadata": {},
   "source": [
    "# Used Auto Price Recommendations and Fraud Flagging\n",
    "\n",
    "The goal of this project was to train a model for a used car sales platform, which would be used both for recommending a sales price to new sellers as well as for flagging suspicious postings as potential fraud.\n",
    "\n",
    "The dataset includes information about the cars (model, brand, number of kilometers on odometer, etc.) as well as about the postings (date posted, zip code, number of photos, etc.). The dataset contains several hundred thousand entries, so one of the criteria. As such, the criteria for evaluating model performance and choosing the final model were prediction accuracy (RMSE), training time, and prediction time.\n",
    "\n",
    "\n",
    "*Note: Much of the code is commented because of the time it took to run, and because of the fact that I did not need to keep running the same code when working on/editing the project. Because of this, some results that would have been printed are instead in Markdown cells.*"
   ]
  },
  {
   "cell_type": "markdown",
   "metadata": {},
   "source": [
    "### Импорты"
   ]
  },
  {
   "cell_type": "code",
   "execution_count": 2,
   "metadata": {},
   "outputs": [],
   "source": [
    "import pandas as pd\n",
    "import numpy as np\n",
    "\n",
    "from sklearn.model_selection import train_test_split\n",
    "from sklearn.preprocessing import OrdinalEncoder, StandardScaler\n",
    "\n",
    "from sklearn.metrics import r2_score\n",
    "from sklearn.metrics import mean_squared_error as mse\n",
    "\n",
    "from sklearn.ensemble import RandomForestRegressor, ExtraTreesRegressor\n",
    "from sklearn.linear_model import LinearRegression, Ridge\n",
    "\n",
    "from sklearn.dummy import DummyRegressor\n",
    "\n",
    "import lightgbm as lgb\n",
    "from catboost import CatBoostRegressor\n",
    "import xgboost as xgb\n",
    "\n",
    "import time\n",
    "\n",
    "import optuna\n",
    "\n",
    "import warnings\n",
    "warnings.filterwarnings(\"ignore\")\n",
    "\n",
    "\n",
    "import phik"
   ]
  },
  {
   "cell_type": "markdown",
   "metadata": {},
   "source": [
    "### Подготовка и просмотр данных"
   ]
  },
  {
   "cell_type": "code",
   "execution_count": 3,
   "metadata": {},
   "outputs": [],
   "source": [
    "try:\n",
    "    autos = pd.read_csv(\"datasets/autos.csv\")\n",
    "    \n",
    "except:\n",
    "    autos = pd.read_csv(\"/datasets/autos.csv\")"
   ]
  },
  {
   "cell_type": "code",
   "execution_count": 4,
   "metadata": {
    "scrolled": false
   },
   "outputs": [
    {
     "data": {
      "text/html": [
       "<div>\n",
       "<style scoped>\n",
       "    .dataframe tbody tr th:only-of-type {\n",
       "        vertical-align: middle;\n",
       "    }\n",
       "\n",
       "    .dataframe tbody tr th {\n",
       "        vertical-align: top;\n",
       "    }\n",
       "\n",
       "    .dataframe thead th {\n",
       "        text-align: right;\n",
       "    }\n",
       "</style>\n",
       "<table border=\"1\" class=\"dataframe\">\n",
       "  <thead>\n",
       "    <tr style=\"text-align: right;\">\n",
       "      <th></th>\n",
       "      <th>DateCrawled</th>\n",
       "      <th>Price</th>\n",
       "      <th>VehicleType</th>\n",
       "      <th>RegistrationYear</th>\n",
       "      <th>Gearbox</th>\n",
       "      <th>Power</th>\n",
       "      <th>Model</th>\n",
       "      <th>Kilometer</th>\n",
       "      <th>RegistrationMonth</th>\n",
       "      <th>FuelType</th>\n",
       "      <th>Brand</th>\n",
       "      <th>NotRepaired</th>\n",
       "      <th>DateCreated</th>\n",
       "      <th>NumberOfPictures</th>\n",
       "      <th>PostalCode</th>\n",
       "      <th>LastSeen</th>\n",
       "    </tr>\n",
       "  </thead>\n",
       "  <tbody>\n",
       "    <tr>\n",
       "      <th>0</th>\n",
       "      <td>2016-03-24 11:52:17</td>\n",
       "      <td>480</td>\n",
       "      <td>NaN</td>\n",
       "      <td>1993</td>\n",
       "      <td>manual</td>\n",
       "      <td>0</td>\n",
       "      <td>golf</td>\n",
       "      <td>150000</td>\n",
       "      <td>0</td>\n",
       "      <td>petrol</td>\n",
       "      <td>volkswagen</td>\n",
       "      <td>NaN</td>\n",
       "      <td>2016-03-24 00:00:00</td>\n",
       "      <td>0</td>\n",
       "      <td>70435</td>\n",
       "      <td>2016-04-07 03:16:57</td>\n",
       "    </tr>\n",
       "    <tr>\n",
       "      <th>1</th>\n",
       "      <td>2016-03-24 10:58:45</td>\n",
       "      <td>18300</td>\n",
       "      <td>coupe</td>\n",
       "      <td>2011</td>\n",
       "      <td>manual</td>\n",
       "      <td>190</td>\n",
       "      <td>NaN</td>\n",
       "      <td>125000</td>\n",
       "      <td>5</td>\n",
       "      <td>gasoline</td>\n",
       "      <td>audi</td>\n",
       "      <td>yes</td>\n",
       "      <td>2016-03-24 00:00:00</td>\n",
       "      <td>0</td>\n",
       "      <td>66954</td>\n",
       "      <td>2016-04-07 01:46:50</td>\n",
       "    </tr>\n",
       "    <tr>\n",
       "      <th>2</th>\n",
       "      <td>2016-03-14 12:52:21</td>\n",
       "      <td>9800</td>\n",
       "      <td>suv</td>\n",
       "      <td>2004</td>\n",
       "      <td>auto</td>\n",
       "      <td>163</td>\n",
       "      <td>grand</td>\n",
       "      <td>125000</td>\n",
       "      <td>8</td>\n",
       "      <td>gasoline</td>\n",
       "      <td>jeep</td>\n",
       "      <td>NaN</td>\n",
       "      <td>2016-03-14 00:00:00</td>\n",
       "      <td>0</td>\n",
       "      <td>90480</td>\n",
       "      <td>2016-04-05 12:47:46</td>\n",
       "    </tr>\n",
       "    <tr>\n",
       "      <th>3</th>\n",
       "      <td>2016-03-17 16:54:04</td>\n",
       "      <td>1500</td>\n",
       "      <td>small</td>\n",
       "      <td>2001</td>\n",
       "      <td>manual</td>\n",
       "      <td>75</td>\n",
       "      <td>golf</td>\n",
       "      <td>150000</td>\n",
       "      <td>6</td>\n",
       "      <td>petrol</td>\n",
       "      <td>volkswagen</td>\n",
       "      <td>no</td>\n",
       "      <td>2016-03-17 00:00:00</td>\n",
       "      <td>0</td>\n",
       "      <td>91074</td>\n",
       "      <td>2016-03-17 17:40:17</td>\n",
       "    </tr>\n",
       "    <tr>\n",
       "      <th>4</th>\n",
       "      <td>2016-03-31 17:25:20</td>\n",
       "      <td>3600</td>\n",
       "      <td>small</td>\n",
       "      <td>2008</td>\n",
       "      <td>manual</td>\n",
       "      <td>69</td>\n",
       "      <td>fabia</td>\n",
       "      <td>90000</td>\n",
       "      <td>7</td>\n",
       "      <td>gasoline</td>\n",
       "      <td>skoda</td>\n",
       "      <td>no</td>\n",
       "      <td>2016-03-31 00:00:00</td>\n",
       "      <td>0</td>\n",
       "      <td>60437</td>\n",
       "      <td>2016-04-06 10:17:21</td>\n",
       "    </tr>\n",
       "  </tbody>\n",
       "</table>\n",
       "</div>"
      ],
      "text/plain": [
       "           DateCrawled  Price VehicleType  RegistrationYear Gearbox  Power  \\\n",
       "0  2016-03-24 11:52:17    480         NaN              1993  manual      0   \n",
       "1  2016-03-24 10:58:45  18300       coupe              2011  manual    190   \n",
       "2  2016-03-14 12:52:21   9800         suv              2004    auto    163   \n",
       "3  2016-03-17 16:54:04   1500       small              2001  manual     75   \n",
       "4  2016-03-31 17:25:20   3600       small              2008  manual     69   \n",
       "\n",
       "   Model  Kilometer  RegistrationMonth  FuelType       Brand NotRepaired  \\\n",
       "0   golf     150000                  0    petrol  volkswagen         NaN   \n",
       "1    NaN     125000                  5  gasoline        audi         yes   \n",
       "2  grand     125000                  8  gasoline        jeep         NaN   \n",
       "3   golf     150000                  6    petrol  volkswagen          no   \n",
       "4  fabia      90000                  7  gasoline       skoda          no   \n",
       "\n",
       "           DateCreated  NumberOfPictures  PostalCode             LastSeen  \n",
       "0  2016-03-24 00:00:00                 0       70435  2016-04-07 03:16:57  \n",
       "1  2016-03-24 00:00:00                 0       66954  2016-04-07 01:46:50  \n",
       "2  2016-03-14 00:00:00                 0       90480  2016-04-05 12:47:46  \n",
       "3  2016-03-17 00:00:00                 0       91074  2016-03-17 17:40:17  \n",
       "4  2016-03-31 00:00:00                 0       60437  2016-04-06 10:17:21  "
      ]
     },
     "metadata": {},
     "output_type": "display_data"
    },
    {
     "name": "stdout",
     "output_type": "stream",
     "text": [
      "<class 'pandas.core.frame.DataFrame'>\n",
      "RangeIndex: 354369 entries, 0 to 354368\n",
      "Data columns (total 16 columns):\n",
      " #   Column             Non-Null Count   Dtype \n",
      "---  ------             --------------   ----- \n",
      " 0   DateCrawled        354369 non-null  object\n",
      " 1   Price              354369 non-null  int64 \n",
      " 2   VehicleType        316879 non-null  object\n",
      " 3   RegistrationYear   354369 non-null  int64 \n",
      " 4   Gearbox            334536 non-null  object\n",
      " 5   Power              354369 non-null  int64 \n",
      " 6   Model              334664 non-null  object\n",
      " 7   Kilometer          354369 non-null  int64 \n",
      " 8   RegistrationMonth  354369 non-null  int64 \n",
      " 9   FuelType           321474 non-null  object\n",
      " 10  Brand              354369 non-null  object\n",
      " 11  NotRepaired        283215 non-null  object\n",
      " 12  DateCreated        354369 non-null  object\n",
      " 13  NumberOfPictures   354369 non-null  int64 \n",
      " 14  PostalCode         354369 non-null  int64 \n",
      " 15  LastSeen           354369 non-null  object\n",
      "dtypes: int64(7), object(9)\n",
      "memory usage: 43.3+ MB\n"
     ]
    }
   ],
   "source": [
    "display(autos.head())\n",
    "autos.info()"
   ]
  },
  {
   "cell_type": "markdown",
   "metadata": {},
   "source": [
    "Данные успешно загружены. Присуствуют пропуски в следующих столбцах:\n",
    "    \n",
    "- VehicleType  \n",
    "- Gearbox\n",
    "- Model\n",
    "- FuelType\n",
    "- NotRepaired\n",
    "    \n",
    "Также, надо будет поменять тип данных в столбце DateCreated. Поскольку точная дата не нужна, после переобразование такие значения на DateTime, стоит созать новые столбцы только с данными о месяце и году. \n",
    "    \n",
    "Сразу видно, что некоторые столбцы не будут полезны для анализа, поскольку данные в них не может быть связаным с ценой машины. Из тех:\n",
    "    \n",
    "- DateCrawled\n",
    "- LastSeen\n",
    "    "
   ]
  },
  {
   "cell_type": "markdown",
   "metadata": {},
   "source": [
    "*Преобразование столбцов с датой на datetime*"
   ]
  },
  {
   "cell_type": "code",
   "execution_count": 5,
   "metadata": {},
   "outputs": [],
   "source": [
    "autos['DateCrawled'] = pd.to_datetime(autos['DateCrawled'], format='%Y-%m-%d %H:%M:%S')\n",
    "autos['DateCreated'] = pd.to_datetime(autos['DateCreated'], format='%Y-%m-%d %H:%M:%S')\n",
    "autos['LastSeen'] = pd.to_datetime(autos['LastSeen'], format='%Y-%m-%d %H:%M:%S')"
   ]
  },
  {
   "cell_type": "markdown",
   "metadata": {},
   "source": [
    "*Просмотр и обработка столбцов с NaN*"
   ]
  },
  {
   "cell_type": "code",
   "execution_count": 6,
   "metadata": {},
   "outputs": [
    {
     "name": "stdout",
     "output_type": "stream",
     "text": [
      "['VehicleType', 'Gearbox', 'Model', 'FuelType', 'NotRepaired']\n"
     ]
    }
   ],
   "source": [
    "print([col for col in autos.columns if len(autos[autos[col].notna() == True]) < len(autos)])"
   ]
  },
  {
   "cell_type": "markdown",
   "metadata": {},
   "source": [
    "В этом датасете, не хватает данных в пяти столбцах : 'VehicleType', 'Gearbox', 'Model', 'FuelType', 'NotRepaired'\n",
    "\n",
    "'Model' и 'NotRepaired' будет неправильно дополнять.\n",
    "\n",
    "Для \"Model\", слишком много вариантов чтобы подбирать правильный. Модель машины может сильно повлиять на цену (целевой наш признак); такие строки составляют 5.56% датасета. С учётом всего этого, наверно лучше устранять такие строки.\n",
    "\n",
    "Для 'NotRepaired' будет неправильно заменить пропуски потому, что нету способа предугадать то, была ли у машины проблема – даже самые новые машины иногда ломаются. Поэтому, было бы неправильно заменить с 'Yes' или 'No'. Однако, в этом столбце довольно много пропусков; поэтому, лучше заменить nan на 'unknown'.\n"
   ]
  },
  {
   "cell_type": "code",
   "execution_count": 7,
   "metadata": {
    "scrolled": false
   },
   "outputs": [
    {
     "name": "stdout",
     "output_type": "stream",
     "text": [
      "['petrol' 'gasoline' nan 'lpg' 'other' 'hybrid' 'cng' 'electric']\n",
      "['manual' 'auto' nan]\n",
      "[nan 'coupe' 'suv' 'small' 'sedan' 'convertible' 'bus' 'wagon' 'other']\n"
     ]
    }
   ],
   "source": [
    "print(autos['FuelType'].unique())\n",
    "print(autos['Gearbox'].unique())\n",
    "print(autos['VehicleType'].unique())"
   ]
  },
  {
   "cell_type": "markdown",
   "metadata": {},
   "source": [
    "В оставшихся трёх столбцах с пропусками, наверно можно заменить пропуски, используя другие признаки.\n",
    "\n",
    "Также, petrol и gasoline, это одно и то же, нужно их сложить вместе."
   ]
  },
  {
   "cell_type": "code",
   "execution_count": 8,
   "metadata": {},
   "outputs": [],
   "source": [
    "autos['FuelType'] = autos['FuelType'].replace('petrol', 'gasoline')"
   ]
  },
  {
   "cell_type": "markdown",
   "metadata": {},
   "source": [
    "*Создание словарей для использования в замене пропусков*"
   ]
  },
  {
   "cell_type": "code",
   "execution_count": 9,
   "metadata": {},
   "outputs": [],
   "source": [
    "brands = autos['Brand'].unique()\n",
    "brandmodel = []\n",
    "for brand in brands:\n",
    "    brand_models_list = autos[autos['Brand']==brand]['Model'].unique()\n",
    "    for model in brand_models_list:\n",
    "        brandmodel.append((str(brand)+str(model)))"
   ]
  },
  {
   "cell_type": "code",
   "execution_count": 10,
   "metadata": {},
   "outputs": [],
   "source": [
    "def brandmodel(row):\n",
    "    return str(row['Brand'])+str(row['Model'])"
   ]
  },
  {
   "cell_type": "code",
   "execution_count": 11,
   "metadata": {},
   "outputs": [],
   "source": [
    "autos['BrandModel'] = autos.apply(brandmodel, axis=1)"
   ]
  },
  {
   "cell_type": "code",
   "execution_count": 12,
   "metadata": {},
   "outputs": [],
   "source": [
    "brandmodel_list = pd.Series(autos['BrandModel'].unique()).sort_values()"
   ]
  },
  {
   "cell_type": "code",
   "execution_count": 13,
   "metadata": {},
   "outputs": [],
   "source": [
    "brandmodel_vehicle_type_dict = {}\n",
    "for i_bm in brandmodel_list:\n",
    "    brandmodel_vehicle_type_dict[i_bm] = (autos.query('(BrandModel == @i_bm) and (VehicleType == VehicleType)')[\"VehicleType\"]).mode()[0]\n",
    "    "
   ]
  },
  {
   "cell_type": "code",
   "execution_count": 14,
   "metadata": {},
   "outputs": [],
   "source": [
    "brandmodel_fuel_dict = {}\n",
    "for i_bm in brandmodel_list:\n",
    "    brandmodel_fuel_dict[i_bm] = (autos.query('(BrandModel == @i_bm) and (FuelType == FuelType)')[\"FuelType\"]).mode()[0]\n",
    "    "
   ]
  },
  {
   "cell_type": "markdown",
   "metadata": {},
   "source": [
    "*Замена пропусков в VehicleType и FuelType*"
   ]
  },
  {
   "cell_type": "code",
   "execution_count": 15,
   "metadata": {},
   "outputs": [],
   "source": [
    "def fill_vehicletype(row):\n",
    "    if ((row['VehicleType'] != row['VehicleType']) & \n",
    "        (row['Brand'] == row['Brand']) & \n",
    "        (row['Model'] == row['Model']) &\n",
    "        (row['Model'] != 'other')):\n",
    "            return brandmodel_vehicle_type_dict[row['BrandModel']]\n",
    "    return row['VehicleType']"
   ]
  },
  {
   "cell_type": "code",
   "execution_count": 16,
   "metadata": {},
   "outputs": [],
   "source": [
    "def fill_fueltype(row):\n",
    "    if ((row['FuelType'] != row['FuelType']) & \n",
    "        (row['Brand'] == row['Brand']) & \n",
    "        (row['Model'] == row['Model']) &\n",
    "        (row['Model'] != 'other')):\n",
    "            return brandmodel_fuel_dict[row['BrandModel']]\n",
    "    return row['VehicleType']"
   ]
  },
  {
   "cell_type": "code",
   "execution_count": 17,
   "metadata": {},
   "outputs": [],
   "source": [
    "autos['VehicleType'] = autos.apply(fill_vehicletype, axis=1)"
   ]
  },
  {
   "cell_type": "code",
   "execution_count": 18,
   "metadata": {},
   "outputs": [],
   "source": [
    "autos['FuelType'] = autos.apply(fill_fueltype, axis=1)"
   ]
  },
  {
   "cell_type": "markdown",
   "metadata": {},
   "source": [
    "*Gearbox*"
   ]
  },
  {
   "cell_type": "code",
   "execution_count": 19,
   "metadata": {},
   "outputs": [
    {
     "data": {
      "text/plain": [
       "manual    24752\n",
       "auto       3005\n",
       "NaN        1475\n",
       "Name: Gearbox, dtype: int64"
      ]
     },
     "metadata": {},
     "output_type": "display_data"
    },
    {
     "name": "stdout",
     "output_type": "stream",
     "text": [
      "\n",
      "Количество строк, в которых отсутствует информация про вид передачи: 19833,\n",
      "что является 5.60% всего датасета.\n",
      "\n"
     ]
    }
   ],
   "source": [
    "display(autos[\n",
    "    (autos['Brand'] == 'volkswagen') &\n",
    "    (autos['Model'] == 'golf')]['Gearbox'].value_counts(dropna=False))\n",
    "\n",
    "print(f'''\n",
    "Количество строк, в которых отсутствует информация про вид передачи: {len(autos[autos[\"Gearbox\"].isna() == True])},\n",
    "что является {len(autos[autos[\"Gearbox\"].isna() == True])/len(autos)*100:.2f}% всего датасета.\n",
    "''')"
   ]
  },
  {
   "cell_type": "markdown",
   "metadata": {},
   "source": [
    "Получается, что нет хорошего способа понять, какая передача у машины – оставляем."
   ]
  },
  {
   "cell_type": "markdown",
   "metadata": {},
   "source": [
    "*Устранение строк с значением NaN в критичном столбце Model*"
   ]
  },
  {
   "cell_type": "code",
   "execution_count": 20,
   "metadata": {},
   "outputs": [],
   "source": [
    "autos = autos.dropna(subset=['Model'])"
   ]
  },
  {
   "cell_type": "markdown",
   "metadata": {},
   "source": [
    "*Замена оставшихся пропусков в не критичных столбцах значением unknown*"
   ]
  },
  {
   "cell_type": "code",
   "execution_count": 21,
   "metadata": {},
   "outputs": [],
   "source": [
    "autos['Gearbox'] = autos['Gearbox'].fillna(value='unknown')\n",
    "autos['NotRepaired'] = autos['NotRepaired'].fillna(value='unknown')\n",
    "autos['FuelType'] = autos['FuelType'].fillna(value='unknown')\n",
    "autos['VehicleType'] = autos['VehicleType'].fillna(value='unknown')\n"
   ]
  },
  {
   "cell_type": "code",
   "execution_count": 22,
   "metadata": {},
   "outputs": [
    {
     "data": {
      "text/html": [
       "<div>\n",
       "<style scoped>\n",
       "    .dataframe tbody tr th:only-of-type {\n",
       "        vertical-align: middle;\n",
       "    }\n",
       "\n",
       "    .dataframe tbody tr th {\n",
       "        vertical-align: top;\n",
       "    }\n",
       "\n",
       "    .dataframe thead th {\n",
       "        text-align: right;\n",
       "    }\n",
       "</style>\n",
       "<table border=\"1\" class=\"dataframe\">\n",
       "  <thead>\n",
       "    <tr style=\"text-align: right;\">\n",
       "      <th></th>\n",
       "      <th>count</th>\n",
       "      <th>mean</th>\n",
       "      <th>std</th>\n",
       "      <th>min</th>\n",
       "      <th>25%</th>\n",
       "      <th>50%</th>\n",
       "      <th>75%</th>\n",
       "      <th>max</th>\n",
       "    </tr>\n",
       "  </thead>\n",
       "  <tbody>\n",
       "    <tr>\n",
       "      <th>Price</th>\n",
       "      <td>334664.0</td>\n",
       "      <td>4504.346790</td>\n",
       "      <td>4531.438572</td>\n",
       "      <td>0.0</td>\n",
       "      <td>1150.0</td>\n",
       "      <td>2800.0</td>\n",
       "      <td>6500.0</td>\n",
       "      <td>20000.0</td>\n",
       "    </tr>\n",
       "    <tr>\n",
       "      <th>RegistrationYear</th>\n",
       "      <td>334664.0</td>\n",
       "      <td>2003.923992</td>\n",
       "      <td>69.377219</td>\n",
       "      <td>1000.0</td>\n",
       "      <td>1999.0</td>\n",
       "      <td>2003.0</td>\n",
       "      <td>2008.0</td>\n",
       "      <td>9999.0</td>\n",
       "    </tr>\n",
       "    <tr>\n",
       "      <th>Power</th>\n",
       "      <td>334664.0</td>\n",
       "      <td>111.373195</td>\n",
       "      <td>185.156439</td>\n",
       "      <td>0.0</td>\n",
       "      <td>70.0</td>\n",
       "      <td>105.0</td>\n",
       "      <td>143.0</td>\n",
       "      <td>20000.0</td>\n",
       "    </tr>\n",
       "    <tr>\n",
       "      <th>Kilometer</th>\n",
       "      <td>334664.0</td>\n",
       "      <td>128562.588148</td>\n",
       "      <td>37205.926976</td>\n",
       "      <td>5000.0</td>\n",
       "      <td>125000.0</td>\n",
       "      <td>150000.0</td>\n",
       "      <td>150000.0</td>\n",
       "      <td>150000.0</td>\n",
       "    </tr>\n",
       "    <tr>\n",
       "      <th>RegistrationMonth</th>\n",
       "      <td>334664.0</td>\n",
       "      <td>5.806068</td>\n",
       "      <td>3.689145</td>\n",
       "      <td>0.0</td>\n",
       "      <td>3.0</td>\n",
       "      <td>6.0</td>\n",
       "      <td>9.0</td>\n",
       "      <td>12.0</td>\n",
       "    </tr>\n",
       "    <tr>\n",
       "      <th>NumberOfPictures</th>\n",
       "      <td>334664.0</td>\n",
       "      <td>0.000000</td>\n",
       "      <td>0.000000</td>\n",
       "      <td>0.0</td>\n",
       "      <td>0.0</td>\n",
       "      <td>0.0</td>\n",
       "      <td>0.0</td>\n",
       "      <td>0.0</td>\n",
       "    </tr>\n",
       "    <tr>\n",
       "      <th>PostalCode</th>\n",
       "      <td>334664.0</td>\n",
       "      <td>50671.521616</td>\n",
       "      <td>25754.522388</td>\n",
       "      <td>1067.0</td>\n",
       "      <td>30419.0</td>\n",
       "      <td>49525.0</td>\n",
       "      <td>71229.0</td>\n",
       "      <td>99998.0</td>\n",
       "    </tr>\n",
       "  </tbody>\n",
       "</table>\n",
       "</div>"
      ],
      "text/plain": [
       "                      count           mean           std     min       25%  \\\n",
       "Price              334664.0    4504.346790   4531.438572     0.0    1150.0   \n",
       "RegistrationYear   334664.0    2003.923992     69.377219  1000.0    1999.0   \n",
       "Power              334664.0     111.373195    185.156439     0.0      70.0   \n",
       "Kilometer          334664.0  128562.588148  37205.926976  5000.0  125000.0   \n",
       "RegistrationMonth  334664.0       5.806068      3.689145     0.0       3.0   \n",
       "NumberOfPictures   334664.0       0.000000      0.000000     0.0       0.0   \n",
       "PostalCode         334664.0   50671.521616  25754.522388  1067.0   30419.0   \n",
       "\n",
       "                        50%       75%       max  \n",
       "Price                2800.0    6500.0   20000.0  \n",
       "RegistrationYear     2003.0    2008.0    9999.0  \n",
       "Power                 105.0     143.0   20000.0  \n",
       "Kilometer          150000.0  150000.0  150000.0  \n",
       "RegistrationMonth       6.0       9.0      12.0  \n",
       "NumberOfPictures        0.0       0.0       0.0  \n",
       "PostalCode          49525.0   71229.0   99998.0  "
      ]
     },
     "metadata": {},
     "output_type": "display_data"
    }
   ],
   "source": [
    "display(autos.describe().T)"
   ]
  },
  {
   "cell_type": "markdown",
   "metadata": {},
   "source": [
    "Если присмотреться к минимальным и максимальным значениям столбцов RegistrationYear, Price, и Power, явно есть какие-то ошибочные значения.\n",
    "\n",
    "Удалим все строки где:\n",
    "\n",
    "    - RegistrationYear < 1920   или   RegistrationYear > 2021\n",
    "    - Price < 200\n",
    "    - Power < 66  или  Power > 1479  (Я знаю крайне мало о лошадиной силе, но Гугл подсказал, что у Koenigsegg Regera – 1479hp и у Mitsubishi i-Miev – 66hp.)\n",
    "\n",
    "Также, почему-то нету данных о количестве фото. Я перепроверил это, подумав, что я возможно случайно удалил все данные, но даже после того, как перескачал файл .csv, данных о фото не было. Поэтому, логично просто удалить этот столбец."
   ]
  },
  {
   "cell_type": "code",
   "execution_count": 23,
   "metadata": {},
   "outputs": [
    {
     "name": "stdout",
     "output_type": "stream",
     "text": [
      "count    258023.000000\n",
      "mean         83.418405\n",
      "std          41.940611\n",
      "min           0.000000\n",
      "25%          60.000000\n",
      "50%          90.000000\n",
      "75%         116.000000\n",
      "max         149.000000\n",
      "Name: Power, dtype: float64 20000\n"
     ]
    }
   ],
   "source": [
    "print(autos.query('Power < 150')['Power'].describe(), autos['Power'].max())"
   ]
  },
  {
   "cell_type": "code",
   "execution_count": 24,
   "metadata": {},
   "outputs": [],
   "source": [
    "autos = autos.query('(RegistrationYear > 1965 ) and (RegistrationYear < 2017) and (Price > 200) and (Power > 67) and (Power < 1436)')\n",
    "autos = autos.drop(columns='NumberOfPictures')"
   ]
  },
  {
   "cell_type": "code",
   "execution_count": 25,
   "metadata": {
    "scrolled": true
   },
   "outputs": [
    {
     "data": {
      "text/html": [
       "<div>\n",
       "<style scoped>\n",
       "    .dataframe tbody tr th:only-of-type {\n",
       "        vertical-align: middle;\n",
       "    }\n",
       "\n",
       "    .dataframe tbody tr th {\n",
       "        vertical-align: top;\n",
       "    }\n",
       "\n",
       "    .dataframe thead th {\n",
       "        text-align: right;\n",
       "    }\n",
       "</style>\n",
       "<table border=\"1\" class=\"dataframe\">\n",
       "  <thead>\n",
       "    <tr style=\"text-align: right;\">\n",
       "      <th></th>\n",
       "      <th>count</th>\n",
       "      <th>mean</th>\n",
       "      <th>std</th>\n",
       "      <th>min</th>\n",
       "      <th>25%</th>\n",
       "      <th>50%</th>\n",
       "      <th>75%</th>\n",
       "      <th>max</th>\n",
       "    </tr>\n",
       "  </thead>\n",
       "  <tbody>\n",
       "    <tr>\n",
       "      <th>Price</th>\n",
       "      <td>242898.0</td>\n",
       "      <td>5473.674501</td>\n",
       "      <td>4712.095783</td>\n",
       "      <td>202.0</td>\n",
       "      <td>1750.0</td>\n",
       "      <td>3900.0</td>\n",
       "      <td>7950.0</td>\n",
       "      <td>20000.0</td>\n",
       "    </tr>\n",
       "    <tr>\n",
       "      <th>RegistrationYear</th>\n",
       "      <td>242898.0</td>\n",
       "      <td>2003.431753</td>\n",
       "      <td>6.034967</td>\n",
       "      <td>1966.0</td>\n",
       "      <td>2000.0</td>\n",
       "      <td>2004.0</td>\n",
       "      <td>2008.0</td>\n",
       "      <td>2016.0</td>\n",
       "    </tr>\n",
       "    <tr>\n",
       "      <th>Power</th>\n",
       "      <td>242898.0</td>\n",
       "      <td>131.944261</td>\n",
       "      <td>54.407893</td>\n",
       "      <td>68.0</td>\n",
       "      <td>100.0</td>\n",
       "      <td>121.0</td>\n",
       "      <td>150.0</td>\n",
       "      <td>1433.0</td>\n",
       "    </tr>\n",
       "    <tr>\n",
       "      <th>Kilometer</th>\n",
       "      <td>242898.0</td>\n",
       "      <td>128675.637510</td>\n",
       "      <td>36571.864542</td>\n",
       "      <td>5000.0</td>\n",
       "      <td>125000.0</td>\n",
       "      <td>150000.0</td>\n",
       "      <td>150000.0</td>\n",
       "      <td>150000.0</td>\n",
       "    </tr>\n",
       "    <tr>\n",
       "      <th>RegistrationMonth</th>\n",
       "      <td>242898.0</td>\n",
       "      <td>6.082104</td>\n",
       "      <td>3.541460</td>\n",
       "      <td>0.0</td>\n",
       "      <td>3.0</td>\n",
       "      <td>6.0</td>\n",
       "      <td>9.0</td>\n",
       "      <td>12.0</td>\n",
       "    </tr>\n",
       "    <tr>\n",
       "      <th>PostalCode</th>\n",
       "      <td>242898.0</td>\n",
       "      <td>51804.859982</td>\n",
       "      <td>25868.571984</td>\n",
       "      <td>1067.0</td>\n",
       "      <td>31234.0</td>\n",
       "      <td>51103.0</td>\n",
       "      <td>72649.0</td>\n",
       "      <td>99998.0</td>\n",
       "    </tr>\n",
       "  </tbody>\n",
       "</table>\n",
       "</div>"
      ],
      "text/plain": [
       "                      count           mean           std     min       25%  \\\n",
       "Price              242898.0    5473.674501   4712.095783   202.0    1750.0   \n",
       "RegistrationYear   242898.0    2003.431753      6.034967  1966.0    2000.0   \n",
       "Power              242898.0     131.944261     54.407893    68.0     100.0   \n",
       "Kilometer          242898.0  128675.637510  36571.864542  5000.0  125000.0   \n",
       "RegistrationMonth  242898.0       6.082104      3.541460     0.0       3.0   \n",
       "PostalCode         242898.0   51804.859982  25868.571984  1067.0   31234.0   \n",
       "\n",
       "                        50%       75%       max  \n",
       "Price                3900.0    7950.0   20000.0  \n",
       "RegistrationYear     2004.0    2008.0    2016.0  \n",
       "Power                 121.0     150.0    1433.0  \n",
       "Kilometer          150000.0  150000.0  150000.0  \n",
       "RegistrationMonth       6.0       9.0      12.0  \n",
       "PostalCode          51103.0   72649.0   99998.0  "
      ]
     },
     "metadata": {},
     "output_type": "display_data"
    }
   ],
   "source": [
    "display(autos.describe().T)"
   ]
  },
  {
   "cell_type": "markdown",
   "metadata": {},
   "source": [
    "*Создание двух столбцов с годом и месяцем создания анкеты относительно*\n",
    "\n",
    "Стоимость машин зависит от времени, и из-за сезонности, и из-за экономических тенденций, поэтому надо создать столбцы, которые модели могут понимать и использовать."
   ]
  },
  {
   "cell_type": "code",
   "execution_count": 26,
   "metadata": {},
   "outputs": [],
   "source": [
    "autos['YearPosted'] = autos['DateCreated'].dt.year\n",
    "autos['MonthPosted'] = autos['DateCreated'].dt.month\n",
    "# autos = autos.drop(columns='DateCreated')"
   ]
  },
  {
   "cell_type": "code",
   "execution_count": 27,
   "metadata": {},
   "outputs": [
    {
     "name": "stdout",
     "output_type": "stream",
     "text": [
      "<class 'pandas.core.frame.DataFrame'>\n",
      "Int64Index: 242898 entries, 2 to 354368\n",
      "Data columns (total 18 columns):\n",
      " #   Column             Non-Null Count   Dtype         \n",
      "---  ------             --------------   -----         \n",
      " 0   DateCrawled        242898 non-null  datetime64[ns]\n",
      " 1   Price              242898 non-null  int64         \n",
      " 2   VehicleType        242898 non-null  object        \n",
      " 3   RegistrationYear   242898 non-null  int64         \n",
      " 4   Gearbox            242898 non-null  object        \n",
      " 5   Power              242898 non-null  int64         \n",
      " 6   Model              242898 non-null  object        \n",
      " 7   Kilometer          242898 non-null  int64         \n",
      " 8   RegistrationMonth  242898 non-null  int64         \n",
      " 9   FuelType           242898 non-null  object        \n",
      " 10  Brand              242898 non-null  object        \n",
      " 11  NotRepaired        242898 non-null  object        \n",
      " 12  DateCreated        242898 non-null  datetime64[ns]\n",
      " 13  PostalCode         242898 non-null  int64         \n",
      " 14  LastSeen           242898 non-null  datetime64[ns]\n",
      " 15  BrandModel         242898 non-null  object        \n",
      " 16  YearPosted         242898 non-null  int64         \n",
      " 17  MonthPosted        242898 non-null  int64         \n",
      "dtypes: datetime64[ns](3), int64(8), object(7)\n",
      "memory usage: 35.2+ MB\n"
     ]
    },
    {
     "data": {
      "text/plain": [
       "None"
      ]
     },
     "metadata": {},
     "output_type": "display_data"
    },
    {
     "data": {
      "text/html": [
       "<div>\n",
       "<style scoped>\n",
       "    .dataframe tbody tr th:only-of-type {\n",
       "        vertical-align: middle;\n",
       "    }\n",
       "\n",
       "    .dataframe tbody tr th {\n",
       "        vertical-align: top;\n",
       "    }\n",
       "\n",
       "    .dataframe thead th {\n",
       "        text-align: right;\n",
       "    }\n",
       "</style>\n",
       "<table border=\"1\" class=\"dataframe\">\n",
       "  <thead>\n",
       "    <tr style=\"text-align: right;\">\n",
       "      <th></th>\n",
       "      <th>DateCrawled</th>\n",
       "      <th>Price</th>\n",
       "      <th>VehicleType</th>\n",
       "      <th>RegistrationYear</th>\n",
       "      <th>Gearbox</th>\n",
       "      <th>Power</th>\n",
       "      <th>Model</th>\n",
       "      <th>Kilometer</th>\n",
       "      <th>RegistrationMonth</th>\n",
       "      <th>FuelType</th>\n",
       "      <th>Brand</th>\n",
       "      <th>NotRepaired</th>\n",
       "      <th>DateCreated</th>\n",
       "      <th>PostalCode</th>\n",
       "      <th>LastSeen</th>\n",
       "      <th>BrandModel</th>\n",
       "      <th>YearPosted</th>\n",
       "      <th>MonthPosted</th>\n",
       "    </tr>\n",
       "  </thead>\n",
       "  <tbody>\n",
       "    <tr>\n",
       "      <th>count</th>\n",
       "      <td>242898</td>\n",
       "      <td>242898.000000</td>\n",
       "      <td>242898</td>\n",
       "      <td>242898.000000</td>\n",
       "      <td>242898</td>\n",
       "      <td>242898.000000</td>\n",
       "      <td>242898</td>\n",
       "      <td>242898.000000</td>\n",
       "      <td>242898.000000</td>\n",
       "      <td>242898</td>\n",
       "      <td>242898</td>\n",
       "      <td>242898</td>\n",
       "      <td>242898</td>\n",
       "      <td>242898.000000</td>\n",
       "      <td>242898</td>\n",
       "      <td>242898</td>\n",
       "      <td>242898.000000</td>\n",
       "      <td>242898.000000</td>\n",
       "    </tr>\n",
       "    <tr>\n",
       "      <th>unique</th>\n",
       "      <td>202269</td>\n",
       "      <td>NaN</td>\n",
       "      <td>9</td>\n",
       "      <td>NaN</td>\n",
       "      <td>3</td>\n",
       "      <td>NaN</td>\n",
       "      <td>247</td>\n",
       "      <td>NaN</td>\n",
       "      <td>NaN</td>\n",
       "      <td>10</td>\n",
       "      <td>39</td>\n",
       "      <td>3</td>\n",
       "      <td>102</td>\n",
       "      <td>NaN</td>\n",
       "      <td>131230</td>\n",
       "      <td>294</td>\n",
       "      <td>NaN</td>\n",
       "      <td>NaN</td>\n",
       "    </tr>\n",
       "    <tr>\n",
       "      <th>top</th>\n",
       "      <td>2016-03-05 14:25:23</td>\n",
       "      <td>NaN</td>\n",
       "      <td>sedan</td>\n",
       "      <td>NaN</td>\n",
       "      <td>manual</td>\n",
       "      <td>NaN</td>\n",
       "      <td>golf</td>\n",
       "      <td>NaN</td>\n",
       "      <td>NaN</td>\n",
       "      <td>sedan</td>\n",
       "      <td>volkswagen</td>\n",
       "      <td>no</td>\n",
       "      <td>2016-04-03 00:00:00</td>\n",
       "      <td>NaN</td>\n",
       "      <td>2016-04-07 13:17:48</td>\n",
       "      <td>volkswagengolf</td>\n",
       "      <td>NaN</td>\n",
       "      <td>NaN</td>\n",
       "    </tr>\n",
       "    <tr>\n",
       "      <th>freq</th>\n",
       "      <td>5</td>\n",
       "      <td>NaN</td>\n",
       "      <td>81135</td>\n",
       "      <td>NaN</td>\n",
       "      <td>186229</td>\n",
       "      <td>NaN</td>\n",
       "      <td>22988</td>\n",
       "      <td>NaN</td>\n",
       "      <td>NaN</td>\n",
       "      <td>77704</td>\n",
       "      <td>50071</td>\n",
       "      <td>190594</td>\n",
       "      <td>9644</td>\n",
       "      <td>NaN</td>\n",
       "      <td>14</td>\n",
       "      <td>22988</td>\n",
       "      <td>NaN</td>\n",
       "      <td>NaN</td>\n",
       "    </tr>\n",
       "    <tr>\n",
       "      <th>first</th>\n",
       "      <td>2016-03-05 14:06:23</td>\n",
       "      <td>NaN</td>\n",
       "      <td>NaN</td>\n",
       "      <td>NaN</td>\n",
       "      <td>NaN</td>\n",
       "      <td>NaN</td>\n",
       "      <td>NaN</td>\n",
       "      <td>NaN</td>\n",
       "      <td>NaN</td>\n",
       "      <td>NaN</td>\n",
       "      <td>NaN</td>\n",
       "      <td>NaN</td>\n",
       "      <td>2015-03-20 00:00:00</td>\n",
       "      <td>NaN</td>\n",
       "      <td>2016-03-05 14:15:08</td>\n",
       "      <td>NaN</td>\n",
       "      <td>NaN</td>\n",
       "      <td>NaN</td>\n",
       "    </tr>\n",
       "    <tr>\n",
       "      <th>last</th>\n",
       "      <td>2016-04-07 14:36:58</td>\n",
       "      <td>NaN</td>\n",
       "      <td>NaN</td>\n",
       "      <td>NaN</td>\n",
       "      <td>NaN</td>\n",
       "      <td>NaN</td>\n",
       "      <td>NaN</td>\n",
       "      <td>NaN</td>\n",
       "      <td>NaN</td>\n",
       "      <td>NaN</td>\n",
       "      <td>NaN</td>\n",
       "      <td>NaN</td>\n",
       "      <td>2016-04-07 00:00:00</td>\n",
       "      <td>NaN</td>\n",
       "      <td>2016-04-07 14:58:51</td>\n",
       "      <td>NaN</td>\n",
       "      <td>NaN</td>\n",
       "      <td>NaN</td>\n",
       "    </tr>\n",
       "    <tr>\n",
       "      <th>mean</th>\n",
       "      <td>NaN</td>\n",
       "      <td>5473.674501</td>\n",
       "      <td>NaN</td>\n",
       "      <td>2003.431753</td>\n",
       "      <td>NaN</td>\n",
       "      <td>131.944261</td>\n",
       "      <td>NaN</td>\n",
       "      <td>128675.637510</td>\n",
       "      <td>6.082104</td>\n",
       "      <td>NaN</td>\n",
       "      <td>NaN</td>\n",
       "      <td>NaN</td>\n",
       "      <td>NaN</td>\n",
       "      <td>51804.859982</td>\n",
       "      <td>NaN</td>\n",
       "      <td>NaN</td>\n",
       "      <td>2015.999922</td>\n",
       "      <td>3.161500</td>\n",
       "    </tr>\n",
       "    <tr>\n",
       "      <th>std</th>\n",
       "      <td>NaN</td>\n",
       "      <td>4712.095783</td>\n",
       "      <td>NaN</td>\n",
       "      <td>6.034967</td>\n",
       "      <td>NaN</td>\n",
       "      <td>54.407893</td>\n",
       "      <td>NaN</td>\n",
       "      <td>36571.864542</td>\n",
       "      <td>3.541460</td>\n",
       "      <td>NaN</td>\n",
       "      <td>NaN</td>\n",
       "      <td>NaN</td>\n",
       "      <td>NaN</td>\n",
       "      <td>25868.571984</td>\n",
       "      <td>NaN</td>\n",
       "      <td>NaN</td>\n",
       "      <td>0.008844</td>\n",
       "      <td>0.378765</td>\n",
       "    </tr>\n",
       "    <tr>\n",
       "      <th>min</th>\n",
       "      <td>NaN</td>\n",
       "      <td>202.000000</td>\n",
       "      <td>NaN</td>\n",
       "      <td>1966.000000</td>\n",
       "      <td>NaN</td>\n",
       "      <td>68.000000</td>\n",
       "      <td>NaN</td>\n",
       "      <td>5000.000000</td>\n",
       "      <td>0.000000</td>\n",
       "      <td>NaN</td>\n",
       "      <td>NaN</td>\n",
       "      <td>NaN</td>\n",
       "      <td>NaN</td>\n",
       "      <td>1067.000000</td>\n",
       "      <td>NaN</td>\n",
       "      <td>NaN</td>\n",
       "      <td>2015.000000</td>\n",
       "      <td>1.000000</td>\n",
       "    </tr>\n",
       "    <tr>\n",
       "      <th>25%</th>\n",
       "      <td>NaN</td>\n",
       "      <td>1750.000000</td>\n",
       "      <td>NaN</td>\n",
       "      <td>2000.000000</td>\n",
       "      <td>NaN</td>\n",
       "      <td>100.000000</td>\n",
       "      <td>NaN</td>\n",
       "      <td>125000.000000</td>\n",
       "      <td>3.000000</td>\n",
       "      <td>NaN</td>\n",
       "      <td>NaN</td>\n",
       "      <td>NaN</td>\n",
       "      <td>NaN</td>\n",
       "      <td>31234.000000</td>\n",
       "      <td>NaN</td>\n",
       "      <td>NaN</td>\n",
       "      <td>2016.000000</td>\n",
       "      <td>3.000000</td>\n",
       "    </tr>\n",
       "    <tr>\n",
       "      <th>50%</th>\n",
       "      <td>NaN</td>\n",
       "      <td>3900.000000</td>\n",
       "      <td>NaN</td>\n",
       "      <td>2004.000000</td>\n",
       "      <td>NaN</td>\n",
       "      <td>121.000000</td>\n",
       "      <td>NaN</td>\n",
       "      <td>150000.000000</td>\n",
       "      <td>6.000000</td>\n",
       "      <td>NaN</td>\n",
       "      <td>NaN</td>\n",
       "      <td>NaN</td>\n",
       "      <td>NaN</td>\n",
       "      <td>51103.000000</td>\n",
       "      <td>NaN</td>\n",
       "      <td>NaN</td>\n",
       "      <td>2016.000000</td>\n",
       "      <td>3.000000</td>\n",
       "    </tr>\n",
       "    <tr>\n",
       "      <th>75%</th>\n",
       "      <td>NaN</td>\n",
       "      <td>7950.000000</td>\n",
       "      <td>NaN</td>\n",
       "      <td>2008.000000</td>\n",
       "      <td>NaN</td>\n",
       "      <td>150.000000</td>\n",
       "      <td>NaN</td>\n",
       "      <td>150000.000000</td>\n",
       "      <td>9.000000</td>\n",
       "      <td>NaN</td>\n",
       "      <td>NaN</td>\n",
       "      <td>NaN</td>\n",
       "      <td>NaN</td>\n",
       "      <td>72649.000000</td>\n",
       "      <td>NaN</td>\n",
       "      <td>NaN</td>\n",
       "      <td>2016.000000</td>\n",
       "      <td>3.000000</td>\n",
       "    </tr>\n",
       "    <tr>\n",
       "      <th>max</th>\n",
       "      <td>NaN</td>\n",
       "      <td>20000.000000</td>\n",
       "      <td>NaN</td>\n",
       "      <td>2016.000000</td>\n",
       "      <td>NaN</td>\n",
       "      <td>1433.000000</td>\n",
       "      <td>NaN</td>\n",
       "      <td>150000.000000</td>\n",
       "      <td>12.000000</td>\n",
       "      <td>NaN</td>\n",
       "      <td>NaN</td>\n",
       "      <td>NaN</td>\n",
       "      <td>NaN</td>\n",
       "      <td>99998.000000</td>\n",
       "      <td>NaN</td>\n",
       "      <td>NaN</td>\n",
       "      <td>2016.000000</td>\n",
       "      <td>12.000000</td>\n",
       "    </tr>\n",
       "  </tbody>\n",
       "</table>\n",
       "</div>"
      ],
      "text/plain": [
       "                DateCrawled          Price VehicleType  RegistrationYear  \\\n",
       "count                242898  242898.000000      242898     242898.000000   \n",
       "unique               202269            NaN           9               NaN   \n",
       "top     2016-03-05 14:25:23            NaN       sedan               NaN   \n",
       "freq                      5            NaN       81135               NaN   \n",
       "first   2016-03-05 14:06:23            NaN         NaN               NaN   \n",
       "last    2016-04-07 14:36:58            NaN         NaN               NaN   \n",
       "mean                    NaN    5473.674501         NaN       2003.431753   \n",
       "std                     NaN    4712.095783         NaN          6.034967   \n",
       "min                     NaN     202.000000         NaN       1966.000000   \n",
       "25%                     NaN    1750.000000         NaN       2000.000000   \n",
       "50%                     NaN    3900.000000         NaN       2004.000000   \n",
       "75%                     NaN    7950.000000         NaN       2008.000000   \n",
       "max                     NaN   20000.000000         NaN       2016.000000   \n",
       "\n",
       "       Gearbox          Power   Model      Kilometer  RegistrationMonth  \\\n",
       "count   242898  242898.000000  242898  242898.000000      242898.000000   \n",
       "unique       3            NaN     247            NaN                NaN   \n",
       "top     manual            NaN    golf            NaN                NaN   \n",
       "freq    186229            NaN   22988            NaN                NaN   \n",
       "first      NaN            NaN     NaN            NaN                NaN   \n",
       "last       NaN            NaN     NaN            NaN                NaN   \n",
       "mean       NaN     131.944261     NaN  128675.637510           6.082104   \n",
       "std        NaN      54.407893     NaN   36571.864542           3.541460   \n",
       "min        NaN      68.000000     NaN    5000.000000           0.000000   \n",
       "25%        NaN     100.000000     NaN  125000.000000           3.000000   \n",
       "50%        NaN     121.000000     NaN  150000.000000           6.000000   \n",
       "75%        NaN     150.000000     NaN  150000.000000           9.000000   \n",
       "max        NaN    1433.000000     NaN  150000.000000          12.000000   \n",
       "\n",
       "       FuelType       Brand NotRepaired          DateCreated     PostalCode  \\\n",
       "count    242898      242898      242898               242898  242898.000000   \n",
       "unique       10          39           3                  102            NaN   \n",
       "top       sedan  volkswagen          no  2016-04-03 00:00:00            NaN   \n",
       "freq      77704       50071      190594                 9644            NaN   \n",
       "first       NaN         NaN         NaN  2015-03-20 00:00:00            NaN   \n",
       "last        NaN         NaN         NaN  2016-04-07 00:00:00            NaN   \n",
       "mean        NaN         NaN         NaN                  NaN   51804.859982   \n",
       "std         NaN         NaN         NaN                  NaN   25868.571984   \n",
       "min         NaN         NaN         NaN                  NaN    1067.000000   \n",
       "25%         NaN         NaN         NaN                  NaN   31234.000000   \n",
       "50%         NaN         NaN         NaN                  NaN   51103.000000   \n",
       "75%         NaN         NaN         NaN                  NaN   72649.000000   \n",
       "max         NaN         NaN         NaN                  NaN   99998.000000   \n",
       "\n",
       "                   LastSeen      BrandModel     YearPosted    MonthPosted  \n",
       "count                242898          242898  242898.000000  242898.000000  \n",
       "unique               131230             294            NaN            NaN  \n",
       "top     2016-04-07 13:17:48  volkswagengolf            NaN            NaN  \n",
       "freq                     14           22988            NaN            NaN  \n",
       "first   2016-03-05 14:15:08             NaN            NaN            NaN  \n",
       "last    2016-04-07 14:58:51             NaN            NaN            NaN  \n",
       "mean                    NaN             NaN    2015.999922       3.161500  \n",
       "std                     NaN             NaN       0.008844       0.378765  \n",
       "min                     NaN             NaN    2015.000000       1.000000  \n",
       "25%                     NaN             NaN    2016.000000       3.000000  \n",
       "50%                     NaN             NaN    2016.000000       3.000000  \n",
       "75%                     NaN             NaN    2016.000000       3.000000  \n",
       "max                     NaN             NaN    2016.000000      12.000000  "
      ]
     },
     "execution_count": 27,
     "metadata": {},
     "output_type": "execute_result"
    }
   ],
   "source": [
    "display(autos.info())\n",
    "autos.describe(include = 'all')\n"
   ]
  },
  {
   "cell_type": "code",
   "execution_count": 28,
   "metadata": {},
   "outputs": [
    {
     "data": {
      "text/plain": [
       "Index(['DateCrawled', 'Price', 'VehicleType', 'RegistrationYear', 'Gearbox',\n",
       "       'Power', 'Model', 'Kilometer', 'RegistrationMonth', 'FuelType', 'Brand',\n",
       "       'NotRepaired', 'DateCreated', 'PostalCode', 'LastSeen', 'BrandModel',\n",
       "       'YearPosted', 'MonthPosted'],\n",
       "      dtype='object')"
      ]
     },
     "metadata": {},
     "output_type": "display_data"
    },
    {
     "data": {
      "text/plain": [
       "Index(['Price', 'VehicleType', 'RegistrationYear', 'Gearbox', 'Power', 'Model',\n",
       "       'Kilometer', 'RegistrationMonth', 'FuelType', 'Brand', 'NotRepaired',\n",
       "       'PostalCode', 'YearPosted', 'MonthPosted'],\n",
       "      dtype='object')"
      ]
     },
     "execution_count": 28,
     "metadata": {},
     "output_type": "execute_result"
    }
   ],
   "source": [
    "display(autos.columns)\n",
    "autos_phik = autos.drop(columns=['DateCrawled', 'DateCreated', 'LastSeen', 'BrandModel'])\n",
    "autos_phik.columns"
   ]
  },
  {
   "cell_type": "code",
   "execution_count": 35,
   "metadata": {},
   "outputs": [
    {
     "name": "stderr",
     "output_type": "stream",
     "text": [
      "/Users/lilith/opt/anaconda3/lib/python3.9/site-packages/phik/bivariate.py:208: UserWarning: Many cells: 1991561. Are interval variables set correctly?\n",
      "  warnings.warn('Many cells: {0:d}. Are interval variables set correctly?'.format(len(corr0)))\n"
     ]
    }
   ],
   "source": [
    "### Phi_K test\n",
    "columns_dict = {\n",
    "    'VehicleType': 'categorical',\n",
    "    'RegistrationYear': 'interval',\n",
    "    'Gearbox' : 'categorical',\n",
    "    'Power' : 'interval',\n",
    "    'Model' : 'categorical',\n",
    "    'Kilometer' : 'interval',\n",
    "    'RegistrationMonth' : 'categorical',\n",
    "    'FuelType' : 'categorical',\n",
    "    'Brand' : 'categorical',\n",
    "    'NotRepaired' : 'categorical',\n",
    "    'PostalCode' : 'categorical',\n",
    "    'YearPosted' : 'interval',\n",
    "    'MonthPosted' : 'categorical',\n",
    "    'Price' : 'interval'\n",
    "}\n",
    "\n",
    "interval_cols = [col for col in columns_dict if columns_dict[col] == 'interval']\n",
    "phik_corr = autos_phik.phik_matrix(interval_cols=interval_cols)"
   ]
  },
  {
   "cell_type": "code",
   "execution_count": 38,
   "metadata": {},
   "outputs": [
    {
     "name": "stdout",
     "output_type": "stream",
     "text": [
      "<class 'pandas.core.frame.DataFrame'>\n",
      "Int64Index: 242898 entries, 2 to 354368\n",
      "Data columns (total 14 columns):\n",
      " #   Column             Non-Null Count   Dtype \n",
      "---  ------             --------------   ----- \n",
      " 0   Price              242898 non-null  int64 \n",
      " 1   VehicleType        242898 non-null  object\n",
      " 2   RegistrationYear   242898 non-null  int64 \n",
      " 3   Gearbox            242898 non-null  object\n",
      " 4   Power              242898 non-null  int64 \n",
      " 5   Model              242898 non-null  object\n",
      " 6   Kilometer          242898 non-null  int64 \n",
      " 7   RegistrationMonth  242898 non-null  int64 \n",
      " 8   FuelType           242898 non-null  object\n",
      " 9   Brand              242898 non-null  object\n",
      " 10  NotRepaired        242898 non-null  object\n",
      " 11  PostalCode         242898 non-null  int64 \n",
      " 12  YearPosted         242898 non-null  int64 \n",
      " 13  MonthPosted        242898 non-null  int64 \n",
      "dtypes: int64(8), object(6)\n",
      "memory usage: 27.8+ MB\n"
     ]
    },
    {
     "data": {
      "text/html": [
       "<div>\n",
       "<style scoped>\n",
       "    .dataframe tbody tr th:only-of-type {\n",
       "        vertical-align: middle;\n",
       "    }\n",
       "\n",
       "    .dataframe tbody tr th {\n",
       "        vertical-align: top;\n",
       "    }\n",
       "\n",
       "    .dataframe thead th {\n",
       "        text-align: right;\n",
       "    }\n",
       "</style>\n",
       "<table border=\"1\" class=\"dataframe\">\n",
       "  <thead>\n",
       "    <tr style=\"text-align: right;\">\n",
       "      <th></th>\n",
       "      <th>Price</th>\n",
       "      <th>VehicleType</th>\n",
       "      <th>RegistrationYear</th>\n",
       "      <th>Gearbox</th>\n",
       "      <th>Power</th>\n",
       "      <th>Model</th>\n",
       "      <th>Kilometer</th>\n",
       "      <th>RegistrationMonth</th>\n",
       "      <th>FuelType</th>\n",
       "      <th>Brand</th>\n",
       "      <th>NotRepaired</th>\n",
       "      <th>PostalCode</th>\n",
       "      <th>YearPosted</th>\n",
       "      <th>MonthPosted</th>\n",
       "    </tr>\n",
       "  </thead>\n",
       "  <tbody>\n",
       "    <tr>\n",
       "      <th>Price</th>\n",
       "      <td>1.000000</td>\n",
       "      <td>0.205391</td>\n",
       "      <td>0.674683</td>\n",
       "      <td>0.267941</td>\n",
       "      <td>0.324037</td>\n",
       "      <td>0.556214</td>\n",
       "      <td>0.347664</td>\n",
       "      <td>0.119948</td>\n",
       "      <td>0.292439</td>\n",
       "      <td>0.305863</td>\n",
       "      <td>0.329931</td>\n",
       "      <td>0.369643</td>\n",
       "      <td>NaN</td>\n",
       "      <td>0.021265</td>\n",
       "    </tr>\n",
       "    <tr>\n",
       "      <th>VehicleType</th>\n",
       "      <td>0.205391</td>\n",
       "      <td>1.000000</td>\n",
       "      <td>0.206696</td>\n",
       "      <td>0.287203</td>\n",
       "      <td>0.164724</td>\n",
       "      <td>0.909020</td>\n",
       "      <td>0.285441</td>\n",
       "      <td>0.086862</td>\n",
       "      <td>0.994139</td>\n",
       "      <td>0.593149</td>\n",
       "      <td>0.133772</td>\n",
       "      <td>0.345881</td>\n",
       "      <td>NaN</td>\n",
       "      <td>0.022981</td>\n",
       "    </tr>\n",
       "    <tr>\n",
       "      <th>RegistrationYear</th>\n",
       "      <td>0.674683</td>\n",
       "      <td>0.206696</td>\n",
       "      <td>1.000000</td>\n",
       "      <td>0.102919</td>\n",
       "      <td>0.113596</td>\n",
       "      <td>0.617841</td>\n",
       "      <td>0.449651</td>\n",
       "      <td>0.117455</td>\n",
       "      <td>0.298798</td>\n",
       "      <td>0.300642</td>\n",
       "      <td>0.208627</td>\n",
       "      <td>0.395740</td>\n",
       "      <td>NaN</td>\n",
       "      <td>0.013773</td>\n",
       "    </tr>\n",
       "    <tr>\n",
       "      <th>Gearbox</th>\n",
       "      <td>0.267941</td>\n",
       "      <td>0.287203</td>\n",
       "      <td>0.102919</td>\n",
       "      <td>1.000000</td>\n",
       "      <td>0.370770</td>\n",
       "      <td>0.605205</td>\n",
       "      <td>0.058269</td>\n",
       "      <td>0.146711</td>\n",
       "      <td>0.235506</td>\n",
       "      <td>0.502817</td>\n",
       "      <td>0.227570</td>\n",
       "      <td>0.294145</td>\n",
       "      <td>NaN</td>\n",
       "      <td>0.008732</td>\n",
       "    </tr>\n",
       "    <tr>\n",
       "      <th>Power</th>\n",
       "      <td>0.324037</td>\n",
       "      <td>0.164724</td>\n",
       "      <td>0.113596</td>\n",
       "      <td>0.370770</td>\n",
       "      <td>1.000000</td>\n",
       "      <td>0.533467</td>\n",
       "      <td>0.041812</td>\n",
       "      <td>0.028415</td>\n",
       "      <td>0.223840</td>\n",
       "      <td>0.290795</td>\n",
       "      <td>0.048553</td>\n",
       "      <td>0.159236</td>\n",
       "      <td>NaN</td>\n",
       "      <td>0.000000</td>\n",
       "    </tr>\n",
       "    <tr>\n",
       "      <th>Model</th>\n",
       "      <td>0.556214</td>\n",
       "      <td>0.909020</td>\n",
       "      <td>0.617841</td>\n",
       "      <td>0.605205</td>\n",
       "      <td>0.533467</td>\n",
       "      <td>1.000000</td>\n",
       "      <td>0.467564</td>\n",
       "      <td>0.166786</td>\n",
       "      <td>0.897043</td>\n",
       "      <td>0.998133</td>\n",
       "      <td>0.214814</td>\n",
       "      <td>0.907704</td>\n",
       "      <td>NaN</td>\n",
       "      <td>0.175118</td>\n",
       "    </tr>\n",
       "    <tr>\n",
       "      <th>Kilometer</th>\n",
       "      <td>0.347664</td>\n",
       "      <td>0.285441</td>\n",
       "      <td>0.449651</td>\n",
       "      <td>0.058269</td>\n",
       "      <td>0.041812</td>\n",
       "      <td>0.467564</td>\n",
       "      <td>1.000000</td>\n",
       "      <td>0.069244</td>\n",
       "      <td>0.209093</td>\n",
       "      <td>0.278011</td>\n",
       "      <td>0.226392</td>\n",
       "      <td>0.358345</td>\n",
       "      <td>NaN</td>\n",
       "      <td>0.017652</td>\n",
       "    </tr>\n",
       "    <tr>\n",
       "      <th>RegistrationMonth</th>\n",
       "      <td>0.119948</td>\n",
       "      <td>0.086862</td>\n",
       "      <td>0.117455</td>\n",
       "      <td>0.146711</td>\n",
       "      <td>0.028415</td>\n",
       "      <td>0.166786</td>\n",
       "      <td>0.069244</td>\n",
       "      <td>1.000000</td>\n",
       "      <td>0.178576</td>\n",
       "      <td>0.086655</td>\n",
       "      <td>0.308449</td>\n",
       "      <td>0.382111</td>\n",
       "      <td>NaN</td>\n",
       "      <td>0.019646</td>\n",
       "    </tr>\n",
       "    <tr>\n",
       "      <th>FuelType</th>\n",
       "      <td>0.292439</td>\n",
       "      <td>0.994139</td>\n",
       "      <td>0.298798</td>\n",
       "      <td>0.235506</td>\n",
       "      <td>0.223840</td>\n",
       "      <td>0.897043</td>\n",
       "      <td>0.209093</td>\n",
       "      <td>0.178576</td>\n",
       "      <td>1.000000</td>\n",
       "      <td>0.583240</td>\n",
       "      <td>0.204562</td>\n",
       "      <td>0.351501</td>\n",
       "      <td>NaN</td>\n",
       "      <td>0.023523</td>\n",
       "    </tr>\n",
       "    <tr>\n",
       "      <th>Brand</th>\n",
       "      <td>0.305863</td>\n",
       "      <td>0.593149</td>\n",
       "      <td>0.300642</td>\n",
       "      <td>0.502817</td>\n",
       "      <td>0.290795</td>\n",
       "      <td>0.998133</td>\n",
       "      <td>0.278011</td>\n",
       "      <td>0.086655</td>\n",
       "      <td>0.583240</td>\n",
       "      <td>1.000000</td>\n",
       "      <td>0.125452</td>\n",
       "      <td>0.654313</td>\n",
       "      <td>NaN</td>\n",
       "      <td>0.040137</td>\n",
       "    </tr>\n",
       "    <tr>\n",
       "      <th>NotRepaired</th>\n",
       "      <td>0.329931</td>\n",
       "      <td>0.133772</td>\n",
       "      <td>0.208627</td>\n",
       "      <td>0.227570</td>\n",
       "      <td>0.048553</td>\n",
       "      <td>0.214814</td>\n",
       "      <td>0.226392</td>\n",
       "      <td>0.308449</td>\n",
       "      <td>0.204562</td>\n",
       "      <td>0.125452</td>\n",
       "      <td>1.000000</td>\n",
       "      <td>0.256212</td>\n",
       "      <td>NaN</td>\n",
       "      <td>0.009477</td>\n",
       "    </tr>\n",
       "    <tr>\n",
       "      <th>PostalCode</th>\n",
       "      <td>0.369643</td>\n",
       "      <td>0.345881</td>\n",
       "      <td>0.395740</td>\n",
       "      <td>0.294145</td>\n",
       "      <td>0.159236</td>\n",
       "      <td>0.907704</td>\n",
       "      <td>0.358345</td>\n",
       "      <td>0.382111</td>\n",
       "      <td>0.351501</td>\n",
       "      <td>0.654313</td>\n",
       "      <td>0.256212</td>\n",
       "      <td>1.000000</td>\n",
       "      <td>NaN</td>\n",
       "      <td>0.431238</td>\n",
       "    </tr>\n",
       "    <tr>\n",
       "      <th>YearPosted</th>\n",
       "      <td>NaN</td>\n",
       "      <td>NaN</td>\n",
       "      <td>NaN</td>\n",
       "      <td>NaN</td>\n",
       "      <td>NaN</td>\n",
       "      <td>NaN</td>\n",
       "      <td>NaN</td>\n",
       "      <td>NaN</td>\n",
       "      <td>NaN</td>\n",
       "      <td>NaN</td>\n",
       "      <td>NaN</td>\n",
       "      <td>NaN</td>\n",
       "      <td>1.0</td>\n",
       "      <td>NaN</td>\n",
       "    </tr>\n",
       "    <tr>\n",
       "      <th>MonthPosted</th>\n",
       "      <td>0.021265</td>\n",
       "      <td>0.022981</td>\n",
       "      <td>0.013773</td>\n",
       "      <td>0.008732</td>\n",
       "      <td>0.000000</td>\n",
       "      <td>0.175118</td>\n",
       "      <td>0.017652</td>\n",
       "      <td>0.019646</td>\n",
       "      <td>0.023523</td>\n",
       "      <td>0.040137</td>\n",
       "      <td>0.009477</td>\n",
       "      <td>0.431238</td>\n",
       "      <td>NaN</td>\n",
       "      <td>1.000000</td>\n",
       "    </tr>\n",
       "  </tbody>\n",
       "</table>\n",
       "</div>"
      ],
      "text/plain": [
       "                      Price  VehicleType  RegistrationYear   Gearbox  \\\n",
       "Price              1.000000     0.205391          0.674683  0.267941   \n",
       "VehicleType        0.205391     1.000000          0.206696  0.287203   \n",
       "RegistrationYear   0.674683     0.206696          1.000000  0.102919   \n",
       "Gearbox            0.267941     0.287203          0.102919  1.000000   \n",
       "Power              0.324037     0.164724          0.113596  0.370770   \n",
       "Model              0.556214     0.909020          0.617841  0.605205   \n",
       "Kilometer          0.347664     0.285441          0.449651  0.058269   \n",
       "RegistrationMonth  0.119948     0.086862          0.117455  0.146711   \n",
       "FuelType           0.292439     0.994139          0.298798  0.235506   \n",
       "Brand              0.305863     0.593149          0.300642  0.502817   \n",
       "NotRepaired        0.329931     0.133772          0.208627  0.227570   \n",
       "PostalCode         0.369643     0.345881          0.395740  0.294145   \n",
       "YearPosted              NaN          NaN               NaN       NaN   \n",
       "MonthPosted        0.021265     0.022981          0.013773  0.008732   \n",
       "\n",
       "                      Power     Model  Kilometer  RegistrationMonth  FuelType  \\\n",
       "Price              0.324037  0.556214   0.347664           0.119948  0.292439   \n",
       "VehicleType        0.164724  0.909020   0.285441           0.086862  0.994139   \n",
       "RegistrationYear   0.113596  0.617841   0.449651           0.117455  0.298798   \n",
       "Gearbox            0.370770  0.605205   0.058269           0.146711  0.235506   \n",
       "Power              1.000000  0.533467   0.041812           0.028415  0.223840   \n",
       "Model              0.533467  1.000000   0.467564           0.166786  0.897043   \n",
       "Kilometer          0.041812  0.467564   1.000000           0.069244  0.209093   \n",
       "RegistrationMonth  0.028415  0.166786   0.069244           1.000000  0.178576   \n",
       "FuelType           0.223840  0.897043   0.209093           0.178576  1.000000   \n",
       "Brand              0.290795  0.998133   0.278011           0.086655  0.583240   \n",
       "NotRepaired        0.048553  0.214814   0.226392           0.308449  0.204562   \n",
       "PostalCode         0.159236  0.907704   0.358345           0.382111  0.351501   \n",
       "YearPosted              NaN       NaN        NaN                NaN       NaN   \n",
       "MonthPosted        0.000000  0.175118   0.017652           0.019646  0.023523   \n",
       "\n",
       "                      Brand  NotRepaired  PostalCode  YearPosted  MonthPosted  \n",
       "Price              0.305863     0.329931    0.369643         NaN     0.021265  \n",
       "VehicleType        0.593149     0.133772    0.345881         NaN     0.022981  \n",
       "RegistrationYear   0.300642     0.208627    0.395740         NaN     0.013773  \n",
       "Gearbox            0.502817     0.227570    0.294145         NaN     0.008732  \n",
       "Power              0.290795     0.048553    0.159236         NaN     0.000000  \n",
       "Model              0.998133     0.214814    0.907704         NaN     0.175118  \n",
       "Kilometer          0.278011     0.226392    0.358345         NaN     0.017652  \n",
       "RegistrationMonth  0.086655     0.308449    0.382111         NaN     0.019646  \n",
       "FuelType           0.583240     0.204562    0.351501         NaN     0.023523  \n",
       "Brand              1.000000     0.125452    0.654313         NaN     0.040137  \n",
       "NotRepaired        0.125452     1.000000    0.256212         NaN     0.009477  \n",
       "PostalCode         0.654313     0.256212    1.000000         NaN     0.431238  \n",
       "YearPosted              NaN          NaN         NaN         1.0          NaN  \n",
       "MonthPosted        0.040137     0.009477    0.431238         NaN     1.000000  "
      ]
     },
     "metadata": {},
     "output_type": "display_data"
    },
    {
     "name": "stdout",
     "output_type": "stream",
     "text": [
      "Index(['Price', 'RegistrationYear', 'Power', 'Model', 'Kilometer', 'FuelType',\n",
      "       'Brand', 'NotRepaired', 'PostalCode'],\n",
      "      dtype='object')\n"
     ]
    }
   ],
   "source": [
    "autos_phik.info()\n",
    "display(phik_corr)\n",
    "print(phik_corr.query('Price >= 0.29').index)"
   ]
  },
  {
   "cell_type": "markdown",
   "metadata": {},
   "source": [
    "Есть некоторые признаки, от которых лучше избавиться. Поскольку Model важный признак, буду опираться на нём чтобы выбрать признаки для устранения.\n",
    "\n",
    "Признаки, с которыми у Model есть высокая коррелация:\n",
    "\n",
    "- VehicleType\n",
    "- Power\n",
    "- FuelType\n",
    "- Brand\n",
    "- PostalCode\n",
    "\n",
    "Из этих, у VehicleType, FuelType, и PostalCode самые низкая коррелация (~0.9). С учётом того, что PostalCode (почтовый индекс) и  VehicleType (тип автомобиля) могут сильно влиять на цену машины, я их оставлю. Я менее уверен насчёт значимости FuelType, но у него (их вышеперечисленных) самая низкая коррелация с Model, поэтому тоже его оставлю. Устраню тогда только Brand и Power.\n",
    "\n",
    "Почему-то YearPosted выдал NaN. Я не совсем понимаю почему, поскольку у этого признака тип int64 и я включил его в список interval_cols, всё точно так же как с признаком RegistrationYear, с которым не было проблем. Я в любом случае бы удалил этот столбец, поэтому не стал сыскать причину. Также, я получил Warning о interval_cols, но тут тоже не совсем понимаю, почему. Правильно ли я назначил interval столбцы?\n"
   ]
  },
  {
   "cell_type": "markdown",
   "metadata": {},
   "source": [
    "## Обучение моделей"
   ]
  },
  {
   "cell_type": "markdown",
   "metadata": {},
   "source": [
    "Попробуем разные модели чтобы найти наиболее эффективую. \n",
    "\n",
    "Для сравнивания моделей, воспользуемся следующими критериями:\n",
    "\n",
    "- точность модели – определена на основе метрике RMSE\n",
    "- скорость работы\n",
    "    - для обучения и для предсказывания\n",
    "    - найдена с помощью time.time()\n",
    "\n",
    "Датасет большой (350000+ строк), поэтому вопрос о скорости работы очень важен.\n",
    "\n",
    "Модели, которые протестируем:\n",
    "\n",
    "- sklearn.linear_model.LinearRegression\n",
    "- sklearn.linear_model.Ridge\n",
    "- sklearn.ensemble.RandomForestRegressor\n",
    "- sklearn.ensemble.ExtraTreesRegressor\n",
    "- lightgbm.LGBMRegressor\n",
    "- catboost.CatBoostRegressor\n",
    "- xgboost.XGBRegressor"
   ]
  },
  {
   "cell_type": "code",
   "execution_count": 39,
   "metadata": {},
   "outputs": [],
   "source": [
    "cat_list = ['Model', 'NotRepaired', 'PostalCode', 'FuelType', 'Brand']"
   ]
  },
  {
   "cell_type": "code",
   "execution_count": 40,
   "metadata": {},
   "outputs": [],
   "source": [
    "autos_df = autos.copy()"
   ]
  },
  {
   "cell_type": "code",
   "execution_count": 41,
   "metadata": {},
   "outputs": [],
   "source": [
    "autos_features = autos.drop(columns=['Price', 'DateCrawled', 'DateCreated', 'LastSeen', \n",
    "                                     'BrandModel', 'YearPosted', 'Gearbox', 'VehicleType',\n",
    "                                    'MonthPosted', 'RegistrationMonth' ])\n",
    "autos_target = autos['Price']\n"
   ]
  },
  {
   "cell_type": "markdown",
   "metadata": {},
   "source": [
    "*Кодирование признаков*"
   ]
  },
  {
   "cell_type": "code",
   "execution_count": 42,
   "metadata": {
    "scrolled": true
   },
   "outputs": [
    {
     "data": {
      "text/html": [
       "<div>\n",
       "<style scoped>\n",
       "    .dataframe tbody tr th:only-of-type {\n",
       "        vertical-align: middle;\n",
       "    }\n",
       "\n",
       "    .dataframe tbody tr th {\n",
       "        vertical-align: top;\n",
       "    }\n",
       "\n",
       "    .dataframe thead th {\n",
       "        text-align: right;\n",
       "    }\n",
       "</style>\n",
       "<table border=\"1\" class=\"dataframe\">\n",
       "  <thead>\n",
       "    <tr style=\"text-align: right;\">\n",
       "      <th></th>\n",
       "      <th>RegistrationYear</th>\n",
       "      <th>Power</th>\n",
       "      <th>Model</th>\n",
       "      <th>Kilometer</th>\n",
       "      <th>FuelType</th>\n",
       "      <th>Brand</th>\n",
       "      <th>NotRepaired</th>\n",
       "      <th>PostalCode</th>\n",
       "    </tr>\n",
       "  </thead>\n",
       "  <tbody>\n",
       "    <tr>\n",
       "      <th>2</th>\n",
       "      <td>2004</td>\n",
       "      <td>163</td>\n",
       "      <td>115.0</td>\n",
       "      <td>125000</td>\n",
       "      <td>7.0</td>\n",
       "      <td>14.0</td>\n",
       "      <td>1.0</td>\n",
       "      <td>6922.0</td>\n",
       "    </tr>\n",
       "    <tr>\n",
       "      <th>3</th>\n",
       "      <td>2001</td>\n",
       "      <td>75</td>\n",
       "      <td>114.0</td>\n",
       "      <td>150000</td>\n",
       "      <td>6.0</td>\n",
       "      <td>37.0</td>\n",
       "      <td>0.0</td>\n",
       "      <td>6962.0</td>\n",
       "    </tr>\n",
       "    <tr>\n",
       "      <th>4</th>\n",
       "      <td>2008</td>\n",
       "      <td>69</td>\n",
       "      <td>99.0</td>\n",
       "      <td>90000</td>\n",
       "      <td>6.0</td>\n",
       "      <td>31.0</td>\n",
       "      <td>0.0</td>\n",
       "      <td>4161.0</td>\n",
       "    </tr>\n",
       "    <tr>\n",
       "      <th>5</th>\n",
       "      <td>1995</td>\n",
       "      <td>102</td>\n",
       "      <td>11.0</td>\n",
       "      <td>150000</td>\n",
       "      <td>5.0</td>\n",
       "      <td>2.0</td>\n",
       "      <td>2.0</td>\n",
       "      <td>2336.0</td>\n",
       "    </tr>\n",
       "    <tr>\n",
       "      <th>6</th>\n",
       "      <td>2004</td>\n",
       "      <td>109</td>\n",
       "      <td>8.0</td>\n",
       "      <td>150000</td>\n",
       "      <td>1.0</td>\n",
       "      <td>25.0</td>\n",
       "      <td>0.0</td>\n",
       "      <td>4585.0</td>\n",
       "    </tr>\n",
       "  </tbody>\n",
       "</table>\n",
       "</div>"
      ],
      "text/plain": [
       "   RegistrationYear  Power  Model  Kilometer  FuelType  Brand  NotRepaired  \\\n",
       "2              2004    163  115.0     125000       7.0   14.0          1.0   \n",
       "3              2001     75  114.0     150000       6.0   37.0          0.0   \n",
       "4              2008     69   99.0      90000       6.0   31.0          0.0   \n",
       "5              1995    102   11.0     150000       5.0    2.0          2.0   \n",
       "6              2004    109    8.0     150000       1.0   25.0          0.0   \n",
       "\n",
       "   PostalCode  \n",
       "2      6922.0  \n",
       "3      6962.0  \n",
       "4      4161.0  \n",
       "5      2336.0  \n",
       "6      4585.0  "
      ]
     },
     "metadata": {},
     "output_type": "display_data"
    }
   ],
   "source": [
    "encoder = OrdinalEncoder()\n",
    "\n",
    "autos_features[cat_list] = encoder.fit_transform(autos_features[cat_list])\n",
    "\n",
    "display(autos_features.head())"
   ]
  },
  {
   "cell_type": "markdown",
   "metadata": {},
   "source": [
    "*Разделение данных на треновочные и тестовые выборки*"
   ]
  },
  {
   "cell_type": "code",
   "execution_count": 43,
   "metadata": {},
   "outputs": [],
   "source": [
    "train_features, test_valid_features, train_target, test_valid_target = (\n",
    "    train_test_split(autos_features, autos_target, test_size=0.4, random_state=12345)\n",
    ")\n",
    "\n",
    "test_features, valid_features, test_target, valid_target = (\n",
    "    train_test_split(test_valid_features, test_valid_target, test_size=0.5, random_state=12345)\n",
    ")"
   ]
  },
  {
   "cell_type": "markdown",
   "metadata": {},
   "source": [
    "*Масштабирование данных*"
   ]
  },
  {
   "cell_type": "code",
   "execution_count": 44,
   "metadata": {},
   "outputs": [],
   "source": [
    "numeric = ['RegistrationYear', 'Power', 'Kilometer'] #есть другие численные признаки, но они категорические (н.п. месяц регистарции)"
   ]
  },
  {
   "cell_type": "code",
   "execution_count": 45,
   "metadata": {},
   "outputs": [],
   "source": [
    "scaler = StandardScaler()\n",
    "scaler.fit(train_features[numeric])\n",
    "train_features[numeric] = scaler.transform(train_features[numeric])\n",
    "test_features[numeric] = scaler.transform(test_features[numeric])\n",
    "valid_features[numeric] = scaler.transform(valid_features[numeric])"
   ]
  },
  {
   "cell_type": "markdown",
   "metadata": {},
   "source": [
    "*Сравнение разных моделей*"
   ]
  },
  {
   "cell_type": "code",
   "execution_count": 46,
   "metadata": {},
   "outputs": [],
   "source": [
    "rmse_models = {}\n",
    "train_time_models = {}\n",
    "pred_time_models = {}\n",
    "for model, name in zip([LinearRegression(), Ridge(random_state=12345), \n",
    "                        RandomForestRegressor(random_state=12345), ExtraTreesRegressor(random_state=12345),\n",
    "                        CatBoostRegressor(verbose=False, random_state=12345), lgb.LGBMRegressor(random_state=12345), \n",
    "                        xgb.XGBRegressor(random_state=12345), DummyRegressor()], \n",
    "                       ['lin_reg', 'ridge', 'random_forest', 'extra_trees', 'cat_boost', 'lgbm_reg', 'xgb_reg', 'dummy']):\n",
    "    begin = time.time()\n",
    "    model.fit(train_features, train_target)\n",
    "    end = time.time()\n",
    "    train_time_models[name] = end-begin\n",
    "    begin = time.time()\n",
    "    pred = model.predict(test_features)\n",
    "    end = time.time()\n",
    "    rmse_models[name] = mse(test_target, pred, squared=False)\n",
    "    pred_time_models[name] = end-begin\n",
    "                  "
   ]
  },
  {
   "cell_type": "code",
   "execution_count": 47,
   "metadata": {},
   "outputs": [
    {
     "data": {
      "text/html": [
       "<div>\n",
       "<style scoped>\n",
       "    .dataframe tbody tr th:only-of-type {\n",
       "        vertical-align: middle;\n",
       "    }\n",
       "\n",
       "    .dataframe tbody tr th {\n",
       "        vertical-align: top;\n",
       "    }\n",
       "\n",
       "    .dataframe thead th {\n",
       "        text-align: right;\n",
       "    }\n",
       "</style>\n",
       "<table border=\"1\" class=\"dataframe\">\n",
       "  <thead>\n",
       "    <tr style=\"text-align: right;\">\n",
       "      <th></th>\n",
       "      <th>rmse</th>\n",
       "      <th>train_time</th>\n",
       "      <th>pred_time</th>\n",
       "    </tr>\n",
       "  </thead>\n",
       "  <tbody>\n",
       "    <tr>\n",
       "      <th>cat_boost</th>\n",
       "      <td>1673.363031</td>\n",
       "      <td>13.757743</td>\n",
       "      <td>0.036305</td>\n",
       "    </tr>\n",
       "    <tr>\n",
       "      <th>random_forest</th>\n",
       "      <td>1684.365312</td>\n",
       "      <td>45.234707</td>\n",
       "      <td>2.437342</td>\n",
       "    </tr>\n",
       "    <tr>\n",
       "      <th>xgb_reg</th>\n",
       "      <td>1688.791463</td>\n",
       "      <td>7.671959</td>\n",
       "      <td>0.060048</td>\n",
       "    </tr>\n",
       "    <tr>\n",
       "      <th>extra_trees</th>\n",
       "      <td>1740.062234</td>\n",
       "      <td>29.983985</td>\n",
       "      <td>4.725989</td>\n",
       "    </tr>\n",
       "    <tr>\n",
       "      <th>lgbm_reg</th>\n",
       "      <td>1765.601187</td>\n",
       "      <td>0.663993</td>\n",
       "      <td>0.151729</td>\n",
       "    </tr>\n",
       "    <tr>\n",
       "      <th>lin_reg</th>\n",
       "      <td>3162.576945</td>\n",
       "      <td>0.066852</td>\n",
       "      <td>0.006726</td>\n",
       "    </tr>\n",
       "    <tr>\n",
       "      <th>ridge</th>\n",
       "      <td>3162.576982</td>\n",
       "      <td>0.026069</td>\n",
       "      <td>0.001823</td>\n",
       "    </tr>\n",
       "    <tr>\n",
       "      <th>dummy</th>\n",
       "      <td>4727.099620</td>\n",
       "      <td>0.000527</td>\n",
       "      <td>0.000171</td>\n",
       "    </tr>\n",
       "  </tbody>\n",
       "</table>\n",
       "</div>"
      ],
      "text/plain": [
       "                      rmse  train_time  pred_time\n",
       "cat_boost      1673.363031   13.757743   0.036305\n",
       "random_forest  1684.365312   45.234707   2.437342\n",
       "xgb_reg        1688.791463    7.671959   0.060048\n",
       "extra_trees    1740.062234   29.983985   4.725989\n",
       "lgbm_reg       1765.601187    0.663993   0.151729\n",
       "lin_reg        3162.576945    0.066852   0.006726\n",
       "ridge          3162.576982    0.026069   0.001823\n",
       "dummy          4727.099620    0.000527   0.000171"
      ]
     },
     "metadata": {},
     "output_type": "display_data"
    }
   ],
   "source": [
    "models_test_df = pd.DataFrame.from_dict(rmse_models, orient=\"index\")\n",
    "models_test_df.columns = ['rmse']\n",
    "models_test_df['train_time'] = pd.DataFrame.from_dict(train_time_models, orient=\"index\").values\n",
    "models_test_df['pred_time'] = pd.DataFrame.from_dict(pred_time_models, orient=\"index\").values\n",
    "models_test_df = models_test_df.sort_values(by='rmse')\n",
    "display(models_test_df)\n"
   ]
  },
  {
   "cell_type": "markdown",
   "metadata": {},
   "source": [
    "##### Подбор лучших гиперпараметров\n",
    "\n",
    "В начале я пробовал найти лучшие гиперпараметры с помощью цикла. Такой подход правда способствовал улучшению модели, но он был очень неэффективен в этом. В итоге я использовал библиотеку Optuna чтобы найти лучшие гиперпараметры. Optuna занимается тем же, что я сам делал с циклами, но он многократно эффективнее и к тому же подбирает дробленные числа гораздо лучше, чем было бы возможно в цикле.\n",
    "\n",
    "Я не стал искать лучшие гиперпараметры для каждой молели. С учётом времени обработки и результат RMSE, лучшие модели – CatBoostRegressor, XGBRegressor, и LGBMRegressor. У RandomForestRegressor самый лучший RMSE, но она также несколько раз медленнее чем перечисленные модели.\n",
    "\n",
    "Когда я начал этот процесс, я планировал использовать Optuna дважды. В первый раз с меньшим количеством повторений (n_trials), чтобы понимать, какие гиперпараметры больше всего влияют на результаты; а второй раз чтобы получить результаты, уже используя найденные самые важные гиперпараметры. Однако, когда я повторно делал первый этап, я получал разные результаты (то есть, разные гиперпараметры). Поэтому, не стал использовать Optuna дважды в конце концов."
   ]
  },
  {
   "cell_type": "markdown",
   "metadata": {},
   "source": [
    "*LGBMRegressor*"
   ]
  },
  {
   "cell_type": "code",
   "execution_count": 48,
   "metadata": {},
   "outputs": [
    {
     "name": "stderr",
     "output_type": "stream",
     "text": [
      "\u001b[32m[I 2022-06-08 08:36:59,926]\u001b[0m A new study created in memory with name: no-name-b666cde5-718c-42cd-b574-2749c9a43859\u001b[0m\n",
      "\u001b[32m[I 2022-06-08 08:37:04,327]\u001b[0m Trial 0 finished with value: 1659.5757318020653 and parameters: {'n_estimators': 500, 'learning_rate': 0.0955813798812167, 'max_depth': 7, 'reg_alpha': 2.5161949244912894e-08, 'reg_lambda': 6.93810614631105, 'num_leaves': 750, 'colsample_bytree': 0.9165368476762207, 'subsample': 0.8170677516475304, 'subsample_freq': 1, 'min_child_samples': 80}. Best is trial 0 with value: 1659.5757318020653.\u001b[0m\n",
      "\u001b[32m[I 2022-06-08 08:37:24,277]\u001b[0m Trial 1 finished with value: 1622.2118156672682 and parameters: {'n_estimators': 700, 'learning_rate': 0.07357116822232429, 'max_depth': 11, 'reg_alpha': 0.10963247588044783, 'reg_lambda': 0.00025373214950172757, 'num_leaves': 450, 'colsample_bytree': 0.9792939488890438, 'subsample': 0.47660212519791345, 'subsample_freq': 1, 'min_child_samples': 10}. Best is trial 1 with value: 1622.2118156672682.\u001b[0m\n",
      "\u001b[32m[I 2022-06-08 08:37:33,421]\u001b[0m Trial 2 finished with value: 1643.9087776693286 and parameters: {'n_estimators': 500, 'learning_rate': 0.12658316402877806, 'max_depth': 17, 'reg_alpha': 0.015264382260327471, 'reg_lambda': 0.0007820801418873004, 'num_leaves': 350, 'colsample_bytree': 0.8967516885081432, 'subsample': 0.5750722378539923, 'subsample_freq': 1, 'min_child_samples': 210}. Best is trial 1 with value: 1622.2118156672682.\u001b[0m\n",
      "\u001b[32m[I 2022-06-08 08:37:35,370]\u001b[0m Trial 3 finished with value: 1742.751890215062 and parameters: {'n_estimators': 350, 'learning_rate': 0.14964205707581824, 'max_depth': 5, 'reg_alpha': 0.21462176506144512, 'reg_lambda': 0.05846423141469589, 'num_leaves': 950, 'colsample_bytree': 0.7126935638935279, 'subsample': 0.665438741756438, 'subsample_freq': 1, 'min_child_samples': 250}. Best is trial 1 with value: 1622.2118156672682.\u001b[0m\n",
      "\u001b[32m[I 2022-06-08 08:37:52,552]\u001b[0m Trial 4 finished with value: 1641.9394450119335 and parameters: {'n_estimators': 700, 'learning_rate': 0.1380761791147364, 'max_depth': 15, 'reg_alpha': 0.06420373418977193, 'reg_lambda': 4.203938490427365, 'num_leaves': 450, 'colsample_bytree': 0.7897475494827706, 'subsample': 0.7344270465901102, 'subsample_freq': 2, 'min_child_samples': 280}. Best is trial 1 with value: 1622.2118156672682.\u001b[0m\n",
      "\u001b[32m[I 2022-06-08 08:37:54,386]\u001b[0m Trial 5 finished with value: 1859.4460724303008 and parameters: {'n_estimators': 50, 'learning_rate': 0.0750710528822351, 'max_depth': 15, 'reg_alpha': 0.0007524812961291954, 'reg_lambda': 2.1540956673317915e-07, 'num_leaves': 150, 'colsample_bytree': 0.6975336318544678, 'subsample': 0.4282974106482377, 'subsample_freq': 1, 'min_child_samples': 230}. Best is trial 1 with value: 1622.2118156672682.\u001b[0m\n",
      "\u001b[32m[I 2022-06-08 08:38:26,239]\u001b[0m Trial 6 finished with value: 1624.848416035 and parameters: {'n_estimators': 700, 'learning_rate': 0.0658851665298135, 'max_depth': 19, 'reg_alpha': 6.407141814761102e-06, 'reg_lambda': 4.504987623287942, 'num_leaves': 450, 'colsample_bytree': 0.7627104235369918, 'subsample': 0.5734573000187697, 'subsample_freq': 2, 'min_child_samples': 120}. Best is trial 1 with value: 1622.2118156672682.\u001b[0m\n",
      "\u001b[32m[I 2022-06-08 08:38:29,396]\u001b[0m Trial 7 finished with value: 1742.6405410301982 and parameters: {'n_estimators': 300, 'learning_rate': 0.12207109080175957, 'max_depth': 5, 'reg_alpha': 0.009400768393182785, 'reg_lambda': 6.343859973589837, 'num_leaves': 300, 'colsample_bytree': 0.9039198256326505, 'subsample': 0.5808822875365325, 'subsample_freq': 3, 'min_child_samples': 100}. Best is trial 1 with value: 1622.2118156672682.\u001b[0m\n",
      "\u001b[32m[I 2022-06-08 08:38:35,653]\u001b[0m Trial 8 finished with value: 1706.835398039662 and parameters: {'n_estimators': 650, 'learning_rate': 0.134703349703686, 'max_depth': 5, 'reg_alpha': 0.015887745747213182, 'reg_lambda': 1.642383504702781e-06, 'num_leaves': 500, 'colsample_bytree': 0.9169519221000152, 'subsample': 0.62848796285856, 'subsample_freq': 5, 'min_child_samples': 120}. Best is trial 1 with value: 1622.2118156672682.\u001b[0m\n",
      "\u001b[32m[I 2022-06-08 08:38:48,993]\u001b[0m Trial 9 finished with value: 1685.1900972596904 and parameters: {'n_estimators': 800, 'learning_rate': 0.050805215741420544, 'max_depth': 9, 'reg_alpha': 0.0003078107708395074, 'reg_lambda': 0.05149245186627037, 'num_leaves': 200, 'colsample_bytree': 0.8314489394110643, 'subsample': 0.6980218417243472, 'subsample_freq': 5, 'min_child_samples': 290}. Best is trial 1 with value: 1622.2118156672682.\u001b[0m\n",
      "\u001b[32m[I 2022-06-08 08:38:53,648]\u001b[0m Trial 10 finished with value: 2193.5627063375746 and parameters: {'n_estimators': 1000, 'learning_rate': 0.19236196410768824, 'max_depth': 1, 'reg_alpha': 4.014043819383071, 'reg_lambda': 1.582648335013001e-05, 'num_leaves': 750, 'colsample_bytree': 0.9891393056474709, 'subsample': 0.9964868910664941, 'subsample_freq': 4, 'min_child_samples': 20}. Best is trial 1 with value: 1622.2118156672682.\u001b[0m\n",
      "\u001b[32m[I 2022-06-08 08:40:00,585]\u001b[0m Trial 11 finished with value: 1616.1963872705187 and parameters: {'n_estimators': 950, 'learning_rate': 0.05057154298194648, 'max_depth': 19, 'reg_alpha': 1.5909861935449874e-06, 'reg_lambda': 0.0003901982123388717, 'num_leaves': 650, 'colsample_bytree': 0.6224380593269258, 'subsample': 0.31187195825018693, 'subsample_freq': 2, 'min_child_samples': 20}. Best is trial 11 with value: 1616.1963872705187.\u001b[0m\n",
      "\u001b[32m[I 2022-06-08 08:40:43,276]\u001b[0m Trial 12 finished with value: 1643.2107246503542 and parameters: {'n_estimators': 1000, 'learning_rate': 0.09314491367382013, 'max_depth': 13, 'reg_alpha': 9.712356966828274e-07, 'reg_lambda': 0.0003113190322858873, 'num_leaves': 700, 'colsample_bytree': 0.6074412085541914, 'subsample': 0.3325256746578348, 'subsample_freq': 2, 'min_child_samples': 20}. Best is trial 11 with value: 1616.1963872705187.\u001b[0m\n",
      "\u001b[32m[I 2022-06-08 08:41:10,624]\u001b[0m Trial 13 finished with value: 1629.1918166414298 and parameters: {'n_estimators': 900, 'learning_rate': 0.05070074205258997, 'max_depth': 11, 'reg_alpha': 1.81399855997373e-05, 'reg_lambda': 0.00046873511860753576, 'num_leaves': 650, 'colsample_bytree': 0.6235863549130449, 'subsample': 0.4237322607254748, 'subsample_freq': 3, 'min_child_samples': 50}. Best is trial 11 with value: 1616.1963872705187.\u001b[0m\n",
      "\u001b[32m[I 2022-06-08 08:41:40,160]\u001b[0m Trial 14 finished with value: 1660.0644194183126 and parameters: {'n_estimators': 850, 'learning_rate': 0.09419378846465455, 'max_depth': 19, 'reg_alpha': 1.6277112180892105e-08, 'reg_lambda': 1.4017528376606143e-08, 'num_leaves': 900, 'colsample_bytree': 0.6897297871242238, 'subsample': 0.3001299194071913, 'subsample_freq': 2, 'min_child_samples': 180}. Best is trial 11 with value: 1616.1963872705187.\u001b[0m\n",
      "\u001b[32m[I 2022-06-08 08:41:47,220]\u001b[0m Trial 15 finished with value: 1646.9406604716546 and parameters: {'n_estimators': 600, 'learning_rate': 0.07724156533664676, 'max_depth': 11, 'reg_alpha': 6.124012274999058, 'reg_lambda': 0.011093328718759347, 'num_leaves': 50, 'colsample_bytree': 0.9738091803192302, 'subsample': 0.4542663144463651, 'subsample_freq': 2, 'min_child_samples': 10}. Best is trial 11 with value: 1616.1963872705187.\u001b[0m\n",
      "\u001b[32m[I 2022-06-08 08:41:50,299]\u001b[0m Trial 16 finished with value: 2245.0595334901777 and parameters: {'n_estimators': 800, 'learning_rate': 0.1079258450045355, 'max_depth': 1, 'reg_alpha': 3.462522166566489e-07, 'reg_lambda': 2.16568918042345e-05, 'num_leaves': 600, 'colsample_bytree': 0.8512585886445518, 'subsample': 0.48231247839095037, 'subsample_freq': 3, 'min_child_samples': 60}. Best is trial 11 with value: 1616.1963872705187.\u001b[0m\n",
      "\u001b[32m[I 2022-06-08 08:42:21,323]\u001b[0m Trial 17 finished with value: 1653.885289209218 and parameters: {'n_estimators': 900, 'learning_rate': 0.16664102170670358, 'max_depth': 15, 'reg_alpha': 0.0002640846450286984, 'reg_lambda': 0.005608898657450438, 'num_leaves': 850, 'colsample_bytree': 0.7473329465229691, 'subsample': 0.3689262403147699, 'subsample_freq': 4, 'min_child_samples': 160}. Best is trial 11 with value: 1616.1963872705187.\u001b[0m\n",
      "\u001b[32m[I 2022-06-08 08:42:31,441]\u001b[0m Trial 18 finished with value: 1656.1291509900514 and parameters: {'n_estimators': 400, 'learning_rate': 0.06624526514010472, 'max_depth': 9, 'reg_alpha': 2.2463742812149323e-05, 'reg_lambda': 3.64379532478224e-05, 'num_leaves': 550, 'colsample_bytree': 0.6642098325759619, 'subsample': 0.5191562318895743, 'subsample_freq': 1, 'min_child_samples': 50}. Best is trial 11 with value: 1616.1963872705187.\u001b[0m\n",
      "\u001b[32m[I 2022-06-08 08:42:40,257]\u001b[0m Trial 19 finished with value: 1685.7643949806818 and parameters: {'n_estimators': 200, 'learning_rate': 0.08006956341204222, 'max_depth': 13, 'reg_alpha': 0.0019016354129379558, 'reg_lambda': 2.145587044962672e-06, 'num_leaves': 300, 'colsample_bytree': 0.8414728591151756, 'subsample': 0.39338687955444523, 'subsample_freq': 3, 'min_child_samples': 90}. Best is trial 11 with value: 1616.1963872705187.\u001b[0m\n",
      "\u001b[32m[I 2022-06-08 08:43:26,047]\u001b[0m Trial 20 finished with value: 1615.6709525335696 and parameters: {'n_estimators': 1000, 'learning_rate': 0.06131985743571385, 'max_depth': 17, 'reg_alpha': 0.4595186067093118, 'reg_lambda': 0.19291297847824798, 'num_leaves': 800, 'colsample_bytree': 0.798863928691741, 'subsample': 0.5003943177021316, 'subsample_freq': 2, 'min_child_samples': 40}. Best is trial 20 with value: 1615.6709525335696.\u001b[0m\n",
      "\u001b[32m[I 2022-06-08 08:44:11,341]\u001b[0m Trial 21 finished with value: 1609.99866280483 and parameters: {'n_estimators': 1000, 'learning_rate': 0.05972948300075073, 'max_depth': 17, 'reg_alpha': 0.26111436807903615, 'reg_lambda': 0.27921263856929046, 'num_leaves': 800, 'colsample_bytree': 0.6552544705079437, 'subsample': 0.5116234398980468, 'subsample_freq': 2, 'min_child_samples': 40}. Best is trial 21 with value: 1609.99866280483.\u001b[0m\n",
      "\u001b[32m[I 2022-06-08 08:44:53,568]\u001b[0m Trial 22 finished with value: 1609.3735784702042 and parameters: {'n_estimators': 1000, 'learning_rate': 0.05688332701900902, 'max_depth': 17, 'reg_alpha': 1.298828316205465, 'reg_lambda': 0.3820007472568294, 'num_leaves': 1000, 'colsample_bytree': 0.6460506715147082, 'subsample': 0.5228426639803068, 'subsample_freq': 2, 'min_child_samples': 50}. Best is trial 22 with value: 1609.3735784702042.\u001b[0m\n",
      "\u001b[32m[I 2022-06-08 08:45:35,138]\u001b[0m Trial 23 finished with value: 1613.1064093887098 and parameters: {'n_estimators': 1000, 'learning_rate': 0.05820194800887823, 'max_depth': 17, 'reg_alpha': 0.8792456234651087, 'reg_lambda': 0.5967615304720156, 'num_leaves': 1000, 'colsample_bytree': 0.6535764209227777, 'subsample': 0.5314370522555922, 'subsample_freq': 2, 'min_child_samples': 60}. Best is trial 22 with value: 1609.3735784702042.\u001b[0m\n",
      "\u001b[32m[I 2022-06-08 08:46:16,007]\u001b[0m Trial 24 finished with value: 1609.8673498901949 and parameters: {'n_estimators': 800, 'learning_rate': 0.08637472545646817, 'max_depth': 17, 'reg_alpha': 1.5934028206420066, 'reg_lambda': 0.5764336689150084, 'num_leaves': 1000, 'colsample_bytree': 0.6590925185720092, 'subsample': 0.7654007069311852, 'subsample_freq': 3, 'min_child_samples': 70}. Best is trial 22 with value: 1609.3735784702042.\u001b[0m\n",
      "\u001b[32m[I 2022-06-08 08:46:58,623]\u001b[0m Trial 25 finished with value: 1614.5822761749416 and parameters: {'n_estimators': 800, 'learning_rate': 0.08548156319212016, 'max_depth': 17, 'reg_alpha': 1.733349777050979, 'reg_lambda': 0.6253639041900504, 'num_leaves': 1000, 'colsample_bytree': 0.653797852862938, 'subsample': 0.8029232247396103, 'subsample_freq': 4, 'min_child_samples': 120}. Best is trial 22 with value: 1609.3735784702042.\u001b[0m\n",
      "\u001b[32m[I 2022-06-08 08:47:25,792]\u001b[0m Trial 26 finished with value: 1611.3001883588 and parameters: {'n_estimators': 900, 'learning_rate': 0.10832448871749084, 'max_depth': 13, 'reg_alpha': 1.060700829077448, 'reg_lambda': 0.635031540626083, 'num_leaves': 900, 'colsample_bytree': 0.7302630760596146, 'subsample': 0.9031538234447736, 'subsample_freq': 3, 'min_child_samples': 80}. Best is trial 22 with value: 1609.3735784702042.\u001b[0m\n",
      "\u001b[32m[I 2022-06-08 08:47:52,942]\u001b[0m Trial 27 finished with value: 1622.5044132197531 and parameters: {'n_estimators': 850, 'learning_rate': 0.11005517217228034, 'max_depth': 15, 'reg_alpha': 9.693349571876329, 'reg_lambda': 0.00984102835030508, 'num_leaves': 850, 'colsample_bytree': 0.6713908599521218, 'subsample': 0.7362626615292597, 'subsample_freq': 4, 'min_child_samples': 150}. Best is trial 22 with value: 1609.3735784702042.\u001b[0m\n",
      "\u001b[32m[I 2022-06-08 08:48:26,798]\u001b[0m Trial 28 finished with value: 1612.4967258246786 and parameters: {'n_estimators': 750, 'learning_rate': 0.06737834969276245, 'max_depth': 19, 'reg_alpha': 0.07471418036379769, 'reg_lambda': 0.07649082484221591, 'num_leaves': 1000, 'colsample_bytree': 0.636024592996475, 'subsample': 0.6298563286859035, 'subsample_freq': 3, 'min_child_samples': 70}. Best is trial 22 with value: 1609.3735784702042.\u001b[0m\n",
      "\u001b[32m[I 2022-06-08 08:48:47,127]\u001b[0m Trial 29 finished with value: 1612.1988733833855 and parameters: {'n_estimators': 600, 'learning_rate': 0.08759126242515046, 'max_depth': 17, 'reg_alpha': 0.379885392070456, 'reg_lambda': 0.002498630665125064, 'num_leaves': 800, 'colsample_bytree': 0.7140976246362538, 'subsample': 0.8281367781179106, 'subsample_freq': 2, 'min_child_samples': 100}. Best is trial 22 with value: 1609.3735784702042.\u001b[0m\n",
      "\u001b[32m[I 2022-06-08 08:49:17,396]\u001b[0m Trial 30 finished with value: 1608.178486942036 and parameters: {'n_estimators': 900, 'learning_rate': 0.10433827715293004, 'max_depth': 13, 'reg_alpha': 2.0843268615997514, 'reg_lambda': 1.3148265271936315, 'num_leaves': 900, 'colsample_bytree': 0.6827244853833495, 'subsample': 0.8818383000547018, 'subsample_freq': 3, 'min_child_samples': 40}. Best is trial 30 with value: 1608.178486942036.\u001b[0m\n",
      "\u001b[32m[I 2022-06-08 08:49:58,139]\u001b[0m Trial 31 finished with value: 1617.876807889152 and parameters: {'n_estimators': 950, 'learning_rate': 0.10173370499691443, 'max_depth': 15, 'reg_alpha': 1.5108686005631313, 'reg_lambda': 2.0835360116238997, 'num_leaves': 900, 'colsample_bytree': 0.6904133757933248, 'subsample': 0.8780379512768357, 'subsample_freq': 3, 'min_child_samples': 40}. Best is trial 30 with value: 1608.178486942036.\u001b[0m\n",
      "\u001b[32m[I 2022-06-08 08:50:32,510]\u001b[0m Trial 32 finished with value: 1595.5027527736993 and parameters: {'n_estimators': 900, 'learning_rate': 0.08176805647342944, 'max_depth': 13, 'reg_alpha': 0.04315868514041527, 'reg_lambda': 0.20771623873858824, 'num_leaves': 950, 'colsample_bytree': 0.6354518911703311, 'subsample': 0.94745597016541, 'subsample_freq': 3, 'min_child_samples': 30}. Best is trial 32 with value: 1595.5027527736993.\u001b[0m\n",
      "\u001b[32m[I 2022-06-08 08:50:54,404]\u001b[0m Trial 33 finished with value: 1609.551154245717 and parameters: {'n_estimators': 850, 'learning_rate': 0.09771590462012633, 'max_depth': 13, 'reg_alpha': 0.04671010749710337, 'reg_lambda': 1.5429400559786581, 'num_leaves': 950, 'colsample_bytree': 0.6002461559429878, 'subsample': 0.9818651491685817, 'subsample_freq': 4, 'min_child_samples': 80}. Best is trial 32 with value: 1595.5027527736993.\u001b[0m\n",
      "\u001b[32m[I 2022-06-08 08:51:24,763]\u001b[0m Trial 34 finished with value: 1602.5330957366161 and parameters: {'n_estimators': 900, 'learning_rate': 0.12177013112346068, 'max_depth': 13, 'reg_alpha': 0.04151278721054373, 'reg_lambda': 9.825792773355358, 'num_leaves': 950, 'colsample_bytree': 0.6243137524879402, 'subsample': 0.9843032648735394, 'subsample_freq': 4, 'min_child_samples': 30}. Best is trial 32 with value: 1595.5027527736993.\u001b[0m\n",
      "\u001b[32m[I 2022-06-08 08:51:40,981]\u001b[0m Trial 35 finished with value: 1607.1376523240833 and parameters: {'n_estimators': 900, 'learning_rate': 0.12195444594435323, 'max_depth': 9, 'reg_alpha': 0.0031938348799935646, 'reg_lambda': 0.02957220077860118, 'num_leaves': 950, 'colsample_bytree': 0.6329200488179699, 'subsample': 0.9451842527533583, 'subsample_freq': 4, 'min_child_samples': 30}. Best is trial 32 with value: 1595.5027527736993.\u001b[0m\n",
      "\u001b[32m[I 2022-06-08 08:51:47,152]\u001b[0m Trial 36 finished with value: 1621.955398304892 and parameters: {'n_estimators': 450, 'learning_rate': 0.11802411725300335, 'max_depth': 7, 'reg_alpha': 0.006517396644070691, 'reg_lambda': 0.04401012657752947, 'num_leaves': 900, 'colsample_bytree': 0.6236807970905826, 'subsample': 0.9484681878353488, 'subsample_freq': 5, 'min_child_samples': 10}. Best is trial 32 with value: 1595.5027527736993.\u001b[0m\n",
      "\u001b[32m[I 2022-06-08 08:52:00,895]\u001b[0m Trial 37 finished with value: 1611.183791305553 and parameters: {'n_estimators': 750, 'learning_rate': 0.1485981520797972, 'max_depth': 9, 'reg_alpha': 0.003070026112192868, 'reg_lambda': 9.209043638866376, 'num_leaves': 750, 'colsample_bytree': 0.6793315898083016, 'subsample': 0.913372714099767, 'subsample_freq': 4, 'min_child_samples': 30}. Best is trial 32 with value: 1595.5027527736993.\u001b[0m\n",
      "\u001b[32m[I 2022-06-08 08:52:26,029]\u001b[0m Trial 38 finished with value: 1615.6188575087047 and parameters: {'n_estimators': 900, 'learning_rate': 0.13945684348060436, 'max_depth': 11, 'reg_alpha': 0.027626884048376512, 'reg_lambda': 2.659068869561778, 'num_leaves': 950, 'colsample_bytree': 0.713400582452141, 'subsample': 0.8649950669876719, 'subsample_freq': 4, 'min_child_samples': 30}. Best is trial 32 with value: 1595.5027527736993.\u001b[0m\n",
      "\u001b[32m[I 2022-06-08 08:52:32,599]\u001b[0m Trial 39 finished with value: 1671.8013084564595 and parameters: {'n_estimators': 550, 'learning_rate': 0.1299113765597135, 'max_depth': 7, 'reg_alpha': 9.152528878518313e-05, 'reg_lambda': 0.1328748363879754, 'num_leaves': 850, 'colsample_bytree': 0.7633012680736602, 'subsample': 0.951379353472489, 'subsample_freq': 5, 'min_child_samples': 250}. Best is trial 32 with value: 1595.5027527736993.\u001b[0m\n",
      "\u001b[32m[I 2022-06-08 08:52:46,951]\u001b[0m Trial 40 finished with value: 1621.4568731108193 and parameters: {'n_estimators': 700, 'learning_rate': 0.11642503491896496, 'max_depth': 11, 'reg_alpha': 0.13238961694079965, 'reg_lambda': 9.925962635395658, 'num_leaves': 950, 'colsample_bytree': 0.6110960426359323, 'subsample': 0.9416675165648828, 'subsample_freq': 4, 'min_child_samples': 100}. Best is trial 32 with value: 1595.5027527736993.\u001b[0m\n",
      "\u001b[32m[I 2022-06-08 08:53:17,352]\u001b[0m Trial 41 finished with value: 1616.8544891157264 and parameters: {'n_estimators': 950, 'learning_rate': 0.12447428117817148, 'max_depth': 13, 'reg_alpha': 0.0010723112715200847, 'reg_lambda': 0.03344590246275777, 'num_leaves': 950, 'colsample_bytree': 0.6394572625065016, 'subsample': 0.8454063942860871, 'subsample_freq': 3, 'min_child_samples': 50}. Best is trial 32 with value: 1595.5027527736993.\u001b[0m\n",
      "\u001b[32m[I 2022-06-08 08:54:03,459]\u001b[0m Trial 42 finished with value: 1645.555085796372 and parameters: {'n_estimators': 950, 'learning_rate': 0.14298713951619535, 'max_depth': 15, 'reg_alpha': 0.006888839935462148, 'reg_lambda': 1.5851080117445357, 'num_leaves': 850, 'colsample_bytree': 0.6332151429604999, 'subsample': 0.9084516412743333, 'subsample_freq': 4, 'min_child_samples': 10}. Best is trial 32 with value: 1595.5027527736993.\u001b[0m\n",
      "\u001b[32m[I 2022-06-08 08:54:18,532]\u001b[0m Trial 43 finished with value: 1606.3120041298491 and parameters: {'n_estimators': 850, 'learning_rate': 0.11268499695875335, 'max_depth': 9, 'reg_alpha': 0.026404992722327433, 'reg_lambda': 0.02287625850357269, 'num_leaves': 1000, 'colsample_bytree': 0.6403639087193842, 'subsample': 0.9730600003510703, 'subsample_freq': 3, 'min_child_samples': 30}. Best is trial 32 with value: 1595.5027527736993.\u001b[0m\n",
      "\u001b[32m[I 2022-06-08 08:54:32,128]\u001b[0m Trial 44 finished with value: 1607.4570413990632 and parameters: {'n_estimators': 750, 'learning_rate': 0.13055755231883992, 'max_depth': 9, 'reg_alpha': 0.0194734756891464, 'reg_lambda': 0.0027708338103285563, 'num_leaves': 900, 'colsample_bytree': 0.703035302503367, 'subsample': 0.996695712192501, 'subsample_freq': 3, 'min_child_samples': 30}. Best is trial 32 with value: 1595.5027527736993.\u001b[0m\n",
      "\u001b[32m[I 2022-06-08 08:54:45,651]\u001b[0m Trial 45 finished with value: 1607.9136631955143 and parameters: {'n_estimators': 750, 'learning_rate': 0.16044815688451816, 'max_depth': 9, 'reg_alpha': 0.03098744673031647, 'reg_lambda': 0.002050630506219805, 'num_leaves': 750, 'colsample_bytree': 0.6162985267902401, 'subsample': 0.9951932741204798, 'subsample_freq': 3, 'min_child_samples': 30}. Best is trial 32 with value: 1595.5027527736993.\u001b[0m\n",
      "\u001b[32m[I 2022-06-08 08:54:53,897]\u001b[0m Trial 46 finished with value: 1620.272536873632 and parameters: {'n_estimators': 650, 'learning_rate': 0.11693305573743354, 'max_depth': 7, 'reg_alpha': 0.012890581007248509, 'reg_lambda': 0.02078043417422125, 'num_leaves': 950, 'colsample_bytree': 0.704791418214496, 'subsample': 0.9598748802750001, 'subsample_freq': 4, 'min_child_samples': 20}. Best is trial 32 with value: 1595.5027527736993.\u001b[0m\n",
      "\u001b[32m[I 2022-06-08 08:55:01,983]\u001b[0m Trial 47 finished with value: 1668.6005370486284 and parameters: {'n_estimators': 850, 'learning_rate': 0.1345479576163954, 'max_depth': 5, 'reg_alpha': 0.002763088746726099, 'reg_lambda': 0.0013970808253100234, 'num_leaves': 400, 'colsample_bytree': 0.6043024430826593, 'subsample': 0.9312449478513062, 'subsample_freq': 3, 'min_child_samples': 70}. Best is trial 32 with value: 1595.5027527736993.\u001b[0m\n",
      "\u001b[32m[I 2022-06-08 08:55:03,166]\u001b[0m Trial 48 finished with value: 1727.9054773853443 and parameters: {'n_estimators': 50, 'learning_rate': 0.15860341270680522, 'max_depth': 9, 'reg_alpha': 0.0005011462684161908, 'reg_lambda': 0.005676051260534592, 'num_leaves': 800, 'colsample_bytree': 0.7678191672785422, 'subsample': 0.9716675608521113, 'subsample_freq': 5, 'min_child_samples': 140}. Best is trial 32 with value: 1595.5027527736993.\u001b[0m\n",
      "\u001b[32m[I 2022-06-08 08:55:10,109]\u001b[0m Trial 49 finished with value: 1687.6214952040289 and parameters: {'n_estimators': 750, 'learning_rate': 0.13032361634089976, 'max_depth': 5, 'reg_alpha': 0.1646924319358696, 'reg_lambda': 9.036012790304007e-05, 'num_leaves': 700, 'colsample_bytree': 0.6722911799087269, 'subsample': 0.9957947740477583, 'subsample_freq': 3, 'min_child_samples': 180}. Best is trial 32 with value: 1595.5027527736993.\u001b[0m\n"
     ]
    },
    {
     "name": "stdout",
     "output_type": "stream",
     "text": [
      "Number of finished trials: 50\n",
      "Best trial:\n",
      "  Value: 1595.5027527736993\n",
      "  Params: \n",
      "    n_estimators: 900\n",
      "    learning_rate: 0.08176805647342944\n",
      "    max_depth: 13\n",
      "    reg_alpha: 0.04315868514041527\n",
      "    reg_lambda: 0.20771623873858824\n",
      "    num_leaves: 950\n",
      "    colsample_bytree: 0.6354518911703311\n",
      "    subsample: 0.94745597016541\n",
      "    subsample_freq: 3\n",
      "    min_child_samples: 30\n"
     ]
    },
    {
     "data": {
      "text/plain": [
       "OrderedDict([('max_depth', 0.6476995818461116),\n",
       "             ('n_estimators', 0.16794550722733706),\n",
       "             ('learning_rate', 0.07718389349715331),\n",
       "             ('colsample_bytree', 0.041251670156001334),\n",
       "             ('subsample', 0.020291704965599285),\n",
       "             ('min_child_samples', 0.01875194416207544),\n",
       "             ('reg_alpha', 0.016396536517421158),\n",
       "             ('num_leaves', 0.00585502046430303),\n",
       "             ('subsample_freq', 0.004572818141727508),\n",
       "             ('reg_lambda', 5.13230222701586e-05)])"
      ]
     },
     "metadata": {},
     "output_type": "display_data"
    }
   ],
   "source": [
    "# def objective_lgb(trial):\n",
    "    \n",
    "#     params = {\n",
    "#         'boosting_type' : 'gbdt',\n",
    "#         'n_estimators' : trial.suggest_int('n_estimators', 50, 1000, 50),\n",
    "#         'learning_rate' : trial.suggest_float('learning_rate', 0.05, 0.2),\n",
    "#         'max_depth' : trial.suggest_int('max_depth', 1, 20, 2),\n",
    "#         'reg_alpha': trial.suggest_float('reg_alpha', 1e-8, 10.0, log=True),\n",
    "#         'reg_lambda': trial.suggest_float('reg_lambda', 1e-8, 10.0, log=True),\n",
    "#         'num_leaves': trial.suggest_int('num_leaves', 50, 1000, 50),\n",
    "#         'colsample_bytree': trial.suggest_float('colsample_bytree', 0.6, 1.0),\n",
    "#         \"subsample\": trial.suggest_float(\"subsample\", 0.3, 1.0),\n",
    "#         \"subsample_freq\": trial.suggest_int(\"subsample_freq\", 1, 5),\n",
    "#         'min_child_samples': trial.suggest_int('min_child_samples', 10, 300, 10),\n",
    "#         'verbose' : -1\n",
    "#     }\n",
    "#     lgb_mod = lgb.LGBMRegressor(**params, random_state=12345)\n",
    "#     lgb_mod.fit(train_features, train_target)\n",
    "#     pred = lgb_mod.predict(test_features)\n",
    "#     rmse = mse(test_target, pred, squared=False)\n",
    "#     return rmse\n",
    "\n",
    "# study_lgb = optuna.create_study(direction='minimize')\n",
    "# study_lgb.optimize(objective_lgb, n_trials=50)\n",
    "\n",
    "\n",
    "# print(\"Number of finished trials: {}\".format(len(study_lgb.trials)))\n",
    "\n",
    "# print(\"Best trial:\")\n",
    "# trial_lgb = study_lgb.best_trial\n",
    "\n",
    "# print(\"  Value: {}\".format(trial_lgb.value))\n",
    "\n",
    "# print(\"  Params: \")\n",
    "# for key, value in trial_lgb.params.items():\n",
    "#     print(\"    {}: {}\".format(key, value))\n",
    "\n",
    "\n",
    "# display(optuna.importance.get_param_importances(study_lgb))"
   ]
  },
  {
   "cell_type": "markdown",
   "metadata": {},
   "source": [
    "Best trial:\n",
    "    \n",
    "  Value: 1595.5027527736993\n",
    "    \n",
    "  Params: \n",
    "    \n",
    "- n_estimators: 900\n",
    "- learning_rate: 0.08176805647342944\n",
    "- max_depth: 13\n",
    "- reg_alpha: 0.04315868514041527\n",
    "- reg_lambda: 0.20771623873858824\n",
    "- num_leaves: 950\n",
    "- colsample_bytree: 0.6354518911703311\n",
    "- subsample: 0.94745597016541\n",
    "- subsample_freq: 3\n",
    "- min_child_samples: 30\n",
    "    \n"
   ]
  },
  {
   "cell_type": "markdown",
   "metadata": {},
   "source": [
    "*CatBoostRegressor*"
   ]
  },
  {
   "cell_type": "code",
   "execution_count": 50,
   "metadata": {},
   "outputs": [],
   "source": [
    "train_features[cat_list] = train_features[cat_list].astype('int32')\n",
    "test_features[cat_list] = test_features[cat_list].astype('int32')\n",
    "valid_features[cat_list] = valid_features[cat_list].astype('int32')"
   ]
  },
  {
   "cell_type": "code",
   "execution_count": 51,
   "metadata": {
    "scrolled": true
   },
   "outputs": [
    {
     "name": "stderr",
     "output_type": "stream",
     "text": [
      "\u001b[32m[I 2022-06-08 09:02:06,732]\u001b[0m A new study created in memory with name: no-name-f27d5d5f-d53c-49bb-8745-e0b9918c0e67\u001b[0m\n",
      "\u001b[32m[I 2022-06-08 09:02:14,748]\u001b[0m Trial 0 finished with value: 1717.204811575568 and parameters: {'iterations': 45, 'depth': 13, 'learning_rate': 0.6718425637486675, 'subsample': 0.6003067755430331, 'min_child_samples': 10}. Best is trial 0 with value: 1717.204811575568.\u001b[0m\n",
      "\u001b[32m[I 2022-06-08 09:02:36,857]\u001b[0m Trial 1 finished with value: 1740.2039082134188 and parameters: {'iterations': 75, 'depth': 14, 'learning_rate': 0.7025458373362815, 'subsample': 0.9245632488103972, 'min_child_samples': 81}. Best is trial 0 with value: 1717.204811575568.\u001b[0m\n",
      "\u001b[32m[I 2022-06-08 09:02:38,139]\u001b[0m Trial 2 finished with value: 1862.4586388157893 and parameters: {'iterations': 25, 'depth': 8, 'learning_rate': 0.25716124957533243, 'subsample': 0.9418131175384887, 'min_child_samples': 11}. Best is trial 0 with value: 1717.204811575568.\u001b[0m\n",
      "\u001b[32m[I 2022-06-08 09:02:45,299]\u001b[0m Trial 3 finished with value: 1696.2908954362888 and parameters: {'iterations': 65, 'depth': 12, 'learning_rate': 0.6129054913260935, 'subsample': 0.9246645701577644, 'min_child_samples': 12}. Best is trial 3 with value: 1696.2908954362888.\u001b[0m\n",
      "\u001b[32m[I 2022-06-08 09:02:56,107]\u001b[0m Trial 4 finished with value: 1771.7661482625238 and parameters: {'iterations': 35, 'depth': 14, 'learning_rate': 0.8885585555065367, 'subsample': 0.7930979622498759, 'min_child_samples': 79}. Best is trial 3 with value: 1696.2908954362888.\u001b[0m\n",
      "\u001b[32m[I 2022-06-08 09:02:57,713]\u001b[0m Trial 5 finished with value: 1861.7880567697857 and parameters: {'iterations': 65, 'depth': 3, 'learning_rate': 0.9324058867554683, 'subsample': 0.8856059228630393, 'min_child_samples': 23}. Best is trial 3 with value: 1696.2908954362888.\u001b[0m\n",
      "\u001b[32m[I 2022-06-08 09:02:58,405]\u001b[0m Trial 6 finished with value: 2151.6245209880162 and parameters: {'iterations': 15, 'depth': 3, 'learning_rate': 0.6256785718456317, 'subsample': 0.9812659697933303, 'min_child_samples': 53}. Best is trial 3 with value: 1696.2908954362888.\u001b[0m\n",
      "\u001b[32m[I 2022-06-08 09:02:59,481]\u001b[0m Trial 7 finished with value: 2018.9978286453834 and parameters: {'iterations': 45, 'depth': 2, 'learning_rate': 0.8761434464740749, 'subsample': 0.9491958486608452, 'min_child_samples': 5}. Best is trial 3 with value: 1696.2908954362888.\u001b[0m\n",
      "\u001b[32m[I 2022-06-08 09:03:52,171]\u001b[0m Trial 8 finished with value: 1734.3428572195185 and parameters: {'iterations': 45, 'depth': 16, 'learning_rate': 0.6643048632685253, 'subsample': 0.824618207673349, 'min_child_samples': 69}. Best is trial 3 with value: 1696.2908954362888.\u001b[0m\n",
      "\u001b[32m[I 2022-06-08 09:04:00,656]\u001b[0m Trial 9 finished with value: 1754.944661804327 and parameters: {'iterations': 105, 'depth': 11, 'learning_rate': 0.9539072479998854, 'subsample': 0.793698022944049, 'min_child_samples': 89}. Best is trial 3 with value: 1696.2908954362888.\u001b[0m\n",
      "\u001b[32m[I 2022-06-08 09:04:04,845]\u001b[0m Trial 10 finished with value: 1704.4543220285375 and parameters: {'iterations': 95, 'depth': 8, 'learning_rate': 0.3917397461522792, 'subsample': 0.7053148319861104, 'min_child_samples': 35}. Best is trial 3 with value: 1696.2908954362888.\u001b[0m\n",
      "\u001b[32m[I 2022-06-08 09:04:08,710]\u001b[0m Trial 11 finished with value: 1707.2157798382004 and parameters: {'iterations': 95, 'depth': 8, 'learning_rate': 0.37206098766821033, 'subsample': 0.6757568398825824, 'min_child_samples': 34}. Best is trial 3 with value: 1696.2908954362888.\u001b[0m\n",
      "\u001b[32m[I 2022-06-08 09:04:11,624]\u001b[0m Trial 12 finished with value: 1750.330752808093 and parameters: {'iterations': 85, 'depth': 6, 'learning_rate': 0.44221847971507916, 'subsample': 0.7139000295445795, 'min_child_samples': 36}. Best is trial 3 with value: 1696.2908954362888.\u001b[0m\n",
      "\u001b[32m[I 2022-06-08 09:04:17,056]\u001b[0m Trial 13 finished with value: 1760.6416843978168 and parameters: {'iterations': 65, 'depth': 11, 'learning_rate': 0.10658271154749599, 'subsample': 0.7353938063807681, 'min_child_samples': 45}. Best is trial 3 with value: 1696.2908954362888.\u001b[0m\n",
      "\u001b[32m[I 2022-06-08 09:04:23,334]\u001b[0m Trial 14 finished with value: 1675.2283537767119 and parameters: {'iterations': 105, 'depth': 10, 'learning_rate': 0.47987325664912495, 'subsample': 0.8596617563359863, 'min_child_samples': 24}. Best is trial 14 with value: 1675.2283537767119.\u001b[0m\n",
      "\u001b[32m[I 2022-06-08 09:04:24,172]\u001b[0m Trial 15 finished with value: 1935.6870523907778 and parameters: {'iterations': 5, 'depth': 11, 'learning_rate': 0.5149071644968793, 'subsample': 0.8686455958605135, 'min_child_samples': 18}. Best is trial 14 with value: 1675.2283537767119.\u001b[0m\n",
      "\u001b[32m[I 2022-06-08 09:04:28,019]\u001b[0m Trial 16 finished with value: 1727.3503709118506 and parameters: {'iterations': 105, 'depth': 6, 'learning_rate': 0.7589959099704575, 'subsample': 0.8695979952777052, 'min_child_samples': 24}. Best is trial 14 with value: 1675.2283537767119.\u001b[0m\n",
      "\u001b[32m[I 2022-06-08 09:04:33,206]\u001b[0m Trial 17 finished with value: 1692.791734589365 and parameters: {'iterations': 75, 'depth': 10, 'learning_rate': 0.5485257418178725, 'subsample': 0.9939753800990645, 'min_child_samples': 52}. Best is trial 14 with value: 1675.2283537767119.\u001b[0m\n",
      "\u001b[32m[I 2022-06-08 09:04:36,588]\u001b[0m Trial 18 finished with value: 1765.9220751017717 and parameters: {'iterations': 85, 'depth': 6, 'learning_rate': 0.274934643193934, 'subsample': 0.9950880610834838, 'min_child_samples': 59}. Best is trial 14 with value: 1675.2283537767119.\u001b[0m\n",
      "\u001b[32m[I 2022-06-08 09:04:41,702]\u001b[0m Trial 19 finished with value: 1688.0546166049414 and parameters: {'iterations': 85, 'depth': 10, 'learning_rate': 0.5180898451414926, 'subsample': 0.8392026480217578, 'min_child_samples': 64}. Best is trial 14 with value: 1675.2283537767119.\u001b[0m\n",
      "\u001b[32m[I 2022-06-08 09:04:46,839]\u001b[0m Trial 20 finished with value: 1722.1857634770959 and parameters: {'iterations': 95, 'depth': 9, 'learning_rate': 0.7990244190703668, 'subsample': 0.8318297757488045, 'min_child_samples': 100}. Best is trial 14 with value: 1675.2283537767119.\u001b[0m\n",
      "\u001b[32m[I 2022-06-08 09:04:51,750]\u001b[0m Trial 21 finished with value: 1690.6922009908774 and parameters: {'iterations': 85, 'depth': 10, 'learning_rate': 0.5214517779617273, 'subsample': 0.7624977837519318, 'min_child_samples': 65}. Best is trial 14 with value: 1675.2283537767119.\u001b[0m\n",
      "\u001b[32m[I 2022-06-08 09:04:56,963]\u001b[0m Trial 22 finished with value: 1689.4272750759294 and parameters: {'iterations': 85, 'depth': 10, 'learning_rate': 0.49236034654592536, 'subsample': 0.7663874125572102, 'min_child_samples': 64}. Best is trial 14 with value: 1675.2283537767119.\u001b[0m\n",
      "\u001b[32m[I 2022-06-08 09:05:01,204]\u001b[0m Trial 23 finished with value: 1709.362320491035 and parameters: {'iterations': 105, 'depth': 7, 'learning_rate': 0.44446406376513864, 'subsample': 0.8272843476794488, 'min_child_samples': 70}. Best is trial 14 with value: 1675.2283537767119.\u001b[0m\n",
      "\u001b[32m[I 2022-06-08 09:05:20,632]\u001b[0m Trial 24 finished with value: 1667.7163303918157 and parameters: {'iterations': 95, 'depth': 13, 'learning_rate': 0.3093807894083539, 'subsample': 0.7697608782118579, 'min_child_samples': 46}. Best is trial 24 with value: 1667.7163303918157.\u001b[0m\n",
      "\u001b[32m[I 2022-06-08 09:07:14,186]\u001b[0m Trial 25 finished with value: 1683.5964311989262 and parameters: {'iterations': 95, 'depth': 16, 'learning_rate': 0.3003439468907894, 'subsample': 0.8921929776015836, 'min_child_samples': 44}. Best is trial 24 with value: 1667.7163303918157.\u001b[0m\n",
      "\u001b[32m[I 2022-06-08 09:09:18,017]\u001b[0m Trial 26 finished with value: 1670.3431861151714 and parameters: {'iterations': 105, 'depth': 16, 'learning_rate': 0.2794225421264713, 'subsample': 0.8906594130909666, 'min_child_samples': 44}. Best is trial 24 with value: 1667.7163303918157.\u001b[0m\n",
      "\u001b[32m[I 2022-06-08 09:10:19,990]\u001b[0m Trial 27 finished with value: 1665.5420822995557 and parameters: {'iterations': 105, 'depth': 15, 'learning_rate': 0.1594369266556354, 'subsample': 0.6539728204342263, 'min_child_samples': 28}. Best is trial 27 with value: 1665.5420822995557.\u001b[0m\n",
      "\u001b[32m[I 2022-06-08 09:11:21,087]\u001b[0m Trial 28 finished with value: 1674.4220927497954 and parameters: {'iterations': 105, 'depth': 15, 'learning_rate': 0.12651572260096322, 'subsample': 0.6233978385154758, 'min_child_samples': 43}. Best is trial 27 with value: 1665.5420822995557.\u001b[0m\n",
      "\u001b[32m[I 2022-06-08 09:11:31,544]\u001b[0m Trial 29 finished with value: 1700.1035608914783 and parameters: {'iterations': 55, 'depth': 13, 'learning_rate': 0.17897068429152801, 'subsample': 0.6016946400615617, 'min_child_samples': 28}. Best is trial 27 with value: 1665.5420822995557.\u001b[0m\n",
      "\u001b[32m[I 2022-06-08 09:11:54,823]\u001b[0m Trial 30 finished with value: 1670.7212471175878 and parameters: {'iterations': 75, 'depth': 14, 'learning_rate': 0.22135853175453313, 'subsample': 0.6602488453378398, 'min_child_samples': 52}. Best is trial 27 with value: 1665.5420822995557.\u001b[0m\n",
      "\u001b[32m[I 2022-06-08 09:12:17,828]\u001b[0m Trial 31 finished with value: 1676.2960581546997 and parameters: {'iterations': 75, 'depth': 14, 'learning_rate': 0.20312370530322393, 'subsample': 0.6495579936348753, 'min_child_samples': 51}. Best is trial 27 with value: 1665.5420822995557.\u001b[0m\n",
      "\u001b[32m[I 2022-06-08 09:13:13,167]\u001b[0m Trial 32 finished with value: 1682.956012669842 and parameters: {'iterations': 95, 'depth': 15, 'learning_rate': 0.35548342438618996, 'subsample': 0.6776309317315766, 'min_child_samples': 41}. Best is trial 27 with value: 1665.5420822995557.\u001b[0m\n",
      "\u001b[32m[I 2022-06-08 09:13:27,637]\u001b[0m Trial 33 finished with value: 1679.5619980794927 and parameters: {'iterations': 75, 'depth': 13, 'learning_rate': 0.2256453702692615, 'subsample': 0.6617370430528461, 'min_child_samples': 57}. Best is trial 27 with value: 1665.5420822995557.\u001b[0m\n",
      "\u001b[32m[I 2022-06-08 09:14:22,346]\u001b[0m Trial 34 finished with value: 1671.3601110351565 and parameters: {'iterations': 95, 'depth': 15, 'learning_rate': 0.16260756038450186, 'subsample': 0.6293755669663491, 'min_child_samples': 47}. Best is trial 27 with value: 1665.5420822995557.\u001b[0m\n",
      "\u001b[32m[I 2022-06-08 09:14:55,327]\u001b[0m Trial 35 finished with value: 1667.221964587394 and parameters: {'iterations': 105, 'depth': 14, 'learning_rate': 0.2891768990894627, 'subsample': 0.7046865067136785, 'min_child_samples': 29}. Best is trial 27 with value: 1665.5420822995557.\u001b[0m\n",
      "\u001b[32m[I 2022-06-08 09:16:51,837]\u001b[0m Trial 36 finished with value: 1679.5272652197327 and parameters: {'iterations': 105, 'depth': 16, 'learning_rate': 0.31741791791704915, 'subsample': 0.7409465545146008, 'min_child_samples': 30}. Best is trial 27 with value: 1665.5420822995557.\u001b[0m\n",
      "\u001b[32m[I 2022-06-08 09:17:02,922]\u001b[0m Trial 37 finished with value: 1669.795955433841 and parameters: {'iterations': 105, 'depth': 12, 'learning_rate': 0.26386403691141364, 'subsample': 0.7111535441263341, 'min_child_samples': 14}. Best is trial 27 with value: 1665.5420822995557.\u001b[0m\n",
      "\u001b[32m[I 2022-06-08 09:17:12,920]\u001b[0m Trial 38 finished with value: 1687.1184218100516 and parameters: {'iterations': 95, 'depth': 12, 'learning_rate': 0.15500041927916125, 'subsample': 0.7037793271899102, 'min_child_samples': 19}. Best is trial 27 with value: 1665.5420822995557.\u001b[0m\n",
      "\u001b[32m[I 2022-06-08 09:17:24,457]\u001b[0m Trial 39 finished with value: 1664.4740556840884 and parameters: {'iterations': 105, 'depth': 12, 'learning_rate': 0.34502285072578975, 'subsample': 0.7675931036604555, 'min_child_samples': 12}. Best is trial 39 with value: 1664.4740556840884.\u001b[0m\n",
      "\u001b[32m[I 2022-06-08 09:17:31,286]\u001b[0m Trial 40 finished with value: 1705.1172387327895 and parameters: {'iterations': 35, 'depth': 13, 'learning_rate': 0.3402064464136238, 'subsample': 0.7705666063374844, 'min_child_samples': 8}. Best is trial 39 with value: 1664.4740556840884.\u001b[0m\n",
      "\u001b[32m[I 2022-06-08 09:17:42,530]\u001b[0m Trial 41 finished with value: 1668.6200386827406 and parameters: {'iterations': 105, 'depth': 12, 'learning_rate': 0.24239384756741206, 'subsample': 0.7230479166934224, 'min_child_samples': 15}. Best is trial 39 with value: 1664.4740556840884.\u001b[0m\n",
      "\u001b[32m[I 2022-06-08 09:18:12,514]\u001b[0m Trial 42 finished with value: 1675.3556026536924 and parameters: {'iterations': 95, 'depth': 14, 'learning_rate': 0.3923736675516186, 'subsample': 0.7269233286804804, 'min_child_samples': 14}. Best is trial 39 with value: 1664.4740556840884.\u001b[0m\n",
      "\u001b[32m[I 2022-06-08 09:18:23,667]\u001b[0m Trial 43 finished with value: 1669.88765870747 and parameters: {'iterations': 105, 'depth': 12, 'learning_rate': 0.23476038041326924, 'subsample': 0.6897399755785212, 'min_child_samples': 20}. Best is trial 39 with value: 1664.4740556840884.\u001b[0m\n",
      "\u001b[32m[I 2022-06-08 09:18:54,109]\u001b[0m Trial 44 finished with value: 1685.854761135641 and parameters: {'iterations': 95, 'depth': 14, 'learning_rate': 0.4236208763186905, 'subsample': 0.8052841763129654, 'min_child_samples': 5}. Best is trial 39 with value: 1664.4740556840884.\u001b[0m\n",
      "\u001b[32m[I 2022-06-08 09:19:56,876]\u001b[0m Trial 45 finished with value: 1673.7741216221148 and parameters: {'iterations': 105, 'depth': 15, 'learning_rate': 0.3249855364301583, 'subsample': 0.7516113936171521, 'min_child_samples': 30}. Best is trial 39 with value: 1664.4740556840884.\u001b[0m\n",
      "\u001b[32m[I 2022-06-08 09:20:13,547]\u001b[0m Trial 46 finished with value: 1709.4386649350786 and parameters: {'iterations': 85, 'depth': 13, 'learning_rate': 0.604298117039126, 'subsample': 0.7817692142903753, 'min_child_samples': 11}. Best is trial 39 with value: 1664.4740556840884.\u001b[0m\n",
      "\u001b[32m[I 2022-06-08 09:20:24,998]\u001b[0m Trial 47 finished with value: 1676.2179055684708 and parameters: {'iterations': 105, 'depth': 12, 'learning_rate': 0.18239383547870813, 'subsample': 0.8008419983465136, 'min_child_samples': 37}. Best is trial 39 with value: 1664.4740556840884.\u001b[0m\n",
      "\u001b[32m[I 2022-06-08 09:20:29,614]\u001b[0m Trial 48 finished with value: 1749.2601115513216 and parameters: {'iterations': 55, 'depth': 11, 'learning_rate': 0.13303023403933817, 'subsample': 0.7267679225611551, 'min_child_samples': 26}. Best is trial 39 with value: 1664.4740556840884.\u001b[0m\n",
      "\u001b[32m[I 2022-06-08 09:20:47,547]\u001b[0m Trial 49 finished with value: 1668.9732279474706 and parameters: {'iterations': 95, 'depth': 13, 'learning_rate': 0.24682021007428664, 'subsample': 0.7469514015991076, 'min_child_samples': 17}. Best is trial 39 with value: 1664.4740556840884.\u001b[0m\n"
     ]
    },
    {
     "name": "stdout",
     "output_type": "stream",
     "text": [
      "Number of finished trials: 50\n",
      "Best trial:\n",
      "  Value: 1664.4740556840884\n",
      "  Params: \n",
      "    iterations: 105\n",
      "    depth: 12\n",
      "    learning_rate: 0.34502285072578975\n",
      "    subsample: 0.7675931036604555\n",
      "    min_child_samples: 12\n"
     ]
    },
    {
     "data": {
      "text/plain": [
       "OrderedDict([('depth', 0.5218057814171859),\n",
       "             ('iterations', 0.34486722338861886),\n",
       "             ('subsample', 0.07636264716324503),\n",
       "             ('learning_rate', 0.044385252771976864),\n",
       "             ('min_child_samples', 0.012579095258973468)])"
      ]
     },
     "metadata": {},
     "output_type": "display_data"
    }
   ],
   "source": [
    "# def objective_cat(trial):\n",
    "    \n",
    "#     params = {\n",
    "#         'iterations' : trial.suggest_int('iterations', 5, 105, 10),\n",
    "#         'depth' : trial.suggest_int('depth', 1, 16),\n",
    "#         'learning_rate' : trial.suggest_float('learning_rate', 0.1, 1),\n",
    "#         'iterations' : trial.suggest_int('iterations', 5, 1005, 100),\n",
    "#         'subsample' : trial.suggest_float('subsample', 0.6, 1.0),\n",
    "# #         'n_estimators' : trial.suggest_int('n_estimators', 60, 100, 20),\n",
    "# #         'num_leaves': trial.suggest_int('num_leaves', 20, 50, 5),\n",
    "#         'min_child_samples': trial.suggest_int('min_child_samples', 5, 100),\n",
    "#         'cat_features' : cat_list,\n",
    "#         'early_stopping_rounds' : 70,\n",
    "#         'loss_function' : 'RMSE',\n",
    "#         'silent' : True\n",
    "#     }\n",
    "    \n",
    "#     cat_mod = CatBoostRegressor(**params, random_state=12345)\n",
    "#     cat_mod.fit(train_features, train_target)\n",
    "#     pred = cat_mod.predict(test_features)\n",
    "#     rmse = mse(test_target, pred, squared=False)\n",
    "#     return rmse\n",
    "\n",
    "# study_cat = optuna.create_study(direction='minimize')\n",
    "# study_cat.optimize(objective_cat, n_trials=50)\n",
    "\n",
    "\n",
    "# print(\"Number of finished trials: {}\".format(len(study_cat.trials)))\n",
    "\n",
    "# print(\"Best trial:\")\n",
    "# trial_cat = study_cat.best_trial\n",
    "\n",
    "# print(\"  Value: {}\".format(trial_cat.value))\n",
    "\n",
    "# print(\"  Params: \")\n",
    "# for key, value in trial_cat.params.items():\n",
    "#     print(\"    {}: {}\".format(key, value))\n",
    "\n",
    "\n",
    "# display(optuna.importance.get_param_importances(study_cat))\n",
    "\n",
    "\n"
   ]
  },
  {
   "cell_type": "markdown",
   "metadata": {},
   "source": [
    "Best trial:\n",
    "    \n",
    "Value: 1664.4740556840884\n",
    "\n",
    "Params: \n",
    "\n",
    "- iterations: 105\n",
    "- depth: 12\n",
    "- learning_rate: 0.34502285072578975\n",
    "- subsample: 0.7675931036604555\n",
    "- min_child_samples: 12\n"
   ]
  },
  {
   "cell_type": "markdown",
   "metadata": {},
   "source": [
    "*XGBRegressor*"
   ]
  },
  {
   "cell_type": "code",
   "execution_count": 52,
   "metadata": {
    "scrolled": true
   },
   "outputs": [
    {
     "name": "stderr",
     "output_type": "stream",
     "text": [
      "\u001b[32m[I 2022-06-08 09:22:46,155]\u001b[0m A new study created in memory with name: no-name-09730f1e-e8f9-4ca0-a0cf-0a8db92d97bd\u001b[0m\n",
      "\u001b[32m[I 2022-06-08 09:22:51,788]\u001b[0m Trial 0 finished with value: 1764.5734976425888 and parameters: {'n_estimators': 125, 'max_depth': 4, 'max_leaves': 91, 'learning_rate': 0.9467143674570518, 'reg_alpha': 7.840986043963627e-08, 'reg_lambda': 6.812301745153465e-08}. Best is trial 0 with value: 1764.5734976425888.\u001b[0m\n",
      "\u001b[32m[I 2022-06-08 09:22:56,679]\u001b[0m Trial 1 finished with value: 2006.5340520130364 and parameters: {'n_estimators': 18, 'max_depth': 13, 'max_leaves': 94, 'learning_rate': 0.10365650713274917, 'reg_alpha': 1.004276324601657e-05, 'reg_lambda': 5.563694876689111e-05}. Best is trial 0 with value: 1764.5734976425888.\u001b[0m\n",
      "\u001b[32m[I 2022-06-08 09:22:57,373]\u001b[0m Trial 2 finished with value: 2283.1084560383333 and parameters: {'n_estimators': 27, 'max_depth': 2, 'max_leaves': 58, 'learning_rate': 0.23891773756578155, 'reg_alpha': 7.142298922302561, 'reg_lambda': 0.35399051303991713}. Best is trial 0 with value: 1764.5734976425888.\u001b[0m\n",
      "\u001b[32m[I 2022-06-08 09:23:21,705]\u001b[0m Trial 3 finished with value: 1655.676263417299 and parameters: {'n_estimators': 145, 'max_depth': 12, 'max_leaves': 60, 'learning_rate': 0.19450800288581171, 'reg_alpha': 1.6682187562254906e-05, 'reg_lambda': 5.986716762981496e-06}. Best is trial 3 with value: 1655.676263417299.\u001b[0m\n",
      "\u001b[32m[I 2022-06-08 09:23:26,072]\u001b[0m Trial 4 finished with value: 1822.71185677913 and parameters: {'n_estimators': 117, 'max_depth': 3, 'max_leaves': 57, 'learning_rate': 0.3634358820882907, 'reg_alpha': 1.9334539759108528e-05, 'reg_lambda': 4.699716082077331e-06}. Best is trial 3 with value: 1655.676263417299.\u001b[0m\n",
      "\u001b[32m[I 2022-06-08 09:23:36,092]\u001b[0m Trial 5 finished with value: 1757.548320802948 and parameters: {'n_estimators': 58, 'max_depth': 12, 'max_leaves': 55, 'learning_rate': 0.6885401068341386, 'reg_alpha': 9.954358341051729e-06, 'reg_lambda': 2.9390009956622833}. Best is trial 3 with value: 1655.676263417299.\u001b[0m\n",
      "\u001b[32m[I 2022-06-08 09:23:39,779]\u001b[0m Trial 6 finished with value: 1967.1691401040364 and parameters: {'n_estimators': 137, 'max_depth': 2, 'max_leaves': 100, 'learning_rate': 0.2451113807745837, 'reg_alpha': 2.5223632797099412e-08, 'reg_lambda': 0.5870211540693074}. Best is trial 3 with value: 1655.676263417299.\u001b[0m\n",
      "\u001b[32m[I 2022-06-08 09:23:59,833]\u001b[0m Trial 7 finished with value: 1968.2313717276859 and parameters: {'n_estimators': 65, 'max_depth': 16, 'max_leaves': 73, 'learning_rate': 0.7031322314910264, 'reg_alpha': 0.29837747621630933, 'reg_lambda': 2.5088388359905567e-08}. Best is trial 3 with value: 1655.676263417299.\u001b[0m\n",
      "\u001b[32m[I 2022-06-08 09:24:07,339]\u001b[0m Trial 8 finished with value: 1682.5819038518457 and parameters: {'n_estimators': 82, 'max_depth': 7, 'max_leaves': 81, 'learning_rate': 0.4005669876148923, 'reg_alpha': 0.08363499516979611, 'reg_lambda': 3.2760053286231386e-07}. Best is trial 3 with value: 1655.676263417299.\u001b[0m\n",
      "\u001b[32m[I 2022-06-08 09:24:08,811]\u001b[0m Trial 9 finished with value: 1959.4290593109176 and parameters: {'n_estimators': 29, 'max_depth': 3, 'max_leaves': 48, 'learning_rate': 0.904186934025794, 'reg_alpha': 1.229552144210772e-07, 'reg_lambda': 1.6027763240727174e-06}. Best is trial 3 with value: 1655.676263417299.\u001b[0m\n",
      "\u001b[32m[I 2022-06-08 09:24:21,685]\u001b[0m Trial 10 finished with value: 1743.4153850463458 and parameters: {'n_estimators': 101, 'max_depth': 9, 'max_leaves': 30, 'learning_rate': 0.5587556090964638, 'reg_alpha': 0.003167757265183078, 'reg_lambda': 0.002319151808492638}. Best is trial 3 with value: 1655.676263417299.\u001b[0m\n",
      "\u001b[32m[I 2022-06-08 09:24:37,599]\u001b[0m Trial 11 finished with value: 1703.2055650653633 and parameters: {'n_estimators': 149, 'max_depth': 8, 'max_leaves': 76, 'learning_rate': 0.47207686615393607, 'reg_alpha': 0.005551950121178196, 'reg_lambda': 1.1608733795030868e-06}. Best is trial 3 with value: 1655.676263417299.\u001b[0m\n",
      "\u001b[32m[I 2022-06-08 09:24:44,337]\u001b[0m Trial 12 finished with value: 1741.987972277094 and parameters: {'n_estimators': 80, 'max_depth': 6, 'max_leaves': 80, 'learning_rate': 0.15285381832324457, 'reg_alpha': 0.08249686301345448, 'reg_lambda': 0.001321732340267818}. Best is trial 3 with value: 1655.676263417299.\u001b[0m\n",
      "\u001b[32m[I 2022-06-08 09:25:01,897]\u001b[0m Trial 13 finished with value: 1722.2992227561017 and parameters: {'n_estimators': 93, 'max_depth': 12, 'max_leaves': 41, 'learning_rate': 0.3555695261014833, 'reg_alpha': 0.00027469158545021834, 'reg_lambda': 5.7038153207692984e-05}. Best is trial 3 with value: 1655.676263417299.\u001b[0m\n",
      "\u001b[32m[I 2022-06-08 09:25:06,486]\u001b[0m Trial 14 finished with value: 1702.085732784638 and parameters: {'n_estimators': 48, 'max_depth': 7, 'max_leaves': 68, 'learning_rate': 0.38447491339439155, 'reg_alpha': 0.00019593586660619712, 'reg_lambda': 2.431559946900067e-07}. Best is trial 3 with value: 1655.676263417299.\u001b[0m\n",
      "\u001b[32m[I 2022-06-08 09:25:22,021]\u001b[0m Trial 15 finished with value: 1640.5196587296148 and parameters: {'n_estimators': 105, 'max_depth': 10, 'max_leaves': 81, 'learning_rate': 0.2385354694418027, 'reg_alpha': 1.0750931228274427e-06, 'reg_lambda': 1.0904880805792728e-08}. Best is trial 15 with value: 1640.5196587296148.\u001b[0m\n",
      "\u001b[32m[I 2022-06-08 09:25:41,478]\u001b[0m Trial 16 finished with value: 1642.6592456724768 and parameters: {'n_estimators': 114, 'max_depth': 11, 'max_leaves': 87, 'learning_rate': 0.23905146935612587, 'reg_alpha': 9.381715907522744e-07, 'reg_lambda': 1.0035141178177398e-08}. Best is trial 15 with value: 1640.5196587296148.\u001b[0m\n",
      "\u001b[32m[I 2022-06-08 09:25:57,055]\u001b[0m Trial 17 finished with value: 1793.4368567415745 and parameters: {'n_estimators': 110, 'max_depth': 10, 'max_leaves': 87, 'learning_rate': 0.5486601704480691, 'reg_alpha': 1.130143288352336e-06, 'reg_lambda': 1.3120000803397225e-08}. Best is trial 15 with value: 1640.5196587296148.\u001b[0m\n",
      "\u001b[32m[I 2022-06-08 09:26:32,926]\u001b[0m Trial 18 finished with value: 1755.6580658317796 and parameters: {'n_estimators': 127, 'max_depth': 15, 'max_leaves': 86, 'learning_rate': 0.2777279994384707, 'reg_alpha': 6.15293582841862e-07, 'reg_lambda': 1.2322777219701754e-08}. Best is trial 15 with value: 1640.5196587296148.\u001b[0m\n",
      "\u001b[32m[I 2022-06-08 09:26:48,917]\u001b[0m Trial 19 finished with value: 1634.3089953279264 and parameters: {'n_estimators': 102, 'max_depth': 10, 'max_leaves': 100, 'learning_rate': 0.10564007625879093, 'reg_alpha': 8.767833574528645e-07, 'reg_lambda': 0.014676582661835398}. Best is trial 19 with value: 1634.3089953279264.\u001b[0m\n",
      "\u001b[32m[I 2022-06-08 09:27:18,058]\u001b[0m Trial 20 finished with value: 1675.5480061430515 and parameters: {'n_estimators': 99, 'max_depth': 14, 'max_leaves': 100, 'learning_rate': 0.11765783467241905, 'reg_alpha': 1.9744340607245342e-08, 'reg_lambda': 0.027265000497331753}. Best is trial 19 with value: 1634.3089953279264.\u001b[0m\n",
      "\u001b[32m[I 2022-06-08 09:27:34,856]\u001b[0m Trial 21 finished with value: 1652.2197064167067 and parameters: {'n_estimators': 111, 'max_depth': 10, 'max_leaves': 93, 'learning_rate': 0.2852102757063937, 'reg_alpha': 1.0194281833771662e-06, 'reg_lambda': 0.008915573937145333}. Best is trial 19 with value: 1634.3089953279264.\u001b[0m\n",
      "\u001b[32m[I 2022-06-08 09:27:50,070]\u001b[0m Trial 22 finished with value: 1637.5289950812714 and parameters: {'n_estimators': 90, 'max_depth': 11, 'max_leaves': 85, 'learning_rate': 0.19727188820676972, 'reg_alpha': 4.089729185688309e-07, 'reg_lambda': 0.07515562652787339}. Best is trial 19 with value: 1634.3089953279264.\u001b[0m\n",
      "\u001b[32m[I 2022-06-08 09:28:03,811]\u001b[0m Trial 23 finished with value: 1638.70790096648 and parameters: {'n_estimators': 86, 'max_depth': 10, 'max_leaves': 70, 'learning_rate': 0.17956969976256815, 'reg_alpha': 1.9303985832184936e-07, 'reg_lambda': 0.06262773852608029}. Best is trial 19 with value: 1634.3089953279264.\u001b[0m\n",
      "\u001b[32m[I 2022-06-08 09:28:15,670]\u001b[0m Trial 24 finished with value: 1637.8729073025613 and parameters: {'n_estimators': 89, 'max_depth': 9, 'max_leaves': 70, 'learning_rate': 0.17366491853851593, 'reg_alpha': 9.763958283873316e-08, 'reg_lambda': 0.05378283540549137}. Best is trial 19 with value: 1634.3089953279264.\u001b[0m\n",
      "\u001b[32m[I 2022-06-08 09:28:24,142]\u001b[0m Trial 25 finished with value: 1683.3267056313978 and parameters: {'n_estimators': 68, 'max_depth': 8, 'max_leaves': 64, 'learning_rate': 0.1472787462706945, 'reg_alpha': 8.088277494392349e-05, 'reg_lambda': 4.868364466060931}. Best is trial 19 with value: 1634.3089953279264.\u001b[0m\n",
      "\u001b[32m[I 2022-06-08 09:28:28,344]\u001b[0m Trial 26 finished with value: 1743.5239983840593 and parameters: {'n_estimators': 47, 'max_depth': 6, 'max_leaves': 97, 'learning_rate': 0.3230991598063268, 'reg_alpha': 1.2910724046931383e-08, 'reg_lambda': 0.1618859604263415}. Best is trial 19 with value: 1634.3089953279264.\u001b[0m\n",
      "\u001b[32m[I 2022-06-08 09:28:43,242]\u001b[0m Trial 27 finished with value: 1703.1930023383825 and parameters: {'n_estimators': 92, 'max_depth': 9, 'max_leaves': 76, 'learning_rate': 0.4488533000257443, 'reg_alpha': 4.948426760805947e-06, 'reg_lambda': 0.009909930000001788}. Best is trial 19 with value: 1634.3089953279264.\u001b[0m\n",
      "\u001b[32m[I 2022-06-08 09:29:08,007]\u001b[0m Trial 28 finished with value: 1675.4917808716973 and parameters: {'n_estimators': 74, 'max_depth': 13, 'max_leaves': 89, 'learning_rate': 0.18545311520615682, 'reg_alpha': 1.5117425511596405e-07, 'reg_lambda': 0.0010034504511991615}. Best is trial 19 with value: 1634.3089953279264.\u001b[0m\n",
      "\u001b[32m[I 2022-06-08 09:29:16,159]\u001b[0m Trial 29 finished with value: 1764.521598731383 and parameters: {'n_estimators': 126, 'max_depth': 5, 'max_leaves': 93, 'learning_rate': 0.9891711750631023, 'reg_alpha': 7.113716364135828e-08, 'reg_lambda': 1.3372258847325547}. Best is trial 19 with value: 1634.3089953279264.\u001b[0m\n",
      "\u001b[32m[I 2022-06-08 09:29:35,182]\u001b[0m Trial 30 finished with value: 1675.3459348045278 and parameters: {'n_estimators': 92, 'max_depth': 8, 'max_leaves': 82, 'learning_rate': 0.10394656355650302, 'reg_alpha': 0.0018599332823662125, 'reg_lambda': 0.00018392724164615292}. Best is trial 19 with value: 1634.3089953279264.\u001b[0m\n",
      "\u001b[32m[I 2022-06-08 09:30:00,291]\u001b[0m Trial 31 finished with value: 1644.8681853082694 and parameters: {'n_estimators': 86, 'max_depth': 11, 'max_leaves': 70, 'learning_rate': 0.18796944815220865, 'reg_alpha': 2.1585715027815685e-07, 'reg_lambda': 0.07539133706939322}. Best is trial 19 with value: 1634.3089953279264.\u001b[0m\n",
      "\u001b[32m[I 2022-06-08 09:30:13,420]\u001b[0m Trial 32 finished with value: 1644.7908097531651 and parameters: {'n_estimators': 72, 'max_depth': 9, 'max_leaves': 67, 'learning_rate': 0.17788451882857237, 'reg_alpha': 7.167544133680712e-08, 'reg_lambda': 0.06746485829314965}. Best is trial 19 with value: 1634.3089953279264.\u001b[0m\n",
      "\u001b[32m[I 2022-06-08 09:30:24,897]\u001b[0m Trial 33 finished with value: 1679.9669030179136 and parameters: {'n_estimators': 60, 'max_depth': 11, 'max_leaves': 63, 'learning_rate': 0.30461122598457535, 'reg_alpha': 4.584547467377798e-06, 'reg_lambda': 0.009778858334408077}. Best is trial 19 with value: 1634.3089953279264.\u001b[0m\n",
      "\u001b[32m[I 2022-06-08 09:30:52,845]\u001b[0m Trial 34 finished with value: 1642.513350274159 and parameters: {'n_estimators': 88, 'max_depth': 13, 'max_leaves': 73, 'learning_rate': 0.10876893298107146, 'reg_alpha': 4.0989324750708787e-07, 'reg_lambda': 0.27241772418712656}. Best is trial 19 with value: 1634.3089953279264.\u001b[0m\n",
      "\u001b[32m[I 2022-06-08 09:31:11,912]\u001b[0m Trial 35 finished with value: 1639.6499334249347 and parameters: {'n_estimators': 99, 'max_depth': 10, 'max_leaves': 77, 'learning_rate': 0.21271849582683489, 'reg_alpha': 2.6754736602459337e-06, 'reg_lambda': 0.024318508896562275}. Best is trial 19 with value: 1634.3089953279264.\u001b[0m\n",
      "\u001b[32m[I 2022-06-08 09:31:36,305]\u001b[0m Trial 36 finished with value: 1758.9113616235802 and parameters: {'n_estimators': 121, 'max_depth': 11, 'max_leaves': 55, 'learning_rate': 0.7931008237774173, 'reg_alpha': 3.5163560940058984e-08, 'reg_lambda': 9.939141815928568}. Best is trial 19 with value: 1634.3089953279264.\u001b[0m\n",
      "\u001b[32m[I 2022-06-08 09:31:57,851]\u001b[0m Trial 37 finished with value: 1629.9053690006472 and parameters: {'n_estimators': 78, 'max_depth': 12, 'max_leaves': 50, 'learning_rate': 0.14377075558083144, 'reg_alpha': 3.79987563507732e-05, 'reg_lambda': 0.7854926712759385}. Best is trial 37 with value: 1629.9053690006472.\u001b[0m\n",
      "\u001b[32m[I 2022-06-08 09:31:59,875]\u001b[0m Trial 38 finished with value: 3781.3591886287113 and parameters: {'n_estimators': 5, 'max_depth': 14, 'max_leaves': 51, 'learning_rate': 0.14122476801592077, 'reg_alpha': 3.003876892280006e-05, 'reg_lambda': 0.9644224552534824}. Best is trial 37 with value: 1629.9053690006472.\u001b[0m\n",
      "\u001b[32m[I 2022-06-08 09:32:17,915]\u001b[0m Trial 39 finished with value: 1675.9182938486526 and parameters: {'n_estimators': 77, 'max_depth': 12, 'max_leaves': 43, 'learning_rate': 0.25806574614261196, 'reg_alpha': 3.779253852112512e-05, 'reg_lambda': 0.004388377647097228}. Best is trial 37 with value: 1629.9053690006472.\u001b[0m\n",
      "\u001b[32m[I 2022-06-08 09:32:33,352]\u001b[0m Trial 40 finished with value: 1732.1826466282623 and parameters: {'n_estimators': 51, 'max_depth': 14, 'max_leaves': 31, 'learning_rate': 0.3205365140761908, 'reg_alpha': 1.0987074980686671e-05, 'reg_lambda': 0.000344859048746583}. Best is trial 37 with value: 1629.9053690006472.\u001b[0m\n",
      "\u001b[32m[I 2022-06-08 09:32:47,243]\u001b[0m Trial 41 finished with value: 1641.7447908081583 and parameters: {'n_estimators': 88, 'max_depth': 9, 'max_leaves': 59, 'learning_rate': 0.19397132903588696, 'reg_alpha': 2.821921980479878e-07, 'reg_lambda': 0.10473805861526536}. Best is trial 37 with value: 1629.9053690006472.\u001b[0m\n",
      "\u001b[32m[I 2022-06-08 09:33:07,271]\u001b[0m Trial 42 finished with value: 1666.3886296761586 and parameters: {'n_estimators': 81, 'max_depth': 13, 'max_leaves': 61, 'learning_rate': 0.14989714197334203, 'reg_alpha': 3.0158257712764233e-06, 'reg_lambda': 0.030807732152898927}. Best is trial 37 with value: 1629.9053690006472.\u001b[0m\n",
      "\u001b[32m[I 2022-06-08 09:33:32,150]\u001b[0m Trial 43 finished with value: 1628.5404564231144 and parameters: {'n_estimators': 105, 'max_depth': 12, 'max_leaves': 72, 'learning_rate': 0.2233282303944444, 'reg_alpha': 0.0010963779112241581, 'reg_lambda': 2.0280995754508435}. Best is trial 43 with value: 1628.5404564231144.\u001b[0m\n",
      "\u001b[32m[I 2022-06-08 09:33:56,090]\u001b[0m Trial 44 finished with value: 1641.6117970206817 and parameters: {'n_estimators': 132, 'max_depth': 12, 'max_leaves': 84, 'learning_rate': 0.2242627163408208, 'reg_alpha': 0.0017842806581783851, 'reg_lambda': 0.4802462560069588}. Best is trial 43 with value: 1628.5404564231144.\u001b[0m\n",
      "\u001b[32m[I 2022-06-08 09:34:16,425]\u001b[0m Trial 45 finished with value: 1609.719734781247 and parameters: {'n_estimators': 105, 'max_depth': 11, 'max_leaves': 37, 'learning_rate': 0.1373767366472806, 'reg_alpha': 0.012718693284508541, 'reg_lambda': 2.704109564577863}. Best is trial 45 with value: 1609.719734781247.\u001b[0m\n",
      "\u001b[32m[I 2022-06-08 09:34:39,153]\u001b[0m Trial 46 finished with value: 1687.365526665768 and parameters: {'n_estimators': 105, 'max_depth': 13, 'max_leaves': 37, 'learning_rate': 0.44116142234214284, 'reg_alpha': 0.0074139538327403455, 'reg_lambda': 2.1309690811991566}. Best is trial 45 with value: 1609.719734781247.\u001b[0m\n",
      "\u001b[32m[I 2022-06-08 09:34:58,862]\u001b[0m Trial 47 finished with value: 1617.7638151139436 and parameters: {'n_estimators': 116, 'max_depth': 11, 'max_leaves': 49, 'learning_rate': 0.10798772800992178, 'reg_alpha': 0.02004859540203306, 'reg_lambda': 5.048401538957882}. Best is trial 45 with value: 1609.719734781247.\u001b[0m\n",
      "\u001b[32m[I 2022-06-08 09:35:25,351]\u001b[0m Trial 48 finished with value: 1603.8272533091256 and parameters: {'n_estimators': 141, 'max_depth': 12, 'max_leaves': 50, 'learning_rate': 0.11201604434674199, 'reg_alpha': 0.02705831024214185, 'reg_lambda': 5.055856560216664}. Best is trial 48 with value: 1603.8272533091256.\u001b[0m\n",
      "\u001b[32m[I 2022-06-08 09:36:07,209]\u001b[0m Trial 49 finished with value: 1758.7312324378731 and parameters: {'n_estimators': 142, 'max_depth': 16, 'max_leaves': 47, 'learning_rate': 0.6470534402371219, 'reg_alpha': 0.0212667141485582, 'reg_lambda': 4.991130934772992}. Best is trial 48 with value: 1603.8272533091256.\u001b[0m\n"
     ]
    },
    {
     "name": "stdout",
     "output_type": "stream",
     "text": [
      "Number of finished trials: 50\n",
      "Best trial:\n",
      "  Value: 1603.8272533091256\n",
      "  Params: \n",
      "    n_estimators: 141\n",
      "    max_depth: 12\n",
      "    max_leaves: 50\n",
      "    learning_rate: 0.11201604434674199\n",
      "    reg_alpha: 0.02705831024214185\n",
      "    reg_lambda: 5.055856560216664\n"
     ]
    },
    {
     "data": {
      "text/plain": [
       "OrderedDict([('n_estimators', 0.7807181082220772),\n",
       "             ('learning_rate', 0.07791204746801371),\n",
       "             ('max_depth', 0.07228356761326553),\n",
       "             ('reg_alpha', 0.05867775879909895),\n",
       "             ('max_leaves', 0.006098454173730954),\n",
       "             ('reg_lambda', 0.004310063723813723)])"
      ]
     },
     "metadata": {},
     "output_type": "display_data"
    }
   ],
   "source": [
    "# def objective_xgb(trial):\n",
    "    \n",
    "#     params = {\n",
    "#         'n_estimators' : trial.suggest_int('n_estimators', 5, 150),\n",
    "#         'max_depth' : trial.suggest_int('max_depth', 2, 16),\n",
    "#         'max_leaves' : trial.suggest_int('max_leaves', 30, 100),\n",
    "#         'learning_rate' : trial.suggest_float('learning_rate', 0.1, 1),\n",
    "#         'reg_alpha' : trial.suggest_float('reg_alpha', 1e-8, 10.0, log=True),\n",
    "#         'reg_lambda' : trial.suggest_float('reg_lambda', 1e-8, 10.0, log=True),\n",
    "# #         'objective' : 'RMSE',\n",
    "#         'verbosity' : 0,\n",
    "#         'booster' : 'gbtree'\n",
    "#     }\n",
    "    \n",
    "#     xgb_mod = xgb.XGBRegressor(**params, random_state=12345)\n",
    "#     xgb_mod.fit(train_features, train_target)\n",
    "#     pred = xgb_mod.predict(test_features)\n",
    "#     rmse = mse(test_target, pred, squared=False)\n",
    "#     return rmse\n",
    "\n",
    "# study_xgb = optuna.create_study(direction='minimize')\n",
    "# study_xgb.optimize(objective_xgb, n_trials=50)\n",
    "\n",
    "\n",
    "# print(\"Number of finished trials: {}\".format(len(study_xgb.trials)))\n",
    "\n",
    "# print(\"Best trial:\")\n",
    "# trial_xgb = study_xgb.best_trial\n",
    "\n",
    "# print(\"  Value: {}\".format(trial_xgb.value))\n",
    "\n",
    "# print(\"  Params: \")\n",
    "# for key, value in trial_xgb.params.items():\n",
    "#     print(\"    {}: {}\".format(key, value))\n",
    "\n",
    "\n",
    "# display(optuna.importance.get_param_importances(study_xgb))\n",
    "\n",
    "\n"
   ]
  },
  {
   "cell_type": "markdown",
   "metadata": {},
   "source": [
    "Best trial:\n",
    "    \n",
    "  Value: 1603.8272533091256\n",
    "    \n",
    "  Params: \n",
    "    \n",
    "- n_estimators: 141\n",
    "- max_depth: 12\n",
    "- max_leaves: 50\n",
    "- learning_rate: 0.11201604434674199\n",
    "- reg_alpha: 0.02705831024214185\n",
    "- reg_lambda: 5.055856560216664\n",
    "\n"
   ]
  },
  {
   "cell_type": "markdown",
   "metadata": {},
   "source": [
    "## Анализ моделей"
   ]
  },
  {
   "cell_type": "markdown",
   "metadata": {},
   "source": [
    "*Сравнение лучших моделей*"
   ]
  },
  {
   "cell_type": "code",
   "execution_count": 53,
   "metadata": {},
   "outputs": [],
   "source": [
    "# best_rmses = {}\n",
    "# best_train_times = {}\n",
    "# best_pred_times = {}\n",
    "\n",
    "\n",
    "# ### CatBoost\n",
    "\n",
    "# best_cat = CatBoostRegressor(**study_cat.best_params, cat_features=cat_list, \n",
    "#                              early_stopping_rounds=70, loss_function='RMSE',\n",
    "#                              silent=True, random_state=12345)\n",
    "\n",
    "# begin = time.time()\n",
    "# best_cat.fit(train_features, train_target)\n",
    "# end = time.time()\n",
    "\n",
    "# best_train_times['CatBoost'] = end-begin\n",
    "\n",
    "# begin = time.time()\n",
    "# pred = best_cat.predict(valid_features)\n",
    "# end = time.time()\n",
    "\n",
    "# rmse = mse(valid_target, pred, squared=False)\n",
    "# best_rmses['CatBoost'] = rmse\n",
    "# best_pred_times['CatBoost'] = end-begin\n",
    "\n",
    "\n",
    "# ### LGBMRegressor\n",
    "\n",
    "# best_lgb = lgb.LGBMRegressor(**study_lgb.best_params, boosting_type='gbdt', verbose=-1, random_state=12345)\n",
    "\n",
    "# begin = time.time()\n",
    "# best_lgb.fit(train_features, train_target)\n",
    "# end = time.time()\n",
    "\n",
    "# best_train_times['LGBR'] = end-begin\n",
    "\n",
    "# begin = time.time()\n",
    "# pred = best_lgb.predict(valid_features)\n",
    "# end = time.time()\n",
    "\n",
    "# rmse = mse(valid_target, pred, squared=False)\n",
    "# best_rmses['LGBR'] = rmse\n",
    "# best_pred_times['LGBR'] = end-begin\n",
    "\n",
    "# ### XGBoost\n",
    "\n",
    "# best_xgb = xgb.XGBRegressor(**study_xgb.best_params, verbosity=0, booster='gbtree', random_state=12345)\n",
    "\n",
    "# begin = time.time()\n",
    "# best_xgb.fit(train_features, train_target)\n",
    "# end = time.time()\n",
    "\n",
    "# best_train_times['XGBoost'] = end-begin\n",
    "\n",
    "# begin = time.time()\n",
    "# pred = best_xgb.predict(valid_features)\n",
    "# end = time.time()\n",
    "\n",
    "# rmse = mse(valid_target, pred, squared=False)\n",
    "# best_rmses['XGBoost'] = rmse\n",
    "# best_pred_times['XGBoost'] = end-begin\n"
   ]
  },
  {
   "cell_type": "code",
   "execution_count": 54,
   "metadata": {},
   "outputs": [
    {
     "data": {
      "text/html": [
       "<div>\n",
       "<style scoped>\n",
       "    .dataframe tbody tr th:only-of-type {\n",
       "        vertical-align: middle;\n",
       "    }\n",
       "\n",
       "    .dataframe tbody tr th {\n",
       "        vertical-align: top;\n",
       "    }\n",
       "\n",
       "    .dataframe thead th {\n",
       "        text-align: right;\n",
       "    }\n",
       "</style>\n",
       "<table border=\"1\" class=\"dataframe\">\n",
       "  <thead>\n",
       "    <tr style=\"text-align: right;\">\n",
       "      <th></th>\n",
       "      <th>model</th>\n",
       "      <th>rmse</th>\n",
       "      <th>train_time</th>\n",
       "      <th>pred_time</th>\n",
       "    </tr>\n",
       "  </thead>\n",
       "  <tbody>\n",
       "    <tr>\n",
       "      <th>1</th>\n",
       "      <td>LGBR</td>\n",
       "      <td>1585.631124</td>\n",
       "      <td>26.797263</td>\n",
       "      <td>12.521861</td>\n",
       "    </tr>\n",
       "    <tr>\n",
       "      <th>2</th>\n",
       "      <td>XGBoost</td>\n",
       "      <td>1591.541284</td>\n",
       "      <td>42.694728</td>\n",
       "      <td>0.644562</td>\n",
       "    </tr>\n",
       "    <tr>\n",
       "      <th>0</th>\n",
       "      <td>CatBoost</td>\n",
       "      <td>1646.009119</td>\n",
       "      <td>11.697080</td>\n",
       "      <td>0.089709</td>\n",
       "    </tr>\n",
       "  </tbody>\n",
       "</table>\n",
       "</div>"
      ],
      "text/plain": [
       "      model         rmse  train_time  pred_time\n",
       "1      LGBR  1585.631124   26.797263  12.521861\n",
       "2   XGBoost  1591.541284   42.694728   0.644562\n",
       "0  CatBoost  1646.009119   11.697080   0.089709"
      ]
     },
     "metadata": {},
     "output_type": "display_data"
    }
   ],
   "source": [
    "# best_models_df = pd.DataFrame.from_dict(best_rmses, orient=\"index\")\n",
    "# best_models_df = best_models_df.merge(pd.DataFrame.from_dict(best_train_times, orient=\"index\"), how='left', on=best_models_df.index)\n",
    "# best_models_df.columns = ['model', 'rmse', 'train_time']\n",
    "# best_models_df['pred_time'] = pd.DataFrame.from_dict(best_pred_times, orient=\"index\").values\n",
    "# best_models_df = best_models_df.sort_values(by='rmse')\n",
    "# display(best_models_df)"
   ]
  },
  {
   "cell_type": "markdown",
   "metadata": {},
   "source": [
    "\n",
    "    model\trmse\ttrain_time\tpred_time\n",
    "\n",
    "    LGBR\t1585.631124\t26.797263\t12.521861\n",
    "\n",
    "    XGBoost\t1591.541284\t42.694728\t0.644562\n",
    "\n",
    "    CatBoost\t1646.009119\t11.697080\t0.089709\n",
    "    \n"
   ]
  },
  {
   "cell_type": "markdown",
   "metadata": {},
   "source": [
    "### Выводы\n",
    "\n",
    "Цель этого проекта была тем, чтобы найти лучшую модель для предсказания стоимость машин. Главные критерии были:\n",
    "\n",
    "- точность предсказаний\n",
    "- время обучения\n",
    "- скорость предсказывания\n",
    "   \n"
   ]
  },
  {
   "cell_type": "markdown",
   "metadata": {},
   "source": [
    "Лучшая модель: LGBRegressor\n",
    "    \n",
    "Время обучение: 26.797263 \n",
    "\n",
    "Время предсказывания: 12.521861\n",
    "\n",
    "RMSE: 1585.631124 \n",
    "    \n",
    "\n",
    "  Params: \n",
    "    \n",
    "- n_estimators: 900\n",
    "- learning_rate: 0.08176805647342944\n",
    "- max_depth: 13\n",
    "- reg_alpha: 0.04315868514041527\n",
    "- reg_lambda: 0.20771623873858824\n",
    "- num_leaves: 950\n",
    "- colsample_bytree: 0.6354518911703311\n",
    "- subsample: 0.94745597016541\n",
    "- subsample_freq: 3\n",
    "- min_child_samples: 30\n"
   ]
  }
 ],
 "metadata": {
  "ExecuteTimeLog": [
   {
    "duration": 69,
    "start_time": "2022-06-06T07:07:07.327Z"
   },
   {
    "duration": 1477,
    "start_time": "2022-06-06T07:35:46.795Z"
   },
   {
    "duration": 0,
    "start_time": "2022-06-06T07:35:48.274Z"
   },
   {
    "duration": 11,
    "start_time": "2022-06-06T07:35:48.347Z"
   },
   {
    "duration": 6463,
    "start_time": "2022-06-06T07:36:05.725Z"
   },
   {
    "duration": 789,
    "start_time": "2022-06-06T07:36:22.987Z"
   },
   {
    "duration": 3413,
    "start_time": "2022-06-06T07:36:25.051Z"
   },
   {
    "duration": 168,
    "start_time": "2022-06-06T07:36:28.466Z"
   },
   {
    "duration": 256,
    "start_time": "2022-06-06T07:36:30.351Z"
   },
   {
    "duration": 504,
    "start_time": "2022-06-06T07:36:31.103Z"
   },
   {
    "duration": 73,
    "start_time": "2022-06-06T07:36:31.894Z"
   },
   {
    "duration": 25,
    "start_time": "2022-06-06T07:36:32.616Z"
   },
   {
    "duration": 979,
    "start_time": "2022-06-06T07:36:33.224Z"
   },
   {
    "duration": 3,
    "start_time": "2022-06-06T07:36:34.204Z"
   },
   {
    "duration": 6950,
    "start_time": "2022-06-06T07:36:34.208Z"
   },
   {
    "duration": 10703,
    "start_time": "2022-06-06T07:36:41.162Z"
   },
   {
    "duration": 10812,
    "start_time": "2022-06-06T07:36:51.867Z"
   },
   {
    "duration": 6,
    "start_time": "2022-06-06T07:37:02.680Z"
   },
   {
    "duration": 29,
    "start_time": "2022-06-06T07:37:02.687Z"
   },
   {
    "duration": 12991,
    "start_time": "2022-06-06T07:37:02.719Z"
   },
   {
    "duration": 12710,
    "start_time": "2022-06-06T07:37:15.712Z"
   },
   {
    "duration": 114,
    "start_time": "2022-06-06T07:37:28.424Z"
   },
   {
    "duration": 65,
    "start_time": "2022-06-06T07:37:28.540Z"
   },
   {
    "duration": 93,
    "start_time": "2022-06-06T07:37:28.607Z"
   },
   {
    "duration": 93,
    "start_time": "2022-06-06T07:37:28.702Z"
   },
   {
    "duration": 71,
    "start_time": "2022-06-06T07:37:28.796Z"
   },
   {
    "duration": 78,
    "start_time": "2022-06-06T07:37:28.868Z"
   },
   {
    "duration": 41,
    "start_time": "2022-06-06T07:37:28.949Z"
   },
   {
    "duration": 404,
    "start_time": "2022-06-06T07:37:28.992Z"
   },
   {
    "duration": 538,
    "start_time": "2022-06-06T07:39:12.355Z"
   },
   {
    "duration": 570,
    "start_time": "2022-06-06T07:39:35.971Z"
   },
   {
    "duration": 2,
    "start_time": "2022-06-06T07:39:54.757Z"
   },
   {
    "duration": 29,
    "start_time": "2022-06-06T07:39:55.377Z"
   },
   {
    "duration": 25,
    "start_time": "2022-06-06T07:39:55.695Z"
   },
   {
    "duration": 1193,
    "start_time": "2022-06-06T07:39:56.815Z"
   },
   {
    "duration": 43,
    "start_time": "2022-06-06T07:39:58.283Z"
   },
   {
    "duration": 3,
    "start_time": "2022-06-06T07:39:59.271Z"
   },
   {
    "duration": 120,
    "start_time": "2022-06-06T07:39:59.812Z"
   },
   {
    "duration": 3,
    "start_time": "2022-06-07T20:58:57.485Z"
   },
   {
    "duration": 1262,
    "start_time": "2022-06-07T20:58:57.491Z"
   },
   {
    "duration": 0,
    "start_time": "2022-06-07T20:58:58.756Z"
   },
   {
    "duration": 0,
    "start_time": "2022-06-07T20:58:58.757Z"
   },
   {
    "duration": 0,
    "start_time": "2022-06-07T20:58:58.759Z"
   },
   {
    "duration": 0,
    "start_time": "2022-06-07T20:58:58.760Z"
   },
   {
    "duration": 0,
    "start_time": "2022-06-07T20:58:58.761Z"
   },
   {
    "duration": 0,
    "start_time": "2022-06-07T20:58:58.762Z"
   },
   {
    "duration": 0,
    "start_time": "2022-06-07T20:58:58.763Z"
   },
   {
    "duration": 0,
    "start_time": "2022-06-07T20:58:58.765Z"
   },
   {
    "duration": 0,
    "start_time": "2022-06-07T20:58:58.766Z"
   },
   {
    "duration": 0,
    "start_time": "2022-06-07T20:58:58.767Z"
   },
   {
    "duration": 0,
    "start_time": "2022-06-07T20:58:58.768Z"
   },
   {
    "duration": 0,
    "start_time": "2022-06-07T20:58:58.769Z"
   },
   {
    "duration": 0,
    "start_time": "2022-06-07T20:58:58.770Z"
   },
   {
    "duration": 0,
    "start_time": "2022-06-07T20:58:58.771Z"
   },
   {
    "duration": 0,
    "start_time": "2022-06-07T20:58:58.772Z"
   },
   {
    "duration": 0,
    "start_time": "2022-06-07T20:58:58.773Z"
   },
   {
    "duration": 0,
    "start_time": "2022-06-07T20:58:58.774Z"
   },
   {
    "duration": 0,
    "start_time": "2022-06-07T20:58:58.776Z"
   },
   {
    "duration": 0,
    "start_time": "2022-06-07T20:58:58.777Z"
   },
   {
    "duration": 0,
    "start_time": "2022-06-07T20:58:58.779Z"
   },
   {
    "duration": 0,
    "start_time": "2022-06-07T20:58:58.780Z"
   },
   {
    "duration": 0,
    "start_time": "2022-06-07T20:58:58.781Z"
   },
   {
    "duration": 0,
    "start_time": "2022-06-07T20:58:58.781Z"
   },
   {
    "duration": 0,
    "start_time": "2022-06-07T20:58:58.782Z"
   },
   {
    "duration": 0,
    "start_time": "2022-06-07T20:58:58.782Z"
   },
   {
    "duration": 0,
    "start_time": "2022-06-07T20:58:58.783Z"
   },
   {
    "duration": 0,
    "start_time": "2022-06-07T20:58:58.783Z"
   },
   {
    "duration": 0,
    "start_time": "2022-06-07T20:58:58.783Z"
   },
   {
    "duration": 0,
    "start_time": "2022-06-07T20:58:58.784Z"
   },
   {
    "duration": 0,
    "start_time": "2022-06-07T20:58:58.784Z"
   },
   {
    "duration": 0,
    "start_time": "2022-06-07T20:58:58.785Z"
   },
   {
    "duration": 0,
    "start_time": "2022-06-07T20:58:58.789Z"
   },
   {
    "duration": 0,
    "start_time": "2022-06-07T20:58:58.826Z"
   },
   {
    "duration": 0,
    "start_time": "2022-06-07T20:58:58.827Z"
   },
   {
    "duration": 0,
    "start_time": "2022-06-07T20:58:58.828Z"
   },
   {
    "duration": 0,
    "start_time": "2022-06-07T20:58:58.830Z"
   },
   {
    "duration": 0,
    "start_time": "2022-06-07T20:58:58.831Z"
   },
   {
    "duration": 0,
    "start_time": "2022-06-07T20:58:58.832Z"
   },
   {
    "duration": 0,
    "start_time": "2022-06-07T20:58:58.833Z"
   },
   {
    "duration": 0,
    "start_time": "2022-06-07T20:58:58.835Z"
   },
   {
    "duration": 0,
    "start_time": "2022-06-07T20:58:58.836Z"
   },
   {
    "duration": 0,
    "start_time": "2022-06-07T20:58:58.837Z"
   },
   {
    "duration": 0,
    "start_time": "2022-06-07T20:58:58.838Z"
   },
   {
    "duration": 4764,
    "start_time": "2022-06-07T20:59:11.071Z"
   },
   {
    "duration": 446,
    "start_time": "2022-06-07T20:59:24.680Z"
   },
   {
    "duration": 2260,
    "start_time": "2022-06-07T20:59:41.810Z"
   },
   {
    "duration": 13,
    "start_time": "2022-06-07T20:59:47.761Z"
   },
   {
    "duration": 3042,
    "start_time": "2022-06-07T20:59:50.484Z"
   },
   {
    "duration": 124,
    "start_time": "2022-06-07T20:59:53.528Z"
   },
   {
    "duration": 217,
    "start_time": "2022-06-07T20:59:53.653Z"
   },
   {
    "duration": 431,
    "start_time": "2022-06-07T20:59:53.872Z"
   },
   {
    "duration": 46,
    "start_time": "2022-06-07T20:59:54.305Z"
   },
   {
    "duration": 15,
    "start_time": "2022-06-07T20:59:54.353Z"
   },
   {
    "duration": 700,
    "start_time": "2022-06-07T20:59:54.370Z"
   },
   {
    "duration": 3,
    "start_time": "2022-06-07T20:59:55.071Z"
   },
   {
    "duration": 5672,
    "start_time": "2022-06-07T20:59:55.076Z"
   },
   {
    "duration": 28,
    "start_time": "2022-06-07T21:00:00.750Z"
   },
   {
    "duration": 8009,
    "start_time": "2022-06-07T21:00:00.779Z"
   },
   {
    "duration": 8606,
    "start_time": "2022-06-07T21:00:08.790Z"
   },
   {
    "duration": 4,
    "start_time": "2022-06-07T21:00:17.397Z"
   },
   {
    "duration": 6,
    "start_time": "2022-06-07T21:00:17.403Z"
   },
   {
    "duration": 10256,
    "start_time": "2022-06-07T21:00:17.411Z"
   },
   {
    "duration": 10240,
    "start_time": "2022-06-07T21:00:27.669Z"
   },
   {
    "duration": 98,
    "start_time": "2022-06-07T21:00:37.911Z"
   },
   {
    "duration": 67,
    "start_time": "2022-06-07T21:00:38.010Z"
   },
   {
    "duration": 86,
    "start_time": "2022-06-07T21:00:38.079Z"
   },
   {
    "duration": 104,
    "start_time": "2022-06-07T21:00:38.166Z"
   },
   {
    "duration": 40,
    "start_time": "2022-06-07T21:00:38.271Z"
   },
   {
    "duration": 63,
    "start_time": "2022-06-07T21:00:38.313Z"
   },
   {
    "duration": 72,
    "start_time": "2022-06-07T21:00:38.379Z"
   },
   {
    "duration": 39,
    "start_time": "2022-06-07T21:00:38.453Z"
   },
   {
    "duration": 356,
    "start_time": "2022-06-07T21:00:38.494Z"
   },
   {
    "duration": 27,
    "start_time": "2022-06-07T21:00:38.851Z"
   },
   {
    "duration": 301004,
    "start_time": "2022-06-07T21:00:38.880Z"
   },
   {
    "duration": 63,
    "start_time": "2022-06-07T21:05:39.888Z"
   },
   {
    "duration": 2,
    "start_time": "2022-06-07T21:05:39.952Z"
   },
   {
    "duration": 31,
    "start_time": "2022-06-07T21:05:39.956Z"
   },
   {
    "duration": 38,
    "start_time": "2022-06-07T21:05:39.989Z"
   },
   {
    "duration": 890,
    "start_time": "2022-06-07T21:05:40.029Z"
   },
   {
    "duration": 62,
    "start_time": "2022-06-07T21:05:40.920Z"
   },
   {
    "duration": 2,
    "start_time": "2022-06-07T21:05:40.984Z"
   },
   {
    "duration": 85,
    "start_time": "2022-06-07T21:05:40.988Z"
   },
   {
    "duration": 126,
    "start_time": "2022-06-07T21:05:41.074Z"
   },
   {
    "duration": 0,
    "start_time": "2022-06-07T21:05:41.201Z"
   },
   {
    "duration": 0,
    "start_time": "2022-06-07T21:05:41.202Z"
   },
   {
    "duration": 0,
    "start_time": "2022-06-07T21:05:41.203Z"
   },
   {
    "duration": 0,
    "start_time": "2022-06-07T21:05:41.204Z"
   },
   {
    "duration": 0,
    "start_time": "2022-06-07T21:05:41.206Z"
   },
   {
    "duration": 0,
    "start_time": "2022-06-07T21:05:41.207Z"
   },
   {
    "duration": 0,
    "start_time": "2022-06-07T21:05:41.207Z"
   },
   {
    "duration": 164,
    "start_time": "2022-06-07T21:07:11.469Z"
   },
   {
    "duration": 41,
    "start_time": "2022-06-07T21:07:18.049Z"
   }
  ],
  "celltoolbar": "Необработанный формат ячейки",
  "kernelspec": {
   "display_name": "Python 3 (ipykernel)",
   "language": "python",
   "name": "python3"
  },
  "language_info": {
   "codemirror_mode": {
    "name": "ipython",
    "version": 3
   },
   "file_extension": ".py",
   "mimetype": "text/x-python",
   "name": "python",
   "nbconvert_exporter": "python",
   "pygments_lexer": "ipython3",
   "version": "3.9.7"
  },
  "toc": {
   "base_numbering": 1,
   "nav_menu": {},
   "number_sections": true,
   "sideBar": true,
   "skip_h1_title": true,
   "title_cell": "Table of Contents",
   "title_sidebar": "Contents",
   "toc_cell": false,
   "toc_position": {},
   "toc_section_display": true,
   "toc_window_display": false
  }
 },
 "nbformat": 4,
 "nbformat_minor": 2
}
