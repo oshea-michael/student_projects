{
 "cells": [
  {
   "cell_type": "markdown",
   "metadata": {
    "id": "VUC88oWjTJw2"
   },
   "source": [
    "# Music Service\n",
    "\n",
    "The goal of this project was to check the validity of three hypotheses about the music listening habits of users in Moscow and Saint Petersburg.\n",
    "\n",
    "1. Listener activity depends on the day of the week, and this purported relationship expresses itself differently in Moscow and Saint Petersburg.\n",
    "2. On Monday morning and on Friday evening there are specific genres that tend to be chosen, and furthermore these genres differ between Moscow and Saint Petersburg.\n",
    "3. Moscow and Saint Petersburg prefer different genres more generally; listeners in Moscow more often choose pop music, and Saint Petersburg more often choose Russian rap.\n",
    "\n",
    "The dataset was received with a variety of problems and imperfections. As such, the project will be completed in three steps:\n",
    "1. Evaluation of quality of dataset\n",
    "2. Datacleaning\n",
    "3. Hypothesis verification\n",
    "\n",
    "\n",
    "This was my first project. As it is rather simple in its goals, this didn't affect the overall success of the project. One thing worth mentioning, however, is the method of hypothesis verification, which could be done in a more structured and reliable manner. In terms of style, it is worth mentioning that in this and other early projects I wrote a rather large number of comments within the code itself, which I avoid doing in later projects.\n",
    "\n"
   ]
  },
  {
   "cell_type": "markdown",
   "metadata": {
    "id": "Ml1hmfXC_Zcs"
   },
   "source": [
    "## Обзор данных\n",
    "\n",
    "\n",
    "\n"
   ]
  },
  {
   "cell_type": "code",
   "execution_count": 3,
   "metadata": {
    "id": "AXN7PHPN_Zcs"
   },
   "outputs": [],
   "source": [
    "# импортирование библиотек\n",
    "import pandas as pd\n",
    "import seaborn as sb"
   ]
  },
  {
   "cell_type": "code",
   "execution_count": 4,
   "metadata": {
    "id": "fFVu7vqh_Zct"
   },
   "outputs": [],
   "source": [
    "# чтение файла с данными и сохранение в df\n",
    "df = pd.read_csv('/datasets/yandex_music_project.csv')"
   ]
  },
  {
   "cell_type": "code",
   "execution_count": 5,
   "metadata": {
    "id": "oWTVX3gW_Zct"
   },
   "outputs": [
    {
     "data": {
      "text/html": [
       "<div>\n",
       "<style scoped>\n",
       "    .dataframe tbody tr th:only-of-type {\n",
       "        vertical-align: middle;\n",
       "    }\n",
       "\n",
       "    .dataframe tbody tr th {\n",
       "        vertical-align: top;\n",
       "    }\n",
       "\n",
       "    .dataframe thead th {\n",
       "        text-align: right;\n",
       "    }\n",
       "</style>\n",
       "<table border=\"1\" class=\"dataframe\">\n",
       "  <thead>\n",
       "    <tr style=\"text-align: right;\">\n",
       "      <th></th>\n",
       "      <th>userID</th>\n",
       "      <th>Track</th>\n",
       "      <th>artist</th>\n",
       "      <th>genre</th>\n",
       "      <th>City</th>\n",
       "      <th>time</th>\n",
       "      <th>Day</th>\n",
       "    </tr>\n",
       "  </thead>\n",
       "  <tbody>\n",
       "    <tr>\n",
       "      <td>0</td>\n",
       "      <td>FFB692EC</td>\n",
       "      <td>Kamigata To Boots</td>\n",
       "      <td>The Mass Missile</td>\n",
       "      <td>rock</td>\n",
       "      <td>Saint-Petersburg</td>\n",
       "      <td>20:28:33</td>\n",
       "      <td>Wednesday</td>\n",
       "    </tr>\n",
       "    <tr>\n",
       "      <td>1</td>\n",
       "      <td>55204538</td>\n",
       "      <td>Delayed Because of Accident</td>\n",
       "      <td>Andreas Rönnberg</td>\n",
       "      <td>rock</td>\n",
       "      <td>Moscow</td>\n",
       "      <td>14:07:09</td>\n",
       "      <td>Friday</td>\n",
       "    </tr>\n",
       "    <tr>\n",
       "      <td>2</td>\n",
       "      <td>20EC38</td>\n",
       "      <td>Funiculì funiculà</td>\n",
       "      <td>Mario Lanza</td>\n",
       "      <td>pop</td>\n",
       "      <td>Saint-Petersburg</td>\n",
       "      <td>20:58:07</td>\n",
       "      <td>Wednesday</td>\n",
       "    </tr>\n",
       "    <tr>\n",
       "      <td>3</td>\n",
       "      <td>A3DD03C9</td>\n",
       "      <td>Dragons in the Sunset</td>\n",
       "      <td>Fire + Ice</td>\n",
       "      <td>folk</td>\n",
       "      <td>Saint-Petersburg</td>\n",
       "      <td>08:37:09</td>\n",
       "      <td>Monday</td>\n",
       "    </tr>\n",
       "    <tr>\n",
       "      <td>4</td>\n",
       "      <td>E2DC1FAE</td>\n",
       "      <td>Soul People</td>\n",
       "      <td>Space Echo</td>\n",
       "      <td>dance</td>\n",
       "      <td>Moscow</td>\n",
       "      <td>08:34:34</td>\n",
       "      <td>Monday</td>\n",
       "    </tr>\n",
       "    <tr>\n",
       "      <td>5</td>\n",
       "      <td>842029A1</td>\n",
       "      <td>Преданная</td>\n",
       "      <td>IMPERVTOR</td>\n",
       "      <td>rusrap</td>\n",
       "      <td>Saint-Petersburg</td>\n",
       "      <td>13:09:41</td>\n",
       "      <td>Friday</td>\n",
       "    </tr>\n",
       "    <tr>\n",
       "      <td>6</td>\n",
       "      <td>4CB90AA5</td>\n",
       "      <td>True</td>\n",
       "      <td>Roman Messer</td>\n",
       "      <td>dance</td>\n",
       "      <td>Moscow</td>\n",
       "      <td>13:00:07</td>\n",
       "      <td>Wednesday</td>\n",
       "    </tr>\n",
       "    <tr>\n",
       "      <td>7</td>\n",
       "      <td>F03E1C1F</td>\n",
       "      <td>Feeling This Way</td>\n",
       "      <td>Polina Griffith</td>\n",
       "      <td>dance</td>\n",
       "      <td>Moscow</td>\n",
       "      <td>20:47:49</td>\n",
       "      <td>Wednesday</td>\n",
       "    </tr>\n",
       "    <tr>\n",
       "      <td>8</td>\n",
       "      <td>8FA1D3BE</td>\n",
       "      <td>И вновь продолжается бой</td>\n",
       "      <td>NaN</td>\n",
       "      <td>ruspop</td>\n",
       "      <td>Moscow</td>\n",
       "      <td>09:17:40</td>\n",
       "      <td>Friday</td>\n",
       "    </tr>\n",
       "    <tr>\n",
       "      <td>9</td>\n",
       "      <td>E772D5C0</td>\n",
       "      <td>Pessimist</td>\n",
       "      <td>NaN</td>\n",
       "      <td>dance</td>\n",
       "      <td>Saint-Petersburg</td>\n",
       "      <td>21:20:49</td>\n",
       "      <td>Wednesday</td>\n",
       "    </tr>\n",
       "  </tbody>\n",
       "</table>\n",
       "</div>"
      ],
      "text/plain": [
       "     userID                        Track            artist   genre  \\\n",
       "0  FFB692EC            Kamigata To Boots  The Mass Missile    rock   \n",
       "1  55204538  Delayed Because of Accident  Andreas Rönnberg    rock   \n",
       "2    20EC38            Funiculì funiculà       Mario Lanza     pop   \n",
       "3  A3DD03C9        Dragons in the Sunset        Fire + Ice    folk   \n",
       "4  E2DC1FAE                  Soul People        Space Echo   dance   \n",
       "5  842029A1                    Преданная         IMPERVTOR  rusrap   \n",
       "6  4CB90AA5                         True      Roman Messer   dance   \n",
       "7  F03E1C1F             Feeling This Way   Polina Griffith   dance   \n",
       "8  8FA1D3BE     И вновь продолжается бой               NaN  ruspop   \n",
       "9  E772D5C0                    Pessimist               NaN   dance   \n",
       "\n",
       "             City        time        Day  \n",
       "0  Saint-Petersburg  20:28:33  Wednesday  \n",
       "1            Moscow  14:07:09     Friday  \n",
       "2  Saint-Petersburg  20:58:07  Wednesday  \n",
       "3  Saint-Petersburg  08:37:09     Monday  \n",
       "4            Moscow  08:34:34     Monday  \n",
       "5  Saint-Petersburg  13:09:41     Friday  \n",
       "6            Moscow  13:00:07  Wednesday  \n",
       "7            Moscow  20:47:49  Wednesday  \n",
       "8            Moscow  09:17:40     Friday  \n",
       "9  Saint-Petersburg  21:20:49  Wednesday  "
      ]
     },
     "metadata": {},
     "output_type": "display_data"
    }
   ],
   "source": [
    "# получение первых 10 строк таблицы df\n",
    "display(df.head(10))"
   ]
  },
  {
   "cell_type": "code",
   "execution_count": 6,
   "metadata": {
    "id": "DSf2kIb-_Zct"
   },
   "outputs": [
    {
     "name": "stdout",
     "output_type": "stream",
     "text": [
      "<class 'pandas.core.frame.DataFrame'>\n",
      "RangeIndex: 65079 entries, 0 to 65078\n",
      "Data columns (total 7 columns):\n",
      "  userID    65079 non-null object\n",
      "Track       63848 non-null object\n",
      "artist      57876 non-null object\n",
      "genre       63881 non-null object\n",
      "  City      65079 non-null object\n",
      "time        65079 non-null object\n",
      "Day         65079 non-null object\n",
      "dtypes: object(7)\n",
      "memory usage: 3.5+ MB\n"
     ]
    }
   ],
   "source": [
    "# получение общей информации о данных в таблице df\n",
    "df.info()"
   ]
  },
  {
   "cell_type": "markdown",
   "metadata": {
    "id": "TaQ2Iwbr_Zct"
   },
   "source": [
    "И так, в таблице семь столбцов. Тип данных во всех столбцах — `object`.\n",
    "\n",
    "Согласно документации к данным:\n",
    "* `userID` — идентификатор пользователя;\n",
    "* `Track` — название трека;  \n",
    "* `artist` — имя исполнителя;\n",
    "* `genre` — название жанра;\n",
    "* `City` — город пользователя;\n",
    "* `time` — время начала прослушивания;\n",
    "* `Day` — день недели.\n",
    "\n",
    "В названиях колонок видны три нарушения стиля:\n",
    "1. Строчные буквы сочетаются с прописными.\n",
    "2. Встречаются пробелы.\n",
    "3. Отдельные слова (в одной переменной) не разделены; для этого принято использовать змеиный регистр (`for_example`)\n",
    "\n",
    "\n",
    "\n",
    "Количество значений в столбцах различается. Значит, в данных есть пропущенные значения.\n"
   ]
  },
  {
   "cell_type": "markdown",
   "metadata": {
    "id": "MCB6-dXG_Zct"
   },
   "source": [
    "**Выводы**\n",
    "\n",
    "В каждой строке таблицы — данные о прослушанном треке. Часть колонок описывает саму композицию: название, исполнителя и жанр. Остальные данные рассказывают о пользователе: из какого он города, когда он слушал музыку. \n",
    "\n",
    "Предварительно можно утверждать, что, данных достаточно для проверки гипотез. Но встречаются пропуски в данных, а в названиях колонок — расхождения с хорошим стилем.\n",
    "\n",
    "Чтобы двигаться дальше, нужно устранить проблемы в данных."
   ]
  },
  {
   "cell_type": "markdown",
   "metadata": {
    "id": "SjYF6Ub9_Zct"
   },
   "source": [
    "## Предобработка данных\n"
   ]
  },
  {
   "cell_type": "markdown",
   "metadata": {
    "id": "dIaKXr29_Zct"
   },
   "source": [
    "### Стиль заголовков\n"
   ]
  },
  {
   "cell_type": "code",
   "execution_count": 7,
   "metadata": {
    "id": "oKOTdF_Q_Zct"
   },
   "outputs": [
    {
     "data": {
      "text/plain": [
       "Index(['  userID', 'Track', 'artist', 'genre', '  City  ', 'time', 'Day'], dtype='object')"
      ]
     },
     "execution_count": 7,
     "metadata": {},
     "output_type": "execute_result"
    }
   ],
   "source": [
    "# перечень названий столбцов таблицы df\n",
    "df.columns"
   ]
  },
  {
   "cell_type": "code",
   "execution_count": 8,
   "metadata": {
    "id": "ISlFqs5y_Zct"
   },
   "outputs": [],
   "source": [
    "# переименование столбцов\n",
    "df = df.rename(columns={'  userID':'user_id', 'Track':'track', '  City  ':'city', 'Day':'day'})"
   ]
  },
  {
   "cell_type": "code",
   "execution_count": 9,
   "metadata": {
    "id": "d4NOAmTW_Zct"
   },
   "outputs": [
    {
     "data": {
      "text/plain": [
       "Index(['user_id', 'track', 'artist', 'genre', 'city', 'time', 'day'], dtype='object')"
      ]
     },
     "execution_count": 9,
     "metadata": {},
     "output_type": "execute_result"
    }
   ],
   "source": [
    "# проверка результатов - перечень названий столбцов\n",
    "df.columns"
   ]
  },
  {
   "cell_type": "markdown",
   "metadata": {
    "id": "5ISfbcfY_Zct"
   },
   "source": [
    "### Пропуски значений\n"
   ]
  },
  {
   "cell_type": "code",
   "execution_count": 10,
   "metadata": {
    "id": "RskX29qr_Zct"
   },
   "outputs": [
    {
     "data": {
      "text/plain": [
       "user_id       0\n",
       "track      1231\n",
       "artist     7203\n",
       "genre      1198\n",
       "city          0\n",
       "time          0\n",
       "day           0\n",
       "dtype: int64"
      ]
     },
     "execution_count": 10,
     "metadata": {},
     "output_type": "execute_result"
    }
   ],
   "source": [
    "# подсчёт пропусков\n",
    "df.isna().sum()"
   ]
  },
  {
   "cell_type": "code",
   "execution_count": 11,
   "metadata": {
    "id": "KplB5qWs_Zct"
   },
   "outputs": [],
   "source": [
    "# перебор названий столбцов в цикле и замена пропущенных значений на 'unknown'\n",
    "columns_to_replace = ['track', 'artist', 'genre']\n",
    "for column in columns_to_replace:\n",
    "    df[column] = df[column].fillna('unknown')"
   ]
  },
  {
   "cell_type": "code",
   "execution_count": 12,
   "metadata": {
    "id": "Tq4nYRX4_Zct"
   },
   "outputs": [
    {
     "data": {
      "text/plain": [
       "user_id    0\n",
       "track      0\n",
       "artist     0\n",
       "genre      0\n",
       "city       0\n",
       "time       0\n",
       "day        0\n",
       "dtype: int64"
      ]
     },
     "execution_count": 12,
     "metadata": {},
     "output_type": "execute_result"
    }
   ],
   "source": [
    "# подсчёт пропусков\n",
    "df.isna().sum()"
   ]
  },
  {
   "cell_type": "markdown",
   "metadata": {
    "id": "BWKRtBJ3_Zct"
   },
   "source": [
    "### Дубликаты\n"
   ]
  },
  {
   "cell_type": "code",
   "execution_count": 13,
   "metadata": {
    "id": "36eES_S0_Zct"
   },
   "outputs": [
    {
     "name": "stdout",
     "output_type": "stream",
     "text": [
      "Начальное количество явных дубликатов: 3826\n"
     ]
    }
   ],
   "source": [
    "# подсчёт явных дубликатов\n",
    "print('Начальное количество явных дубликатов:', df.duplicated().sum())"
   ]
  },
  {
   "cell_type": "code",
   "execution_count": 14,
   "metadata": {
    "id": "exFHq6tt_Zct"
   },
   "outputs": [],
   "source": [
    "# удаление явных дубликатов (с удалением старых индексов и формированием новых)\n",
    "df = df.drop_duplicates().reset_index(drop=True)"
   ]
  },
  {
   "cell_type": "code",
   "execution_count": 15,
   "metadata": {
    "id": "-8PuNWQ0_Zct"
   },
   "outputs": [
    {
     "name": "stdout",
     "output_type": "stream",
     "text": [
      "Новое количество явных дубликатов: 0\n"
     ]
    }
   ],
   "source": [
    "# проверка на отсутствие дубликатов\n",
    "print('Новое количество явных дубликатов:', df.duplicated().sum())"
   ]
  },
  {
   "cell_type": "code",
   "execution_count": 16,
   "metadata": {
    "id": "JIUcqzZN_Zct"
   },
   "outputs": [
    {
     "data": {
      "text/plain": [
       "array(['acid', 'acoustic', 'action', 'adult', 'africa', 'afrikaans',\n",
       "       'alternative', 'alternativepunk', 'ambient', 'americana',\n",
       "       'animated', 'anime', 'arabesk', 'arabic', 'arena',\n",
       "       'argentinetango', 'art', 'audiobook', 'author', 'avantgarde',\n",
       "       'axé', 'baile', 'balkan', 'beats', 'bigroom', 'black', 'bluegrass',\n",
       "       'blues', 'bollywood', 'bossa', 'brazilian', 'breakbeat', 'breaks',\n",
       "       'broadway', 'cantautori', 'cantopop', 'canzone', 'caribbean',\n",
       "       'caucasian', 'celtic', 'chamber', 'chanson', 'children', 'chill',\n",
       "       'chinese', 'choral', 'christian', 'christmas', 'classical',\n",
       "       'classicmetal', 'club', 'colombian', 'comedy', 'conjazz',\n",
       "       'contemporary', 'country', 'cuban', 'dance', 'dancehall',\n",
       "       'dancepop', 'dark', 'death', 'deep', 'deutschrock', 'deutschspr',\n",
       "       'dirty', 'disco', 'dnb', 'documentary', 'downbeat', 'downtempo',\n",
       "       'drum', 'dub', 'dubstep', 'eastern', 'easy', 'electronic',\n",
       "       'electropop', 'emo', 'entehno', 'epicmetal', 'estrada', 'ethnic',\n",
       "       'eurofolk', 'european', 'experimental', 'extrememetal', 'fado',\n",
       "       'fairytail', 'film', 'fitness', 'flamenco', 'folk', 'folklore',\n",
       "       'folkmetal', 'folkrock', 'folktronica', 'forró', 'frankreich',\n",
       "       'französisch', 'french', 'funk', 'future', 'gangsta', 'garage',\n",
       "       'german', 'ghazal', 'gitarre', 'glitch', 'gospel', 'gothic',\n",
       "       'grime', 'grunge', 'gypsy', 'handsup', \"hard'n'heavy\", 'hardcore',\n",
       "       'hardstyle', 'hardtechno', 'hip', 'hip-hop', 'hiphop',\n",
       "       'historisch', 'holiday', 'hop', 'horror', 'house', 'hymn', 'idm',\n",
       "       'independent', 'indian', 'indie', 'indipop', 'industrial',\n",
       "       'inspirational', 'instrumental', 'international', 'irish', 'jam',\n",
       "       'japanese', 'jazz', 'jewish', 'jpop', 'jungle', 'k-pop',\n",
       "       'karadeniz', 'karaoke', 'kayokyoku', 'korean', 'laiko', 'latin',\n",
       "       'latino', 'leftfield', 'local', 'lounge', 'loungeelectronic',\n",
       "       'lovers', 'malaysian', 'mandopop', 'marschmusik', 'meditative',\n",
       "       'mediterranean', 'melodic', 'metal', 'metalcore', 'mexican',\n",
       "       'middle', 'minimal', 'miscellaneous', 'modern', 'mood', 'mpb',\n",
       "       'muslim', 'native', 'neoklassik', 'neue', 'new', 'newage',\n",
       "       'newwave', 'nu', 'nujazz', 'numetal', 'oceania', 'old', 'opera',\n",
       "       'orchestral', 'other', 'piano', 'podcasts', 'pop', 'popdance',\n",
       "       'popelectronic', 'popeurodance', 'poprussian', 'post',\n",
       "       'posthardcore', 'postrock', 'power', 'progmetal', 'progressive',\n",
       "       'psychedelic', 'punjabi', 'punk', 'quebecois', 'ragga', 'ram',\n",
       "       'rancheras', 'rap', 'rave', 'reggae', 'reggaeton', 'regional',\n",
       "       'relax', 'religious', 'retro', 'rhythm', 'rnb', 'rnr', 'rock',\n",
       "       'rockabilly', 'rockalternative', 'rockindie', 'rockother',\n",
       "       'romance', 'roots', 'ruspop', 'rusrap', 'rusrock', 'russian',\n",
       "       'salsa', 'samba', 'scenic', 'schlager', 'self', 'sertanejo',\n",
       "       'shanson', 'shoegazing', 'showtunes', 'singer', 'ska', 'skarock',\n",
       "       'slow', 'smooth', 'soft', 'soul', 'soulful', 'sound', 'soundtrack',\n",
       "       'southern', 'specialty', 'speech', 'spiritual', 'sport',\n",
       "       'stonerrock', 'surf', 'swing', 'synthpop', 'synthrock',\n",
       "       'sängerportrait', 'tango', 'tanzorchester', 'taraftar', 'tatar',\n",
       "       'tech', 'techno', 'teen', 'thrash', 'top', 'traditional',\n",
       "       'tradjazz', 'trance', 'tribal', 'trip', 'triphop', 'tropical',\n",
       "       'türk', 'türkçe', 'ukrrock', 'unknown', 'urban', 'uzbek',\n",
       "       'variété', 'vi', 'videogame', 'vocal', 'western', 'world',\n",
       "       'worldbeat', 'ïîï', 'электроника'], dtype=object)"
      ]
     },
     "execution_count": 16,
     "metadata": {},
     "output_type": "execute_result"
    }
   ],
   "source": [
    "# Просмотр уникальных названий жанров\n",
    "df['genre'].sort_values().unique()"
   ]
  },
  {
   "cell_type": "code",
   "execution_count": 17,
   "metadata": {
    "id": "ErNDkmns_Zct"
   },
   "outputs": [],
   "source": [
    "# Функция для замены неявных дубликатов\n",
    "def replace_wrong_genres(wrong_genres, correct_genre):\n",
    "    df['genre'] = df['genre'].replace(wrong_genres, correct_genre)"
   ]
  },
  {
   "cell_type": "code",
   "execution_count": 18,
   "metadata": {
    "id": "YN5i2hpmSo09"
   },
   "outputs": [],
   "source": [
    "# Устранение неявных дубликатов\n",
    "replace_wrong_genres(['hip', 'hop', 'hip-hop'], 'hiphop')  # устранение дубликатов жанра hiphop\n",
    "\n",
    "# устранение других ошибок в названиях\n",
    "replace_wrong_genres('электроника', 'electronic')\n",
    "replace_wrong_genres('ïîï', 'unknown')\n",
    "# с помошью онлайн дешифровщика нашёл, что 'ïîï' возможно значит 'ОНО', но считаю это тоже непознатым жанром\n"
   ]
  },
  {
   "cell_type": "code",
   "execution_count": 19,
   "metadata": {
    "id": "wvixALnFG15m"
   },
   "outputs": [
    {
     "data": {
      "text/plain": [
       "array(['acid', 'acoustic', 'action', 'adult', 'africa', 'afrikaans',\n",
       "       'alternative', 'alternativepunk', 'ambient', 'americana',\n",
       "       'animated', 'anime', 'arabesk', 'arabic', 'arena',\n",
       "       'argentinetango', 'art', 'audiobook', 'author', 'avantgarde',\n",
       "       'axé', 'baile', 'balkan', 'beats', 'bigroom', 'black', 'bluegrass',\n",
       "       'blues', 'bollywood', 'bossa', 'brazilian', 'breakbeat', 'breaks',\n",
       "       'broadway', 'cantautori', 'cantopop', 'canzone', 'caribbean',\n",
       "       'caucasian', 'celtic', 'chamber', 'chanson', 'children', 'chill',\n",
       "       'chinese', 'choral', 'christian', 'christmas', 'classical',\n",
       "       'classicmetal', 'club', 'colombian', 'comedy', 'conjazz',\n",
       "       'contemporary', 'country', 'cuban', 'dance', 'dancehall',\n",
       "       'dancepop', 'dark', 'death', 'deep', 'deutschrock', 'deutschspr',\n",
       "       'dirty', 'disco', 'dnb', 'documentary', 'downbeat', 'downtempo',\n",
       "       'drum', 'dub', 'dubstep', 'eastern', 'easy', 'electronic',\n",
       "       'electropop', 'emo', 'entehno', 'epicmetal', 'estrada', 'ethnic',\n",
       "       'eurofolk', 'european', 'experimental', 'extrememetal', 'fado',\n",
       "       'fairytail', 'film', 'fitness', 'flamenco', 'folk', 'folklore',\n",
       "       'folkmetal', 'folkrock', 'folktronica', 'forró', 'frankreich',\n",
       "       'französisch', 'french', 'funk', 'future', 'gangsta', 'garage',\n",
       "       'german', 'ghazal', 'gitarre', 'glitch', 'gospel', 'gothic',\n",
       "       'grime', 'grunge', 'gypsy', 'handsup', \"hard'n'heavy\", 'hardcore',\n",
       "       'hardstyle', 'hardtechno', 'hiphop', 'historisch', 'holiday',\n",
       "       'horror', 'house', 'hymn', 'idm', 'independent', 'indian', 'indie',\n",
       "       'indipop', 'industrial', 'inspirational', 'instrumental',\n",
       "       'international', 'irish', 'jam', 'japanese', 'jazz', 'jewish',\n",
       "       'jpop', 'jungle', 'k-pop', 'karadeniz', 'karaoke', 'kayokyoku',\n",
       "       'korean', 'laiko', 'latin', 'latino', 'leftfield', 'local',\n",
       "       'lounge', 'loungeelectronic', 'lovers', 'malaysian', 'mandopop',\n",
       "       'marschmusik', 'meditative', 'mediterranean', 'melodic', 'metal',\n",
       "       'metalcore', 'mexican', 'middle', 'minimal', 'miscellaneous',\n",
       "       'modern', 'mood', 'mpb', 'muslim', 'native', 'neoklassik', 'neue',\n",
       "       'new', 'newage', 'newwave', 'nu', 'nujazz', 'numetal', 'oceania',\n",
       "       'old', 'opera', 'orchestral', 'other', 'piano', 'podcasts', 'pop',\n",
       "       'popdance', 'popelectronic', 'popeurodance', 'poprussian', 'post',\n",
       "       'posthardcore', 'postrock', 'power', 'progmetal', 'progressive',\n",
       "       'psychedelic', 'punjabi', 'punk', 'quebecois', 'ragga', 'ram',\n",
       "       'rancheras', 'rap', 'rave', 'reggae', 'reggaeton', 'regional',\n",
       "       'relax', 'religious', 'retro', 'rhythm', 'rnb', 'rnr', 'rock',\n",
       "       'rockabilly', 'rockalternative', 'rockindie', 'rockother',\n",
       "       'romance', 'roots', 'ruspop', 'rusrap', 'rusrock', 'russian',\n",
       "       'salsa', 'samba', 'scenic', 'schlager', 'self', 'sertanejo',\n",
       "       'shanson', 'shoegazing', 'showtunes', 'singer', 'ska', 'skarock',\n",
       "       'slow', 'smooth', 'soft', 'soul', 'soulful', 'sound', 'soundtrack',\n",
       "       'southern', 'specialty', 'speech', 'spiritual', 'sport',\n",
       "       'stonerrock', 'surf', 'swing', 'synthpop', 'synthrock',\n",
       "       'sängerportrait', 'tango', 'tanzorchester', 'taraftar', 'tatar',\n",
       "       'tech', 'techno', 'teen', 'thrash', 'top', 'traditional',\n",
       "       'tradjazz', 'trance', 'tribal', 'trip', 'triphop', 'tropical',\n",
       "       'türk', 'türkçe', 'ukrrock', 'unknown', 'urban', 'uzbek',\n",
       "       'variété', 'vi', 'videogame', 'vocal', 'western', 'world',\n",
       "       'worldbeat'], dtype=object)"
      ]
     },
     "execution_count": 19,
     "metadata": {},
     "output_type": "execute_result"
    }
   ],
   "source": [
    "# Проверка на неявные дубликаты\n",
    "df['genre'].sort_values().unique()"
   ]
  },
  {
   "cell_type": "markdown",
   "metadata": {
    "id": "jz6a9-7HQUDd"
   },
   "source": [
    "**Выводы**\n",
    "\n",
    "Предобработка обнаружила три проблемы в данных:\n",
    "\n",
    "- нарушения в стиле заголовков,\n",
    "- пропущенные значения,\n",
    "- дубликаты — явные и неявные.\n"
   ]
  },
  {
   "cell_type": "markdown",
   "metadata": {
    "id": "WttZHXH0SqKk"
   },
   "source": [
    "## Проверка гипотез"
   ]
  },
  {
   "cell_type": "markdown",
   "metadata": {
    "id": "Im936VVi_Zcu"
   },
   "source": [
    "### Сравнение поведения пользователей двух столиц"
   ]
  },
  {
   "cell_type": "code",
   "execution_count": 20,
   "metadata": {
    "id": "0_Qs96oh_Zcu"
   },
   "outputs": [
    {
     "data": {
      "text/plain": [
       "city\n",
       "Moscow              42741\n",
       "Saint-Petersburg    18512\n",
       "Name: genre, dtype: int64"
      ]
     },
     "execution_count": 20,
     "metadata": {},
     "output_type": "execute_result"
    }
   ],
   "source": [
    "# Подсчёт прослушиваний в каждом городе\n",
    "df.groupby('city')['genre'].count()"
   ]
  },
  {
   "cell_type": "markdown",
   "metadata": {
    "id": "dzli3w8o_Zcu"
   },
   "source": [
    "В Москве прослушиваний больше, чем в Петербурге. Из этого не следует, что московские пользователи чаще слушают музыку. Просто самих пользователей в Москве больше.\n"
   ]
  },
  {
   "cell_type": "code",
   "execution_count": 21,
   "metadata": {
    "id": "uZMKjiJz_Zcu"
   },
   "outputs": [
    {
     "data": {
      "text/html": [
       "<div>\n",
       "<style scoped>\n",
       "    .dataframe tbody tr th:only-of-type {\n",
       "        vertical-align: middle;\n",
       "    }\n",
       "\n",
       "    .dataframe tbody tr th {\n",
       "        vertical-align: top;\n",
       "    }\n",
       "\n",
       "    .dataframe thead th {\n",
       "        text-align: right;\n",
       "    }\n",
       "</style>\n",
       "<table border=\"1\" class=\"dataframe\">\n",
       "  <thead>\n",
       "    <tr style=\"text-align: right;\">\n",
       "      <th></th>\n",
       "      <th>genre</th>\n",
       "    </tr>\n",
       "    <tr>\n",
       "      <th>day</th>\n",
       "      <th></th>\n",
       "    </tr>\n",
       "  </thead>\n",
       "  <tbody>\n",
       "    <tr>\n",
       "      <td>Friday</td>\n",
       "      <td>21840</td>\n",
       "    </tr>\n",
       "    <tr>\n",
       "      <td>Monday</td>\n",
       "      <td>21354</td>\n",
       "    </tr>\n",
       "    <tr>\n",
       "      <td>Wednesday</td>\n",
       "      <td>18059</td>\n",
       "    </tr>\n",
       "  </tbody>\n",
       "</table>\n",
       "</div>"
      ],
      "text/plain": [
       "           genre\n",
       "day             \n",
       "Friday     21840\n",
       "Monday     21354\n",
       "Wednesday  18059"
      ]
     },
     "execution_count": 21,
     "metadata": {},
     "output_type": "execute_result"
    }
   ],
   "source": [
    "# Подсчёт прослушиваний в каждый из трёх дней\n",
    "df.groupby('day')['genre'].count().to_frame()"
   ]
  },
  {
   "cell_type": "code",
   "execution_count": 23,
   "metadata": {},
   "outputs": [],
   "source": [
    " # Объявляется функция с двумя параметрами: day, city.\n",
    "def number_tracks(day, city):\n",
    "    \n",
    "# значение в столбце 'day' равно параметру day и одновременно значение\n",
    "# в столбце 'city' равно параметру city (используйте последовательную фильтрацию\n",
    "# с помощью логической индексации).\n",
    "    track_list = df[(df['day'] == day) & (df['city'] == city)] \n",
    "\n",
    "# В переменной track_list_count сохраняется число значений столбца 'user_id',\n",
    "# рассчитанное методом count() для таблицы track_list.\n",
    "    track_list_count = track_list['user_id'].count()\n",
    "\n",
    "# Функция возвращает число - значение track_list_count.\n",
    "    return track_list_count \n",
    "\n",
    "\n",
    "# Функция для подсчёта прослушиваний для конкретного города и дня.\n",
    "# С помощью последовательной фильтрации с логической индексацией она \n",
    "# сначала получит из исходной таблицы строки с нужным днём,\n",
    "# затем из результата отфильтрует строки с нужным городом,\n",
    "# методом count() посчитает количество значений в колонке user_id. \n",
    "# Это количество функция вернёт в качестве результата"
   ]
  },
  {
   "cell_type": "code",
   "execution_count": 24,
   "metadata": {
    "id": "rJcRATNQ_Zcu"
   },
   "outputs": [
    {
     "data": {
      "text/plain": [
       "15740"
      ]
     },
     "execution_count": 24,
     "metadata": {},
     "output_type": "execute_result"
    }
   ],
   "source": [
    "# количество прослушиваний в Москве по понедельникам\n",
    "number_tracks('Monday', 'Moscow')"
   ]
  },
  {
   "cell_type": "code",
   "execution_count": 25,
   "metadata": {
    "id": "hq_ncZ5T_Zcu"
   },
   "outputs": [
    {
     "data": {
      "text/plain": [
       "5614"
      ]
     },
     "execution_count": 25,
     "metadata": {},
     "output_type": "execute_result"
    }
   ],
   "source": [
    "# количество прослушиваний в Санкт-Петербурге по понедельникам\n",
    "number_tracks('Monday', 'Saint-Petersburg')"
   ]
  },
  {
   "cell_type": "code",
   "execution_count": 26,
   "metadata": {
    "id": "_NTy2VPU_Zcu"
   },
   "outputs": [
    {
     "data": {
      "text/plain": [
       "11056"
      ]
     },
     "execution_count": 26,
     "metadata": {},
     "output_type": "execute_result"
    }
   ],
   "source": [
    "# количество прослушиваний в Москве по средам\n",
    "number_tracks('Wednesday', 'Moscow')"
   ]
  },
  {
   "cell_type": "code",
   "execution_count": 27,
   "metadata": {
    "id": "j2y3TAwo_Zcu"
   },
   "outputs": [
    {
     "data": {
      "text/plain": [
       "7003"
      ]
     },
     "execution_count": 27,
     "metadata": {},
     "output_type": "execute_result"
    }
   ],
   "source": [
    "# количество прослушиваний в Санкт-Петербурге по средам\n",
    "number_tracks('Wednesday', 'Saint-Petersburg')"
   ]
  },
  {
   "cell_type": "code",
   "execution_count": 28,
   "metadata": {
    "id": "vYDw5u_K_Zcu"
   },
   "outputs": [
    {
     "data": {
      "text/plain": [
       "15945"
      ]
     },
     "execution_count": 28,
     "metadata": {},
     "output_type": "execute_result"
    }
   ],
   "source": [
    "# количество прослушиваний в Москве по пятницам\n",
    "number_tracks('Friday', 'Moscow')"
   ]
  },
  {
   "cell_type": "code",
   "execution_count": 29,
   "metadata": {
    "id": "8_yzFtW3_Zcu"
   },
   "outputs": [
    {
     "data": {
      "text/plain": [
       "5895"
      ]
     },
     "execution_count": 29,
     "metadata": {},
     "output_type": "execute_result"
    }
   ],
   "source": [
    "# количество прослушиваний в Санкт-Петербурге по пятницам\n",
    "number_tracks('Friday', 'Saint-Petersburg')"
   ]
  },
  {
   "cell_type": "code",
   "execution_count": 30,
   "metadata": {
    "id": "APAcLpOr_Zcu"
   },
   "outputs": [
    {
     "data": {
      "text/html": [
       "<div>\n",
       "<style scoped>\n",
       "    .dataframe tbody tr th:only-of-type {\n",
       "        vertical-align: middle;\n",
       "    }\n",
       "\n",
       "    .dataframe tbody tr th {\n",
       "        vertical-align: top;\n",
       "    }\n",
       "\n",
       "    .dataframe thead th {\n",
       "        text-align: right;\n",
       "    }\n",
       "</style>\n",
       "<table border=\"1\" class=\"dataframe\">\n",
       "  <thead>\n",
       "    <tr style=\"text-align: right;\">\n",
       "      <th></th>\n",
       "      <th>city</th>\n",
       "      <th>monday</th>\n",
       "      <th>wednesday</th>\n",
       "      <th>friday</th>\n",
       "    </tr>\n",
       "  </thead>\n",
       "  <tbody>\n",
       "    <tr>\n",
       "      <td>0</td>\n",
       "      <td>Saint-Petersburg</td>\n",
       "      <td>5614</td>\n",
       "      <td>7003</td>\n",
       "      <td>5895</td>\n",
       "    </tr>\n",
       "    <tr>\n",
       "      <td>1</td>\n",
       "      <td>Moscow</td>\n",
       "      <td>15740</td>\n",
       "      <td>11056</td>\n",
       "      <td>15945</td>\n",
       "    </tr>\n",
       "  </tbody>\n",
       "</table>\n",
       "</div>"
      ],
      "text/plain": [
       "               city  monday  wednesday  friday\n",
       "0  Saint-Petersburg    5614       7003    5895\n",
       "1            Moscow   15740      11056   15945"
      ]
     },
     "metadata": {},
     "output_type": "display_data"
    }
   ],
   "source": [
    "# Таблица с результатами\n",
    "number_tracks_columns = ['city', 'monday', 'wednesday', 'friday']\n",
    "number_tracks_data = [['Saint-Petersburg', 5614, 7003, 5895], ['Moscow', 15740, 11056, 15945]]\n",
    "number_tracks_df = pd.DataFrame(number_tracks_data, columns=number_tracks_columns)\n",
    "display(number_tracks_df)"
   ]
  },
  {
   "cell_type": "markdown",
   "metadata": {
    "id": "-EgPIHYu_Zcu"
   },
   "source": [
    "**Выводы**\n",
    "\n",
    "Данные показывают разницу поведения пользователей:\n",
    "\n",
    "- В Москве пик прослушиваний приходится на понедельник и пятницу, а в среду заметен спад.\n",
    "- В Петербурге, наоборот, больше слушают музыку по средам. Активность в понедельник и пятницу здесь почти в равной мере уступает среде.\n",
    "\n",
    "Значит, данные говорят в пользу первой гипотезы."
   ]
  },
  {
   "cell_type": "markdown",
   "metadata": {
    "id": "atZAxtq4_Zcu"
   },
   "source": [
    "### Музыка в начале и в конце недели"
   ]
  },
  {
   "cell_type": "markdown",
   "metadata": {
    "id": "eXrQqXFH_Zcu"
   },
   "source": [
    "Согласно второй гипотезе, утром в понедельник в Москве преобладают одни жанры, а в Петербурге — другие. Так же и вечером пятницы преобладают разные жанры — в зависимости от города."
   ]
  },
  {
   "cell_type": "code",
   "execution_count": 31,
   "metadata": {
    "id": "qeaFfM_P_Zcu"
   },
   "outputs": [],
   "source": [
    "# получение таблицы moscow_general из тех строк таблицы df, \n",
    "# для которых значение в столбце 'city' равно 'Moscow'\n",
    "moscow_general = df[df['city'] == 'Moscow']\n"
   ]
  },
  {
   "cell_type": "code",
   "execution_count": 32,
   "metadata": {
    "id": "ORaVRKto_Zcu"
   },
   "outputs": [],
   "source": [
    "# получение таблицы spb_general из тех строк таблицы df,\n",
    "# для которых значение в столбце 'city' равно 'Saint-Petersburg'\n",
    "spb_general = df[df['city'] == 'Saint-Petersburg']"
   ]
  },
  {
   "cell_type": "code",
   "execution_count": 33,
   "metadata": {
    "id": "laJT9BYl_Zcu"
   },
   "outputs": [],
   "source": [
    "# Объявление функции genre_weekday() с параметрами table, day, time1, time2,\n",
    "# которая возвращает информацию о самых популярных жанрах в указанный день в\n",
    "# заданное время:\n",
    "def genre_weekday(table, day, time1, time2):\n",
    "    \n",
    "# 1) в переменную genre_df сохраняются те строки переданного датафрейма table, для\n",
    "#    которых одновременно:\n",
    "#    - значение в столбце day равно значению аргумента day\n",
    "#    - значение в столбце time больше значения аргумента time1\n",
    "#    - значение в столбце time меньше значения аргумента time2\n",
    "#    Используйте последовательную фильтрацию с помощью логической индексации.\n",
    "    genre_df = table[table['day'] == day]\n",
    "    genre_df = genre_df[genre_df['time'] >= time1]\n",
    "    genre_df = genre_df[genre_df['time'] <= time2]\n",
    "\n",
    "# 2) сгруппировать датафрейм genre_df по столбцу genre, взять один из его\n",
    "#    столбцов и посчитать методом count() количество записей для каждого из\n",
    "#    присутствующих жанров, получившийся Series записать в переменную\n",
    "#    genre_df_count\n",
    "    genre_df_count = genre_df.groupby('genre')['genre'].count()\n",
    "\n",
    "\n",
    "# 3) отсортировать genre_df_count по убыванию встречаемости и сохранить\n",
    "#    в переменную genre_df_sorted\n",
    "    genre_df_sorted = genre_df_count.sort_values(ascending=False)\n",
    "\n",
    "# 4) вернуть Series из 10 первых значений genre_df_sorted, это будут топ-10\n",
    "#    популярных жанров (в указанный день, в заданное время)\n",
    "    return genre_df_sorted[:10]"
   ]
  },
  {
   "cell_type": "code",
   "execution_count": 45,
   "metadata": {
    "id": "yz7itPUQ_Zcu"
   },
   "outputs": [
    {
     "data": {
      "text/html": [
       "<div>\n",
       "<style scoped>\n",
       "    .dataframe tbody tr th:only-of-type {\n",
       "        vertical-align: middle;\n",
       "    }\n",
       "\n",
       "    .dataframe tbody tr th {\n",
       "        vertical-align: top;\n",
       "    }\n",
       "\n",
       "    .dataframe thead th {\n",
       "        text-align: right;\n",
       "    }\n",
       "</style>\n",
       "<table border=\"1\" class=\"dataframe\">\n",
       "  <thead>\n",
       "    <tr style=\"text-align: right;\">\n",
       "      <th></th>\n",
       "      <th>genre</th>\n",
       "    </tr>\n",
       "    <tr>\n",
       "      <th>genre</th>\n",
       "      <th></th>\n",
       "    </tr>\n",
       "  </thead>\n",
       "  <tbody>\n",
       "    <tr>\n",
       "      <td>pop</td>\n",
       "      <td>781</td>\n",
       "    </tr>\n",
       "    <tr>\n",
       "      <td>dance</td>\n",
       "      <td>549</td>\n",
       "    </tr>\n",
       "    <tr>\n",
       "      <td>electronic</td>\n",
       "      <td>480</td>\n",
       "    </tr>\n",
       "    <tr>\n",
       "      <td>rock</td>\n",
       "      <td>474</td>\n",
       "    </tr>\n",
       "    <tr>\n",
       "      <td>hiphop</td>\n",
       "      <td>286</td>\n",
       "    </tr>\n",
       "    <tr>\n",
       "      <td>ruspop</td>\n",
       "      <td>186</td>\n",
       "    </tr>\n",
       "    <tr>\n",
       "      <td>world</td>\n",
       "      <td>181</td>\n",
       "    </tr>\n",
       "    <tr>\n",
       "      <td>rusrap</td>\n",
       "      <td>175</td>\n",
       "    </tr>\n",
       "    <tr>\n",
       "      <td>alternative</td>\n",
       "      <td>164</td>\n",
       "    </tr>\n",
       "    <tr>\n",
       "      <td>unknown</td>\n",
       "      <td>161</td>\n",
       "    </tr>\n",
       "  </tbody>\n",
       "</table>\n",
       "</div>"
      ],
      "text/plain": [
       "             genre\n",
       "genre             \n",
       "pop            781\n",
       "dance          549\n",
       "electronic     480\n",
       "rock           474\n",
       "hiphop         286\n",
       "ruspop         186\n",
       "world          181\n",
       "rusrap         175\n",
       "alternative    164\n",
       "unknown        161"
      ]
     },
     "execution_count": 45,
     "metadata": {},
     "output_type": "execute_result"
    }
   ],
   "source": [
    "# вызов функции для утра понедельника в Москве (вместо df — таблица moscow_general)\n",
    "# объекты, хранящие время, являются строками и сравниваются как строки\n",
    "# пример вызова: genre_weekday(moscow_general, 'Monday', '07:00', '11:00')\n",
    "genre_weekday(moscow_general, 'Monday', '07:00', '11:00').to_frame()"
   ]
  },
  {
   "cell_type": "code",
   "execution_count": 46,
   "metadata": {
    "id": "kwUcHPdy_Zcu"
   },
   "outputs": [
    {
     "data": {
      "text/html": [
       "<div>\n",
       "<style scoped>\n",
       "    .dataframe tbody tr th:only-of-type {\n",
       "        vertical-align: middle;\n",
       "    }\n",
       "\n",
       "    .dataframe tbody tr th {\n",
       "        vertical-align: top;\n",
       "    }\n",
       "\n",
       "    .dataframe thead th {\n",
       "        text-align: right;\n",
       "    }\n",
       "</style>\n",
       "<table border=\"1\" class=\"dataframe\">\n",
       "  <thead>\n",
       "    <tr style=\"text-align: right;\">\n",
       "      <th></th>\n",
       "      <th>genre</th>\n",
       "    </tr>\n",
       "    <tr>\n",
       "      <th>genre</th>\n",
       "      <th></th>\n",
       "    </tr>\n",
       "  </thead>\n",
       "  <tbody>\n",
       "    <tr>\n",
       "      <td>pop</td>\n",
       "      <td>218</td>\n",
       "    </tr>\n",
       "    <tr>\n",
       "      <td>dance</td>\n",
       "      <td>182</td>\n",
       "    </tr>\n",
       "    <tr>\n",
       "      <td>rock</td>\n",
       "      <td>162</td>\n",
       "    </tr>\n",
       "    <tr>\n",
       "      <td>electronic</td>\n",
       "      <td>147</td>\n",
       "    </tr>\n",
       "    <tr>\n",
       "      <td>hiphop</td>\n",
       "      <td>80</td>\n",
       "    </tr>\n",
       "    <tr>\n",
       "      <td>ruspop</td>\n",
       "      <td>64</td>\n",
       "    </tr>\n",
       "    <tr>\n",
       "      <td>alternative</td>\n",
       "      <td>58</td>\n",
       "    </tr>\n",
       "    <tr>\n",
       "      <td>rusrap</td>\n",
       "      <td>55</td>\n",
       "    </tr>\n",
       "    <tr>\n",
       "      <td>jazz</td>\n",
       "      <td>44</td>\n",
       "    </tr>\n",
       "    <tr>\n",
       "      <td>classical</td>\n",
       "      <td>40</td>\n",
       "    </tr>\n",
       "  </tbody>\n",
       "</table>\n",
       "</div>"
      ],
      "text/plain": [
       "             genre\n",
       "genre             \n",
       "pop            218\n",
       "dance          182\n",
       "rock           162\n",
       "electronic     147\n",
       "hiphop          80\n",
       "ruspop          64\n",
       "alternative     58\n",
       "rusrap          55\n",
       "jazz            44\n",
       "classical       40"
      ]
     },
     "execution_count": 46,
     "metadata": {},
     "output_type": "execute_result"
    }
   ],
   "source": [
    "# вызов функции для утра понедельника в Петербурге (вместо df — таблица spb_general)\n",
    "genre_weekday(spb_general, 'Monday', '07:00', '11:00').to_frame()"
   ]
  },
  {
   "cell_type": "code",
   "execution_count": 47,
   "metadata": {
    "id": "EzXVRE1o_Zcu"
   },
   "outputs": [
    {
     "data": {
      "text/html": [
       "<div>\n",
       "<style scoped>\n",
       "    .dataframe tbody tr th:only-of-type {\n",
       "        vertical-align: middle;\n",
       "    }\n",
       "\n",
       "    .dataframe tbody tr th {\n",
       "        vertical-align: top;\n",
       "    }\n",
       "\n",
       "    .dataframe thead th {\n",
       "        text-align: right;\n",
       "    }\n",
       "</style>\n",
       "<table border=\"1\" class=\"dataframe\">\n",
       "  <thead>\n",
       "    <tr style=\"text-align: right;\">\n",
       "      <th></th>\n",
       "      <th>genre</th>\n",
       "    </tr>\n",
       "    <tr>\n",
       "      <th>genre</th>\n",
       "      <th></th>\n",
       "    </tr>\n",
       "  </thead>\n",
       "  <tbody>\n",
       "    <tr>\n",
       "      <td>pop</td>\n",
       "      <td>713</td>\n",
       "    </tr>\n",
       "    <tr>\n",
       "      <td>rock</td>\n",
       "      <td>517</td>\n",
       "    </tr>\n",
       "    <tr>\n",
       "      <td>dance</td>\n",
       "      <td>495</td>\n",
       "    </tr>\n",
       "    <tr>\n",
       "      <td>electronic</td>\n",
       "      <td>482</td>\n",
       "    </tr>\n",
       "    <tr>\n",
       "      <td>hiphop</td>\n",
       "      <td>273</td>\n",
       "    </tr>\n",
       "    <tr>\n",
       "      <td>world</td>\n",
       "      <td>208</td>\n",
       "    </tr>\n",
       "    <tr>\n",
       "      <td>ruspop</td>\n",
       "      <td>170</td>\n",
       "    </tr>\n",
       "    <tr>\n",
       "      <td>alternative</td>\n",
       "      <td>163</td>\n",
       "    </tr>\n",
       "    <tr>\n",
       "      <td>classical</td>\n",
       "      <td>163</td>\n",
       "    </tr>\n",
       "    <tr>\n",
       "      <td>rusrap</td>\n",
       "      <td>142</td>\n",
       "    </tr>\n",
       "  </tbody>\n",
       "</table>\n",
       "</div>"
      ],
      "text/plain": [
       "             genre\n",
       "genre             \n",
       "pop            713\n",
       "rock           517\n",
       "dance          495\n",
       "electronic     482\n",
       "hiphop         273\n",
       "world          208\n",
       "ruspop         170\n",
       "alternative    163\n",
       "classical      163\n",
       "rusrap         142"
      ]
     },
     "execution_count": 47,
     "metadata": {},
     "output_type": "execute_result"
    }
   ],
   "source": [
    "# вызов функции для вечера пятницы в Москве\n",
    "genre_weekday(moscow_general, 'Friday', '17:00', '23:00').to_frame()"
   ]
  },
  {
   "cell_type": "code",
   "execution_count": 48,
   "metadata": {
    "id": "JZaEKu5v_Zcu"
   },
   "outputs": [
    {
     "data": {
      "text/html": [
       "<div>\n",
       "<style scoped>\n",
       "    .dataframe tbody tr th:only-of-type {\n",
       "        vertical-align: middle;\n",
       "    }\n",
       "\n",
       "    .dataframe tbody tr th {\n",
       "        vertical-align: top;\n",
       "    }\n",
       "\n",
       "    .dataframe thead th {\n",
       "        text-align: right;\n",
       "    }\n",
       "</style>\n",
       "<table border=\"1\" class=\"dataframe\">\n",
       "  <thead>\n",
       "    <tr style=\"text-align: right;\">\n",
       "      <th></th>\n",
       "      <th>genre</th>\n",
       "    </tr>\n",
       "    <tr>\n",
       "      <th>genre</th>\n",
       "      <th></th>\n",
       "    </tr>\n",
       "  </thead>\n",
       "  <tbody>\n",
       "    <tr>\n",
       "      <td>pop</td>\n",
       "      <td>256</td>\n",
       "    </tr>\n",
       "    <tr>\n",
       "      <td>rock</td>\n",
       "      <td>216</td>\n",
       "    </tr>\n",
       "    <tr>\n",
       "      <td>electronic</td>\n",
       "      <td>216</td>\n",
       "    </tr>\n",
       "    <tr>\n",
       "      <td>dance</td>\n",
       "      <td>210</td>\n",
       "    </tr>\n",
       "    <tr>\n",
       "      <td>hiphop</td>\n",
       "      <td>97</td>\n",
       "    </tr>\n",
       "    <tr>\n",
       "      <td>alternative</td>\n",
       "      <td>63</td>\n",
       "    </tr>\n",
       "    <tr>\n",
       "      <td>jazz</td>\n",
       "      <td>61</td>\n",
       "    </tr>\n",
       "    <tr>\n",
       "      <td>classical</td>\n",
       "      <td>60</td>\n",
       "    </tr>\n",
       "    <tr>\n",
       "      <td>rusrap</td>\n",
       "      <td>59</td>\n",
       "    </tr>\n",
       "    <tr>\n",
       "      <td>world</td>\n",
       "      <td>54</td>\n",
       "    </tr>\n",
       "  </tbody>\n",
       "</table>\n",
       "</div>"
      ],
      "text/plain": [
       "             genre\n",
       "genre             \n",
       "pop            256\n",
       "rock           216\n",
       "electronic     216\n",
       "dance          210\n",
       "hiphop          97\n",
       "alternative     63\n",
       "jazz            61\n",
       "classical       60\n",
       "rusrap          59\n",
       "world           54"
      ]
     },
     "execution_count": 48,
     "metadata": {},
     "output_type": "execute_result"
    }
   ],
   "source": [
    "# вызов функции для вечера пятницы в Петербурге\n",
    "genre_weekday(spb_general, 'Friday', '17:00', '23:00').to_frame()"
   ]
  },
  {
   "cell_type": "markdown",
   "metadata": {
    "id": "wrCe4MNX_Zcu"
   },
   "source": [
    "**Выводы**\n",
    "\n",
    "Если сравнить топ-10 жанров в понедельник утром, можно сделать такие выводы:\n",
    "\n",
    "1. В Москве и Петербурге слушают похожую музыку. Единственное отличие — в московский рейтинг вошёл жанр “world”, а в петербургский — джаз и классика.\n",
    "\n",
    "2. В Москве пропущенных значений оказалось так много, что значение `'unknown'` заняло десятое место среди самых популярных жанров. Значит, пропущенные значения занимают существенную долю в данных и угрожают достоверности исследования.\n",
    "\n",
    "Вечер пятницы не меняет эту картину. Некоторые жанры поднимаются немного выше, другие спускаются, но в целом топ-10 остаётся тем же самым.\n",
    "\n",
    "Таким образом, вторая гипотеза подтвердилась лишь частично:\n",
    "* Пользователи слушают похожую музыку в начале недели и в конце.\n",
    "* Разница между Москвой и Петербургом не слишком выражена. В Москве чаще слушают русскую популярную музыку, в Петербурге — джаз.\n",
    "\n",
    "Однако пропуски в данных ставят под сомнение этот результат. В Москве их так много, что рейтинг топ-10 мог бы выглядеть иначе, если бы не утерянные  данные о жанрах."
   ]
  },
  {
   "cell_type": "markdown",
   "metadata": {
    "id": "JolODAqr_Zcu"
   },
   "source": [
    "### Жанровые предпочтения в Москве и Петербурге\n",
    "\n",
    "Гипотеза: Петербург — столица рэпа, музыку этого жанра там слушают чаще, чем в Москве.  А Москва — город контрастов, в котором, тем не менее, преобладает поп-музыка."
   ]
  },
  {
   "cell_type": "code",
   "execution_count": 38,
   "metadata": {
    "id": "r19lIPke_Zcu"
   },
   "outputs": [],
   "source": [
    "# одной строкой: группировка таблицы moscow_general по столбцу 'genre', \n",
    "# подсчёт числа значений 'genre' в этой группировке методом count(), \n",
    "# сортировка получившегося Series в порядке убывания и сохранение в moscow_genres\n",
    "\n",
    "moscow_genres = moscow_general.groupby('genre')['genre'].count().sort_values(ascending=False)"
   ]
  },
  {
   "cell_type": "code",
   "execution_count": 49,
   "metadata": {
    "id": "WhCSooF8_Zcv"
   },
   "outputs": [
    {
     "data": {
      "text/html": [
       "<div>\n",
       "<style scoped>\n",
       "    .dataframe tbody tr th:only-of-type {\n",
       "        vertical-align: middle;\n",
       "    }\n",
       "\n",
       "    .dataframe tbody tr th {\n",
       "        vertical-align: top;\n",
       "    }\n",
       "\n",
       "    .dataframe thead th {\n",
       "        text-align: right;\n",
       "    }\n",
       "</style>\n",
       "<table border=\"1\" class=\"dataframe\">\n",
       "  <thead>\n",
       "    <tr style=\"text-align: right;\">\n",
       "      <th></th>\n",
       "      <th>genre</th>\n",
       "    </tr>\n",
       "    <tr>\n",
       "      <th>genre</th>\n",
       "      <th></th>\n",
       "    </tr>\n",
       "  </thead>\n",
       "  <tbody>\n",
       "    <tr>\n",
       "      <td>pop</td>\n",
       "      <td>5892</td>\n",
       "    </tr>\n",
       "    <tr>\n",
       "      <td>dance</td>\n",
       "      <td>4435</td>\n",
       "    </tr>\n",
       "    <tr>\n",
       "      <td>rock</td>\n",
       "      <td>3965</td>\n",
       "    </tr>\n",
       "    <tr>\n",
       "      <td>electronic</td>\n",
       "      <td>3786</td>\n",
       "    </tr>\n",
       "    <tr>\n",
       "      <td>hiphop</td>\n",
       "      <td>2096</td>\n",
       "    </tr>\n",
       "    <tr>\n",
       "      <td>classical</td>\n",
       "      <td>1616</td>\n",
       "    </tr>\n",
       "    <tr>\n",
       "      <td>world</td>\n",
       "      <td>1432</td>\n",
       "    </tr>\n",
       "    <tr>\n",
       "      <td>alternative</td>\n",
       "      <td>1379</td>\n",
       "    </tr>\n",
       "    <tr>\n",
       "      <td>ruspop</td>\n",
       "      <td>1372</td>\n",
       "    </tr>\n",
       "    <tr>\n",
       "      <td>rusrap</td>\n",
       "      <td>1161</td>\n",
       "    </tr>\n",
       "  </tbody>\n",
       "</table>\n",
       "</div>"
      ],
      "text/plain": [
       "             genre\n",
       "genre             \n",
       "pop           5892\n",
       "dance         4435\n",
       "rock          3965\n",
       "electronic    3786\n",
       "hiphop        2096\n",
       "classical     1616\n",
       "world         1432\n",
       "alternative   1379\n",
       "ruspop        1372\n",
       "rusrap        1161"
      ]
     },
     "execution_count": 49,
     "metadata": {},
     "output_type": "execute_result"
    }
   ],
   "source": [
    "# просмотр первых 10 строк moscow_genres\n",
    "moscow_genres[:10].to_frame()"
   ]
  },
  {
   "cell_type": "code",
   "execution_count": 40,
   "metadata": {
    "id": "gluLIpE7_Zcv"
   },
   "outputs": [],
   "source": [
    "# одной строкой: группировка таблицы spb_general по столбцу 'genre', \n",
    "# подсчёт числа значений 'genre' в этой группировке методом count(), \n",
    "# сортировка получившегося Series в порядке убывания и сохранение в spb_genres\n",
    "spb_genres = spb_general.groupby('genre')['genre'].count().sort_values(ascending=False)"
   ]
  },
  {
   "cell_type": "markdown",
   "metadata": {
    "id": "5Doha_ODgyQ8"
   },
   "source": [
    "Выведите на экран первые десять строк `spb_genres`:"
   ]
  },
  {
   "cell_type": "code",
   "execution_count": 50,
   "metadata": {
    "id": "uaGJHjVU_Zcv"
   },
   "outputs": [
    {
     "data": {
      "text/html": [
       "<div>\n",
       "<style scoped>\n",
       "    .dataframe tbody tr th:only-of-type {\n",
       "        vertical-align: middle;\n",
       "    }\n",
       "\n",
       "    .dataframe tbody tr th {\n",
       "        vertical-align: top;\n",
       "    }\n",
       "\n",
       "    .dataframe thead th {\n",
       "        text-align: right;\n",
       "    }\n",
       "</style>\n",
       "<table border=\"1\" class=\"dataframe\">\n",
       "  <thead>\n",
       "    <tr style=\"text-align: right;\">\n",
       "      <th></th>\n",
       "      <th>genre</th>\n",
       "    </tr>\n",
       "    <tr>\n",
       "      <th>genre</th>\n",
       "      <th></th>\n",
       "    </tr>\n",
       "  </thead>\n",
       "  <tbody>\n",
       "    <tr>\n",
       "      <td>pop</td>\n",
       "      <td>2431</td>\n",
       "    </tr>\n",
       "    <tr>\n",
       "      <td>dance</td>\n",
       "      <td>1932</td>\n",
       "    </tr>\n",
       "    <tr>\n",
       "      <td>rock</td>\n",
       "      <td>1879</td>\n",
       "    </tr>\n",
       "    <tr>\n",
       "      <td>electronic</td>\n",
       "      <td>1737</td>\n",
       "    </tr>\n",
       "    <tr>\n",
       "      <td>hiphop</td>\n",
       "      <td>960</td>\n",
       "    </tr>\n",
       "    <tr>\n",
       "      <td>alternative</td>\n",
       "      <td>649</td>\n",
       "    </tr>\n",
       "    <tr>\n",
       "      <td>classical</td>\n",
       "      <td>646</td>\n",
       "    </tr>\n",
       "    <tr>\n",
       "      <td>rusrap</td>\n",
       "      <td>564</td>\n",
       "    </tr>\n",
       "    <tr>\n",
       "      <td>ruspop</td>\n",
       "      <td>538</td>\n",
       "    </tr>\n",
       "    <tr>\n",
       "      <td>world</td>\n",
       "      <td>515</td>\n",
       "    </tr>\n",
       "  </tbody>\n",
       "</table>\n",
       "</div>"
      ],
      "text/plain": [
       "             genre\n",
       "genre             \n",
       "pop           2431\n",
       "dance         1932\n",
       "rock          1879\n",
       "electronic    1737\n",
       "hiphop         960\n",
       "alternative    649\n",
       "classical      646\n",
       "rusrap         564\n",
       "ruspop         538\n",
       "world          515"
      ]
     },
     "execution_count": 50,
     "metadata": {},
     "output_type": "execute_result"
    }
   ],
   "source": [
    "# просмотр первых 10 строк spb_genres\n",
    "spb_genres[:10].to_frame()"
   ]
  },
  {
   "cell_type": "markdown",
   "metadata": {},
   "source": [
    "Я хотел делать данные более читаемыми, так что я создал таблицу и две диаграммы. Думаю, что в таком формате данные легче понимать.\n"
   ]
  },
  {
   "cell_type": "code",
   "execution_count": 42,
   "metadata": {},
   "outputs": [
    {
     "data": {
      "text/html": [
       "<div>\n",
       "<style scoped>\n",
       "    .dataframe tbody tr th:only-of-type {\n",
       "        vertical-align: middle;\n",
       "    }\n",
       "\n",
       "    .dataframe tbody tr th {\n",
       "        vertical-align: top;\n",
       "    }\n",
       "\n",
       "    .dataframe thead th {\n",
       "        text-align: right;\n",
       "    }\n",
       "</style>\n",
       "<table border=\"1\" class=\"dataframe\">\n",
       "  <thead>\n",
       "    <tr style=\"text-align: right;\">\n",
       "      <th></th>\n",
       "      <th>percent_spb</th>\n",
       "      <th>percent_moscow</th>\n",
       "    </tr>\n",
       "    <tr>\n",
       "      <th>genre</th>\n",
       "      <th></th>\n",
       "      <th></th>\n",
       "    </tr>\n",
       "  </thead>\n",
       "  <tbody>\n",
       "    <tr>\n",
       "      <td>pop</td>\n",
       "      <td>20.513037</td>\n",
       "      <td>21.714454</td>\n",
       "    </tr>\n",
       "    <tr>\n",
       "      <td>dance</td>\n",
       "      <td>16.302422</td>\n",
       "      <td>16.344807</td>\n",
       "    </tr>\n",
       "    <tr>\n",
       "      <td>rock</td>\n",
       "      <td>15.855202</td>\n",
       "      <td>14.612663</td>\n",
       "    </tr>\n",
       "    <tr>\n",
       "      <td>electronic</td>\n",
       "      <td>14.656991</td>\n",
       "      <td>13.952974</td>\n",
       "    </tr>\n",
       "    <tr>\n",
       "      <td>hiphop</td>\n",
       "      <td>8.100582</td>\n",
       "      <td>7.724626</td>\n",
       "    </tr>\n",
       "    <tr>\n",
       "      <td>alternative</td>\n",
       "      <td>5.476331</td>\n",
       "      <td>5.082185</td>\n",
       "    </tr>\n",
       "    <tr>\n",
       "      <td>classical</td>\n",
       "      <td>5.451017</td>\n",
       "      <td>5.955628</td>\n",
       "    </tr>\n",
       "    <tr>\n",
       "      <td>rusrap</td>\n",
       "      <td>4.759092</td>\n",
       "      <td>4.278765</td>\n",
       "    </tr>\n",
       "    <tr>\n",
       "      <td>ruspop</td>\n",
       "      <td>4.539701</td>\n",
       "      <td>5.056387</td>\n",
       "    </tr>\n",
       "    <tr>\n",
       "      <td>world</td>\n",
       "      <td>4.345625</td>\n",
       "      <td>5.277512</td>\n",
       "    </tr>\n",
       "  </tbody>\n",
       "</table>\n",
       "</div>"
      ],
      "text/plain": [
       "             percent_spb  percent_moscow\n",
       "genre                                   \n",
       "pop            20.513037       21.714454\n",
       "dance          16.302422       16.344807\n",
       "rock           15.855202       14.612663\n",
       "electronic     14.656991       13.952974\n",
       "hiphop          8.100582        7.724626\n",
       "alternative     5.476331        5.082185\n",
       "classical       5.451017        5.955628\n",
       "rusrap          4.759092        4.278765\n",
       "ruspop          4.539701        5.056387\n",
       "world           4.345625        5.277512"
      ]
     },
     "execution_count": 42,
     "metadata": {},
     "output_type": "execute_result"
    }
   ],
   "source": [
    " # подсчёт суммой прослушиваний всех жанров в топ-10 в Москве\n",
    "moscow_top10_total = moscow_genres[:10].sum()\n",
    "moscow_percents_data = []\n",
    "\n",
    " # подсчёт суммой прослушиваний всех жанров в топ-10 в СПБ\n",
    "spb_top10_total = spb_genres[:10].sum()\n",
    "spb_percents_data = []\n",
    "\n",
    "# перевод значений каждого жанра в moscow_genres и spb_genres с количества прослушиваний на процент прослушиваний по отношению к общей сумме прослушиваний всех жанров в топ-10 \n",
    "for i in range(10):\n",
    "    moscow_percents_data.append(moscow_genres[i]/moscow_top10_total*100)\n",
    "    spb_percents_data.append(spb_genres[i]/spb_top10_total*100)\n",
    "\n",
    "# создание DataFrames с процентами прослушиваний в топ-10 для обоих городов\n",
    "moscow_top10_percents = pd.DataFrame(moscow_percents_data, index=moscow_genres[:10].index, columns=['percent'])\n",
    "spb_top10_percents = pd.DataFrame(spb_percents_data, index=spb_genres[:10].index, columns=['percent'])\n",
    "\n",
    "# сложение таблиц в одну таблицу для легчего сравнения значений\n",
    "merged_top10_percents = spb_top10_percents.merge(moscow_top10_percents, on='genre', suffixes=['_spb','_moscow'])\n",
    "\n",
    "merged_top10_percents\n"
   ]
  },
  {
   "cell_type": "code",
   "execution_count": 43,
   "metadata": {},
   "outputs": [
    {
     "name": "stdout",
     "output_type": "stream",
     "text": [
      "Топ-10 жанров по популярности в Москве:\n"
     ]
    },
    {
     "data": {
      "text/plain": [
       "<matplotlib.axes._subplots.AxesSubplot at 0x7fe855102ed0>"
      ]
     },
     "execution_count": 43,
     "metadata": {},
     "output_type": "execute_result"
    },
    {
     "data": {
      "image/png": "[encoded data removed]",
      "text/plain": [
       "<Figure size 432x288 with 1 Axes>"
      ]
     },
     "metadata": {
      "needs_background": "light"
     },
     "output_type": "display_data"
    }
   ],
   "source": [
    "\n",
    "# создание стольбчатой диаграммы московских данных\n",
    "moscow_top10_plot = sb.barplot(x='percent', y=moscow_top10_percents.index, data=moscow_top10_percents)\n",
    "\n",
    "# вывод диаграммы с этикеткой\n",
    "print(\"Топ-10 жанров по популярности в Москве:\")\n",
    "moscow_top10_plot\n",
    "\n"
   ]
  },
  {
   "cell_type": "code",
   "execution_count": 44,
   "metadata": {},
   "outputs": [
    {
     "name": "stdout",
     "output_type": "stream",
     "text": [
      "Топ-10 жанров по популярости в Санкт Петербурге:\n"
     ]
    },
    {
     "data": {
      "text/plain": [
       "<matplotlib.axes._subplots.AxesSubplot at 0x7fe84c99e410>"
      ]
     },
     "execution_count": 44,
     "metadata": {},
     "output_type": "execute_result"
    },
    {
     "data": {
      "image/png": "[encoded data removed]",
      "text/plain": [
       "<Figure size 432x288 with 1 Axes>"
      ]
     },
     "metadata": {
      "needs_background": "light"
     },
     "output_type": "display_data"
    }
   ],
   "source": [
    "# создание стольбчатой диаграммы питерских данных\n",
    "spb_top10_plot = sb.barplot(x='percent', y=spb_top10_percents.index, data=spb_top10_percents)\n",
    "\n",
    "# вывод диаграммы с этикеткой\n",
    "print(\"Топ-10 жанров по популярости в Санкт Петербурге:\")\n",
    "spb_top10_plot"
   ]
  },
  {
   "cell_type": "markdown",
   "metadata": {
    "id": "RY51YJYu_Zcv"
   },
   "source": [
    "**Выводы**"
   ]
  },
  {
   "cell_type": "markdown",
   "metadata": {
    "id": "nVhnJEm__Zcv"
   },
   "source": [
    "Гипотеза частично подтвердилась:\n",
    "* Поп-музыка — самый популярный жанр в Москве, как и предполагала гипотеза. Более того, в топ-10 жанров встречается близкий жанр — русская популярная музыка.\n",
    "* Вопреки ожиданиям, рэп одинаково популярен в Москве и Петербурге. \n"
   ]
  }
 ],
 "metadata": {
  "ExecuteTimeLog": [
   {
    "duration": 881,
    "start_time": "2021-12-25T06:26:30.220Z"
   },
   {
    "duration": 3685,
    "start_time": "2021-12-25T06:26:31.104Z"
   },
   {
    "duration": -39,
    "start_time": "2021-12-25T06:26:34.832Z"
   },
   {
    "duration": 4,
    "start_time": "2021-12-25T06:27:16.742Z"
   },
   {
    "duration": 3868,
    "start_time": "2021-12-25T06:27:19.111Z"
   },
   {
    "duration": 181,
    "start_time": "2021-12-25T06:27:50.313Z"
   },
   {
    "duration": 26,
    "start_time": "2021-12-25T06:27:55.063Z"
   },
   {
    "duration": 33,
    "start_time": "2021-12-25T06:28:17.440Z"
   },
   {
    "duration": 32,
    "start_time": "2021-12-25T06:30:50.122Z"
   },
   {
    "duration": 6,
    "start_time": "2021-12-25T06:31:42.426Z"
   },
   {
    "duration": 30,
    "start_time": "2021-12-25T06:32:03.836Z"
   },
   {
    "duration": 5,
    "start_time": "2021-12-25T06:32:13.350Z"
   },
   {
    "duration": 37,
    "start_time": "2021-12-25T06:32:41.761Z"
   },
   {
    "duration": 30,
    "start_time": "2021-12-25T06:32:50.462Z"
   },
   {
    "duration": 18,
    "start_time": "2021-12-25T06:35:31.889Z"
   },
   {
    "duration": 34,
    "start_time": "2021-12-25T06:35:34.912Z"
   },
   {
    "duration": 6645,
    "start_time": "2021-12-25T06:36:17.131Z"
   },
   {
    "duration": 72,
    "start_time": "2021-12-25T06:36:23.707Z"
   },
   {
    "duration": 5861,
    "start_time": "2021-12-25T06:36:32.492Z"
   },
   {
    "duration": 503,
    "start_time": "2021-12-25T06:37:27.981Z"
   },
   {
    "duration": 468,
    "start_time": "2021-12-25T06:37:41.762Z"
   },
   {
    "duration": 704,
    "start_time": "2021-12-25T06:37:52.944Z"
   },
   {
    "duration": 4,
    "start_time": "2021-12-25T06:37:59.526Z"
   },
   {
    "duration": 202,
    "start_time": "2021-12-25T06:38:02.080Z"
   },
   {
    "duration": 16,
    "start_time": "2021-12-25T06:38:04.276Z"
   },
   {
    "duration": 32,
    "start_time": "2021-12-25T06:38:07.752Z"
   },
   {
    "duration": 5,
    "start_time": "2021-12-25T06:38:13.151Z"
   },
   {
    "duration": 40,
    "start_time": "2021-12-25T06:38:16.203Z"
   },
   {
    "duration": 5,
    "start_time": "2021-12-25T06:38:18.078Z"
   },
   {
    "duration": 31,
    "start_time": "2021-12-25T06:38:21.828Z"
   },
   {
    "duration": 22,
    "start_time": "2021-12-25T06:38:25.064Z"
   },
   {
    "duration": 30,
    "start_time": "2021-12-25T06:38:27.883Z"
   },
   {
    "duration": 88,
    "start_time": "2021-12-25T06:38:44.589Z"
   },
   {
    "duration": 79,
    "start_time": "2021-12-25T06:38:48.995Z"
   },
   {
    "duration": 74,
    "start_time": "2021-12-25T06:38:53.717Z"
   },
   {
    "duration": 94,
    "start_time": "2021-12-25T06:39:35.631Z"
   },
   {
    "duration": 462,
    "start_time": "2021-12-25T06:39:45.247Z"
   },
   {
    "duration": 79,
    "start_time": "2021-12-25T06:39:55.984Z"
   },
   {
    "duration": 89,
    "start_time": "2021-12-25T06:40:16.878Z"
   },
   {
    "duration": 74,
    "start_time": "2021-12-25T06:40:29.636Z"
   },
   {
    "duration": 1061,
    "start_time": "2021-12-25T06:42:27.931Z"
   },
   {
    "duration": 60,
    "start_time": "2021-12-25T06:42:53.978Z"
   },
   {
    "duration": 145,
    "start_time": "2021-12-25T06:48:03.598Z"
   },
   {
    "duration": 4,
    "start_time": "2021-12-25T06:48:08.294Z"
   },
   {
    "duration": 10,
    "start_time": "2021-12-25T06:48:13.933Z"
   },
   {
    "duration": 104,
    "start_time": "2021-12-25T06:49:17.394Z"
   },
   {
    "duration": 3,
    "start_time": "2021-12-25T06:49:54.111Z"
   },
   {
    "duration": 179,
    "start_time": "2021-12-25T06:49:54.117Z"
   },
   {
    "duration": 15,
    "start_time": "2021-12-25T06:49:54.300Z"
   },
   {
    "duration": 47,
    "start_time": "2021-12-25T06:49:54.318Z"
   },
   {
    "duration": 5,
    "start_time": "2021-12-25T06:49:54.368Z"
   },
   {
    "duration": 28,
    "start_time": "2021-12-25T06:49:54.375Z"
   },
   {
    "duration": 5,
    "start_time": "2021-12-25T06:49:54.406Z"
   },
   {
    "duration": 66,
    "start_time": "2021-12-25T06:49:54.413Z"
   },
   {
    "duration": 22,
    "start_time": "2021-12-25T06:49:54.482Z"
   },
   {
    "duration": 31,
    "start_time": "2021-12-25T06:49:54.507Z"
   },
   {
    "duration": 81,
    "start_time": "2021-12-25T06:49:54.560Z"
   },
   {
    "duration": 101,
    "start_time": "2021-12-25T06:49:54.643Z"
   },
   {
    "duration": 84,
    "start_time": "2021-12-25T06:49:54.746Z"
   },
   {
    "duration": 68,
    "start_time": "2021-12-25T06:49:54.832Z"
   },
   {
    "duration": 3,
    "start_time": "2021-12-25T06:49:54.902Z"
   },
   {
    "duration": 11,
    "start_time": "2021-12-25T06:49:54.907Z"
   },
   {
    "duration": 9146,
    "start_time": "2021-12-25T06:49:54.920Z"
   },
   {
    "duration": 58,
    "start_time": "2021-12-25T06:50:31.455Z"
   },
   {
    "duration": 14,
    "start_time": "2021-12-25T06:53:33.262Z"
   },
   {
    "duration": 6,
    "start_time": "2021-12-25T06:53:38.690Z"
   },
   {
    "duration": 6,
    "start_time": "2021-12-25T06:53:49.016Z"
   },
   {
    "duration": 14,
    "start_time": "2021-12-25T06:54:01.582Z"
   },
   {
    "duration": 15,
    "start_time": "2021-12-25T06:54:21.456Z"
   },
   {
    "duration": 17,
    "start_time": "2021-12-25T06:55:04.552Z"
   },
   {
    "duration": 43,
    "start_time": "2021-12-25T06:55:11.584Z"
   },
   {
    "duration": 42,
    "start_time": "2021-12-25T06:55:20.739Z"
   },
   {
    "duration": 44,
    "start_time": "2021-12-25T06:56:14.307Z"
   },
   {
    "duration": 371,
    "start_time": "2021-12-25T06:56:49.966Z"
   },
   {
    "duration": 54,
    "start_time": "2021-12-25T06:58:33.911Z"
   },
   {
    "duration": 92,
    "start_time": "2021-12-25T06:59:32.586Z"
   },
   {
    "duration": 51,
    "start_time": "2021-12-25T06:59:46.744Z"
   },
   {
    "duration": 5,
    "start_time": "2021-12-25T07:13:40.497Z"
   },
   {
    "duration": 859,
    "start_time": "2021-12-25T07:14:04.642Z"
   },
   {
    "duration": 5,
    "start_time": "2021-12-25T07:15:33.750Z"
   },
   {
    "duration": 745,
    "start_time": "2021-12-25T07:15:41.100Z"
   },
   {
    "duration": 16,
    "start_time": "2021-12-25T07:16:15.582Z"
   },
   {
    "duration": 6,
    "start_time": "2021-12-25T07:16:30.339Z"
   },
   {
    "duration": 751,
    "start_time": "2021-12-25T07:17:11.271Z"
   },
   {
    "duration": 5,
    "start_time": "2021-12-25T07:17:46.487Z"
   },
   {
    "duration": 1302,
    "start_time": "2021-12-25T07:17:49.211Z"
   },
   {
    "duration": 125,
    "start_time": "2021-12-25T07:19:21.140Z"
   },
   {
    "duration": 134,
    "start_time": "2021-12-25T07:19:36.749Z"
   },
   {
    "duration": 5,
    "start_time": "2021-12-25T07:19:45.272Z"
   },
   {
    "duration": 825,
    "start_time": "2021-12-25T07:19:50.685Z"
   },
   {
    "duration": 6,
    "start_time": "2021-12-25T07:20:06.706Z"
   },
   {
    "duration": 12865,
    "start_time": "2021-12-25T07:20:11.158Z"
   },
   {
    "duration": 6,
    "start_time": "2021-12-25T07:21:10.041Z"
   },
   {
    "duration": 757,
    "start_time": "2021-12-25T07:21:17.322Z"
   },
   {
    "duration": 6,
    "start_time": "2021-12-25T07:21:52.133Z"
   },
   {
    "duration": 789,
    "start_time": "2021-12-25T07:21:57.316Z"
   },
   {
    "duration": 6,
    "start_time": "2021-12-25T07:23:38.365Z"
   },
   {
    "duration": 11336,
    "start_time": "2021-12-25T07:23:44.699Z"
   },
   {
    "duration": 6,
    "start_time": "2021-12-25T07:24:21.722Z"
   },
   {
    "duration": 10541,
    "start_time": "2021-12-25T07:24:24.003Z"
   },
   {
    "duration": 5,
    "start_time": "2021-12-25T07:25:49.090Z"
   },
   {
    "duration": 9946,
    "start_time": "2021-12-25T07:25:51.598Z"
   },
   {
    "duration": 7,
    "start_time": "2021-12-25T07:26:51.855Z"
   },
   {
    "duration": 11535,
    "start_time": "2021-12-25T07:26:57.308Z"
   },
   {
    "duration": 5,
    "start_time": "2021-12-25T07:48:08.207Z"
   },
   {
    "duration": 935,
    "start_time": "2021-12-25T07:48:12.364Z"
   },
   {
    "duration": 4,
    "start_time": "2021-12-25T07:48:50.209Z"
   },
   {
    "duration": 32,
    "start_time": "2021-12-25T07:48:52.358Z"
   },
   {
    "duration": 4,
    "start_time": "2021-12-25T07:49:23.611Z"
   },
   {
    "duration": 814,
    "start_time": "2021-12-25T07:49:28.793Z"
   },
   {
    "duration": 5,
    "start_time": "2021-12-25T07:56:21.344Z"
   },
   {
    "duration": 10202,
    "start_time": "2021-12-25T07:56:32.750Z"
   },
   {
    "duration": 4,
    "start_time": "2021-12-25T07:56:57.389Z"
   },
   {
    "duration": 5,
    "start_time": "2021-12-25T07:58:16.974Z"
   },
   {
    "duration": 28,
    "start_time": "2021-12-25T07:58:21.838Z"
   },
   {
    "duration": 28,
    "start_time": "2021-12-25T07:58:46.306Z"
   },
   {
    "duration": 7,
    "start_time": "2021-12-25T07:58:49.304Z"
   },
   {
    "duration": 24,
    "start_time": "2021-12-25T07:58:53.947Z"
   },
   {
    "duration": 6,
    "start_time": "2021-12-25T07:58:58.257Z"
   },
   {
    "duration": 31,
    "start_time": "2021-12-25T07:59:10.474Z"
   },
   {
    "duration": 5,
    "start_time": "2021-12-25T07:59:14.505Z"
   },
   {
    "duration": 3,
    "start_time": "2021-12-25T08:01:06.586Z"
   },
   {
    "duration": 180,
    "start_time": "2021-12-25T08:01:09.474Z"
   },
   {
    "duration": 15,
    "start_time": "2021-12-25T08:01:12.548Z"
   },
   {
    "duration": 33,
    "start_time": "2021-12-25T08:01:16.856Z"
   },
   {
    "duration": 5,
    "start_time": "2021-12-25T08:01:21.676Z"
   },
   {
    "duration": 18,
    "start_time": "2021-12-25T08:01:25.388Z"
   },
   {
    "duration": 7,
    "start_time": "2021-12-25T08:01:28.621Z"
   },
   {
    "duration": 29,
    "start_time": "2021-12-25T08:01:32.308Z"
   },
   {
    "duration": 22,
    "start_time": "2021-12-25T08:01:35.528Z"
   },
   {
    "duration": 30,
    "start_time": "2021-12-25T08:01:38.395Z"
   },
   {
    "duration": 82,
    "start_time": "2021-12-25T08:01:40.984Z"
   },
   {
    "duration": 89,
    "start_time": "2021-12-25T08:01:43.585Z"
   },
   {
    "duration": 85,
    "start_time": "2021-12-25T08:01:48.106Z"
   },
   {
    "duration": 59,
    "start_time": "2021-12-25T08:01:50.878Z"
   },
   {
    "duration": 4,
    "start_time": "2021-12-25T08:01:54.743Z"
   },
   {
    "duration": 10,
    "start_time": "2021-12-25T08:01:56.972Z"
   },
   {
    "duration": 55,
    "start_time": "2021-12-25T08:01:59.480Z"
   },
   {
    "duration": 43,
    "start_time": "2021-12-25T08:02:04.553Z"
   },
   {
    "duration": 47,
    "start_time": "2021-12-25T08:02:07.368Z"
   },
   {
    "duration": 5,
    "start_time": "2021-12-25T08:02:11.350Z"
   },
   {
    "duration": 29,
    "start_time": "2021-12-25T08:02:17.213Z"
   },
   {
    "duration": 5,
    "start_time": "2021-12-25T08:02:31.260Z"
   },
   {
    "duration": 20,
    "start_time": "2021-12-25T08:02:34.858Z"
   },
   {
    "duration": 18,
    "start_time": "2021-12-25T08:04:06.839Z"
   },
   {
    "duration": 19,
    "start_time": "2021-12-25T08:04:08.836Z"
   },
   {
    "duration": 18,
    "start_time": "2021-12-25T08:04:10.280Z"
   },
   {
    "duration": 20,
    "start_time": "2021-12-25T08:04:11.638Z"
   },
   {
    "duration": 18,
    "start_time": "2021-12-25T08:04:13.599Z"
   },
   {
    "duration": 378,
    "start_time": "2021-12-25T08:06:39.340Z"
   },
   {
    "duration": 405,
    "start_time": "2021-12-25T08:12:46.708Z"
   },
   {
    "duration": 365,
    "start_time": "2021-12-25T08:13:49.212Z"
   },
   {
    "duration": 124,
    "start_time": "2021-12-25T08:16:01.074Z"
   },
   {
    "duration": 604,
    "start_time": "2021-12-25T08:16:08.126Z"
   },
   {
    "duration": 13,
    "start_time": "2021-12-25T08:17:56.937Z"
   },
   {
    "duration": 6,
    "start_time": "2021-12-25T08:18:03.144Z"
   },
   {
    "duration": 12,
    "start_time": "2021-12-25T08:18:32.192Z"
   },
   {
    "duration": 6,
    "start_time": "2021-12-25T08:58:53.863Z"
   },
   {
    "duration": 15,
    "start_time": "2021-12-25T08:58:59.071Z"
   },
   {
    "duration": 13,
    "start_time": "2021-12-25T08:59:00.673Z"
   },
   {
    "duration": 7,
    "start_time": "2021-12-25T08:59:05.315Z"
   },
   {
    "duration": 26,
    "start_time": "2021-12-25T08:59:07.527Z"
   },
   {
    "duration": 20,
    "start_time": "2021-12-25T09:00:12.237Z"
   },
   {
    "duration": 22,
    "start_time": "2021-12-25T09:00:14.205Z"
   },
   {
    "duration": 17,
    "start_time": "2021-12-25T09:00:16.116Z"
   },
   {
    "duration": 27,
    "start_time": "2021-12-25T09:07:05.531Z"
   },
   {
    "duration": 17,
    "start_time": "2021-12-25T09:07:07.342Z"
   },
   {
    "duration": 389,
    "start_time": "2021-12-25T09:07:35.753Z"
   },
   {
    "duration": 406,
    "start_time": "2021-12-25T09:08:11.877Z"
   },
   {
    "duration": 11,
    "start_time": "2021-12-25T09:08:26.961Z"
   },
   {
    "duration": 7,
    "start_time": "2021-12-25T09:08:30.745Z"
   },
   {
    "duration": 11,
    "start_time": "2021-12-25T09:08:45.706Z"
   },
   {
    "duration": 6,
    "start_time": "2021-12-25T09:08:48.480Z"
   },
   {
    "duration": 11,
    "start_time": "2021-12-25T09:09:21.548Z"
   },
   {
    "duration": 7,
    "start_time": "2021-12-25T09:09:29.900Z"
   },
   {
    "duration": 3,
    "start_time": "2021-12-25T09:13:52.783Z"
   },
   {
    "duration": 5,
    "start_time": "2021-12-25T09:14:09.942Z"
   },
   {
    "duration": -129,
    "start_time": "2021-12-25T09:17:39.512Z"
   },
   {
    "duration": 11299,
    "start_time": "2021-12-25T09:18:08.363Z"
   },
   {
    "duration": 372,
    "start_time": "2021-12-25T09:18:42.475Z"
   },
   {
    "duration": 10248,
    "start_time": "2021-12-25T09:19:17.009Z"
   },
   {
    "duration": 9,
    "start_time": "2021-12-25T09:19:51.593Z"
   },
   {
    "duration": 6,
    "start_time": "2021-12-25T09:20:12.469Z"
   },
   {
    "duration": 17,
    "start_time": "2021-12-25T09:20:40.003Z"
   },
   {
    "duration": 17,
    "start_time": "2021-12-25T09:20:48.993Z"
   },
   {
    "duration": 18,
    "start_time": "2021-12-25T09:21:44.828Z"
   },
   {
    "duration": 6,
    "start_time": "2021-12-25T09:22:22.629Z"
   },
   {
    "duration": 10,
    "start_time": "2021-12-25T09:24:01.935Z"
   },
   {
    "duration": 7,
    "start_time": "2021-12-25T09:24:34.889Z"
   },
   {
    "duration": 382,
    "start_time": "2021-12-25T09:25:35.447Z"
   },
   {
    "duration": 11,
    "start_time": "2021-12-25T09:25:48.451Z"
   },
   {
    "duration": 468,
    "start_time": "2021-12-25T09:27:49.428Z"
   },
   {
    "duration": 10,
    "start_time": "2021-12-25T09:28:34.036Z"
   },
   {
    "duration": 12,
    "start_time": "2021-12-25T09:28:42.585Z"
   },
   {
    "duration": 13,
    "start_time": "2021-12-25T09:29:10.794Z"
   },
   {
    "duration": 13,
    "start_time": "2021-12-25T09:31:08.802Z"
   },
   {
    "duration": 18,
    "start_time": "2021-12-25T09:32:18.688Z"
   },
   {
    "duration": 31,
    "start_time": "2021-12-25T09:34:37.231Z"
   },
   {
    "duration": 395,
    "start_time": "2021-12-25T09:36:42.577Z"
   },
   {
    "duration": 407,
    "start_time": "2021-12-25T09:37:16.005Z"
   },
   {
    "duration": 37,
    "start_time": "2021-12-25T09:37:30.493Z"
   },
   {
    "duration": 35,
    "start_time": "2021-12-25T09:37:57.967Z"
   },
   {
    "duration": 45,
    "start_time": "2021-12-25T09:38:26.096Z"
   },
   {
    "duration": 1147,
    "start_time": "2021-12-25T09:45:15.651Z"
   },
   {
    "duration": 383,
    "start_time": "2021-12-25T09:45:48.723Z"
   },
   {
    "duration": 301,
    "start_time": "2021-12-25T09:46:06.272Z"
   },
   {
    "duration": 377,
    "start_time": "2021-12-25T09:46:19.433Z"
   },
   {
    "duration": 480,
    "start_time": "2021-12-25T09:46:28.425Z"
   },
   {
    "duration": 368,
    "start_time": "2021-12-25T09:46:45.583Z"
   },
   {
    "duration": 310,
    "start_time": "2021-12-25T09:47:01.694Z"
   },
   {
    "duration": 696,
    "start_time": "2021-12-25T09:50:15.551Z"
   },
   {
    "duration": 839,
    "start_time": "2021-12-25T09:50:34.300Z"
   },
   {
    "duration": 692,
    "start_time": "2021-12-25T09:53:02.584Z"
   },
   {
    "duration": 418,
    "start_time": "2021-12-25T09:54:19.492Z"
   },
   {
    "duration": 367,
    "start_time": "2021-12-25T09:55:39.054Z"
   },
   {
    "duration": 403,
    "start_time": "2021-12-25T09:58:29.656Z"
   },
   {
    "duration": 344,
    "start_time": "2021-12-25T09:59:04.330Z"
   },
   {
    "duration": 308,
    "start_time": "2021-12-25T09:59:18.279Z"
   },
   {
    "duration": 36,
    "start_time": "2021-12-25T10:00:38.468Z"
   },
   {
    "duration": 23,
    "start_time": "2021-12-25T10:13:17.226Z"
   },
   {
    "duration": 496,
    "start_time": "2021-12-25T10:16:18.085Z"
   },
   {
    "duration": 301,
    "start_time": "2021-12-25T10:16:35.203Z"
   },
   {
    "duration": 6,
    "start_time": "2021-12-25T10:24:15.574Z"
   },
   {
    "duration": 5,
    "start_time": "2021-12-25T10:24:50.133Z"
   },
   {
    "duration": 6,
    "start_time": "2021-12-25T10:24:57.973Z"
   },
   {
    "duration": 7,
    "start_time": "2021-12-25T10:25:08.011Z"
   },
   {
    "duration": 7,
    "start_time": "2021-12-25T10:25:20.569Z"
   },
   {
    "duration": 46,
    "start_time": "2021-12-25T10:26:43.273Z"
   },
   {
    "duration": 3,
    "start_time": "2021-12-25T10:28:05.665Z"
   },
   {
    "duration": 228,
    "start_time": "2021-12-25T10:28:05.671Z"
   },
   {
    "duration": 15,
    "start_time": "2021-12-25T10:28:05.902Z"
   },
   {
    "duration": 55,
    "start_time": "2021-12-25T10:28:05.920Z"
   },
   {
    "duration": 6,
    "start_time": "2021-12-25T10:28:05.977Z"
   },
   {
    "duration": 36,
    "start_time": "2021-12-25T10:28:05.987Z"
   },
   {
    "duration": 35,
    "start_time": "2021-12-25T10:28:06.028Z"
   },
   {
    "duration": 34,
    "start_time": "2021-12-25T10:28:06.066Z"
   },
   {
    "duration": 55,
    "start_time": "2021-12-25T10:28:06.104Z"
   },
   {
    "duration": 31,
    "start_time": "2021-12-25T10:28:06.163Z"
   },
   {
    "duration": 113,
    "start_time": "2021-12-25T10:28:06.196Z"
   },
   {
    "duration": 113,
    "start_time": "2021-12-25T10:28:06.311Z"
   },
   {
    "duration": 85,
    "start_time": "2021-12-25T10:28:06.427Z"
   },
   {
    "duration": 75,
    "start_time": "2021-12-25T10:28:06.515Z"
   },
   {
    "duration": 5,
    "start_time": "2021-12-25T10:28:06.592Z"
   },
   {
    "duration": 14,
    "start_time": "2021-12-25T10:28:06.600Z"
   },
   {
    "duration": 89,
    "start_time": "2021-12-25T10:28:06.616Z"
   },
   {
    "duration": 62,
    "start_time": "2021-12-25T10:28:06.707Z"
   },
   {
    "duration": 46,
    "start_time": "2021-12-25T10:28:06.771Z"
   },
   {
    "duration": 5,
    "start_time": "2021-12-25T10:28:06.820Z"
   },
   {
    "duration": 58,
    "start_time": "2021-12-25T10:28:06.828Z"
   },
   {
    "duration": 31,
    "start_time": "2021-12-25T10:28:06.888Z"
   },
   {
    "duration": 42,
    "start_time": "2021-12-25T10:28:06.922Z"
   },
   {
    "duration": 21,
    "start_time": "2021-12-25T10:28:06.966Z"
   },
   {
    "duration": 23,
    "start_time": "2021-12-25T10:28:06.991Z"
   },
   {
    "duration": 54,
    "start_time": "2021-12-25T10:28:07.017Z"
   },
   {
    "duration": 13,
    "start_time": "2021-12-25T10:28:07.077Z"
   },
   {
    "duration": 20,
    "start_time": "2021-12-25T10:28:07.093Z"
   },
   {
    "duration": 51,
    "start_time": "2021-12-25T10:28:07.115Z"
   },
   {
    "duration": 6,
    "start_time": "2021-12-25T10:28:07.169Z"
   },
   {
    "duration": 28,
    "start_time": "2021-12-25T10:28:07.177Z"
   },
   {
    "duration": 18,
    "start_time": "2021-12-25T10:28:07.207Z"
   },
   {
    "duration": 22,
    "start_time": "2021-12-25T10:28:07.261Z"
   },
   {
    "duration": 16,
    "start_time": "2021-12-25T10:28:07.286Z"
   },
   {
    "duration": 11,
    "start_time": "2021-12-25T10:28:07.304Z"
   },
   {
    "duration": 43,
    "start_time": "2021-12-25T10:28:07.317Z"
   },
   {
    "duration": 11,
    "start_time": "2021-12-25T10:28:07.363Z"
   },
   {
    "duration": 7,
    "start_time": "2021-12-25T10:28:07.377Z"
   },
   {
    "duration": 28,
    "start_time": "2021-12-25T10:28:07.387Z"
   },
   {
    "duration": 429,
    "start_time": "2021-12-25T10:28:07.419Z"
   },
   {
    "duration": 362,
    "start_time": "2021-12-25T10:28:07.850Z"
   },
   {
    "duration": 144,
    "start_time": "2021-12-26T06:11:33.614Z"
   },
   {
    "duration": 231,
    "start_time": "2021-12-26T12:06:53.032Z"
   },
   {
    "duration": 590,
    "start_time": "2021-12-26T12:10:22.090Z"
   },
   {
    "duration": 136,
    "start_time": "2021-12-26T12:10:22.682Z"
   },
   {
    "duration": 16,
    "start_time": "2021-12-26T12:10:22.820Z"
   },
   {
    "duration": 44,
    "start_time": "2021-12-26T12:10:22.838Z"
   },
   {
    "duration": 13,
    "start_time": "2021-12-26T12:10:22.884Z"
   },
   {
    "duration": 41,
    "start_time": "2021-12-26T12:10:22.899Z"
   },
   {
    "duration": 7,
    "start_time": "2021-12-26T12:10:22.941Z"
   },
   {
    "duration": 39,
    "start_time": "2021-12-26T12:10:22.950Z"
   },
   {
    "duration": 18,
    "start_time": "2021-12-26T12:10:22.991Z"
   },
   {
    "duration": 34,
    "start_time": "2021-12-26T12:10:23.011Z"
   },
   {
    "duration": 63,
    "start_time": "2021-12-26T12:10:23.046Z"
   },
   {
    "duration": 68,
    "start_time": "2021-12-26T12:10:23.111Z"
   },
   {
    "duration": 58,
    "start_time": "2021-12-26T12:10:23.181Z"
   },
   {
    "duration": 52,
    "start_time": "2021-12-26T12:10:23.241Z"
   },
   {
    "duration": 2,
    "start_time": "2021-12-26T12:10:23.295Z"
   },
   {
    "duration": 9,
    "start_time": "2021-12-26T12:10:23.299Z"
   },
   {
    "duration": 45,
    "start_time": "2021-12-26T12:10:23.309Z"
   },
   {
    "duration": 47,
    "start_time": "2021-12-26T12:10:23.356Z"
   },
   {
    "duration": 10,
    "start_time": "2021-12-26T12:10:23.405Z"
   },
   {
    "duration": 4,
    "start_time": "2021-12-26T12:10:23.416Z"
   },
   {
    "duration": 19,
    "start_time": "2021-12-26T12:10:23.421Z"
   },
   {
    "duration": 15,
    "start_time": "2021-12-26T12:10:23.441Z"
   },
   {
    "duration": 39,
    "start_time": "2021-12-26T12:10:23.457Z"
   },
   {
    "duration": 14,
    "start_time": "2021-12-26T12:10:23.497Z"
   },
   {
    "duration": 16,
    "start_time": "2021-12-26T12:10:23.512Z"
   },
   {
    "duration": 14,
    "start_time": "2021-12-26T12:10:23.529Z"
   },
   {
    "duration": 8,
    "start_time": "2021-12-26T12:10:23.546Z"
   },
   {
    "duration": 43,
    "start_time": "2021-12-26T12:10:23.556Z"
   },
   {
    "duration": 8,
    "start_time": "2021-12-26T12:10:23.601Z"
   },
   {
    "duration": 4,
    "start_time": "2021-12-26T12:10:23.611Z"
   },
   {
    "duration": 23,
    "start_time": "2021-12-26T12:10:23.616Z"
   },
   {
    "duration": 12,
    "start_time": "2021-12-26T12:10:23.641Z"
   },
   {
    "duration": 41,
    "start_time": "2021-12-26T12:10:23.655Z"
   },
   {
    "duration": 12,
    "start_time": "2021-12-26T12:10:23.697Z"
   },
   {
    "duration": 7,
    "start_time": "2021-12-26T12:10:23.710Z"
   },
   {
    "duration": 4,
    "start_time": "2021-12-26T12:10:23.719Z"
   },
   {
    "duration": 8,
    "start_time": "2021-12-26T12:10:23.724Z"
   },
   {
    "duration": 4,
    "start_time": "2021-12-26T12:10:23.733Z"
   },
   {
    "duration": 14,
    "start_time": "2021-12-26T12:10:23.739Z"
   },
   {
    "duration": 708,
    "start_time": "2021-12-26T12:10:23.791Z"
   },
   {
    "duration": 214,
    "start_time": "2021-12-26T12:10:24.501Z"
   },
   {
    "duration": 11,
    "start_time": "2021-12-26T12:11:06.803Z"
   },
   {
    "duration": 31,
    "start_time": "2021-12-26T12:11:13.313Z"
   },
   {
    "duration": 263,
    "start_time": "2021-12-26T12:11:39.031Z"
   },
   {
    "duration": 33,
    "start_time": "2021-12-26T12:11:44.085Z"
   },
   {
    "duration": 10,
    "start_time": "2021-12-26T12:12:11.891Z"
   },
   {
    "duration": 208,
    "start_time": "2021-12-26T12:12:18.866Z"
   },
   {
    "duration": 219,
    "start_time": "2021-12-26T12:12:23.426Z"
   },
   {
    "duration": 11,
    "start_time": "2021-12-26T12:12:29.067Z"
   },
   {
    "duration": 63,
    "start_time": "2021-12-26T12:15:41.848Z"
   },
   {
    "duration": 57,
    "start_time": "2021-12-26T12:16:02.677Z"
   },
   {
    "duration": 67,
    "start_time": "2021-12-26T12:16:17.561Z"
   },
   {
    "duration": 79,
    "start_time": "2021-12-26T12:17:03.612Z"
   },
   {
    "duration": 62,
    "start_time": "2021-12-26T12:24:43.766Z"
   },
   {
    "duration": 49,
    "start_time": "2021-12-26T12:24:47.495Z"
   },
   {
    "duration": 50,
    "start_time": "2021-12-26T12:26:56.508Z"
   },
   {
    "duration": 52,
    "start_time": "2021-12-26T12:27:57.656Z"
   },
   {
    "duration": 54,
    "start_time": "2021-12-26T12:27:59.456Z"
   },
   {
    "duration": 2,
    "start_time": "2021-12-26T12:28:06.165Z"
   },
   {
    "duration": 155,
    "start_time": "2021-12-26T12:28:06.169Z"
   },
   {
    "duration": 9,
    "start_time": "2021-12-26T12:28:06.326Z"
   },
   {
    "duration": 39,
    "start_time": "2021-12-26T12:28:06.337Z"
   },
   {
    "duration": 7,
    "start_time": "2021-12-26T12:28:06.377Z"
   },
   {
    "duration": 22,
    "start_time": "2021-12-26T12:28:06.386Z"
   },
   {
    "duration": 12,
    "start_time": "2021-12-26T12:28:06.409Z"
   },
   {
    "duration": 35,
    "start_time": "2021-12-26T12:28:06.423Z"
   },
   {
    "duration": 16,
    "start_time": "2021-12-26T12:28:06.460Z"
   },
   {
    "duration": 33,
    "start_time": "2021-12-26T12:28:06.478Z"
   },
   {
    "duration": 54,
    "start_time": "2021-12-26T12:28:06.512Z"
   },
   {
    "duration": 70,
    "start_time": "2021-12-26T12:28:06.567Z"
   },
   {
    "duration": 53,
    "start_time": "2021-12-26T12:28:06.638Z"
   },
   {
    "duration": 42,
    "start_time": "2021-12-26T12:28:06.693Z"
   },
   {
    "duration": 2,
    "start_time": "2021-12-26T12:28:06.737Z"
   },
   {
    "duration": 10,
    "start_time": "2021-12-26T12:28:06.741Z"
   },
   {
    "duration": 60,
    "start_time": "2021-12-26T12:28:06.752Z"
   },
   {
    "duration": 31,
    "start_time": "2021-12-26T12:28:06.814Z"
   },
   {
    "duration": 9,
    "start_time": "2021-12-26T12:28:06.847Z"
   },
   {
    "duration": 7,
    "start_time": "2021-12-26T12:28:06.859Z"
   },
   {
    "duration": 34,
    "start_time": "2021-12-26T12:28:06.868Z"
   },
   {
    "duration": 12,
    "start_time": "2021-12-26T12:28:06.904Z"
   },
   {
    "duration": 21,
    "start_time": "2021-12-26T12:28:06.918Z"
   },
   {
    "duration": 15,
    "start_time": "2021-12-26T12:28:06.940Z"
   },
   {
    "duration": 35,
    "start_time": "2021-12-26T12:28:06.956Z"
   },
   {
    "duration": 13,
    "start_time": "2021-12-26T12:28:06.993Z"
   },
   {
    "duration": 20,
    "start_time": "2021-12-26T12:28:07.009Z"
   },
   {
    "duration": 17,
    "start_time": "2021-12-26T12:28:07.031Z"
   },
   {
    "duration": 25,
    "start_time": "2021-12-26T12:28:07.049Z"
   },
   {
    "duration": 10,
    "start_time": "2021-12-26T12:28:07.076Z"
   },
   {
    "duration": 29,
    "start_time": "2021-12-26T12:28:07.088Z"
   },
   {
    "duration": 12,
    "start_time": "2021-12-26T12:28:07.119Z"
   },
   {
    "duration": 16,
    "start_time": "2021-12-26T12:28:07.132Z"
   },
   {
    "duration": 10,
    "start_time": "2021-12-26T12:28:07.149Z"
   },
   {
    "duration": 7,
    "start_time": "2021-12-26T12:28:07.160Z"
   },
   {
    "duration": 12,
    "start_time": "2021-12-26T12:28:07.168Z"
   },
   {
    "duration": 7,
    "start_time": "2021-12-26T12:28:07.196Z"
   },
   {
    "duration": 5,
    "start_time": "2021-12-26T12:28:07.205Z"
   },
   {
    "duration": 28,
    "start_time": "2021-12-26T12:28:07.212Z"
   },
   {
    "duration": 214,
    "start_time": "2021-12-26T12:28:07.242Z"
   },
   {
    "duration": 239,
    "start_time": "2021-12-26T12:28:07.457Z"
   },
   {
    "duration": 199,
    "start_time": "2021-12-26T12:41:32.594Z"
   },
   {
    "duration": 12,
    "start_time": "2021-12-26T12:41:42.215Z"
   },
   {
    "duration": 63,
    "start_time": "2021-12-26T12:41:45.956Z"
   },
   {
    "duration": 11,
    "start_time": "2021-12-26T12:43:20.590Z"
   },
   {
    "duration": 11,
    "start_time": "2021-12-26T12:43:26.020Z"
   },
   {
    "duration": 10,
    "start_time": "2021-12-26T12:43:30.277Z"
   },
   {
    "duration": 2,
    "start_time": "2021-12-26T12:45:22.177Z"
   },
   {
    "duration": 156,
    "start_time": "2021-12-26T12:45:22.182Z"
   },
   {
    "duration": 10,
    "start_time": "2021-12-26T12:45:22.339Z"
   },
   {
    "duration": 40,
    "start_time": "2021-12-26T12:45:22.351Z"
   },
   {
    "duration": 3,
    "start_time": "2021-12-26T12:45:22.393Z"
   },
   {
    "duration": 18,
    "start_time": "2021-12-26T12:45:22.398Z"
   },
   {
    "duration": 4,
    "start_time": "2021-12-26T12:45:22.417Z"
   },
   {
    "duration": 25,
    "start_time": "2021-12-26T12:45:22.422Z"
   },
   {
    "duration": 52,
    "start_time": "2021-12-26T12:45:22.451Z"
   },
   {
    "duration": 25,
    "start_time": "2021-12-26T12:45:22.506Z"
   },
   {
    "duration": 98,
    "start_time": "2021-12-26T12:45:22.533Z"
   },
   {
    "duration": 65,
    "start_time": "2021-12-26T12:45:22.634Z"
   },
   {
    "duration": 54,
    "start_time": "2021-12-26T12:45:22.702Z"
   },
   {
    "duration": 56,
    "start_time": "2021-12-26T12:45:22.758Z"
   },
   {
    "duration": 3,
    "start_time": "2021-12-26T12:45:22.816Z"
   },
   {
    "duration": 13,
    "start_time": "2021-12-26T12:45:22.821Z"
   },
   {
    "duration": 61,
    "start_time": "2021-12-26T12:45:22.835Z"
   },
   {
    "duration": 33,
    "start_time": "2021-12-26T12:45:22.898Z"
   },
   {
    "duration": 11,
    "start_time": "2021-12-26T12:45:22.933Z"
   },
   {
    "duration": 6,
    "start_time": "2021-12-26T12:45:22.945Z"
   },
   {
    "duration": 42,
    "start_time": "2021-12-26T12:45:22.952Z"
   },
   {
    "duration": 14,
    "start_time": "2021-12-26T12:45:22.996Z"
   },
   {
    "duration": 15,
    "start_time": "2021-12-26T12:45:23.011Z"
   },
   {
    "duration": 14,
    "start_time": "2021-12-26T12:45:23.028Z"
   },
   {
    "duration": 15,
    "start_time": "2021-12-26T12:45:23.043Z"
   },
   {
    "duration": 16,
    "start_time": "2021-12-26T12:45:23.092Z"
   },
   {
    "duration": 10,
    "start_time": "2021-12-26T12:45:23.113Z"
   },
   {
    "duration": 21,
    "start_time": "2021-12-26T12:45:23.125Z"
   },
   {
    "duration": 12,
    "start_time": "2021-12-26T12:45:23.147Z"
   },
   {
    "duration": 32,
    "start_time": "2021-12-26T12:45:23.161Z"
   },
   {
    "duration": 24,
    "start_time": "2021-12-26T12:45:23.194Z"
   },
   {
    "duration": 11,
    "start_time": "2021-12-26T12:45:23.220Z"
   },
   {
    "duration": 15,
    "start_time": "2021-12-26T12:45:23.233Z"
   },
   {
    "duration": 44,
    "start_time": "2021-12-26T12:45:23.249Z"
   },
   {
    "duration": 9,
    "start_time": "2021-12-26T12:45:23.295Z"
   },
   {
    "duration": 4,
    "start_time": "2021-12-26T12:45:23.306Z"
   },
   {
    "duration": 8,
    "start_time": "2021-12-26T12:45:23.311Z"
   },
   {
    "duration": 6,
    "start_time": "2021-12-26T12:45:23.320Z"
   },
   {
    "duration": 16,
    "start_time": "2021-12-26T12:45:23.328Z"
   },
   {
    "duration": 241,
    "start_time": "2021-12-26T12:45:23.346Z"
   },
   {
    "duration": 225,
    "start_time": "2021-12-26T12:45:23.589Z"
   },
   {
    "duration": 11,
    "start_time": "2021-12-26T12:49:49.840Z"
   },
   {
    "duration": 3,
    "start_time": "2021-12-26T12:57:19.550Z"
   },
   {
    "duration": 140,
    "start_time": "2021-12-26T12:57:19.554Z"
   },
   {
    "duration": 10,
    "start_time": "2021-12-26T12:57:19.696Z"
   },
   {
    "duration": 25,
    "start_time": "2021-12-26T12:57:19.708Z"
   },
   {
    "duration": 3,
    "start_time": "2021-12-26T12:57:19.735Z"
   },
   {
    "duration": 14,
    "start_time": "2021-12-26T12:57:19.740Z"
   },
   {
    "duration": 4,
    "start_time": "2021-12-26T12:57:19.756Z"
   },
   {
    "duration": 50,
    "start_time": "2021-12-26T12:57:19.761Z"
   },
   {
    "duration": 18,
    "start_time": "2021-12-26T12:57:19.814Z"
   },
   {
    "duration": 22,
    "start_time": "2021-12-26T12:57:19.834Z"
   },
   {
    "duration": 82,
    "start_time": "2021-12-26T12:57:19.858Z"
   },
   {
    "duration": 70,
    "start_time": "2021-12-26T12:57:19.942Z"
   },
   {
    "duration": 52,
    "start_time": "2021-12-26T12:57:20.013Z"
   },
   {
    "duration": 56,
    "start_time": "2021-12-26T12:57:20.066Z"
   },
   {
    "duration": 2,
    "start_time": "2021-12-26T12:57:20.124Z"
   },
   {
    "duration": 14,
    "start_time": "2021-12-26T12:57:20.128Z"
   },
   {
    "duration": 55,
    "start_time": "2021-12-26T12:57:20.144Z"
   },
   {
    "duration": 10,
    "start_time": "2021-12-26T12:57:20.200Z"
   },
   {
    "duration": 10,
    "start_time": "2021-12-26T12:57:20.212Z"
   },
   {
    "duration": 3,
    "start_time": "2021-12-26T12:57:20.224Z"
   },
   {
    "duration": 21,
    "start_time": "2021-12-26T12:57:20.228Z"
   },
   {
    "duration": 42,
    "start_time": "2021-12-26T12:57:20.250Z"
   },
   {
    "duration": 15,
    "start_time": "2021-12-26T12:57:20.294Z"
   },
   {
    "duration": 13,
    "start_time": "2021-12-26T12:57:20.311Z"
   },
   {
    "duration": 18,
    "start_time": "2021-12-26T12:57:20.325Z"
   },
   {
    "duration": 14,
    "start_time": "2021-12-26T12:57:20.345Z"
   },
   {
    "duration": 37,
    "start_time": "2021-12-26T12:57:20.362Z"
   },
   {
    "duration": 16,
    "start_time": "2021-12-26T12:57:20.401Z"
   },
   {
    "duration": 13,
    "start_time": "2021-12-26T12:57:20.419Z"
   },
   {
    "duration": 4,
    "start_time": "2021-12-26T12:57:20.433Z"
   },
   {
    "duration": 37,
    "start_time": "2021-12-26T12:57:20.438Z"
   },
   {
    "duration": 24,
    "start_time": "2021-12-26T12:57:20.477Z"
   },
   {
    "duration": 16,
    "start_time": "2021-12-26T12:57:20.503Z"
   },
   {
    "duration": 12,
    "start_time": "2021-12-26T12:57:20.521Z"
   },
   {
    "duration": 8,
    "start_time": "2021-12-26T12:57:20.535Z"
   },
   {
    "duration": 4,
    "start_time": "2021-12-26T12:57:20.544Z"
   },
   {
    "duration": 14,
    "start_time": "2021-12-26T12:57:20.550Z"
   },
   {
    "duration": 5,
    "start_time": "2021-12-26T12:57:20.592Z"
   },
   {
    "duration": 16,
    "start_time": "2021-12-26T12:57:20.598Z"
   },
   {
    "duration": 212,
    "start_time": "2021-12-26T12:57:20.616Z"
   },
   {
    "duration": 285,
    "start_time": "2021-12-26T12:57:20.830Z"
   },
   {
    "duration": 498,
    "start_time": "2021-12-26T16:51:39.153Z"
   },
   {
    "duration": 134,
    "start_time": "2021-12-26T16:51:40.106Z"
   },
   {
    "duration": 15,
    "start_time": "2021-12-26T16:51:40.689Z"
   },
   {
    "duration": 23,
    "start_time": "2021-12-26T16:51:40.975Z"
   },
   {
    "duration": 4,
    "start_time": "2021-12-26T16:51:42.024Z"
   },
   {
    "duration": 22,
    "start_time": "2021-12-26T16:51:42.334Z"
   },
   {
    "duration": 4,
    "start_time": "2021-12-26T16:51:42.648Z"
   },
   {
    "duration": 22,
    "start_time": "2021-12-26T16:51:43.110Z"
   },
   {
    "duration": 18,
    "start_time": "2021-12-26T16:51:43.582Z"
   },
   {
    "duration": 24,
    "start_time": "2021-12-26T16:51:43.903Z"
   },
   {
    "duration": 58,
    "start_time": "2021-12-26T16:51:44.638Z"
   },
   {
    "duration": 65,
    "start_time": "2021-12-26T16:51:44.716Z"
   },
   {
    "duration": 53,
    "start_time": "2021-12-26T16:51:45.022Z"
   },
   {
    "duration": 41,
    "start_time": "2021-12-26T16:51:45.839Z"
   },
   {
    "duration": 3,
    "start_time": "2021-12-26T16:51:46.358Z"
   },
   {
    "duration": 12,
    "start_time": "2021-12-26T16:51:46.854Z"
   },
   {
    "duration": 40,
    "start_time": "2021-12-26T16:51:47.175Z"
   },
   {
    "duration": 10,
    "start_time": "2021-12-26T16:51:48.520Z"
   },
   {
    "duration": 11,
    "start_time": "2021-12-26T16:51:48.919Z"
   },
   {
    "duration": 65,
    "start_time": "2021-12-26T16:51:50.079Z"
   },
   {
    "duration": 12,
    "start_time": "2021-12-26T16:52:03.896Z"
   },
   {
    "duration": 357,
    "start_time": "2021-12-26T18:38:55.283Z"
   },
   {
    "duration": 287,
    "start_time": "2021-12-26T18:39:15.251Z"
   },
   {
    "duration": 702,
    "start_time": "2021-12-26T18:39:19.810Z"
   },
   {
    "duration": 163,
    "start_time": "2021-12-26T18:39:20.514Z"
   },
   {
    "duration": 24,
    "start_time": "2021-12-26T18:39:20.680Z"
   },
   {
    "duration": 46,
    "start_time": "2021-12-26T18:39:20.706Z"
   },
   {
    "duration": 8,
    "start_time": "2021-12-26T18:39:20.754Z"
   },
   {
    "duration": 62,
    "start_time": "2021-12-26T18:39:20.763Z"
   },
   {
    "duration": 41,
    "start_time": "2021-12-26T18:39:20.827Z"
   },
   {
    "duration": 69,
    "start_time": "2021-12-26T18:39:20.871Z"
   },
   {
    "duration": 36,
    "start_time": "2021-12-26T18:39:20.943Z"
   },
   {
    "duration": 30,
    "start_time": "2021-12-26T18:39:20.982Z"
   },
   {
    "duration": 76,
    "start_time": "2021-12-26T18:39:21.014Z"
   },
   {
    "duration": 97,
    "start_time": "2021-12-26T18:39:21.093Z"
   },
   {
    "duration": 50,
    "start_time": "2021-12-26T18:39:21.193Z"
   },
   {
    "duration": 69,
    "start_time": "2021-12-26T18:39:21.245Z"
   },
   {
    "duration": 3,
    "start_time": "2021-12-26T18:39:21.316Z"
   },
   {
    "duration": 42,
    "start_time": "2021-12-26T18:39:21.321Z"
   },
   {
    "duration": 76,
    "start_time": "2021-12-26T18:39:21.365Z"
   },
   {
    "duration": 32,
    "start_time": "2021-12-26T18:39:21.442Z"
   },
   {
    "duration": 49,
    "start_time": "2021-12-26T18:39:21.476Z"
   },
   {
    "duration": 42,
    "start_time": "2021-12-26T18:39:21.527Z"
   },
   {
    "duration": 20,
    "start_time": "2021-12-26T18:39:21.573Z"
   },
   {
    "duration": 70,
    "start_time": "2021-12-26T18:39:21.596Z"
   },
   {
    "duration": 32,
    "start_time": "2021-12-26T18:39:21.671Z"
   },
   {
    "duration": 28,
    "start_time": "2021-12-26T18:39:21.705Z"
   },
   {
    "duration": 17,
    "start_time": "2021-12-26T18:39:21.735Z"
   },
   {
    "duration": 64,
    "start_time": "2021-12-26T18:39:21.754Z"
   },
   {
    "duration": 15,
    "start_time": "2021-12-26T18:39:21.820Z"
   },
   {
    "duration": 26,
    "start_time": "2021-12-26T18:39:21.837Z"
   },
   {
    "duration": 47,
    "start_time": "2021-12-26T18:39:21.867Z"
   },
   {
    "duration": 14,
    "start_time": "2021-12-26T18:39:21.916Z"
   },
   {
    "duration": 12,
    "start_time": "2021-12-26T18:39:21.932Z"
   },
   {
    "duration": 57,
    "start_time": "2021-12-26T18:39:21.946Z"
   },
   {
    "duration": 22,
    "start_time": "2021-12-26T18:39:22.005Z"
   },
   {
    "duration": 41,
    "start_time": "2021-12-26T18:39:22.029Z"
   },
   {
    "duration": 42,
    "start_time": "2021-12-26T18:39:22.072Z"
   },
   {
    "duration": 11,
    "start_time": "2021-12-26T18:39:22.115Z"
   },
   {
    "duration": 15,
    "start_time": "2021-12-26T18:39:22.128Z"
   },
   {
    "duration": 37,
    "start_time": "2021-12-26T18:39:22.145Z"
   },
   {
    "duration": 20,
    "start_time": "2021-12-26T18:39:22.184Z"
   },
   {
    "duration": 42,
    "start_time": "2021-12-26T18:39:22.206Z"
   },
   {
    "duration": 824,
    "start_time": "2021-12-26T18:39:22.250Z"
   },
   {
    "duration": 236,
    "start_time": "2021-12-26T18:39:23.077Z"
   },
   {
    "duration": 25,
    "start_time": "2021-12-26T18:40:31.283Z"
   },
   {
    "duration": 17,
    "start_time": "2021-12-26T18:40:39.722Z"
   },
   {
    "duration": 20,
    "start_time": "2021-12-26T18:40:48.684Z"
   },
   {
    "duration": 16,
    "start_time": "2021-12-26T18:40:55.295Z"
   },
   {
    "duration": 7,
    "start_time": "2021-12-26T18:41:16.298Z"
   },
   {
    "duration": 8,
    "start_time": "2021-12-26T18:41:23.342Z"
   }
  ],
  "colab": {
   "collapsed_sections": [
    "E0vqbgi9ay0H",
    "VUC88oWjTJw2"
   ],
   "name": "yandex_music_project_2021.2.ipynb",
   "provenance": []
  },
  "kernelspec": {
   "display_name": "Python 3 (ipykernel)",
   "language": "python",
   "name": "python3"
  },
  "language_info": {
   "codemirror_mode": {
    "name": "ipython",
    "version": 3
   },
   "file_extension": ".py",
   "mimetype": "text/x-python",
   "name": "python",
   "nbconvert_exporter": "python",
   "pygments_lexer": "ipython3",
   "version": "3.9.7"
  },
  "toc": {
   "base_numbering": 1,
   "nav_menu": {},
   "number_sections": true,
   "sideBar": true,
   "skip_h1_title": true,
   "title_cell": "Table of Contents",
   "title_sidebar": "Contents",
   "toc_cell": false,
   "toc_position": {
    "height": "calc(100% - 180px)",
    "left": "10px",
    "top": "150px",
    "width": "211.038px"
   },
   "toc_section_display": true,
   "toc_window_display": true
  }
 },
 "nbformat": 4,
 "nbformat_minor": 1
}
