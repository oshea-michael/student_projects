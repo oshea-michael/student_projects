{
 "cells": [
  {
   "cell_type": "markdown",
   "id": "c3b0d14a",
   "metadata": {},
   "source": [
    "## Bank Churn Analysis\n",
    "\n",
    "\n",
    "The goal of this project is to train and test a model that will predict if a bank client is likely to leave. The bank's marketing department requires such a model so that they will be able to actively work on keeping clients who are considering leaving, rather than working on attracting new clients.\n",
    "\n",
    "The data used for this project includes banking and financial information (bank services used, credit score, estimated salary, etc.) as well as basic personal information (age, gender, country of residence).\n",
    "\n",
    "The metric used to draw conclusions about model performance was F1-score, although AUC-ROC was also looked at for comparative purposes.\n"
   ]
  },
  {
   "cell_type": "markdown",
   "id": "27f2cfe0",
   "metadata": {},
   "source": [
    "### Содержание\n",
    "\n",
    "[Импортирование библиотек и функций](#Импорты)\n",
    "\n",
    "[Загрузка и просмотр данных](#Загрузка)\n",
    "\n",
    "[Предотработка данных](#Предотработка)\n",
    "\n",
    "[Разделение данных и тестирование моделей](#Тестирование)\n",
    "\n",
    "[Финальное тестирование и общие выводы](#Финальное)"
   ]
  },
  {
   "cell_type": "markdown",
   "id": "bb3b696f",
   "metadata": {},
   "source": [
    "### Импортирование библиотек и функций\n",
    "<a id='Импорты'></a>"
   ]
  },
  {
   "cell_type": "code",
   "execution_count": 139,
   "id": "aa9c4ad3",
   "metadata": {},
   "outputs": [],
   "source": [
    "import pandas as pd\n",
    "import numpy as np\n",
    "from sklearn.ensemble import RandomForestRegressor, RandomForestClassifier\n",
    "from sklearn.linear_model import LogisticRegression\n",
    "from sklearn.tree import DecisionTreeClassifier\n",
    "from sklearn.model_selection import train_test_split\n",
    "from sklearn.metrics import f1_score, roc_auc_score, confusion_matrix, roc_curve, auc, RocCurveDisplay\n",
    "from sklearn.preprocessing import StandardScaler\n",
    "from sklearn.utils import shuffle\n",
    "import matplotlib.pyplot as plt"
   ]
  },
  {
   "cell_type": "markdown",
   "id": "a1aadecd",
   "metadata": {},
   "source": [
    "### Загрузка и просмотр данных\n",
    "<a id='Загрузка'></a>\n"
   ]
  },
  {
   "cell_type": "code",
   "execution_count": 100,
   "id": "d26cc809",
   "metadata": {
    "scrolled": false
   },
   "outputs": [
    {
     "name": "stdout",
     "output_type": "stream",
     "text": [
      "<class 'pandas.core.frame.DataFrame'>\n",
      "RangeIndex: 10000 entries, 0 to 9999\n",
      "Data columns (total 14 columns):\n",
      " #   Column           Non-Null Count  Dtype  \n",
      "---  ------           --------------  -----  \n",
      " 0   RowNumber        10000 non-null  int64  \n",
      " 1   CustomerId       10000 non-null  int64  \n",
      " 2   Surname          10000 non-null  object \n",
      " 3   CreditScore      10000 non-null  int64  \n",
      " 4   Geography        10000 non-null  object \n",
      " 5   Gender           10000 non-null  object \n",
      " 6   Age              10000 non-null  int64  \n",
      " 7   Tenure           9091 non-null   float64\n",
      " 8   Balance          10000 non-null  float64\n",
      " 9   NumOfProducts    10000 non-null  int64  \n",
      " 10  HasCrCard        10000 non-null  int64  \n",
      " 11  IsActiveMember   10000 non-null  int64  \n",
      " 12  EstimatedSalary  10000 non-null  float64\n",
      " 13  Exited           10000 non-null  int64  \n",
      "dtypes: float64(3), int64(8), object(3)\n",
      "memory usage: 1.1+ MB\n"
     ]
    },
    {
     "data": {
      "text/html": [
       "<div>\n",
       "<style scoped>\n",
       "    .dataframe tbody tr th:only-of-type {\n",
       "        vertical-align: middle;\n",
       "    }\n",
       "\n",
       "    .dataframe tbody tr th {\n",
       "        vertical-align: top;\n",
       "    }\n",
       "\n",
       "    .dataframe thead th {\n",
       "        text-align: right;\n",
       "    }\n",
       "</style>\n",
       "<table border=\"1\" class=\"dataframe\">\n",
       "  <thead>\n",
       "    <tr style=\"text-align: right;\">\n",
       "      <th></th>\n",
       "      <th>0</th>\n",
       "      <th>1</th>\n",
       "      <th>2</th>\n",
       "      <th>3</th>\n",
       "      <th>4</th>\n",
       "      <th>5</th>\n",
       "      <th>6</th>\n",
       "      <th>7</th>\n",
       "      <th>8</th>\n",
       "      <th>9</th>\n",
       "    </tr>\n",
       "  </thead>\n",
       "  <tbody>\n",
       "    <tr>\n",
       "      <th>RowNumber</th>\n",
       "      <td>1</td>\n",
       "      <td>2</td>\n",
       "      <td>3</td>\n",
       "      <td>4</td>\n",
       "      <td>5</td>\n",
       "      <td>6</td>\n",
       "      <td>7</td>\n",
       "      <td>8</td>\n",
       "      <td>9</td>\n",
       "      <td>10</td>\n",
       "    </tr>\n",
       "    <tr>\n",
       "      <th>CustomerId</th>\n",
       "      <td>15634602</td>\n",
       "      <td>15647311</td>\n",
       "      <td>15619304</td>\n",
       "      <td>15701354</td>\n",
       "      <td>15737888</td>\n",
       "      <td>15574012</td>\n",
       "      <td>15592531</td>\n",
       "      <td>15656148</td>\n",
       "      <td>15792365</td>\n",
       "      <td>15592389</td>\n",
       "    </tr>\n",
       "    <tr>\n",
       "      <th>Surname</th>\n",
       "      <td>Hargrave</td>\n",
       "      <td>Hill</td>\n",
       "      <td>Onio</td>\n",
       "      <td>Boni</td>\n",
       "      <td>Mitchell</td>\n",
       "      <td>Chu</td>\n",
       "      <td>Bartlett</td>\n",
       "      <td>Obinna</td>\n",
       "      <td>He</td>\n",
       "      <td>H?</td>\n",
       "    </tr>\n",
       "    <tr>\n",
       "      <th>CreditScore</th>\n",
       "      <td>619</td>\n",
       "      <td>608</td>\n",
       "      <td>502</td>\n",
       "      <td>699</td>\n",
       "      <td>850</td>\n",
       "      <td>645</td>\n",
       "      <td>822</td>\n",
       "      <td>376</td>\n",
       "      <td>501</td>\n",
       "      <td>684</td>\n",
       "    </tr>\n",
       "    <tr>\n",
       "      <th>Geography</th>\n",
       "      <td>France</td>\n",
       "      <td>Spain</td>\n",
       "      <td>France</td>\n",
       "      <td>France</td>\n",
       "      <td>Spain</td>\n",
       "      <td>Spain</td>\n",
       "      <td>France</td>\n",
       "      <td>Germany</td>\n",
       "      <td>France</td>\n",
       "      <td>France</td>\n",
       "    </tr>\n",
       "    <tr>\n",
       "      <th>Gender</th>\n",
       "      <td>Female</td>\n",
       "      <td>Female</td>\n",
       "      <td>Female</td>\n",
       "      <td>Female</td>\n",
       "      <td>Female</td>\n",
       "      <td>Male</td>\n",
       "      <td>Male</td>\n",
       "      <td>Female</td>\n",
       "      <td>Male</td>\n",
       "      <td>Male</td>\n",
       "    </tr>\n",
       "    <tr>\n",
       "      <th>Age</th>\n",
       "      <td>42</td>\n",
       "      <td>41</td>\n",
       "      <td>42</td>\n",
       "      <td>39</td>\n",
       "      <td>43</td>\n",
       "      <td>44</td>\n",
       "      <td>50</td>\n",
       "      <td>29</td>\n",
       "      <td>44</td>\n",
       "      <td>27</td>\n",
       "    </tr>\n",
       "    <tr>\n",
       "      <th>Tenure</th>\n",
       "      <td>2.0</td>\n",
       "      <td>1.0</td>\n",
       "      <td>8.0</td>\n",
       "      <td>1.0</td>\n",
       "      <td>2.0</td>\n",
       "      <td>8.0</td>\n",
       "      <td>7.0</td>\n",
       "      <td>4.0</td>\n",
       "      <td>4.0</td>\n",
       "      <td>2.0</td>\n",
       "    </tr>\n",
       "    <tr>\n",
       "      <th>Balance</th>\n",
       "      <td>0.0</td>\n",
       "      <td>83807.86</td>\n",
       "      <td>159660.8</td>\n",
       "      <td>0.0</td>\n",
       "      <td>125510.82</td>\n",
       "      <td>113755.78</td>\n",
       "      <td>0.0</td>\n",
       "      <td>115046.74</td>\n",
       "      <td>142051.07</td>\n",
       "      <td>134603.88</td>\n",
       "    </tr>\n",
       "    <tr>\n",
       "      <th>NumOfProducts</th>\n",
       "      <td>1</td>\n",
       "      <td>1</td>\n",
       "      <td>3</td>\n",
       "      <td>2</td>\n",
       "      <td>1</td>\n",
       "      <td>2</td>\n",
       "      <td>2</td>\n",
       "      <td>4</td>\n",
       "      <td>2</td>\n",
       "      <td>1</td>\n",
       "    </tr>\n",
       "    <tr>\n",
       "      <th>HasCrCard</th>\n",
       "      <td>1</td>\n",
       "      <td>0</td>\n",
       "      <td>1</td>\n",
       "      <td>0</td>\n",
       "      <td>1</td>\n",
       "      <td>1</td>\n",
       "      <td>1</td>\n",
       "      <td>1</td>\n",
       "      <td>0</td>\n",
       "      <td>1</td>\n",
       "    </tr>\n",
       "    <tr>\n",
       "      <th>IsActiveMember</th>\n",
       "      <td>1</td>\n",
       "      <td>1</td>\n",
       "      <td>0</td>\n",
       "      <td>0</td>\n",
       "      <td>1</td>\n",
       "      <td>0</td>\n",
       "      <td>1</td>\n",
       "      <td>0</td>\n",
       "      <td>1</td>\n",
       "      <td>1</td>\n",
       "    </tr>\n",
       "    <tr>\n",
       "      <th>EstimatedSalary</th>\n",
       "      <td>101348.88</td>\n",
       "      <td>112542.58</td>\n",
       "      <td>113931.57</td>\n",
       "      <td>93826.63</td>\n",
       "      <td>79084.1</td>\n",
       "      <td>149756.71</td>\n",
       "      <td>10062.8</td>\n",
       "      <td>119346.88</td>\n",
       "      <td>74940.5</td>\n",
       "      <td>71725.73</td>\n",
       "    </tr>\n",
       "    <tr>\n",
       "      <th>Exited</th>\n",
       "      <td>1</td>\n",
       "      <td>0</td>\n",
       "      <td>1</td>\n",
       "      <td>0</td>\n",
       "      <td>0</td>\n",
       "      <td>1</td>\n",
       "      <td>0</td>\n",
       "      <td>1</td>\n",
       "      <td>0</td>\n",
       "      <td>0</td>\n",
       "    </tr>\n",
       "  </tbody>\n",
       "</table>\n",
       "</div>"
      ],
      "text/plain": [
       "                         0          1          2         3          4  \\\n",
       "RowNumber                1          2          3         4          5   \n",
       "CustomerId        15634602   15647311   15619304  15701354   15737888   \n",
       "Surname           Hargrave       Hill       Onio      Boni   Mitchell   \n",
       "CreditScore            619        608        502       699        850   \n",
       "Geography           France      Spain     France    France      Spain   \n",
       "Gender              Female     Female     Female    Female     Female   \n",
       "Age                     42         41         42        39         43   \n",
       "Tenure                 2.0        1.0        8.0       1.0        2.0   \n",
       "Balance                0.0   83807.86   159660.8       0.0  125510.82   \n",
       "NumOfProducts            1          1          3         2          1   \n",
       "HasCrCard                1          0          1         0          1   \n",
       "IsActiveMember           1          1          0         0          1   \n",
       "EstimatedSalary  101348.88  112542.58  113931.57  93826.63    79084.1   \n",
       "Exited                   1          0          1         0          0   \n",
       "\n",
       "                         5         6          7          8          9  \n",
       "RowNumber                6         7          8          9         10  \n",
       "CustomerId        15574012  15592531   15656148   15792365   15592389  \n",
       "Surname                Chu  Bartlett     Obinna         He         H?  \n",
       "CreditScore            645       822        376        501        684  \n",
       "Geography            Spain    France    Germany     France     France  \n",
       "Gender                Male      Male     Female       Male       Male  \n",
       "Age                     44        50         29         44         27  \n",
       "Tenure                 8.0       7.0        4.0        4.0        2.0  \n",
       "Balance          113755.78       0.0  115046.74  142051.07  134603.88  \n",
       "NumOfProducts            2         2          4          2          1  \n",
       "HasCrCard                1         1          1          0          1  \n",
       "IsActiveMember           0         1          0          1          1  \n",
       "EstimatedSalary  149756.71   10062.8  119346.88    74940.5   71725.73  \n",
       "Exited                   1         0          1          0          0  "
      ]
     },
     "metadata": {},
     "output_type": "display_data"
    },
    {
     "data": {
      "text/html": [
       "<div>\n",
       "<style scoped>\n",
       "    .dataframe tbody tr th:only-of-type {\n",
       "        vertical-align: middle;\n",
       "    }\n",
       "\n",
       "    .dataframe tbody tr th {\n",
       "        vertical-align: top;\n",
       "    }\n",
       "\n",
       "    .dataframe thead th {\n",
       "        text-align: right;\n",
       "    }\n",
       "</style>\n",
       "<table border=\"1\" class=\"dataframe\">\n",
       "  <thead>\n",
       "    <tr style=\"text-align: right;\">\n",
       "      <th></th>\n",
       "      <th>RowNumber</th>\n",
       "      <th>CustomerId</th>\n",
       "      <th>CreditScore</th>\n",
       "      <th>Age</th>\n",
       "      <th>Tenure</th>\n",
       "      <th>Balance</th>\n",
       "      <th>NumOfProducts</th>\n",
       "      <th>HasCrCard</th>\n",
       "      <th>IsActiveMember</th>\n",
       "      <th>EstimatedSalary</th>\n",
       "      <th>Exited</th>\n",
       "    </tr>\n",
       "  </thead>\n",
       "  <tbody>\n",
       "    <tr>\n",
       "      <th>count</th>\n",
       "      <td>10000.00000</td>\n",
       "      <td>1.000000e+04</td>\n",
       "      <td>10000.000000</td>\n",
       "      <td>10000.000000</td>\n",
       "      <td>9091.000000</td>\n",
       "      <td>10000.000000</td>\n",
       "      <td>10000.000000</td>\n",
       "      <td>10000.00000</td>\n",
       "      <td>10000.000000</td>\n",
       "      <td>10000.000000</td>\n",
       "      <td>10000.000000</td>\n",
       "    </tr>\n",
       "    <tr>\n",
       "      <th>mean</th>\n",
       "      <td>5000.50000</td>\n",
       "      <td>1.569094e+07</td>\n",
       "      <td>650.528800</td>\n",
       "      <td>38.921800</td>\n",
       "      <td>4.997690</td>\n",
       "      <td>76485.889288</td>\n",
       "      <td>1.530200</td>\n",
       "      <td>0.70550</td>\n",
       "      <td>0.515100</td>\n",
       "      <td>100090.239881</td>\n",
       "      <td>0.203700</td>\n",
       "    </tr>\n",
       "    <tr>\n",
       "      <th>std</th>\n",
       "      <td>2886.89568</td>\n",
       "      <td>7.193619e+04</td>\n",
       "      <td>96.653299</td>\n",
       "      <td>10.487806</td>\n",
       "      <td>2.894723</td>\n",
       "      <td>62397.405202</td>\n",
       "      <td>0.581654</td>\n",
       "      <td>0.45584</td>\n",
       "      <td>0.499797</td>\n",
       "      <td>57510.492818</td>\n",
       "      <td>0.402769</td>\n",
       "    </tr>\n",
       "    <tr>\n",
       "      <th>min</th>\n",
       "      <td>1.00000</td>\n",
       "      <td>1.556570e+07</td>\n",
       "      <td>350.000000</td>\n",
       "      <td>18.000000</td>\n",
       "      <td>0.000000</td>\n",
       "      <td>0.000000</td>\n",
       "      <td>1.000000</td>\n",
       "      <td>0.00000</td>\n",
       "      <td>0.000000</td>\n",
       "      <td>11.580000</td>\n",
       "      <td>0.000000</td>\n",
       "    </tr>\n",
       "    <tr>\n",
       "      <th>25%</th>\n",
       "      <td>2500.75000</td>\n",
       "      <td>1.562853e+07</td>\n",
       "      <td>584.000000</td>\n",
       "      <td>32.000000</td>\n",
       "      <td>2.000000</td>\n",
       "      <td>0.000000</td>\n",
       "      <td>1.000000</td>\n",
       "      <td>0.00000</td>\n",
       "      <td>0.000000</td>\n",
       "      <td>51002.110000</td>\n",
       "      <td>0.000000</td>\n",
       "    </tr>\n",
       "    <tr>\n",
       "      <th>50%</th>\n",
       "      <td>5000.50000</td>\n",
       "      <td>1.569074e+07</td>\n",
       "      <td>652.000000</td>\n",
       "      <td>37.000000</td>\n",
       "      <td>5.000000</td>\n",
       "      <td>97198.540000</td>\n",
       "      <td>1.000000</td>\n",
       "      <td>1.00000</td>\n",
       "      <td>1.000000</td>\n",
       "      <td>100193.915000</td>\n",
       "      <td>0.000000</td>\n",
       "    </tr>\n",
       "    <tr>\n",
       "      <th>75%</th>\n",
       "      <td>7500.25000</td>\n",
       "      <td>1.575323e+07</td>\n",
       "      <td>718.000000</td>\n",
       "      <td>44.000000</td>\n",
       "      <td>7.000000</td>\n",
       "      <td>127644.240000</td>\n",
       "      <td>2.000000</td>\n",
       "      <td>1.00000</td>\n",
       "      <td>1.000000</td>\n",
       "      <td>149388.247500</td>\n",
       "      <td>0.000000</td>\n",
       "    </tr>\n",
       "    <tr>\n",
       "      <th>max</th>\n",
       "      <td>10000.00000</td>\n",
       "      <td>1.581569e+07</td>\n",
       "      <td>850.000000</td>\n",
       "      <td>92.000000</td>\n",
       "      <td>10.000000</td>\n",
       "      <td>250898.090000</td>\n",
       "      <td>4.000000</td>\n",
       "      <td>1.00000</td>\n",
       "      <td>1.000000</td>\n",
       "      <td>199992.480000</td>\n",
       "      <td>1.000000</td>\n",
       "    </tr>\n",
       "  </tbody>\n",
       "</table>\n",
       "</div>"
      ],
      "text/plain": [
       "         RowNumber    CustomerId   CreditScore           Age       Tenure  \\\n",
       "count  10000.00000  1.000000e+04  10000.000000  10000.000000  9091.000000   \n",
       "mean    5000.50000  1.569094e+07    650.528800     38.921800     4.997690   \n",
       "std     2886.89568  7.193619e+04     96.653299     10.487806     2.894723   \n",
       "min        1.00000  1.556570e+07    350.000000     18.000000     0.000000   \n",
       "25%     2500.75000  1.562853e+07    584.000000     32.000000     2.000000   \n",
       "50%     5000.50000  1.569074e+07    652.000000     37.000000     5.000000   \n",
       "75%     7500.25000  1.575323e+07    718.000000     44.000000     7.000000   \n",
       "max    10000.00000  1.581569e+07    850.000000     92.000000    10.000000   \n",
       "\n",
       "             Balance  NumOfProducts    HasCrCard  IsActiveMember  \\\n",
       "count   10000.000000   10000.000000  10000.00000    10000.000000   \n",
       "mean    76485.889288       1.530200      0.70550        0.515100   \n",
       "std     62397.405202       0.581654      0.45584        0.499797   \n",
       "min         0.000000       1.000000      0.00000        0.000000   \n",
       "25%         0.000000       1.000000      0.00000        0.000000   \n",
       "50%     97198.540000       1.000000      1.00000        1.000000   \n",
       "75%    127644.240000       2.000000      1.00000        1.000000   \n",
       "max    250898.090000       4.000000      1.00000        1.000000   \n",
       "\n",
       "       EstimatedSalary        Exited  \n",
       "count     10000.000000  10000.000000  \n",
       "mean     100090.239881      0.203700  \n",
       "std       57510.492818      0.402769  \n",
       "min          11.580000      0.000000  \n",
       "25%       51002.110000      0.000000  \n",
       "50%      100193.915000      0.000000  \n",
       "75%      149388.247500      0.000000  \n",
       "max      199992.480000      1.000000  "
      ]
     },
     "metadata": {},
     "output_type": "display_data"
    }
   ],
   "source": [
    "try:\n",
    "    churn = pd.read_csv('datasets/churn.csv')\n",
    "except:\n",
    "    churn = pd.read_csv('/datasets/Churn.csv')\n",
    "\n",
    "churn.info()\n",
    "display(churn.head(10).T)\n",
    "display(churn.describe())"
   ]
  },
  {
   "cell_type": "code",
   "execution_count": 101,
   "id": "fc0dcdca",
   "metadata": {},
   "outputs": [
    {
     "name": "stdout",
     "output_type": "stream",
     "text": [
      "Количество пропусков в столбце \"Tenure\" 909\n"
     ]
    }
   ],
   "source": [
    "print(f'Количество пропусков в столбце \"Tenure\" {len(churn[churn[\"Tenure\"].isna()])}')"
   ]
  },
  {
   "cell_type": "markdown",
   "id": "749b5a74",
   "metadata": {},
   "source": [
    "#### Загрузка и просмотр данных: выводы \n",
    "\n",
    "С помощью метода .info(), сразу стало ясно, что предоставленные данные хорошо обработаны с маленьким количеством пропусков.\n",
    "\n",
    "Пропуски присутствуют только в столбце 'Tenure', а их всего 909 (из 10000). Не обнаружилась связь между значениями в столбце 'Tenure' и значениями в других столбцах (ни по простой логике, не с помощью метода .corr()). Из-за отсутствия логичной связи, я решил, что лучше всего заменить значения NaN на медиану.\n",
    "\n",
    "Также, в таблице присутствует два столца с важными для анализа но не числовыми значениями – 'Geography' и 'Gender'. Нужно эти данные приобразить в используемой форме; для такой задачи пригодится функция pd.get_dummies()\n",
    "\n",
    "Наконец, при просмотре данных стало ясно, что некоторые столбцы не требуются для нашего анализа. Столбцы 'Surname' и 'CustomerId' не нужны, их нужно устранять."
   ]
  },
  {
   "cell_type": "markdown",
   "id": "58bfc466",
   "metadata": {},
   "source": [
    "### Предотработка данных\n",
    "<a id='Предотработка'></a>"
   ]
  },
  {
   "cell_type": "markdown",
   "id": "1288b27b",
   "metadata": {},
   "source": [
    "*Создание дамми-признаки чтоды все данные были читаемые для моделей машинного обучения*"
   ]
  },
  {
   "cell_type": "code",
   "execution_count": 102,
   "id": "8ec66839",
   "metadata": {},
   "outputs": [],
   "source": [
    "churn_ohe = pd.get_dummies(churn, columns=['Geography', 'Gender'], drop_first=True)"
   ]
  },
  {
   "cell_type": "markdown",
   "id": "4b575194",
   "metadata": {},
   "source": [
    "*Устранение ненужные данные, которые бы исказили результаты*"
   ]
  },
  {
   "cell_type": "code",
   "execution_count": 103,
   "id": "2e60c8d2",
   "metadata": {},
   "outputs": [],
   "source": [
    "features = churn_ohe.drop(['Exited', 'Surname', 'CustomerId', 'RowNumber'], axis=1)\n",
    "target = churn_ohe['Exited']"
   ]
  },
  {
   "cell_type": "markdown",
   "id": "769b559b",
   "metadata": {},
   "source": [
    "*Замена пропусков в столбце 'Tenure'*"
   ]
  },
  {
   "cell_type": "code",
   "execution_count": 104,
   "id": "1f95c656",
   "metadata": {},
   "outputs": [
    {
     "data": {
      "text/html": [
       "<div>\n",
       "<style scoped>\n",
       "    .dataframe tbody tr th:only-of-type {\n",
       "        vertical-align: middle;\n",
       "    }\n",
       "\n",
       "    .dataframe tbody tr th {\n",
       "        vertical-align: top;\n",
       "    }\n",
       "\n",
       "    .dataframe thead th {\n",
       "        text-align: right;\n",
       "    }\n",
       "</style>\n",
       "<table border=\"1\" class=\"dataframe\">\n",
       "  <thead>\n",
       "    <tr style=\"text-align: right;\">\n",
       "      <th></th>\n",
       "      <th>CreditScore</th>\n",
       "      <th>Age</th>\n",
       "      <th>Tenure</th>\n",
       "      <th>Balance</th>\n",
       "      <th>NumOfProducts</th>\n",
       "      <th>HasCrCard</th>\n",
       "      <th>IsActiveMember</th>\n",
       "      <th>EstimatedSalary</th>\n",
       "      <th>Geography_Germany</th>\n",
       "      <th>Geography_Spain</th>\n",
       "      <th>Gender_Male</th>\n",
       "    </tr>\n",
       "  </thead>\n",
       "  <tbody>\n",
       "  </tbody>\n",
       "</table>\n",
       "</div>"
      ],
      "text/plain": [
       "Empty DataFrame\n",
       "Columns: [CreditScore, Age, Tenure, Balance, NumOfProducts, HasCrCard, IsActiveMember, EstimatedSalary, Geography_Germany, Geography_Spain, Gender_Male]\n",
       "Index: []"
      ]
     },
     "metadata": {},
     "output_type": "display_data"
    }
   ],
   "source": [
    "features['Tenure'] = features['Tenure'].fillna(features['Tenure'].median())\n",
    "display(features[features['Tenure'].isna() == True])"
   ]
  },
  {
   "cell_type": "code",
   "execution_count": 105,
   "id": "7f33281b",
   "metadata": {},
   "outputs": [
    {
     "name": "stdout",
     "output_type": "stream",
     "text": [
      "<class 'pandas.core.frame.DataFrame'>\n",
      "RangeIndex: 10000 entries, 0 to 9999\n",
      "Data columns (total 11 columns):\n",
      " #   Column             Non-Null Count  Dtype  \n",
      "---  ------             --------------  -----  \n",
      " 0   CreditScore        10000 non-null  int64  \n",
      " 1   Age                10000 non-null  int64  \n",
      " 2   Tenure             10000 non-null  float64\n",
      " 3   Balance            10000 non-null  float64\n",
      " 4   NumOfProducts      10000 non-null  int64  \n",
      " 5   HasCrCard          10000 non-null  int64  \n",
      " 6   IsActiveMember     10000 non-null  int64  \n",
      " 7   EstimatedSalary    10000 non-null  float64\n",
      " 8   Geography_Germany  10000 non-null  uint8  \n",
      " 9   Geography_Spain    10000 non-null  uint8  \n",
      " 10  Gender_Male        10000 non-null  uint8  \n",
      "dtypes: float64(3), int64(5), uint8(3)\n",
      "memory usage: 654.4 KB\n"
     ]
    },
    {
     "data": {
      "text/html": [
       "<div>\n",
       "<style scoped>\n",
       "    .dataframe tbody tr th:only-of-type {\n",
       "        vertical-align: middle;\n",
       "    }\n",
       "\n",
       "    .dataframe tbody tr th {\n",
       "        vertical-align: top;\n",
       "    }\n",
       "\n",
       "    .dataframe thead th {\n",
       "        text-align: right;\n",
       "    }\n",
       "</style>\n",
       "<table border=\"1\" class=\"dataframe\">\n",
       "  <thead>\n",
       "    <tr style=\"text-align: right;\">\n",
       "      <th></th>\n",
       "      <th>0</th>\n",
       "      <th>1</th>\n",
       "      <th>2</th>\n",
       "      <th>3</th>\n",
       "      <th>4</th>\n",
       "    </tr>\n",
       "  </thead>\n",
       "  <tbody>\n",
       "    <tr>\n",
       "      <th>CreditScore</th>\n",
       "      <td>619.00</td>\n",
       "      <td>608.00</td>\n",
       "      <td>502.00</td>\n",
       "      <td>699.00</td>\n",
       "      <td>850.00</td>\n",
       "    </tr>\n",
       "    <tr>\n",
       "      <th>Age</th>\n",
       "      <td>42.00</td>\n",
       "      <td>41.00</td>\n",
       "      <td>42.00</td>\n",
       "      <td>39.00</td>\n",
       "      <td>43.00</td>\n",
       "    </tr>\n",
       "    <tr>\n",
       "      <th>Tenure</th>\n",
       "      <td>2.00</td>\n",
       "      <td>1.00</td>\n",
       "      <td>8.00</td>\n",
       "      <td>1.00</td>\n",
       "      <td>2.00</td>\n",
       "    </tr>\n",
       "    <tr>\n",
       "      <th>Balance</th>\n",
       "      <td>0.00</td>\n",
       "      <td>83807.86</td>\n",
       "      <td>159660.80</td>\n",
       "      <td>0.00</td>\n",
       "      <td>125510.82</td>\n",
       "    </tr>\n",
       "    <tr>\n",
       "      <th>NumOfProducts</th>\n",
       "      <td>1.00</td>\n",
       "      <td>1.00</td>\n",
       "      <td>3.00</td>\n",
       "      <td>2.00</td>\n",
       "      <td>1.00</td>\n",
       "    </tr>\n",
       "    <tr>\n",
       "      <th>HasCrCard</th>\n",
       "      <td>1.00</td>\n",
       "      <td>0.00</td>\n",
       "      <td>1.00</td>\n",
       "      <td>0.00</td>\n",
       "      <td>1.00</td>\n",
       "    </tr>\n",
       "    <tr>\n",
       "      <th>IsActiveMember</th>\n",
       "      <td>1.00</td>\n",
       "      <td>1.00</td>\n",
       "      <td>0.00</td>\n",
       "      <td>0.00</td>\n",
       "      <td>1.00</td>\n",
       "    </tr>\n",
       "    <tr>\n",
       "      <th>EstimatedSalary</th>\n",
       "      <td>101348.88</td>\n",
       "      <td>112542.58</td>\n",
       "      <td>113931.57</td>\n",
       "      <td>93826.63</td>\n",
       "      <td>79084.10</td>\n",
       "    </tr>\n",
       "    <tr>\n",
       "      <th>Geography_Germany</th>\n",
       "      <td>0.00</td>\n",
       "      <td>0.00</td>\n",
       "      <td>0.00</td>\n",
       "      <td>0.00</td>\n",
       "      <td>0.00</td>\n",
       "    </tr>\n",
       "    <tr>\n",
       "      <th>Geography_Spain</th>\n",
       "      <td>0.00</td>\n",
       "      <td>1.00</td>\n",
       "      <td>0.00</td>\n",
       "      <td>0.00</td>\n",
       "      <td>1.00</td>\n",
       "    </tr>\n",
       "    <tr>\n",
       "      <th>Gender_Male</th>\n",
       "      <td>0.00</td>\n",
       "      <td>0.00</td>\n",
       "      <td>0.00</td>\n",
       "      <td>0.00</td>\n",
       "      <td>0.00</td>\n",
       "    </tr>\n",
       "  </tbody>\n",
       "</table>\n",
       "</div>"
      ],
      "text/plain": [
       "                           0          1          2         3          4\n",
       "CreditScore           619.00     608.00     502.00    699.00     850.00\n",
       "Age                    42.00      41.00      42.00     39.00      43.00\n",
       "Tenure                  2.00       1.00       8.00      1.00       2.00\n",
       "Balance                 0.00   83807.86  159660.80      0.00  125510.82\n",
       "NumOfProducts           1.00       1.00       3.00      2.00       1.00\n",
       "HasCrCard               1.00       0.00       1.00      0.00       1.00\n",
       "IsActiveMember          1.00       1.00       0.00      0.00       1.00\n",
       "EstimatedSalary    101348.88  112542.58  113931.57  93826.63   79084.10\n",
       "Geography_Germany       0.00       0.00       0.00      0.00       0.00\n",
       "Geography_Spain         0.00       1.00       0.00      0.00       1.00\n",
       "Gender_Male             0.00       0.00       0.00      0.00       0.00"
      ]
     },
     "metadata": {},
     "output_type": "display_data"
    }
   ],
   "source": [
    "features.info()\n",
    "display(features.head().T)"
   ]
  },
  {
   "cell_type": "code",
   "execution_count": 106,
   "id": "397c079f",
   "metadata": {},
   "outputs": [
    {
     "name": "stdout",
     "output_type": "stream",
     "text": [
      "Баланс классов: доля клиентов, которые ушли: \n",
      "\n",
      "Не ушёл    0.7963\n",
      "Ушёл       0.2037\n",
      "Name: Exited, dtype: float64\n"
     ]
    },
    {
     "data": {
      "text/plain": [
       "<AxesSubplot:title={'center':'Доля ушедших клиентов'}, ylabel=' '>"
      ]
     },
     "metadata": {},
     "output_type": "display_data"
    },
    {
     "data": {
      "image/png": "[encoded data removed]",
      "text/plain": [
       "<Figure size 432x288 with 1 Axes>"
      ]
     },
     "metadata": {},
     "output_type": "display_data"
    }
   ],
   "source": [
    "print(\"Баланс классов: доля клиентов, которые ушли: \\n\")\n",
    "print(target.value_counts(normalize=True).rename({0:'Не ушёл', 1:'Ушёл'}))\n",
    "display(target.value_counts(normalize=True).rename({0:'Не ушёл', 1:'Ушёл'}).plot(kind='pie', title='Доля ушедших клиентов', ylabel=' ', autopct='%1.1f%%'))"
   ]
  },
  {
   "cell_type": "markdown",
   "id": "7ca9d578",
   "metadata": {},
   "source": [
    "### Разделение данных и тестирование моделей\n",
    "<a id='Тестирование'></a>"
   ]
  },
  {
   "cell_type": "markdown",
   "id": "1ab96765",
   "metadata": {},
   "source": [
    "*Разделение данных на тренировочные и валидационные выборки*"
   ]
  },
  {
   "cell_type": "code",
   "execution_count": 107,
   "id": "500d835d",
   "metadata": {},
   "outputs": [],
   "source": [
    "features_train, features_valid_test, target_train, target_valid_test = (\n",
    "    train_test_split(features, target, test_size=0.4, random_state=12345)\n",
    ")\n",
    "\n",
    "features_valid, features_test, target_valid, target_test = (\n",
    "    train_test_split(features_valid_test, target_valid_test, test_size=0.5, random_state=12345)\n",
    ")\n"
   ]
  },
  {
   "cell_type": "code",
   "execution_count": 108,
   "id": "5ab2d672",
   "metadata": {},
   "outputs": [],
   "source": [
    "scaler = StandardScaler()\n",
    "scaler.fit(features_train)\n",
    "features_train = pd.DataFrame(scaler.transform(features_train), columns=features_train.columns, index=features_train.index)\n",
    "features_valid = pd.DataFrame(scaler.transform(features_valid), columns=features_valid.columns, index=features_valid.index)\n",
    "features_test = pd.DataFrame(scaler.transform(features_test), columns=features_test.columns, index=features_test.index)"
   ]
  },
  {
   "cell_type": "code",
   "execution_count": 109,
   "id": "5bfd917a",
   "metadata": {},
   "outputs": [
    {
     "data": {
      "text/html": [
       "<div>\n",
       "<style scoped>\n",
       "    .dataframe tbody tr th:only-of-type {\n",
       "        vertical-align: middle;\n",
       "    }\n",
       "\n",
       "    .dataframe tbody tr th {\n",
       "        vertical-align: top;\n",
       "    }\n",
       "\n",
       "    .dataframe thead th {\n",
       "        text-align: right;\n",
       "    }\n",
       "</style>\n",
       "<table border=\"1\" class=\"dataframe\">\n",
       "  <thead>\n",
       "    <tr style=\"text-align: right;\">\n",
       "      <th></th>\n",
       "      <th>CreditScore</th>\n",
       "      <th>Age</th>\n",
       "      <th>Tenure</th>\n",
       "      <th>Balance</th>\n",
       "      <th>NumOfProducts</th>\n",
       "      <th>HasCrCard</th>\n",
       "      <th>IsActiveMember</th>\n",
       "      <th>EstimatedSalary</th>\n",
       "      <th>Geography_Germany</th>\n",
       "      <th>Geography_Spain</th>\n",
       "      <th>Gender_Male</th>\n",
       "    </tr>\n",
       "  </thead>\n",
       "  <tbody>\n",
       "    <tr>\n",
       "      <th>7479</th>\n",
       "      <td>-0.886751</td>\n",
       "      <td>-0.373192</td>\n",
       "      <td>1.082277</td>\n",
       "      <td>1.232271</td>\n",
       "      <td>-0.891560</td>\n",
       "      <td>0.642466</td>\n",
       "      <td>-1.055187</td>\n",
       "      <td>-0.187705</td>\n",
       "      <td>-0.572475</td>\n",
       "      <td>1.728977</td>\n",
       "      <td>0.907278</td>\n",
       "    </tr>\n",
       "    <tr>\n",
       "      <th>3411</th>\n",
       "      <td>0.608663</td>\n",
       "      <td>-0.183385</td>\n",
       "      <td>1.082277</td>\n",
       "      <td>0.600563</td>\n",
       "      <td>-0.891560</td>\n",
       "      <td>-1.556504</td>\n",
       "      <td>-1.055187</td>\n",
       "      <td>-0.333945</td>\n",
       "      <td>-0.572475</td>\n",
       "      <td>-0.578377</td>\n",
       "      <td>-1.102198</td>\n",
       "    </tr>\n",
       "    <tr>\n",
       "      <th>6027</th>\n",
       "      <td>2.052152</td>\n",
       "      <td>0.480939</td>\n",
       "      <td>-0.737696</td>\n",
       "      <td>1.027098</td>\n",
       "      <td>0.830152</td>\n",
       "      <td>-1.556504</td>\n",
       "      <td>0.947699</td>\n",
       "      <td>1.503095</td>\n",
       "      <td>1.746802</td>\n",
       "      <td>-0.578377</td>\n",
       "      <td>0.907278</td>\n",
       "    </tr>\n",
       "    <tr>\n",
       "      <th>1247</th>\n",
       "      <td>-1.457915</td>\n",
       "      <td>-1.417129</td>\n",
       "      <td>0.354288</td>\n",
       "      <td>-1.233163</td>\n",
       "      <td>0.830152</td>\n",
       "      <td>0.642466</td>\n",
       "      <td>-1.055187</td>\n",
       "      <td>-1.071061</td>\n",
       "      <td>-0.572475</td>\n",
       "      <td>-0.578377</td>\n",
       "      <td>0.907278</td>\n",
       "    </tr>\n",
       "    <tr>\n",
       "      <th>3716</th>\n",
       "      <td>0.130961</td>\n",
       "      <td>-1.132419</td>\n",
       "      <td>-1.101690</td>\n",
       "      <td>1.140475</td>\n",
       "      <td>-0.891560</td>\n",
       "      <td>-1.556504</td>\n",
       "      <td>-1.055187</td>\n",
       "      <td>1.524268</td>\n",
       "      <td>1.746802</td>\n",
       "      <td>-0.578377</td>\n",
       "      <td>-1.102198</td>\n",
       "    </tr>\n",
       "  </tbody>\n",
       "</table>\n",
       "</div>"
      ],
      "text/plain": [
       "      CreditScore       Age    Tenure   Balance  NumOfProducts  HasCrCard  \\\n",
       "7479    -0.886751 -0.373192  1.082277  1.232271      -0.891560   0.642466   \n",
       "3411     0.608663 -0.183385  1.082277  0.600563      -0.891560  -1.556504   \n",
       "6027     2.052152  0.480939 -0.737696  1.027098       0.830152  -1.556504   \n",
       "1247    -1.457915 -1.417129  0.354288 -1.233163       0.830152   0.642466   \n",
       "3716     0.130961 -1.132419 -1.101690  1.140475      -0.891560  -1.556504   \n",
       "\n",
       "      IsActiveMember  EstimatedSalary  Geography_Germany  Geography_Spain  \\\n",
       "7479       -1.055187        -0.187705          -0.572475         1.728977   \n",
       "3411       -1.055187        -0.333945          -0.572475        -0.578377   \n",
       "6027        0.947699         1.503095           1.746802        -0.578377   \n",
       "1247       -1.055187        -1.071061          -0.572475        -0.578377   \n",
       "3716       -1.055187         1.524268           1.746802        -0.578377   \n",
       "\n",
       "      Gender_Male  \n",
       "7479     0.907278  \n",
       "3411    -1.102198  \n",
       "6027     0.907278  \n",
       "1247     0.907278  \n",
       "3716    -1.102198  "
      ]
     },
     "metadata": {},
     "output_type": "display_data"
    },
    {
     "data": {
      "text/html": [
       "<div>\n",
       "<style scoped>\n",
       "    .dataframe tbody tr th:only-of-type {\n",
       "        vertical-align: middle;\n",
       "    }\n",
       "\n",
       "    .dataframe tbody tr th {\n",
       "        vertical-align: top;\n",
       "    }\n",
       "\n",
       "    .dataframe thead th {\n",
       "        text-align: right;\n",
       "    }\n",
       "</style>\n",
       "<table border=\"1\" class=\"dataframe\">\n",
       "  <thead>\n",
       "    <tr style=\"text-align: right;\">\n",
       "      <th></th>\n",
       "      <th>CreditScore</th>\n",
       "      <th>Age</th>\n",
       "      <th>Tenure</th>\n",
       "      <th>Balance</th>\n",
       "      <th>NumOfProducts</th>\n",
       "      <th>HasCrCard</th>\n",
       "      <th>IsActiveMember</th>\n",
       "      <th>EstimatedSalary</th>\n",
       "      <th>Geography_Germany</th>\n",
       "      <th>Geography_Spain</th>\n",
       "      <th>Gender_Male</th>\n",
       "    </tr>\n",
       "  </thead>\n",
       "  <tbody>\n",
       "    <tr>\n",
       "      <th>8532</th>\n",
       "      <td>-0.699824</td>\n",
       "      <td>-0.373192</td>\n",
       "      <td>-1.101690</td>\n",
       "      <td>-1.233163</td>\n",
       "      <td>0.830152</td>\n",
       "      <td>0.642466</td>\n",
       "      <td>-1.055187</td>\n",
       "      <td>-0.015173</td>\n",
       "      <td>-0.572475</td>\n",
       "      <td>-0.578377</td>\n",
       "      <td>-1.102198</td>\n",
       "    </tr>\n",
       "    <tr>\n",
       "      <th>5799</th>\n",
       "      <td>-0.284431</td>\n",
       "      <td>0.575842</td>\n",
       "      <td>-0.737696</td>\n",
       "      <td>-1.233163</td>\n",
       "      <td>-0.891560</td>\n",
       "      <td>0.642466</td>\n",
       "      <td>0.947699</td>\n",
       "      <td>1.471724</td>\n",
       "      <td>-0.572475</td>\n",
       "      <td>-0.578377</td>\n",
       "      <td>-1.102198</td>\n",
       "    </tr>\n",
       "    <tr>\n",
       "      <th>5511</th>\n",
       "      <td>0.151731</td>\n",
       "      <td>-0.657902</td>\n",
       "      <td>-1.829679</td>\n",
       "      <td>0.438711</td>\n",
       "      <td>-0.891560</td>\n",
       "      <td>0.642466</td>\n",
       "      <td>-1.055187</td>\n",
       "      <td>-1.367107</td>\n",
       "      <td>1.746802</td>\n",
       "      <td>-0.578377</td>\n",
       "      <td>0.907278</td>\n",
       "    </tr>\n",
       "    <tr>\n",
       "      <th>7365</th>\n",
       "      <td>-0.876366</td>\n",
       "      <td>-0.278288</td>\n",
       "      <td>1.810266</td>\n",
       "      <td>1.239884</td>\n",
       "      <td>-0.891560</td>\n",
       "      <td>0.642466</td>\n",
       "      <td>0.947699</td>\n",
       "      <td>-0.786517</td>\n",
       "      <td>-0.572475</td>\n",
       "      <td>1.728977</td>\n",
       "      <td>-1.102198</td>\n",
       "    </tr>\n",
       "    <tr>\n",
       "      <th>7367</th>\n",
       "      <td>-0.481743</td>\n",
       "      <td>0.291132</td>\n",
       "      <td>1.810266</td>\n",
       "      <td>-1.233163</td>\n",
       "      <td>0.830152</td>\n",
       "      <td>0.642466</td>\n",
       "      <td>-1.055187</td>\n",
       "      <td>1.358533</td>\n",
       "      <td>-0.572475</td>\n",
       "      <td>1.728977</td>\n",
       "      <td>0.907278</td>\n",
       "    </tr>\n",
       "  </tbody>\n",
       "</table>\n",
       "</div>"
      ],
      "text/plain": [
       "      CreditScore       Age    Tenure   Balance  NumOfProducts  HasCrCard  \\\n",
       "8532    -0.699824 -0.373192 -1.101690 -1.233163       0.830152   0.642466   \n",
       "5799    -0.284431  0.575842 -0.737696 -1.233163      -0.891560   0.642466   \n",
       "5511     0.151731 -0.657902 -1.829679  0.438711      -0.891560   0.642466   \n",
       "7365    -0.876366 -0.278288  1.810266  1.239884      -0.891560   0.642466   \n",
       "7367    -0.481743  0.291132  1.810266 -1.233163       0.830152   0.642466   \n",
       "\n",
       "      IsActiveMember  EstimatedSalary  Geography_Germany  Geography_Spain  \\\n",
       "8532       -1.055187        -0.015173          -0.572475        -0.578377   \n",
       "5799        0.947699         1.471724          -0.572475        -0.578377   \n",
       "5511       -1.055187        -1.367107           1.746802        -0.578377   \n",
       "7365        0.947699        -0.786517          -0.572475         1.728977   \n",
       "7367       -1.055187         1.358533          -0.572475         1.728977   \n",
       "\n",
       "      Gender_Male  \n",
       "8532    -1.102198  \n",
       "5799    -1.102198  \n",
       "5511     0.907278  \n",
       "7365    -1.102198  \n",
       "7367     0.907278  "
      ]
     },
     "metadata": {},
     "output_type": "display_data"
    },
    {
     "data": {
      "text/html": [
       "<div>\n",
       "<style scoped>\n",
       "    .dataframe tbody tr th:only-of-type {\n",
       "        vertical-align: middle;\n",
       "    }\n",
       "\n",
       "    .dataframe tbody tr th {\n",
       "        vertical-align: top;\n",
       "    }\n",
       "\n",
       "    .dataframe thead th {\n",
       "        text-align: right;\n",
       "    }\n",
       "</style>\n",
       "<table border=\"1\" class=\"dataframe\">\n",
       "  <thead>\n",
       "    <tr style=\"text-align: right;\">\n",
       "      <th></th>\n",
       "      <th>CreditScore</th>\n",
       "      <th>Age</th>\n",
       "      <th>Tenure</th>\n",
       "      <th>Balance</th>\n",
       "      <th>NumOfProducts</th>\n",
       "      <th>HasCrCard</th>\n",
       "      <th>IsActiveMember</th>\n",
       "      <th>EstimatedSalary</th>\n",
       "      <th>Geography_Germany</th>\n",
       "      <th>Geography_Spain</th>\n",
       "      <th>Gender_Male</th>\n",
       "    </tr>\n",
       "  </thead>\n",
       "  <tbody>\n",
       "    <tr>\n",
       "      <th>7041</th>\n",
       "      <td>-2.226392</td>\n",
       "      <td>-0.088482</td>\n",
       "      <td>-1.101690</td>\n",
       "      <td>-1.233163</td>\n",
       "      <td>0.830152</td>\n",
       "      <td>0.642466</td>\n",
       "      <td>-1.055187</td>\n",
       "      <td>0.647083</td>\n",
       "      <td>-0.572475</td>\n",
       "      <td>-0.578377</td>\n",
       "      <td>0.907278</td>\n",
       "    </tr>\n",
       "    <tr>\n",
       "      <th>5709</th>\n",
       "      <td>-0.087120</td>\n",
       "      <td>0.006422</td>\n",
       "      <td>1.446272</td>\n",
       "      <td>-1.233163</td>\n",
       "      <td>-0.891560</td>\n",
       "      <td>0.642466</td>\n",
       "      <td>-1.055187</td>\n",
       "      <td>-1.658410</td>\n",
       "      <td>-0.572475</td>\n",
       "      <td>-0.578377</td>\n",
       "      <td>-1.102198</td>\n",
       "    </tr>\n",
       "    <tr>\n",
       "      <th>7117</th>\n",
       "      <td>-0.917905</td>\n",
       "      <td>-0.752805</td>\n",
       "      <td>-0.009707</td>\n",
       "      <td>0.722307</td>\n",
       "      <td>-0.891560</td>\n",
       "      <td>0.642466</td>\n",
       "      <td>0.947699</td>\n",
       "      <td>-1.369334</td>\n",
       "      <td>-0.572475</td>\n",
       "      <td>1.728977</td>\n",
       "      <td>0.907278</td>\n",
       "    </tr>\n",
       "    <tr>\n",
       "      <th>7775</th>\n",
       "      <td>-0.253277</td>\n",
       "      <td>0.101325</td>\n",
       "      <td>1.810266</td>\n",
       "      <td>-1.233163</td>\n",
       "      <td>0.830152</td>\n",
       "      <td>0.642466</td>\n",
       "      <td>-1.055187</td>\n",
       "      <td>0.075086</td>\n",
       "      <td>-0.572475</td>\n",
       "      <td>1.728977</td>\n",
       "      <td>0.907278</td>\n",
       "    </tr>\n",
       "    <tr>\n",
       "      <th>8735</th>\n",
       "      <td>0.785204</td>\n",
       "      <td>-0.847708</td>\n",
       "      <td>1.810266</td>\n",
       "      <td>0.615625</td>\n",
       "      <td>-0.891560</td>\n",
       "      <td>-1.556504</td>\n",
       "      <td>0.947699</td>\n",
       "      <td>-1.070919</td>\n",
       "      <td>-0.572475</td>\n",
       "      <td>-0.578377</td>\n",
       "      <td>0.907278</td>\n",
       "    </tr>\n",
       "  </tbody>\n",
       "</table>\n",
       "</div>"
      ],
      "text/plain": [
       "      CreditScore       Age    Tenure   Balance  NumOfProducts  HasCrCard  \\\n",
       "7041    -2.226392 -0.088482 -1.101690 -1.233163       0.830152   0.642466   \n",
       "5709    -0.087120  0.006422  1.446272 -1.233163      -0.891560   0.642466   \n",
       "7117    -0.917905 -0.752805 -0.009707  0.722307      -0.891560   0.642466   \n",
       "7775    -0.253277  0.101325  1.810266 -1.233163       0.830152   0.642466   \n",
       "8735     0.785204 -0.847708  1.810266  0.615625      -0.891560  -1.556504   \n",
       "\n",
       "      IsActiveMember  EstimatedSalary  Geography_Germany  Geography_Spain  \\\n",
       "7041       -1.055187         0.647083          -0.572475        -0.578377   \n",
       "5709       -1.055187        -1.658410          -0.572475        -0.578377   \n",
       "7117        0.947699        -1.369334          -0.572475         1.728977   \n",
       "7775       -1.055187         0.075086          -0.572475         1.728977   \n",
       "8735        0.947699        -1.070919          -0.572475        -0.578377   \n",
       "\n",
       "      Gender_Male  \n",
       "7041     0.907278  \n",
       "5709    -1.102198  \n",
       "7117     0.907278  \n",
       "7775     0.907278  \n",
       "8735     0.907278  "
      ]
     },
     "metadata": {},
     "output_type": "display_data"
    }
   ],
   "source": [
    "display(features_train.head(), features_valid.head(), features_test.head())"
   ]
  },
  {
   "cell_type": "markdown",
   "id": "9ba76df5",
   "metadata": {},
   "source": [
    "*Тестирование моделей без учёта дисбаланса*"
   ]
  },
  {
   "cell_type": "code",
   "execution_count": 110,
   "id": "6470a5dd",
   "metadata": {},
   "outputs": [
    {
     "name": "stdout",
     "output_type": "stream",
     "text": [
      "Лучшая модель без учёта дисбаланса: RandomForestClassifier(max_depth=10, n_estimators=10, random_state=12345)\n",
      "Глубина лучшей модели: 10\n",
      "Количество деревев в лучшей модели: 10\n",
      "Точность лучшей модели: 0.864\n",
      "F1-мера лучшей модели: 0.5891238670694864\n"
     ]
    }
   ],
   "source": [
    "best_model = None\n",
    "best_depth = 0\n",
    "best_result = 0\n",
    "best_f1 = 0\n",
    "best_trees = 0\n",
    "for trees in range(10, 80, 10):\n",
    "    for depth in range(1,16):\n",
    "        model = RandomForestClassifier(n_estimators=trees, max_depth=depth, random_state=12345)\n",
    "        model.fit(features_train, target_train)\n",
    "        pred = model.predict(features_valid)\n",
    "        result = model.score(features_valid, target_valid)\n",
    "        f1_result = f1_score(target_valid, pred)\n",
    "        if f1_result > best_f1:\n",
    "            best_model = model\n",
    "            best_depth = depth\n",
    "            best_result = result\n",
    "            best_f1 = f1_result\n",
    "            best_trees = trees\n",
    "print(f'Лучшая модель без учёта дисбаланса: {best_model}')\n",
    "print(f'Глубина лучшей модели: {best_depth}')\n",
    "print(f'Количество деревев в лучшей модели: {best_trees}')\n",
    "print(f'Точность лучшей модели: {best_result}')\n",
    "print(f'F1-мера лучшей модели: {best_f1}')"
   ]
  },
  {
   "cell_type": "code",
   "execution_count": 111,
   "id": "d3b00486",
   "metadata": {},
   "outputs": [
    {
     "name": "stdout",
     "output_type": "stream",
     "text": [
      "F1-мера лучшей модели: 0.5891238670694864\n",
      "Матрица ошибок:\n",
      "[[1533   49]\n",
      " [ 223  195]]\n"
     ]
    }
   ],
   "source": [
    "best_model.fit(features_train, target_train)\n",
    "predictions_unbal = best_model.predict(features_valid)\n",
    "print(f'F1-мера лучшей модели: {f1_score(target_valid, predictions_unbal)}')\n",
    "print('Матрица ошибок:')\n",
    "print(confusion_matrix(target_valid, predictions_unbal))\n"
   ]
  },
  {
   "cell_type": "markdown",
   "id": "e54cfa63",
   "metadata": {},
   "source": [
    "Небалансированние модели: краткие выводы\n",
    "\n",
    "У лучшей модели без учёта дисбаланса были относительно высокие оценки точности и f1. В выборке наблюдается значительный дисбаланс классов: гораздо больше значений 0 (клиент не ушёл) чем количество значений 1 (клиент ушёл). Тем не менее, F1 мера около 0.57. Чем ближе f1 к 1, тем лучше модель предсказывает класс. 0.57 может казаться не отличным результатом, но поскольку не учтён здесь дисбаланс, мне он кажется неплохой – когда дисбаланс будет учтён, результат будет лучше."
   ]
  },
  {
   "cell_type": "markdown",
   "id": "4fa876e5",
   "metadata": {},
   "source": [
    "*Тестирование моделей с учётом дисбаланса*"
   ]
  },
  {
   "cell_type": "code",
   "execution_count": 112,
   "id": "464e338a",
   "metadata": {},
   "outputs": [
    {
     "name": "stdout",
     "output_type": "stream",
     "text": [
      "Модель с учётом дисбаланса (с такими же гипрепараметрами как у лучшей модели без учёта дисбаланса):\n",
      "F1-мера: 0.6038647342995168\n",
      "roc-auc score: 0.8378377560957906\n"
     ]
    }
   ],
   "source": [
    "model_balanced = RandomForestClassifier(max_depth=10, n_estimators=10, class_weight='balanced', random_state=12345)\n",
    "model_balanced.fit(features_train, target_train)\n",
    "predictions_balanced = model_balanced.predict(features_valid)\n",
    "probabilities_balanced = model_balanced.predict_proba(features_valid)\n",
    "print(\"Модель с учётом дисбаланса (с такими же гипрепараметрами как у лучшей модели без учёта дисбаланса):\")\n",
    "print(f'F1-мера: {f1_score(target_valid, predictions_balanced)}')\n",
    "print(f'roc-auc score: {roc_auc_score(target_valid, probabilities_balanced[:, 1])}')"
   ]
  },
  {
   "cell_type": "markdown",
   "id": "ab77a43d",
   "metadata": {},
   "source": [
    "*Учёт дисбаланса с помощью параметра class_weight*"
   ]
  },
  {
   "cell_type": "code",
   "execution_count": 113,
   "id": "c871b299",
   "metadata": {},
   "outputs": [
    {
     "name": "stdout",
     "output_type": "stream",
     "text": [
      "Лучшая модель с учётом дисбаланса способом применеия параметра class_weight: RandomForestClassifier(class_weight='balanced', max_depth=9, n_estimators=60,\n",
      "                       random_state=12345)\n",
      "Глубина лучшей модели: 9\n",
      "Количество деревев в лучшей модели: 60\n",
      "F1-мера лучшей модели: 0.6292906178489703\n",
      "CPU times: user 19.5 s, sys: 268 ms, total: 19.7 s\n",
      "Wall time: 21.1 s\n"
     ]
    }
   ],
   "source": [
    "%%time\n",
    "best_model_bal = None\n",
    "best_depth_bal = 0\n",
    "best_result_bal = 0\n",
    "best_trees_bal =0\n",
    "for trees in range(10, 80, 10):\n",
    "    for depth in range(1,16):\n",
    "        model = RandomForestClassifier(n_estimators=trees, max_depth=depth, class_weight='balanced', random_state=12345)\n",
    "        model.fit(features_train, target_train)\n",
    "        pred = model.predict(features_valid)\n",
    "        result = f1_score(target_valid, pred)\n",
    "        if result > best_result_bal:\n",
    "            best_model_bal = model\n",
    "            best_depth_bal = depth\n",
    "            best_result_bal = result\n",
    "            best_trees_bal = trees\n",
    "\n",
    "print(f'Лучшая модель с учётом дисбаланса способом применеия параметра class_weight: {best_model_bal}')\n",
    "print(f'Глубина лучшей модели: {best_depth_bal}')\n",
    "print(f'Количество деревев в лучшей модели: {best_trees_bal}')\n",
    "print(f'F1-мера лучшей модели: {best_result_bal}')"
   ]
  },
  {
   "cell_type": "markdown",
   "id": "130cf54c",
   "metadata": {},
   "source": [
    "*Учёт дисбаланса с помощью upsampling*"
   ]
  },
  {
   "cell_type": "code",
   "execution_count": 114,
   "id": "393738a7",
   "metadata": {},
   "outputs": [],
   "source": [
    "def exit_upsample(features, target, repeat):\n",
    "    \n",
    "    features_exit = features[target == 1]\n",
    "    features_no_exit = features[target == 0]\n",
    "    target_exit = target[target == 1]\n",
    "    target_no_exit = target[target == 0]\n",
    "    \n",
    "    features_upsampled = pd.concat([features_no_exit] + [features_exit]*repeat)\n",
    "    target_upsampled = pd.concat([target_no_exit] + [target_exit]*repeat)\n",
    "    \n",
    "    features_upsampled, target_upsampled = shuffle(features_upsampled, target_upsampled, random_state=12345)\n",
    "    \n",
    "    return features_upsampled, target_upsampled"
   ]
  },
  {
   "cell_type": "code",
   "execution_count": 115,
   "id": "1a673aa5",
   "metadata": {},
   "outputs": [
    {
     "name": "stdout",
     "output_type": "stream",
     "text": [
      "4.016722408026756 раз больше клиентов, которые не ушли от банка, чем те, кто ушёл.\n"
     ]
    }
   ],
   "source": [
    "print(len(target_train[target_train==0])/len(target_train[target_train==1]),\n",
    "      \"раз больше клиентов, которые не ушли от банка, чем те, кто ушёл.\")"
   ]
  },
  {
   "cell_type": "code",
   "execution_count": 116,
   "id": "254de6e7",
   "metadata": {},
   "outputs": [],
   "source": [
    "features_train_upsampled, target_train_upsampled = exit_upsample(features_train, target_train, 4)"
   ]
  },
  {
   "cell_type": "code",
   "execution_count": 126,
   "id": "db80d9ee",
   "metadata": {},
   "outputs": [
    {
     "name": "stdout",
     "output_type": "stream",
     "text": [
      "Лучшая модель с учётом дисбаланса способом upsampling-а: RandomForestClassifier(max_depth=9, n_estimators=70, random_state=12345)\n",
      "Глубина лучшей модели: 9\n",
      "Количество деревев в лучшей модели: 70\n",
      "F1-мера лучшей модели: 0.6291179596174282\n",
      "CPU times: user 25.7 s, sys: 338 ms, total: 26 s\n",
      "Wall time: 26.2 s\n"
     ]
    }
   ],
   "source": [
    "%%time\n",
    "best_model_upsampled = None\n",
    "best_depth_upsampled = 0\n",
    "best_result_upsampled = 0\n",
    "best_trees_upsampled = 0\n",
    "for trees in range(10, 80, 10):\n",
    "    for depth in range(1,16):\n",
    "        model = RandomForestClassifier(n_estimators=trees, max_depth=depth, random_state=12345)\n",
    "        model.fit(features_train_upsampled, target_train_upsampled)\n",
    "        pred = model.predict(features_valid)\n",
    "        result = f1_score(target_valid, pred)\n",
    "        if result > best_result_upsampled:\n",
    "            best_model_upsampled = model\n",
    "            best_depth_upsampled = depth\n",
    "            best_result_upsampled = result\n",
    "            best_trees_upsampled = trees\n",
    "\n",
    "print(f'Лучшая модель с учётом дисбаланса способом upsampling-а: {best_model_upsampled}')\n",
    "print(f'Глубина лучшей модели: {best_depth_upsampled}')\n",
    "print(f'Количество деревев в лучшей модели: {best_trees_upsampled}')\n",
    "print(f'F1-мера лучшей модели: {best_result_upsampled}')"
   ]
  },
  {
   "cell_type": "code",
   "execution_count": 127,
   "id": "6702e5f5",
   "metadata": {},
   "outputs": [
    {
     "name": "stdout",
     "output_type": "stream",
     "text": [
      "Лучшая модель с учётом дисбаланса с помощью и class_weight и upsampling: RandomForestClassifier(class_weight='balanced', max_depth=13, n_estimators=60,\n",
      "                       random_state=12345)\n",
      "Глубина лучшей модели: 13\n",
      "Количество деревев в лучшей модели: 60\n",
      "F1-мера лучшей модели: 0.6236559139784946\n",
      "CPU times: user 25.2 s, sys: 298 ms, total: 25.5 s\n",
      "Wall time: 25.6 s\n"
     ]
    }
   ],
   "source": [
    "%%time\n",
    "best_model_balanced_upsampled = None\n",
    "best_depth_balanced_upsampled = 0\n",
    "best_result_balanced_upsampled = 0\n",
    "best_trees_balanced_upsampled = 0\n",
    "for trees in range(10, 80, 10):\n",
    "    for depth in range(1,16):\n",
    "        model = RandomForestClassifier(n_estimators=trees, max_depth=depth, class_weight='balanced', random_state=12345)\n",
    "        model.fit(features_train_upsampled, target_train_upsampled)\n",
    "        pred = model.predict(features_valid)\n",
    "        result = f1_score(target_valid, pred)\n",
    "        if result > best_result_balanced_upsampled:\n",
    "            best_model_balanced_upsampled = model\n",
    "            best_depth_balanced_upsampled = depth\n",
    "            best_result_balanced_upsampled = result\n",
    "            best_trees_balanced_upsampled = trees\n",
    "\n",
    "print(f'Лучшая модель с учётом дисбаланса с помощью и class_weight и upsampling: {best_model_balanced_upsampled}')\n",
    "print(f'Глубина лучшей модели: {best_depth_balanced_upsampled}')\n",
    "print(f'Количество деревев в лучшей модели: {best_trees_balanced_upsampled}')\n",
    "print(f'F1-мера лучшей модели: {best_result_balanced_upsampled}')"
   ]
  },
  {
   "cell_type": "code",
   "execution_count": 124,
   "id": "775b7dc0",
   "metadata": {},
   "outputs": [
    {
     "name": "stdout",
     "output_type": "stream",
     "text": [
      "Лучшая модель DecisionTreeClassifier: DecisionTreeClassifier(max_depth=5, random_state=12345)\n",
      "Глубина модели: 5\n",
      "F1-мера модели: 0.5963791267305644\n",
      "CPU times: user 370 ms, sys: 5.29 ms, total: 375 ms\n",
      "Wall time: 384 ms\n"
     ]
    }
   ],
   "source": [
    "%%time\n",
    "best_tree_model_bal = None\n",
    "best_tree_depth_bal = 0\n",
    "best_tree_result_bal = 0\n",
    "\n",
    "for depth in range(1,16):\n",
    "    model = DecisionTreeClassifier(max_depth=depth, class_weight='balanced', random_state=12345)\n",
    "    model.fit(features_train, target_train)\n",
    "    pred = model.predict(features_valid)\n",
    "    result = f1_score(target_valid, pred)\n",
    "    if result > best_tree_result_bal:\n",
    "        best_tree_model_bal = model\n",
    "        best_tree_depth_bal = depth\n",
    "        best_tree_result_bal = result\n",
    "        \n",
    "\n",
    "print(f'Лучшая модель DecisionTreeClassifier: {best_tree_model_bal}')\n",
    "print(f'Глубина модели: {best_tree_depth_bal}')\n",
    "print(f'F1-мера модели: {best_tree_result_bal}')"
   ]
  },
  {
   "cell_type": "markdown",
   "id": "949db499",
   "metadata": {},
   "source": [
    "*Модели с учётом дисбаланса: выводы*\n",
    "\n",
    "Я тестировал балансирирование модели три раза.\n",
    "\n",
    "Сначала, я просто использовал те же гиперпараметры как у лучшей модели без учёта дисбаланса. Результаты улучшились: f1-мера стала 0.62.\n",
    "\n",
    "Потом, я использовал цикл чтобы найти лучшую модель RandomForestClassifier (как раньше для модели без учёта дисбаланса). В этот раз гиперпараметры были другие; у лучшей модели глубина – 8, а количество деревев – 40. В итоге, f1-мера этой модели была 0.65. F1-мера 0.65 лучший результат из всех здесь тестированных моделей.\n",
    "\n",
    "Наконец, я снова использовал цикл чтобы найти лучшую модель DecisionTreeClassifier. Вероятность, что в итоге она была бы лучшей модели RandomForestClassifier очень мала, но мне тоже было интересно узнать про разницу во времени обработки. Для обоих цикла, я использовал %%time чтобы увидеть эту разницу. Действительно, python гораздо быстрее обработал цикл с DecisionTreeClassifier (за 442 мс вместо 28.2 с), но f1-мера снизилзся до 0.60."
   ]
  },
  {
   "cell_type": "markdown",
   "id": "eda08936",
   "metadata": {},
   "source": [
    "*Применение лучшей модели*"
   ]
  },
  {
   "cell_type": "code",
   "execution_count": 144,
   "id": "2292c7cd",
   "metadata": {},
   "outputs": [
    {
     "name": "stdout",
     "output_type": "stream",
     "text": [
      "F1-score модели на тестовой выборке: 0.610738255033557\n",
      "roc-auc score модели на тестовой выборке: 0.8532450069033132\n"
     ]
    },
    {
     "data": {
      "image/png": "[encoded data removed]",
      "text/plain": [
       "<Figure size 720x504 with 1 Axes>"
      ]
     },
     "metadata": {
      "needs_background": "light"
     },
     "output_type": "display_data"
    }
   ],
   "source": [
    "final_model = RandomForestClassifier(max_depth=9, n_estimators=60, class_weight='balanced', random_state=12345)\n",
    "final_model.fit(features_train, target_train)\n",
    "predictions_final = final_model.predict(features_test)\n",
    "probabilities_final = final_model.predict_proba(features_test)\n",
    "\n",
    "print('F1-score модели на тестовой выборке:', f1_score(target_test, predictions_final))\n",
    "print('roc-auc score модели на тестовой выборке:', roc_auc_score(target_test, probabilities_final[:, 1]))\n",
    "\n",
    "fpr, tpr, thresholds = roc_curve(target_test, predictions_final)\n",
    "roc_auc = auc(fpr, tpr)\n",
    "roc_plot = RocCurveDisplay(fpr=fpr, tpr=tpr, roc_auc=roc_auc)\n",
    "fig, ax = plt.subplots(figsize=(10,7))\n",
    "roc_plot.plot(ax=ax)\n",
    "ax.plot(np.linspace(0, 1),\n",
    "         np.linspace(0, 1),\n",
    "         linestyle='--')\n",
    "plt.show()\n"
   ]
  },
  {
   "cell_type": "markdown",
   "id": "dd5fc381",
   "metadata": {},
   "source": [
    "### Финальное тестирование и общие выводы\n",
    "<a id='Финальное'></a>\n",
    "\n",
    "Лучшая модель:\n",
    "\n",
    "RandomForestClassifier\n",
    "\n",
    "Количество деревев: 40\n",
    "\n",
    "Глубина: 8\n",
    "\n",
    "В итоге, получилось поднять F1-меру до 0.65 (на валидационной), и AUC-ROC до 0.86. Как уже отмечено, чем ближе F1-мера к 1, тем эфективнее можно считать модель. AUC-ROC мера случайной модели равна 0.5; если мера выше 0.5, модель лучше предсказывает чем случайная модель, если мера равна 1, то модель предсказывает всё правильно. Поэтому, можно считать, что 0.86 довольно хороший результат.\n",
    "\n",
    "Как я понимаю, AUC-ROC мера менее показательно при значительном дисбалансе классов. В нашей выборке действительно есть большой дисбаланс классов. Поэтому, чтобы оценить нашу модель, лучше доверяться F1-мера.\n",
    "\n",
    "Главная цель этого исследования – предсказать возможный уход клиента банка. В итоге, нам интересен каждый отделельный клиент, не общая тенденция ухода клиентов. AUC-ROC относится ко всем данным вместе взятым (то есть, посчитается пользуясь площадью под кривой, построенной со всеми данными); F1 посчитается используя информацию каждого отдельного пункта (то есть, использует понятия истинно положительного, ложноположительного, истинно отрицательного, ложноотрицательного). Таким образом, для нашей задачи лучше использовать F1.\n"
   ]
  }
 ],
 "metadata": {
  "ExecuteTimeLog": [
   {
    "duration": 1539,
    "start_time": "2022-04-08T13:04:21.875Z"
   },
   {
    "duration": 250,
    "start_time": "2022-04-08T13:04:23.416Z"
   },
   {
    "duration": 0,
    "start_time": "2022-04-08T13:04:23.669Z"
   },
   {
    "duration": 0,
    "start_time": "2022-04-08T13:04:23.671Z"
   },
   {
    "duration": 0,
    "start_time": "2022-04-08T13:04:23.672Z"
   },
   {
    "duration": 0,
    "start_time": "2022-04-08T13:04:23.674Z"
   },
   {
    "duration": 0,
    "start_time": "2022-04-08T13:04:23.675Z"
   },
   {
    "duration": 0,
    "start_time": "2022-04-08T13:04:23.677Z"
   },
   {
    "duration": 0,
    "start_time": "2022-04-08T13:04:23.680Z"
   },
   {
    "duration": 0,
    "start_time": "2022-04-08T13:04:23.682Z"
   },
   {
    "duration": 0,
    "start_time": "2022-04-08T13:04:23.683Z"
   },
   {
    "duration": 0,
    "start_time": "2022-04-08T13:04:23.685Z"
   },
   {
    "duration": 0,
    "start_time": "2022-04-08T13:04:23.686Z"
   },
   {
    "duration": 0,
    "start_time": "2022-04-08T13:04:23.688Z"
   },
   {
    "duration": 367,
    "start_time": "2022-04-08T14:42:38.112Z"
   },
   {
    "duration": 1689,
    "start_time": "2022-04-08T14:42:45.651Z"
   },
   {
    "duration": 253,
    "start_time": "2022-04-08T14:42:47.344Z"
   },
   {
    "duration": 8,
    "start_time": "2022-04-08T14:42:47.599Z"
   },
   {
    "duration": 42,
    "start_time": "2022-04-08T14:42:47.610Z"
   },
   {
    "duration": 10,
    "start_time": "2022-04-08T14:42:47.654Z"
   },
   {
    "duration": 43,
    "start_time": "2022-04-08T14:42:47.666Z"
   },
   {
    "duration": 39,
    "start_time": "2022-04-08T14:42:47.712Z"
   },
   {
    "duration": 9,
    "start_time": "2022-04-08T14:42:47.754Z"
   },
   {
    "duration": 54429,
    "start_time": "2022-04-08T14:42:47.765Z"
   },
   {
    "duration": 389,
    "start_time": "2022-04-08T14:43:42.198Z"
   },
   {
    "duration": 784,
    "start_time": "2022-04-08T14:43:42.590Z"
   },
   {
    "duration": 38235,
    "start_time": "2022-04-08T14:43:43.376Z"
   },
   {
    "duration": 662,
    "start_time": "2022-04-08T14:44:21.613Z"
   },
   {
    "duration": 508,
    "start_time": "2022-04-08T14:44:22.277Z"
   }
  ],
  "kernelspec": {
   "display_name": "Python 3 (ipykernel)",
   "language": "python",
   "name": "python3"
  },
  "language_info": {
   "codemirror_mode": {
    "name": "ipython",
    "version": 3
   },
   "file_extension": ".py",
   "mimetype": "text/x-python",
   "name": "python",
   "nbconvert_exporter": "python",
   "pygments_lexer": "ipython3",
   "version": "3.9.7"
  },
  "toc": {
   "base_numbering": 1,
   "nav_menu": {},
   "number_sections": true,
   "sideBar": true,
   "skip_h1_title": true,
   "title_cell": "Table of Contents",
   "title_sidebar": "Contents",
   "toc_cell": false,
   "toc_position": {},
   "toc_section_display": true,
   "toc_window_display": false
  }
 },
 "nbformat": 4,
 "nbformat_minor": 5
}
