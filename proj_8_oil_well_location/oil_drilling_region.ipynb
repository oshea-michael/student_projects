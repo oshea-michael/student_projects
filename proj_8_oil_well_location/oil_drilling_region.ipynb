{
 "cells": [
  {
   "cell_type": "markdown",
   "id": "b93bf18b",
   "metadata": {},
   "source": [
    "# Borehole Profitability Analysis\n",
    "\n",
    "The goal of this project is to provide recommendations for an oil company that seeks to drill a new oil well. The company has done preliminary surveying of three different regions, and it has requested information about which of the three will prove the most profitable. In addition to the question of potential profit, the company has requested an analysis of the potential risk of negative profit.\n",
    "\n",
    "The data contains information from different test sites, including unlabeled (i.e. nature of information not provided) information about  content as well as yield. The data is separated by region, and within each region results from test sites can differ greatly. Due to this, the approach chosen for this analysis is to train a linear regression model, then to make use of the bootstrap technique to establish a 95% confidence interval about drilling in a given region and to draw conclusions based on this confidence interval. \n",
    "\n",
    "This project could be improved in a variety of ways, notably by writing functions to make the code more laconic."
   ]
  },
  {
   "cell_type": "markdown",
   "id": "eaff8c48",
   "metadata": {},
   "source": [
    "### Содержание\n",
    "<a id='Содержание'></a>\n",
    "\n",
    "[Импортирование библиотек и функций](#Импорты)\n",
    "\n",
    "[Загрузка и просмотр данных](#Загрузка)\n",
    "\n",
    "[Разделение данных на выборки и тренирование моделей](#Разделение_и_тренирование)\n",
    "\n",
    "[Подготовка к расчётам](#Подготовка)\n",
    "\n",
    "[Расчёт прибыли](#Расчёт)\n",
    "\n",
    "[Подсчёт рисков и прибыли с помощью Bootstrap](#Бутстрепочки)\n",
    "\n",
    "[Общие выводы](#Общий_вывод)\n",
    "\n"
   ]
  },
  {
   "cell_type": "markdown",
   "id": "a0e546bf",
   "metadata": {},
   "source": [
    "### Условия задачи:\n",
    "- Для обучения модели подходит только линейная регрессия (остальные — недостаточно предсказуемые).\n",
    "\n",
    "- При разведке региона исследуют 500 точек, из которых с помощью машинного обучения выбирают 200 лучших для разработки.\n",
    "\n",
    "- Бюджет на разработку скважин в регионе — 10 млрд рублей.\n",
    "\n",
    "- При нынешних ценах один баррель сырья приносит 450 рублей дохода. Доход с каждой единицы продукта составляет 450 тыс. рублей, поскольку объём указан в тысячах баррелей.\n",
    "\n",
    "- После оценки рисков нужно оставить лишь те регионы, в которых вероятность убытков меньше 2.5%. Среди них выбирают регион с наибольшей средней прибылью."
   ]
  },
  {
   "cell_type": "markdown",
   "id": "2e31d1d0",
   "metadata": {},
   "source": [
    "### Импортирование библиотек и функций\n",
    "<a id='Импорты'></a>"
   ]
  },
  {
   "cell_type": "code",
   "execution_count": 60,
   "id": "044a9702",
   "metadata": {},
   "outputs": [],
   "source": [
    "import pandas as pd\n",
    "import numpy as np\n",
    "import matplotlib.pyplot as plt\n",
    "from sklearn.linear_model import LinearRegression\n",
    "from sklearn.preprocessing import StandardScaler\n",
    "from sklearn.model_selection import train_test_split\n",
    "from sklearn.metrics import mean_squared_error\n",
    "\n",
    "\n"
   ]
  },
  {
   "cell_type": "markdown",
   "id": "c22384d0",
   "metadata": {},
   "source": [
    "### Загрузка и просмотр данных\n",
    "<a id='Загрузка'></a>"
   ]
  },
  {
   "cell_type": "code",
   "execution_count": 61,
   "id": "06bc6341",
   "metadata": {},
   "outputs": [
    {
     "name": "stdout",
     "output_type": "stream",
     "text": [
      "<class 'pandas.core.frame.DataFrame'>\n",
      "RangeIndex: 100000 entries, 0 to 99999\n",
      "Data columns (total 5 columns):\n",
      " #   Column   Non-Null Count   Dtype  \n",
      "---  ------   --------------   -----  \n",
      " 0   id       100000 non-null  object \n",
      " 1   f0       100000 non-null  float64\n",
      " 2   f1       100000 non-null  float64\n",
      " 3   f2       100000 non-null  float64\n",
      " 4   product  100000 non-null  float64\n",
      "dtypes: float64(4), object(1)\n",
      "memory usage: 3.8+ MB\n"
     ]
    },
    {
     "data": {
      "text/html": [
       "<div>\n",
       "<style scoped>\n",
       "    .dataframe tbody tr th:only-of-type {\n",
       "        vertical-align: middle;\n",
       "    }\n",
       "\n",
       "    .dataframe tbody tr th {\n",
       "        vertical-align: top;\n",
       "    }\n",
       "\n",
       "    .dataframe thead th {\n",
       "        text-align: right;\n",
       "    }\n",
       "</style>\n",
       "<table border=\"1\" class=\"dataframe\">\n",
       "  <thead>\n",
       "    <tr style=\"text-align: right;\">\n",
       "      <th></th>\n",
       "      <th>0</th>\n",
       "      <th>1</th>\n",
       "      <th>2</th>\n",
       "      <th>3</th>\n",
       "      <th>4</th>\n",
       "    </tr>\n",
       "  </thead>\n",
       "  <tbody>\n",
       "    <tr>\n",
       "      <th>id</th>\n",
       "      <td>txEyH</td>\n",
       "      <td>2acmU</td>\n",
       "      <td>409Wp</td>\n",
       "      <td>iJLyR</td>\n",
       "      <td>Xdl7t</td>\n",
       "    </tr>\n",
       "    <tr>\n",
       "      <th>f0</th>\n",
       "      <td>0.705745</td>\n",
       "      <td>1.334711</td>\n",
       "      <td>1.022732</td>\n",
       "      <td>-0.032172</td>\n",
       "      <td>1.988431</td>\n",
       "    </tr>\n",
       "    <tr>\n",
       "      <th>f1</th>\n",
       "      <td>-0.497823</td>\n",
       "      <td>-0.340164</td>\n",
       "      <td>0.15199</td>\n",
       "      <td>0.139033</td>\n",
       "      <td>0.155413</td>\n",
       "    </tr>\n",
       "    <tr>\n",
       "      <th>f2</th>\n",
       "      <td>1.22117</td>\n",
       "      <td>4.36508</td>\n",
       "      <td>1.419926</td>\n",
       "      <td>2.978566</td>\n",
       "      <td>4.751769</td>\n",
       "    </tr>\n",
       "    <tr>\n",
       "      <th>product</th>\n",
       "      <td>105.280062</td>\n",
       "      <td>73.03775</td>\n",
       "      <td>85.265647</td>\n",
       "      <td>168.620776</td>\n",
       "      <td>154.036647</td>\n",
       "    </tr>\n",
       "  </tbody>\n",
       "</table>\n",
       "</div>"
      ],
      "text/plain": [
       "                  0         1          2           3           4\n",
       "id            txEyH     2acmU      409Wp       iJLyR       Xdl7t\n",
       "f0         0.705745  1.334711   1.022732   -0.032172    1.988431\n",
       "f1        -0.497823 -0.340164    0.15199    0.139033    0.155413\n",
       "f2          1.22117   4.36508   1.419926    2.978566    4.751769\n",
       "product  105.280062  73.03775  85.265647  168.620776  154.036647"
      ]
     },
     "metadata": {},
     "output_type": "display_data"
    },
    {
     "name": "stdout",
     "output_type": "stream",
     "text": [
      "\n",
      "<class 'pandas.core.frame.DataFrame'>\n",
      "RangeIndex: 100000 entries, 0 to 99999\n",
      "Data columns (total 5 columns):\n",
      " #   Column   Non-Null Count   Dtype  \n",
      "---  ------   --------------   -----  \n",
      " 0   id       100000 non-null  object \n",
      " 1   f0       100000 non-null  float64\n",
      " 2   f1       100000 non-null  float64\n",
      " 3   f2       100000 non-null  float64\n",
      " 4   product  100000 non-null  float64\n",
      "dtypes: float64(4), object(1)\n",
      "memory usage: 3.8+ MB\n"
     ]
    },
    {
     "data": {
      "text/html": [
       "<div>\n",
       "<style scoped>\n",
       "    .dataframe tbody tr th:only-of-type {\n",
       "        vertical-align: middle;\n",
       "    }\n",
       "\n",
       "    .dataframe tbody tr th {\n",
       "        vertical-align: top;\n",
       "    }\n",
       "\n",
       "    .dataframe thead th {\n",
       "        text-align: right;\n",
       "    }\n",
       "</style>\n",
       "<table border=\"1\" class=\"dataframe\">\n",
       "  <thead>\n",
       "    <tr style=\"text-align: right;\">\n",
       "      <th></th>\n",
       "      <th>0</th>\n",
       "      <th>1</th>\n",
       "      <th>2</th>\n",
       "      <th>3</th>\n",
       "      <th>4</th>\n",
       "    </tr>\n",
       "  </thead>\n",
       "  <tbody>\n",
       "    <tr>\n",
       "      <th>id</th>\n",
       "      <td>kBEdx</td>\n",
       "      <td>62mP7</td>\n",
       "      <td>vyE1P</td>\n",
       "      <td>KcrkZ</td>\n",
       "      <td>AHL4O</td>\n",
       "    </tr>\n",
       "    <tr>\n",
       "      <th>f0</th>\n",
       "      <td>-15.001348</td>\n",
       "      <td>14.272088</td>\n",
       "      <td>6.263187</td>\n",
       "      <td>-13.081196</td>\n",
       "      <td>12.702195</td>\n",
       "    </tr>\n",
       "    <tr>\n",
       "      <th>f1</th>\n",
       "      <td>-8.276</td>\n",
       "      <td>-3.475083</td>\n",
       "      <td>-5.948386</td>\n",
       "      <td>-11.506057</td>\n",
       "      <td>-8.147433</td>\n",
       "    </tr>\n",
       "    <tr>\n",
       "      <th>f2</th>\n",
       "      <td>-0.005876</td>\n",
       "      <td>0.999183</td>\n",
       "      <td>5.00116</td>\n",
       "      <td>4.999415</td>\n",
       "      <td>5.004363</td>\n",
       "    </tr>\n",
       "    <tr>\n",
       "      <th>product</th>\n",
       "      <td>3.179103</td>\n",
       "      <td>26.953261</td>\n",
       "      <td>134.766305</td>\n",
       "      <td>137.945408</td>\n",
       "      <td>134.766305</td>\n",
       "    </tr>\n",
       "  </tbody>\n",
       "</table>\n",
       "</div>"
      ],
      "text/plain": [
       "                 0          1           2           3           4\n",
       "id           kBEdx      62mP7       vyE1P       KcrkZ       AHL4O\n",
       "f0      -15.001348  14.272088    6.263187  -13.081196   12.702195\n",
       "f1          -8.276  -3.475083   -5.948386  -11.506057   -8.147433\n",
       "f2       -0.005876   0.999183     5.00116    4.999415    5.004363\n",
       "product   3.179103  26.953261  134.766305  137.945408  134.766305"
      ]
     },
     "metadata": {},
     "output_type": "display_data"
    },
    {
     "name": "stdout",
     "output_type": "stream",
     "text": [
      "\n",
      "<class 'pandas.core.frame.DataFrame'>\n",
      "RangeIndex: 100000 entries, 0 to 99999\n",
      "Data columns (total 5 columns):\n",
      " #   Column   Non-Null Count   Dtype  \n",
      "---  ------   --------------   -----  \n",
      " 0   id       100000 non-null  object \n",
      " 1   f0       100000 non-null  float64\n",
      " 2   f1       100000 non-null  float64\n",
      " 3   f2       100000 non-null  float64\n",
      " 4   product  100000 non-null  float64\n",
      "dtypes: float64(4), object(1)\n",
      "memory usage: 3.8+ MB\n"
     ]
    },
    {
     "data": {
      "text/html": [
       "<div>\n",
       "<style scoped>\n",
       "    .dataframe tbody tr th:only-of-type {\n",
       "        vertical-align: middle;\n",
       "    }\n",
       "\n",
       "    .dataframe tbody tr th {\n",
       "        vertical-align: top;\n",
       "    }\n",
       "\n",
       "    .dataframe thead th {\n",
       "        text-align: right;\n",
       "    }\n",
       "</style>\n",
       "<table border=\"1\" class=\"dataframe\">\n",
       "  <thead>\n",
       "    <tr style=\"text-align: right;\">\n",
       "      <th></th>\n",
       "      <th>0</th>\n",
       "      <th>1</th>\n",
       "      <th>2</th>\n",
       "      <th>3</th>\n",
       "      <th>4</th>\n",
       "    </tr>\n",
       "  </thead>\n",
       "  <tbody>\n",
       "    <tr>\n",
       "      <th>id</th>\n",
       "      <td>fwXo0</td>\n",
       "      <td>WJtFt</td>\n",
       "      <td>ovLUW</td>\n",
       "      <td>q6cA6</td>\n",
       "      <td>WPMUX</td>\n",
       "    </tr>\n",
       "    <tr>\n",
       "      <th>f0</th>\n",
       "      <td>-1.146987</td>\n",
       "      <td>0.262778</td>\n",
       "      <td>0.194587</td>\n",
       "      <td>2.23606</td>\n",
       "      <td>-0.515993</td>\n",
       "    </tr>\n",
       "    <tr>\n",
       "      <th>f1</th>\n",
       "      <td>0.963328</td>\n",
       "      <td>0.269839</td>\n",
       "      <td>0.289035</td>\n",
       "      <td>-0.55376</td>\n",
       "      <td>1.716266</td>\n",
       "    </tr>\n",
       "    <tr>\n",
       "      <th>f2</th>\n",
       "      <td>-0.828965</td>\n",
       "      <td>-2.530187</td>\n",
       "      <td>-5.586433</td>\n",
       "      <td>0.930038</td>\n",
       "      <td>5.899011</td>\n",
       "    </tr>\n",
       "    <tr>\n",
       "      <th>product</th>\n",
       "      <td>27.758673</td>\n",
       "      <td>56.069697</td>\n",
       "      <td>62.87191</td>\n",
       "      <td>114.572842</td>\n",
       "      <td>149.600746</td>\n",
       "    </tr>\n",
       "  </tbody>\n",
       "</table>\n",
       "</div>"
      ],
      "text/plain": [
       "                 0          1         2           3           4\n",
       "id           fwXo0      WJtFt     ovLUW       q6cA6       WPMUX\n",
       "f0       -1.146987   0.262778  0.194587     2.23606   -0.515993\n",
       "f1        0.963328   0.269839  0.289035    -0.55376    1.716266\n",
       "f2       -0.828965  -2.530187 -5.586433    0.930038    5.899011\n",
       "product  27.758673  56.069697  62.87191  114.572842  149.600746"
      ]
     },
     "metadata": {},
     "output_type": "display_data"
    }
   ],
   "source": [
    "try:\n",
    "    geo_0 = pd.read_csv('datasets/geo_data_0.csv')\n",
    "    geo_1 = pd.read_csv('datasets/geo_data_1.csv')\n",
    "    geo_2 = pd.read_csv('datasets/geo_data_2.csv')\n",
    "\n",
    "except:\n",
    "    geo_0 = pd.read_csv('/datasets/geo_data_0.csv')\n",
    "    geo_1 = pd.read_csv('/datasets/geo_data_1.csv')\n",
    "    geo_2 = pd.read_csv('/datasets/geo_data_2.csv')\n",
    "\n",
    "geo_0.info()\n",
    "display(geo_0.head().T)\n",
    "print()\n",
    "geo_1.info()\n",
    "display(geo_1.head().T)\n",
    "print()\n",
    "geo_2.info()\n",
    "display(geo_2.head().T)"
   ]
  },
  {
   "cell_type": "markdown",
   "id": "63c9813d",
   "metadata": {},
   "source": [
    "### Разделение данных на выборки и тренирование моделей\n",
    "<a id='Разделение_и_тренирование'></a>"
   ]
  },
  {
   "cell_type": "code",
   "execution_count": 62,
   "id": "bde568e0",
   "metadata": {},
   "outputs": [],
   "source": [
    "features_0 = geo_0.drop(columns=['id', 'product'])\n",
    "target_0 = geo_0['product']\n",
    "\n",
    "features_train_0, features_valid_0, target_train_0, target_valid_0 = (\n",
    "train_test_split(features_0, target_0, test_size=0.25, random_state=12345)\n",
    ")\n",
    "\n",
    "features_1 = geo_1.drop(columns=['id', 'product'])\n",
    "target_1 = geo_1['product']\n",
    "\n",
    "features_train_1, features_valid_1, target_train_1, target_valid_1 = (\n",
    "train_test_split(features_1, target_1, test_size=0.25, random_state=12345)\n",
    ")\n",
    "\n",
    "features_2 = geo_2.drop(columns=['id', 'product'])\n",
    "target_2= geo_2['product']\n",
    "\n",
    "features_train_2, features_valid_2, target_train_2, target_valid_2 = (\n",
    "train_test_split(features_2, target_2, test_size=0.25, random_state=12345)\n",
    ")"
   ]
  },
  {
   "cell_type": "markdown",
   "id": "f771fd6d",
   "metadata": {},
   "source": [
    "*Что делать с тренированием модели?*\n",
    "\n",
    "Мне кажется, что лучшая модель получится если её трейнировать на основе всех данных из всех трёх регионов. \n",
    "\n",
    "Это кажется логично (больше тренировочных данных должно дать более точные предсказания), но всё-таки стоит проверить такую модель, и модели тренированные на основе региональных данных в отдельности.\n",
    "\n",
    "Почему:\n",
    "- суть данных нам не известна. Например, возможно, что отношение f0 к f1 говорит о какой-нибудь особенности региона. Тогда стоило бы строить отдельные модели.\n",
    "- может из-за разных разбросов в данных регионов (или подобная такая причина), отдельные модели выдадут лучшие результаты.\n",
    "\n",
    "Однако:\n",
    "- Возможно неправильно сравнивать результаты одной модели с результатами другой. Если так поступать, хотя результаты должны быть очень похожими, они всё-таки будут различаться в какой-то мере, а тогда это уже не будет сравнение подобное с подобным.\n",
    "\n",
    "В итоге:\n",
    "- В конце концов, возьму и буду использовать модель(или модели), которая выдаст самые лучшие и точние предсказания (измеренные с помощью roc-auc, поскольку целевой признак является числительным, а не категориальным)."
   ]
  },
  {
   "cell_type": "markdown",
   "id": "87679950",
   "metadata": {},
   "source": [
    "*Модель тренированная на данных всех регионов*"
   ]
  },
  {
   "cell_type": "code",
   "execution_count": 63,
   "id": "2fbf67b6",
   "metadata": {},
   "outputs": [],
   "source": [
    "features_train_all = pd.concat([features_train_0, features_train_1, features_train_2])\n",
    "target_train_all = pd.concat([target_train_0, target_train_1, target_train_2])\n",
    "# features_train_all.info()"
   ]
  },
  {
   "cell_type": "code",
   "execution_count": 64,
   "id": "8f01205d",
   "metadata": {},
   "outputs": [
    {
     "name": "stdout",
     "output_type": "stream",
     "text": [
      "\n",
      "Оценки модели, тренированной на данных всех регионов:\n",
      "с тренировочной выборкой (региона 0): 0.1954350196873944\n",
      "с валидационной выборкой (региона 0): 0.19944949164638637\n",
      "\n",
      "Оценки модели, тренированной на данных региона 0:\n",
      "с тренировочной выборкой (региона 0): 0.27423906493940775\n",
      "с валидационной выборкой (региона 0): 0.27994321524487786\n",
      "\n"
     ]
    }
   ],
   "source": [
    "linreg_all = LinearRegression().fit(features_train_all, target_train_all)\n",
    "linreg_0 = LinearRegression().fit(features_train_0, target_train_0)\n",
    "pred_0 = linreg_0.predict(features_valid_0)\n",
    "print(f'''\n",
    "Оценки модели, тренированной на данных всех регионов:\n",
    "с тренировочной выборкой (региона 0): {linreg_all.score(features_train_0, target_train_0)}\n",
    "с валидационной выборкой (региона 0): {linreg_all.score(features_valid_0, target_valid_0)}\n",
    "\n",
    "Оценки модели, тренированной на данных региона 0:\n",
    "с тренировочной выборкой (региона 0): {linreg_0.score(features_train_0, target_train_0)}\n",
    "с валидационной выборкой (региона 0): {linreg_0.score(features_valid_0, target_valid_0)}\n",
    "''')"
   ]
  },
  {
   "cell_type": "markdown",
   "id": "8af062f9",
   "metadata": {},
   "source": [
    "Получается, что лучше тренировать модели для каждого региона отдельно, вместо того, чтобы использовать одну модель и тренировать её с данными из всех регионов.\n",
    "\n",
    "\n",
    "*Тренирование двух остальных моделей*"
   ]
  },
  {
   "cell_type": "code",
   "execution_count": 65,
   "id": "adc0bc70",
   "metadata": {},
   "outputs": [
    {
     "name": "stdout",
     "output_type": "stream",
     "text": [
      "Оценки модели, тренированной на данных региона 1:\n",
      "с тренировочной выборкой (региона 1): 0.9996247760326118\n",
      "с валидационной выборкой (региона 1): 0.9996233978805127\n",
      "\n",
      "Оценки модели, тренированной на данных региона 2:\n",
      "с тренировочной выборкой (региона 2): 0.19661432867329998\n",
      "с валидационной выборкой (региона 2): 0.20524758386040443\n",
      "\n"
     ]
    }
   ],
   "source": [
    "linreg_1 = LinearRegression().fit(features_train_1, target_train_1)\n",
    "pred_1 = linreg_1.predict(features_valid_1)\n",
    "linreg_2 = LinearRegression().fit(features_train_2, target_train_2)\n",
    "pred_2 = linreg_2.predict(features_valid_2)\n",
    "\n",
    "print(f'''Оценки модели, тренированной на данных региона 1:\n",
    "с тренировочной выборкой (региона 1): {linreg_1.score(features_train_1, target_train_1)}\n",
    "с валидационной выборкой (региона 1): {linreg_1.score(features_valid_1, target_valid_1)}\n",
    "''')\n",
    "\n",
    "print(f'''Оценки модели, тренированной на данных региона 2:\n",
    "с тренировочной выборкой (региона 2): {linreg_2.score(features_train_2, target_train_2)}\n",
    "с валидационной выборкой (региона 2): {linreg_2.score(features_valid_2, target_valid_2)}\n",
    "''')"
   ]
  },
  {
   "cell_type": "code",
   "execution_count": 66,
   "id": "387bf8e7",
   "metadata": {},
   "outputs": [],
   "source": [
    "rmse_0 = mean_squared_error(target_valid_0, pred_0)**0.5\n",
    "rmse_1 = mean_squared_error(target_valid_1, pred_1)**0.5\n",
    "rmse_2 = mean_squared_error(target_valid_2, pred_2)**0.5\n",
    "mean_product_0_pred = pred_0.mean()\n",
    "mean_product_1_pred = pred_1.mean()\n",
    "mean_product_2_pred = pred_2.mean()\n",
    "mean_product_0_act = target_valid_0.mean()\n",
    "mean_product_1_act = target_valid_1.mean()\n",
    "mean_product_2_act = target_valid_2.mean()"
   ]
  },
  {
   "cell_type": "code",
   "execution_count": 67,
   "id": "55e5e1fc",
   "metadata": {},
   "outputs": [
    {
     "name": "stdout",
     "output_type": "stream",
     "text": [
      "\n",
      "RMSE предсказаний об объёме и настоящего объёма для региона 0: 37.5794217150813\n",
      "Средний предсказанный объём сырья: 92.59256778438035\n",
      "Средний объём (настоящий): 92.07859674082927\n",
      "\n",
      "RMSE предсказаний об объёме и настоящего объёма для региона 1: 0.893099286775617\n",
      "Средний предсказанный объём сырья: 92.59256778438035\n",
      "Средний объём (настоящий): 68.72313602435997\n",
      "\n",
      "RMSE предсказаний об объёме и настоящего объёма для региона 2: 40.02970873393434\n",
      "Средний предсказанный объём сырья: 92.59256778438035\n",
      "Средний объём (настоящий): 94.88423280885438\n",
      "\n"
     ]
    }
   ],
   "source": [
    "print(f'''\n",
    "RMSE предсказаний об объёме и настоящего объёма для региона 0: {rmse_0}\n",
    "Средний предсказанный объём сырья: {mean_product_0_pred}\n",
    "Средний объём (настоящий): {mean_product_0_act}\n",
    "\n",
    "RMSE предсказаний об объёме и настоящего объёма для региона 1: {rmse_1}\n",
    "Средний предсказанный объём сырья: {mean_product_0_pred}\n",
    "Средний объём (настоящий): {mean_product_1_act}\n",
    "\n",
    "RMSE предсказаний об объёме и настоящего объёма для региона 2: {rmse_2}\n",
    "Средний предсказанный объём сырья: {mean_product_0_pred}\n",
    "Средний объём (настоящий): {mean_product_2_act}\n",
    "''')"
   ]
  },
  {
   "cell_type": "markdown",
   "id": "c60aa2c5",
   "metadata": {},
   "source": [
    "#### Выводы\n",
    "\n",
    "Исходя из результатов, можно делать некоторые выводы:\n",
    "\n",
    "- модели не настолько хорошо предгадывают объём сырья\n",
    "    - Признаки f0, f1, и f2 не определяют количество добываемого сырья, а скорее просто намекают на какие-то тенденции. Поэтому, еслм смотреть на таблицу упорядоченную по прибыли предсказанных самых прибыльных скважин, настоящий объём сырья этих скважин в целом уменьшается в таблице, но не в точном порядке и с некоторыми значительно меньше прибыльными скважинами на верху таблицы.\n",
    "    - Оценки моделей не настолько высокие (с исключением региона 1).\n",
    "- Диапазон объём сырья очень большой – некоторые скважины вообще ничего не дают, пока другие очень много дают.\n",
    "- По объёму сырья (предсказанному и настоящему), регионы 0 и 2 более похожи друг на друга, а регион 1 отличается.\n",
    "    - Модель региона 1 гораздо точнее предсказывает.\n",
    "    - У скажин в регионе 1 объём сырья заметно меньше."
   ]
  },
  {
   "cell_type": "code",
   "execution_count": 68,
   "id": "8b94e6ff",
   "metadata": {},
   "outputs": [
    {
     "name": "stdout",
     "output_type": "stream",
     "text": [
      "92.59256778438035\n"
     ]
    }
   ],
   "source": [
    "example_mean_product_0, example_mean_product_1, example_mean_product_2 = (\n",
    "        [pred.mean() for pred in [pred_0, pred_1, pred_2]]\n",
    "    )\n",
    "\n",
    "print(example_mean_product_0)"
   ]
  },
  {
   "cell_type": "markdown",
   "id": "727f7d67",
   "metadata": {},
   "source": [
    "### Подготовка к расчётам\n",
    "<a id='Подготовка'></a>\n",
    "\n",
    "*(всё в рублях)*"
   ]
  },
  {
   "cell_type": "markdown",
   "id": "edc2d510",
   "metadata": {},
   "source": [
    "*Выявление нужных переменных*"
   ]
  },
  {
   "cell_type": "code",
   "execution_count": 70,
   "id": "e3fca7fd",
   "metadata": {},
   "outputs": [],
   "source": [
    "pred_0 = pd.Series(pred_0, index=features_valid_0.index).sort_values(ascending=False)\n",
    "pred_1 = pd.Series(pred_1, index=features_valid_1.index).sort_values(ascending=False)\n",
    "pred_2 = pd.Series(pred_2, index=features_valid_2.index).sort_values(ascending=False)"
   ]
  },
  {
   "cell_type": "code",
   "execution_count": 71,
   "id": "69eaf4d2",
   "metadata": {},
   "outputs": [
    {
     "name": "stdout",
     "output_type": "stream",
     "text": [
      "Минампльное количество баррелей добываемых из 200 скважин (в каждом регионе): 22222.222222222223\n"
     ]
    }
   ],
   "source": [
    "BOREHOLE_COST = 10000000000\n",
    "BARRELS_1000_YIELD = 450000\n",
    "MINIMUM_1000_BARRELS = BOREHOLE_COST/BARRELS_1000_YIELD\n",
    "print(f'Минампльное количество баррелей добываемых из 200 скважин (в каждом регионе): {MINIMUM_1000_BARRELS}')"
   ]
  },
  {
   "cell_type": "markdown",
   "id": "82965842",
   "metadata": {},
   "source": [
    "*Сравнение минимального безубыточного объёма сырья с средним запасом в каждом регионе*"
   ]
  },
  {
   "cell_type": "code",
   "execution_count": 72,
   "id": "96fdf7cc",
   "metadata": {},
   "outputs": [
    {
     "name": "stdout",
     "output_type": "stream",
     "text": [
      "Доход от региона, посчитан по средному запасу скважин: \n",
      " Регион 0: -1674999999.999998 \n",
      " Регион 1: -3805749999.999998\n",
      " Регион 2: -1449999999.9999971\n"
     ]
    }
   ],
   "source": [
    "avg_barrels_profit_0 = target_0.mean() * 200 * BARRELS_1000_YIELD- BOREHOLE_COST\n",
    "avg_barrels_profit_1 = target_1.mean() * 200 * BARRELS_1000_YIELD- BOREHOLE_COST\n",
    "avg_barrels_profit_2 = target_2.mean() * 200 * BARRELS_1000_YIELD- BOREHOLE_COST\n",
    "\n",
    "\n",
    "print(f'Доход от региона, посчитан по средному запасу скважин: \\n Регион 0: {avg_barrels_profit_0} \\n Регион 1: {avg_barrels_profit_1}\\n Регион 2: {avg_barrels_profit_2}')"
   ]
  },
  {
   "cell_type": "markdown",
   "id": "79d0b508",
   "metadata": {},
   "source": [
    "#### Выводы\n",
    "\n",
    "- Большой диапазон объёма сырья делает расчёт среднего дохода не показательным.\n",
    "    - В расчётах ниже, ясно, что можно получить хороший результат и прибыль в любом регионе, но при расчёте среднего дохода получилась отрицательную прибыль в каждом регионе. Это наверно из-за скважин, у которых объём сырья был равен 0.\n",
    "    \n",
    "- Чтобы получить доход от региона, нужно, чтобы из него получились как минимум 22222.222222222223 баррелей сырья."
   ]
  },
  {
   "cell_type": "markdown",
   "id": "f36d5497",
   "metadata": {},
   "source": [
    "### Расчёт прибыли\n",
    "<a id='Расчёт'></a>"
   ]
  },
  {
   "cell_type": "markdown",
   "id": "1a381488",
   "metadata": {},
   "source": [
    "*Выявление функций*"
   ]
  },
  {
   "cell_type": "code",
   "execution_count": 73,
   "id": "7bfd3c79",
   "metadata": {},
   "outputs": [],
   "source": [
    "def profit_top_200(predicted_boreholes):\n",
    "    '''Принимает или DataFrame, или Series с настоящими данными о скважинах, у которых была самая высокая предсказанная прибыль.\n",
    "    Возвращает доход от всех этих скважин, учитывая при этом потраты на бурение'''\n",
    "    if type(predicted_boreholes) == pd.core.frame.DataFrame:\n",
    "        profit_from_pred = predicted_boreholes['product'].sum() * BARRELS_1000_YIELD - BOREHOLE_COST\n",
    "    if type(predicted_boreholes) == pd.core.series.Series:\n",
    "        profit_from_pred = predicted_boreholes.sum() * BARRELS_1000_YIELD - BOREHOLE_COST\n",
    "    return profit_from_pred"
   ]
  },
  {
   "cell_type": "code",
   "execution_count": 74,
   "id": "5ae6aefd",
   "metadata": {},
   "outputs": [],
   "source": [
    "top_200_pred_0 = geo_0.iloc[pred_0.head(200).index]\n",
    "\n",
    "top_200_pred_1 = geo_1.iloc[pred_1.head(200).index]\n",
    "\n",
    "top_200_pred_2 = geo_2.iloc[pred_2.head(200).index]"
   ]
  },
  {
   "cell_type": "markdown",
   "id": "e6dc61b3",
   "metadata": {},
   "source": [
    "*Расчёты*"
   ]
  },
  {
   "cell_type": "code",
   "execution_count": 75,
   "id": "5ceaee12",
   "metadata": {},
   "outputs": [
    {
     "name": "stdout",
     "output_type": "stream",
     "text": [
      "\n",
      "Настоящая прибыль от скважин, определённых моделью как самые прибыльные:\n",
      "Регион 0: 3320826043.1398506\n",
      "Регион 1: 2415086696.681511\n",
      "Регион 2: 2710349963.5998325\n",
      "\n"
     ]
    }
   ],
   "source": [
    "top_pred_profit_0_actual = profit_top_200(top_200_pred_0)\n",
    "top_pred_profit_1_actual = profit_top_200(top_200_pred_1)\n",
    "top_pred_profit_2_actual = profit_top_200(top_200_pred_2)\n",
    "\n",
    "print(f'''\n",
    "Настоящая прибыль от скважин, определённых моделью как самые прибыльные:\n",
    "Регион 0: {top_pred_profit_0_actual}\n",
    "Регион 1: {top_pred_profit_1_actual}\n",
    "Регион 2: {top_pred_profit_2_actual}\n",
    "''')\n",
    "\n"
   ]
  },
  {
   "cell_type": "markdown",
   "id": "8e7eb8f9",
   "metadata": {},
   "source": [
    "#### Выводы\n",
    "\n",
    "Поскольку скважины используемые здесь самые (предсказанные и настоящие) прибыльные, результаты подсчётов конечно большие. Однако, стоит отметить, что:\n",
    "\n",
    "    - Настоящая прибыль, во всех регионах, меньше, чем предсказанная\n",
    "    - В регионах 0 и 2, прибыль от по настоящему (не по предсказаниям) самых прибыльных значительно больше чем прибыль от скважин выбранных с помощью предсказаний"
   ]
  },
  {
   "cell_type": "markdown",
   "id": "39e83578",
   "metadata": {},
   "source": [
    "### Подсчёт рисков и прибыли с помощью Bootstrap\n",
    "<a id='Бутстрепочки'></a>"
   ]
  },
  {
   "cell_type": "code",
   "execution_count": 78,
   "id": "fcb0a85f",
   "metadata": {},
   "outputs": [],
   "source": [
    "BOOTSTRAP_SAMPLES = 1000\n",
    "state = np.random.RandomState(12345)\n",
    "\n",
    "profit_from_pred_0 = []\n",
    "\n",
    "for i in range(BOOTSTRAP_SAMPLES):\n",
    "    subsample = target_valid_0.sample(n=500, replace=True, random_state=state)\n",
    "    pred = pred_0[subsample.index]\n",
    "    pred = pred.sort_values(ascending=False)\n",
    "    selected = target_valid_0[pred.index][:200]\n",
    "    profit = profit_top_200(selected)\n",
    "    profit_from_pred_0.append(profit)\n",
    "\n",
    "\n",
    "profit_from_pred_1 = []\n",
    "\n",
    "for i in range(BOOTSTRAP_SAMPLES):\n",
    "    subsample = target_valid_1.sample(n=500, replace=True, random_state=state)\n",
    "    pred = pred_1[subsample.index]\n",
    "    pred = pred.sort_values(ascending=False)\n",
    "    selected = target_valid_1[pred.index][:200]\n",
    "    profit = profit_top_200(selected)\n",
    "    profit_from_pred_1.append(profit)\n",
    "\n",
    "profit_from_pred_2 = []\n",
    "\n",
    "for i in range(BOOTSTRAP_SAMPLES):\n",
    "    subsample = target_valid_2.sample(n=500, replace=True, random_state=state)\n",
    "    pred = pred_2[subsample.index]\n",
    "    pred = pred.sort_values(ascending=False)\n",
    "    selected = target_valid_2[pred.index][:200]\n",
    "    profit = profit_top_200(selected)\n",
    "    profit_from_pred_2.append(profit)\n"
   ]
  },
  {
   "cell_type": "code",
   "execution_count": 79,
   "id": "6b87d77b",
   "metadata": {},
   "outputs": [],
   "source": [
    "profit_from_pred_0 = pd.Series(profit_from_pred_0)\n",
    "\n",
    "lower_pred_0 = profit_from_pred_0.quantile(0.025)\n",
    "upper_pred_0 = profit_from_pred_0.quantile(0.975)\n",
    "mean_pred_0 = profit_from_pred_0.mean()\n",
    "\n",
    "profit_from_pred_1 = pd.Series(profit_from_pred_1)\n",
    "\n",
    "lower_pred_1 = profit_from_pred_1.quantile(0.025)\n",
    "upper_pred_1 = profit_from_pred_1.quantile(0.975)\n",
    "mean_pred_1 = profit_from_pred_1.mean()\n",
    "\n",
    "profit_from_pred_2 = pd.Series(profit_from_pred_2)\n",
    "\n",
    "lower_pred_2 = profit_from_pred_2.quantile(0.025)\n",
    "upper_pred_2 = profit_from_pred_2.quantile(0.975)\n",
    "mean_pred_2 = profit_from_pred_2.mean()\n"
   ]
  },
  {
   "cell_type": "code",
   "execution_count": 80,
   "id": "306c9df1",
   "metadata": {},
   "outputs": [
    {
     "name": "stdout",
     "output_type": "stream",
     "text": [
      "95%-й доверительный интервал доходов выбранных бутстрепом скважин:\n",
      "\n",
      "Регион 0: (-111215545.89049526, 909766941.5534226), среднее: 396164984.8023711\n",
      "Регион 1: (78050810.7517417, 862952060.2637234), среднее: 461155817.2772397\n",
      "Регион 2: (-112227625.37857565, 934562914.5511636), среднее: 392950475.17060447\n",
      "\n",
      "Процент убыточных выборок, посдсчитан по доходам выбранных бутстрепом скважин:\n",
      "\n",
      "Регион 0: 6.9%\n",
      "Регион 1: 0.7000000000000001%\n",
      "Регион 2: 6.5%\n",
      "\n"
     ]
    }
   ],
   "source": [
    "print(f'''95%-й доверительный интервал доходов выбранных бутстрепом скважин:\n",
    "\n",
    "Регион 0: {lower_pred_0, upper_pred_0}, среднее: {mean_pred_0}\n",
    "Регион 1: {lower_pred_1, upper_pred_1}, среднее: {mean_pred_1}\n",
    "Регион 2: {lower_pred_2, upper_pred_2}, среднее: {mean_pred_2}\n",
    "''')\n",
    "\n",
    "print(f'''Процент убыточных выборок, посдсчитан по доходам выбранных бутстрепом скважин:\n",
    "\n",
    "Регион 0: {(profit_from_pred_0 < 0).mean()*100}%\n",
    "Регион 1: {(profit_from_pred_1 < 0).mean()*100}%\n",
    "Регион 2: {(profit_from_pred_2 < 0).mean()*100}%\n",
    "''')\n"
   ]
  },
  {
   "cell_type": "markdown",
   "id": "44580207",
   "metadata": {},
   "source": [
    "### Рекомендации:\n",
    "<a id='Общий_вывод'></a>\n",
    "\n",
    "\n",
    "**Самый достоверный вариант для разведки новых скважин – регион 1.**\n",
    "\n",
    "- 95%-й доверительный интервал доходов выбранных бутстрепом скважин:\n",
    "    - (78050810.75, 862952060.26)\n",
    "    - среднее: 461155817.2772397\n",
    "-   Процент убыточных выборок, посдсчитан по доходам выбранных бутстрепом скважин:\n",
    "    - Регион 1: 0.70%\n"
   ]
  },
  {
   "cell_type": "markdown",
   "id": "4cb257ed",
   "metadata": {},
   "source": [
    "[Содержание](#Содержание)"
   ]
  }
 ],
 "metadata": {
  "ExecuteTimeLog": [
   {
    "duration": 19,
    "start_time": "2022-04-25T11:05:08.879Z"
   },
   {
    "duration": 2235,
    "start_time": "2022-04-25T11:05:13.272Z"
   },
   {
    "duration": 638,
    "start_time": "2022-04-25T11:05:15.510Z"
   },
   {
    "duration": 88,
    "start_time": "2022-04-25T11:05:16.151Z"
   },
   {
    "duration": 15,
    "start_time": "2022-04-25T11:05:16.242Z"
   },
   {
    "duration": 234,
    "start_time": "2022-04-25T11:05:16.262Z"
   },
   {
    "duration": 306,
    "start_time": "2022-04-25T11:05:16.499Z"
   },
   {
    "duration": 92,
    "start_time": "2022-04-25T11:05:16.808Z"
   },
   {
    "duration": 92,
    "start_time": "2022-04-25T11:05:16.903Z"
   },
   {
    "duration": 12,
    "start_time": "2022-04-25T11:05:16.997Z"
   },
   {
    "duration": 18,
    "start_time": "2022-04-25T11:05:17.011Z"
   },
   {
    "duration": 18,
    "start_time": "2022-04-25T11:05:17.032Z"
   },
   {
    "duration": 5,
    "start_time": "2022-04-25T11:05:17.053Z"
   },
   {
    "duration": 36,
    "start_time": "2022-04-25T11:05:17.060Z"
   },
   {
    "duration": 7,
    "start_time": "2022-04-25T11:05:17.101Z"
   },
   {
    "duration": 21,
    "start_time": "2022-04-25T11:05:17.110Z"
   },
   {
    "duration": 15,
    "start_time": "2022-04-25T11:05:17.133Z"
   },
   {
    "duration": 13,
    "start_time": "2022-04-25T11:05:17.151Z"
   },
   {
    "duration": 58,
    "start_time": "2022-04-25T11:05:17.166Z"
   },
   {
    "duration": 7141,
    "start_time": "2022-04-25T11:05:17.227Z"
   },
   {
    "duration": 29,
    "start_time": "2022-04-25T11:05:24.370Z"
   },
   {
    "duration": 17,
    "start_time": "2022-04-25T11:05:24.401Z"
   },
   {
    "duration": 6946,
    "start_time": "2022-04-25T11:07:20.962Z"
   },
   {
    "duration": 10623,
    "start_time": "2022-04-25T11:07:41.024Z"
   },
   {
    "duration": 8404,
    "start_time": "2022-04-25T11:11:18.379Z"
   },
   {
    "duration": 7072,
    "start_time": "2022-04-25T11:12:48.321Z"
   },
   {
    "duration": 367,
    "start_time": "2022-04-25T11:20:17.046Z"
   },
   {
    "duration": 229,
    "start_time": "2022-04-25T11:20:40.826Z"
   },
   {
    "duration": 32,
    "start_time": "2022-04-25T11:24:16.911Z"
   },
   {
    "duration": 252,
    "start_time": "2022-04-25T11:25:44.453Z"
   },
   {
    "duration": 22,
    "start_time": "2022-04-25T11:25:56.326Z"
   },
   {
    "duration": 31,
    "start_time": "2022-04-25T11:26:16.555Z"
   },
   {
    "duration": 10165,
    "start_time": "2022-04-25T11:28:08.101Z"
   },
   {
    "duration": 6790,
    "start_time": "2022-04-25T11:28:37.478Z"
   },
   {
    "duration": 6490,
    "start_time": "2022-04-25T11:29:20.597Z"
   },
   {
    "duration": 6538,
    "start_time": "2022-04-25T11:29:44.967Z"
   },
   {
    "duration": 6672,
    "start_time": "2022-04-25T11:30:01.895Z"
   },
   {
    "duration": 6685,
    "start_time": "2022-04-25T11:30:18.202Z"
   },
   {
    "duration": 6854,
    "start_time": "2022-04-25T11:32:13.247Z"
   },
   {
    "duration": 40,
    "start_time": "2022-04-25T11:32:50.882Z"
   },
   {
    "duration": 6855,
    "start_time": "2022-04-25T11:32:53.833Z"
   },
   {
    "duration": 32,
    "start_time": "2022-04-25T11:33:15.969Z"
   },
   {
    "duration": 6513,
    "start_time": "2022-04-25T11:33:22.740Z"
   },
   {
    "duration": 7119,
    "start_time": "2022-04-25T11:33:40.804Z"
   },
   {
    "duration": 31,
    "start_time": "2022-04-25T11:33:52.989Z"
   },
   {
    "duration": 30,
    "start_time": "2022-04-25T11:34:12.723Z"
   },
   {
    "duration": 6638,
    "start_time": "2022-04-25T11:34:15.848Z"
   },
   {
    "duration": 21,
    "start_time": "2022-04-25T11:34:30.865Z"
   },
   {
    "duration": 25,
    "start_time": "2022-04-25T11:34:50.739Z"
   },
   {
    "duration": 24,
    "start_time": "2022-04-25T11:35:00.950Z"
   },
   {
    "duration": 32,
    "start_time": "2022-04-25T11:35:07.542Z"
   },
   {
    "duration": 6515,
    "start_time": "2022-04-25T11:55:12.047Z"
   },
   {
    "duration": 6687,
    "start_time": "2022-04-25T11:56:08.350Z"
   },
   {
    "duration": 6911,
    "start_time": "2022-04-25T11:57:02.959Z"
   },
   {
    "duration": 6566,
    "start_time": "2022-04-25T11:58:30.016Z"
   },
   {
    "duration": 6666,
    "start_time": "2022-04-25T11:59:07.338Z"
   },
   {
    "duration": 5518,
    "start_time": "2022-04-25T12:00:40.437Z"
   },
   {
    "duration": 17,
    "start_time": "2022-04-25T12:00:55.186Z"
   },
   {
    "duration": 10,
    "start_time": "2022-04-25T12:01:13.872Z"
   },
   {
    "duration": 6,
    "start_time": "2022-04-25T12:01:59.877Z"
   },
   {
    "duration": 2434,
    "start_time": "2022-04-25T12:01:59.886Z"
   },
   {
    "duration": 44,
    "start_time": "2022-04-25T12:02:02.323Z"
   },
   {
    "duration": 15,
    "start_time": "2022-04-25T12:02:02.392Z"
   },
   {
    "duration": 188,
    "start_time": "2022-04-25T12:02:02.412Z"
   },
   {
    "duration": 296,
    "start_time": "2022-04-25T12:02:02.606Z"
   },
   {
    "duration": 91,
    "start_time": "2022-04-25T12:02:02.905Z"
   },
   {
    "duration": 110,
    "start_time": "2022-04-25T12:02:02.999Z"
   },
   {
    "duration": 22,
    "start_time": "2022-04-25T12:02:03.112Z"
   },
   {
    "duration": 13,
    "start_time": "2022-04-25T12:02:03.137Z"
   },
   {
    "duration": 112,
    "start_time": "2022-04-25T12:02:03.156Z"
   },
   {
    "duration": 18,
    "start_time": "2022-04-25T12:02:03.270Z"
   },
   {
    "duration": 17,
    "start_time": "2022-04-25T12:02:03.290Z"
   },
   {
    "duration": 19,
    "start_time": "2022-04-25T12:02:03.309Z"
   },
   {
    "duration": 20,
    "start_time": "2022-04-25T12:02:03.330Z"
   },
   {
    "duration": 25,
    "start_time": "2022-04-25T12:02:03.353Z"
   },
   {
    "duration": 7,
    "start_time": "2022-04-25T12:02:03.381Z"
   },
   {
    "duration": 53,
    "start_time": "2022-04-25T12:02:03.391Z"
   },
   {
    "duration": 3956,
    "start_time": "2022-04-25T12:02:03.446Z"
   },
   {
    "duration": 12,
    "start_time": "2022-04-25T12:02:07.405Z"
   },
   {
    "duration": 8,
    "start_time": "2022-04-25T12:02:07.419Z"
   }
  ],
  "kernelspec": {
   "display_name": "Python 3 (ipykernel)",
   "language": "python",
   "name": "python3"
  },
  "language_info": {
   "codemirror_mode": {
    "name": "ipython",
    "version": 3
   },
   "file_extension": ".py",
   "mimetype": "text/x-python",
   "name": "python",
   "nbconvert_exporter": "python",
   "pygments_lexer": "ipython3",
   "version": "3.9.7"
  },
  "toc": {
   "base_numbering": 1,
   "nav_menu": {},
   "number_sections": true,
   "sideBar": true,
   "skip_h1_title": true,
   "title_cell": "Table of Contents",
   "title_sidebar": "Contents",
   "toc_cell": false,
   "toc_position": {},
   "toc_section_display": true,
   "toc_window_display": false
  }
 },
 "nbformat": 4,
 "nbformat_minor": 5
}
